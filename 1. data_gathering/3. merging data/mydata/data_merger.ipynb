{
 "cells": [
  {
   "cell_type": "code",
   "execution_count": 1,
   "metadata": {},
   "outputs": [
    {
     "name": "stdout",
     "output_type": "stream",
     "text": [
      "F:\\Github_dsc\\HousePrice_MegaProject\n"
     ]
    }
   ],
   "source": [
    "from dotenv import load_dotenv\n",
    "load_dotenv()\n",
    "import os\n",
    "\n",
    "root_dir = os.environ['PROJECT_ROOT']\n",
    "print(root_dir)"
   ]
  },
  {
   "cell_type": "code",
   "execution_count": 2,
   "metadata": {},
   "outputs": [
    {
     "name": "stdout",
     "output_type": "stream",
     "text": [
      "F:\\Github_dsc\\HousePrice_MegaProject/1. data_gathering\\data\n"
     ]
    }
   ],
   "source": [
    "print(root_dir+'/1. data_gathering\\data')"
   ]
  },
  {
   "cell_type": "code",
   "execution_count": 3,
   "metadata": {},
   "outputs": [
    {
     "data": {
      "text/plain": [
       "(7, 25)"
      ]
     },
     "execution_count": 3,
     "metadata": {},
     "output_type": "execute_result"
    }
   ],
   "source": [
    "import pandas as pd \n",
    "merged_df = pd.DataFrame()\n",
    "\n",
    "folder_path=os.path.join(root_dir, '1. data_gathering\\data')\n",
    "all_files = os.listdir(folder_path)\n",
    "csv_files = [file for file in all_files if file.endswith('.csv')]\n",
    "\n",
    "dfs = [pd.read_csv(os.path.join(folder_path, file)) for file in csv_files]\n",
    "merged_df = pd.concat(dfs, ignore_index=True)\n",
    "merged_df.shape"
   ]
  },
  {
   "cell_type": "code",
   "execution_count": 6,
   "metadata": {},
   "outputs": [
    {
     "data": {
      "text/plain": [
       "(7, 25)"
      ]
     },
     "execution_count": 6,
     "metadata": {},
     "output_type": "execute_result"
    }
   ],
   "source": [
    "merged_df.shape"
   ]
  },
  {
   "cell_type": "code",
   "execution_count": 4,
   "metadata": {},
   "outputs": [
    {
     "data": {
      "text/html": [
       "<div>\n",
       "<style scoped>\n",
       "    .dataframe tbody tr th:only-of-type {\n",
       "        vertical-align: middle;\n",
       "    }\n",
       "\n",
       "    .dataframe tbody tr th {\n",
       "        vertical-align: top;\n",
       "    }\n",
       "\n",
       "    .dataframe thead th {\n",
       "        text-align: right;\n",
       "    }\n",
       "</style>\n",
       "<table border=\"1\" class=\"dataframe\">\n",
       "  <thead>\n",
       "    <tr style=\"text-align: right;\">\n",
       "      <th></th>\n",
       "      <th>Unnamed: 0</th>\n",
       "      <th>society_name</th>\n",
       "      <th>property_title</th>\n",
       "      <th>property_rent</th>\n",
       "      <th>types_of_rooms_available</th>\n",
       "      <th>furnishing_details_lst</th>\n",
       "      <th>bedroom_count</th>\n",
       "      <th>bathroom_count</th>\n",
       "      <th>balcony_count</th>\n",
       "      <th>superBuiltUp_area_sqft</th>\n",
       "      <th>...</th>\n",
       "      <th>Posted_By_and_On</th>\n",
       "      <th>Flooring</th>\n",
       "      <th>Floor_Number</th>\n",
       "      <th>Power_Backup</th>\n",
       "      <th>Property_Age</th>\n",
       "      <th>Months_of_Notice</th>\n",
       "      <th>Gated_Community</th>\n",
       "      <th>Electricity_n_Water_Charges</th>\n",
       "      <th>property_features</th>\n",
       "      <th>avg_rating</th>\n",
       "    </tr>\n",
       "  </thead>\n",
       "  <tbody>\n",
       "    <tr>\n",
       "      <th>5</th>\n",
       "      <td>2</td>\n",
       "      <td>Mirchandani Shalimar Palms</td>\n",
       "      <td>2 BHK Flat for rent</td>\n",
       "      <td>₹20,000 /month</td>\n",
       "      <td>NaN</td>\n",
       "      <td>NaN</td>\n",
       "      <td>2 Bedrooms</td>\n",
       "      <td>2 Bathrooms</td>\n",
       "      <td>2 Balconies</td>\n",
       "      <td>NaN</td>\n",
       "      <td>...</td>\n",
       "      <td>Dealer on Jun 05, 2024</td>\n",
       "      <td>Vitrified</td>\n",
       "      <td>6th   of 7 Floors</td>\n",
       "      <td>Partial</td>\n",
       "      <td>5 to 10 Year Old</td>\n",
       "      <td>1 Months</td>\n",
       "      <td>Yes</td>\n",
       "      <td>Charges included</td>\n",
       "      <td>Feng Shui / Vaastu Compliant\\nIntercom Facilit...</td>\n",
       "      <td>4.0</td>\n",
       "    </tr>\n",
       "    <tr>\n",
       "      <th>2</th>\n",
       "      <td>2</td>\n",
       "      <td>Jawahar Tekri, Indore</td>\n",
       "      <td>3 BHK Independent Builder Floor for rent</td>\n",
       "      <td>₹20,000 /month</td>\n",
       "      <td>NaN</td>\n",
       "      <td>NaN</td>\n",
       "      <td>3 Bedrooms</td>\n",
       "      <td>3 Bathrooms</td>\n",
       "      <td>1 Balcony</td>\n",
       "      <td>1000.0</td>\n",
       "      <td>...</td>\n",
       "      <td>Owner on Jun 01, 2024</td>\n",
       "      <td>NaN</td>\n",
       "      <td>3rd   of 4 Floors</td>\n",
       "      <td>NaN</td>\n",
       "      <td>5 to 10 Year Old</td>\n",
       "      <td>0 Months</td>\n",
       "      <td>NaN</td>\n",
       "      <td>Charges included</td>\n",
       "      <td>NaN</td>\n",
       "      <td>NaN</td>\n",
       "    </tr>\n",
       "    <tr>\n",
       "      <th>3</th>\n",
       "      <td>0</td>\n",
       "      <td>Highway Newwyork City</td>\n",
       "      <td>1 BHK Flat for rent</td>\n",
       "      <td>₹6,000 /month</td>\n",
       "      <td>NaN</td>\n",
       "      <td>NaN</td>\n",
       "      <td>1 Bedroom</td>\n",
       "      <td>2 Bathrooms</td>\n",
       "      <td>1 Balcony</td>\n",
       "      <td>NaN</td>\n",
       "      <td>...</td>\n",
       "      <td>Dealer on Jun 06, 2024</td>\n",
       "      <td>Vitrified</td>\n",
       "      <td>1st   of 6 Floors</td>\n",
       "      <td>Partial</td>\n",
       "      <td>5 to 10 Year Old</td>\n",
       "      <td>1 Months</td>\n",
       "      <td>Yes</td>\n",
       "      <td>Charges not included</td>\n",
       "      <td>Security / Fire Alarm\\nFeng Shui / Vaastu Comp...</td>\n",
       "      <td>3.4</td>\n",
       "    </tr>\n",
       "    <tr>\n",
       "      <th>4</th>\n",
       "      <td>1</td>\n",
       "      <td>Amrit Palace</td>\n",
       "      <td>3 Bedroom House for rent</td>\n",
       "      <td>₹26,000 /month</td>\n",
       "      <td>NaN</td>\n",
       "      <td>NaN</td>\n",
       "      <td>NaN</td>\n",
       "      <td>NaN</td>\n",
       "      <td>NaN</td>\n",
       "      <td>NaN</td>\n",
       "      <td>...</td>\n",
       "      <td>NaN</td>\n",
       "      <td>NaN</td>\n",
       "      <td>NaN</td>\n",
       "      <td>NaN</td>\n",
       "      <td>NaN</td>\n",
       "      <td>NaN</td>\n",
       "      <td>NaN</td>\n",
       "      <td>NaN</td>\n",
       "      <td>NaN</td>\n",
       "      <td>NaN</td>\n",
       "    </tr>\n",
       "    <tr>\n",
       "      <th>6</th>\n",
       "      <td>0</td>\n",
       "      <td>Scheme No 74C, Indore</td>\n",
       "      <td>3 Bedroom House for rent</td>\n",
       "      <td>₹30,000 /month</td>\n",
       "      <td>NaN</td>\n",
       "      <td>NaN</td>\n",
       "      <td>3 Bedrooms</td>\n",
       "      <td>3 Bathrooms</td>\n",
       "      <td>2 Balconies</td>\n",
       "      <td>NaN</td>\n",
       "      <td>...</td>\n",
       "      <td>Dealer on Jun 19, 2024</td>\n",
       "      <td>NaN</td>\n",
       "      <td>NaN</td>\n",
       "      <td>NaN</td>\n",
       "      <td>1 to 5 Year Old</td>\n",
       "      <td>0 Months</td>\n",
       "      <td>NaN</td>\n",
       "      <td>Charges not included</td>\n",
       "      <td>NaN</td>\n",
       "      <td>NaN</td>\n",
       "    </tr>\n",
       "  </tbody>\n",
       "</table>\n",
       "<p>5 rows × 25 columns</p>\n",
       "</div>"
      ],
      "text/plain": [
       "   Unnamed: 0                society_name  \\\n",
       "5           2  Mirchandani Shalimar Palms   \n",
       "2           2       Jawahar Tekri, Indore   \n",
       "3           0       Highway Newwyork City   \n",
       "4           1                Amrit Palace   \n",
       "6           0       Scheme No 74C, Indore   \n",
       "\n",
       "                             property_title   property_rent  \\\n",
       "5                       2 BHK Flat for rent  ₹20,000 /month   \n",
       "2  3 BHK Independent Builder Floor for rent  ₹20,000 /month   \n",
       "3                       1 BHK Flat for rent   ₹6,000 /month   \n",
       "4                  3 Bedroom House for rent  ₹26,000 /month   \n",
       "6                  3 Bedroom House for rent  ₹30,000 /month   \n",
       "\n",
       "   types_of_rooms_available  furnishing_details_lst bedroom_count  \\\n",
       "5                       NaN                     NaN    2 Bedrooms   \n",
       "2                       NaN                     NaN    3 Bedrooms   \n",
       "3                       NaN                     NaN     1 Bedroom   \n",
       "4                       NaN                     NaN           NaN   \n",
       "6                       NaN                     NaN    3 Bedrooms   \n",
       "\n",
       "  bathroom_count balcony_count  superBuiltUp_area_sqft  ...  \\\n",
       "5    2 Bathrooms   2 Balconies                     NaN  ...   \n",
       "2    3 Bathrooms     1 Balcony                  1000.0  ...   \n",
       "3    2 Bathrooms     1 Balcony                     NaN  ...   \n",
       "4            NaN           NaN                     NaN  ...   \n",
       "6    3 Bathrooms   2 Balconies                     NaN  ...   \n",
       "\n",
       "         Posted_By_and_On   Flooring       Floor_Number  Power_Backup  \\\n",
       "5  Dealer on Jun 05, 2024  Vitrified  6th   of 7 Floors       Partial   \n",
       "2   Owner on Jun 01, 2024        NaN  3rd   of 4 Floors           NaN   \n",
       "3  Dealer on Jun 06, 2024  Vitrified  1st   of 6 Floors       Partial   \n",
       "4                     NaN        NaN                NaN           NaN   \n",
       "6  Dealer on Jun 19, 2024        NaN                NaN           NaN   \n",
       "\n",
       "       Property_Age Months_of_Notice Gated_Community  \\\n",
       "5  5 to 10 Year Old         1 Months             Yes   \n",
       "2  5 to 10 Year Old         0 Months             NaN   \n",
       "3  5 to 10 Year Old         1 Months             Yes   \n",
       "4               NaN              NaN             NaN   \n",
       "6   1 to 5 Year Old         0 Months             NaN   \n",
       "\n",
       "  Electricity_n_Water_Charges  \\\n",
       "5            Charges included   \n",
       "2            Charges included   \n",
       "3        Charges not included   \n",
       "4                         NaN   \n",
       "6        Charges not included   \n",
       "\n",
       "                                   property_features avg_rating  \n",
       "5  Feng Shui / Vaastu Compliant\\nIntercom Facilit...        4.0  \n",
       "2                                                NaN        NaN  \n",
       "3  Security / Fire Alarm\\nFeng Shui / Vaastu Comp...        3.4  \n",
       "4                                                NaN        NaN  \n",
       "6                                                NaN        NaN  \n",
       "\n",
       "[5 rows x 25 columns]"
      ]
     },
     "execution_count": 4,
     "metadata": {},
     "output_type": "execute_result"
    }
   ],
   "source": [
    "merged_df.sample(5)"
   ]
  },
  {
   "cell_type": "code",
   "execution_count": 5,
   "metadata": {},
   "outputs": [],
   "source": [
    "merged_df.to_csv(os.path.join(root_dir, '1. data_gathering\\data\\mergeddata.csv'))"
   ]
  },
  {
   "cell_type": "code",
   "execution_count": null,
   "metadata": {},
   "outputs": [],
   "source": []
  },
  {
   "cell_type": "code",
   "execution_count": null,
   "metadata": {},
   "outputs": [],
   "source": []
  }
 ],
 "metadata": {
  "kernelspec": {
   "display_name": ".venv",
   "language": "python",
   "name": "python3"
  },
  "language_info": {
   "codemirror_mode": {
    "name": "ipython",
    "version": 3
   },
   "file_extension": ".py",
   "mimetype": "text/x-python",
   "name": "python",
   "nbconvert_exporter": "python",
   "pygments_lexer": "ipython3",
   "version": "3.10.0"
  }
 },
 "nbformat": 4,
 "nbformat_minor": 2
}
