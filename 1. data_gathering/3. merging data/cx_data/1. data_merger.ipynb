{
 "cells": [
  {
   "cell_type": "markdown",
   "metadata": {},
   "source": [
    "# loading provided datasets"
   ]
  },
  {
   "cell_type": "code",
   "execution_count": 82,
   "metadata": {},
   "outputs": [],
   "source": [
    "import pandas as pd \n",
    "import os"
   ]
  },
  {
   "cell_type": "code",
   "execution_count": 83,
   "metadata": {},
   "outputs": [],
   "source": [
    "path=r'F:\\Github_dsc\\HousePrice_MegaProject\\1. data_gathering\\3. merging data\\cx_data'"
   ]
  },
  {
   "cell_type": "code",
   "execution_count": 84,
   "metadata": {},
   "outputs": [
    {
     "name": "stdout",
     "output_type": "stream",
     "text": [
      "['1. data_merger.ipynb', 'flats - flats.csv', 'independent-house - independent-house.csv', 'merged_data', 'other data']\n",
      "1. data_merger.ipynb\n",
      "<class 'str'>\n"
     ]
    }
   ],
   "source": [
    "print(os.listdir(path))\n",
    "print(os.listdir(path)[0])\n",
    "print(type(os.listdir(path)[0]))"
   ]
  },
  {
   "cell_type": "code",
   "execution_count": 85,
   "metadata": {},
   "outputs": [],
   "source": [
    "datas=[]\n",
    "for file in os.listdir(path):\n",
    "    if file.endswith('.csv'):\n",
    "        datas.append(pd.read_csv(os.path.join(path, file)))"
   ]
  },
  {
   "cell_type": "markdown",
   "metadata": {},
   "source": [
    "# checking columns in both datasets"
   ]
  },
  {
   "cell_type": "code",
   "execution_count": 86,
   "metadata": {},
   "outputs": [
    {
     "name": "stdout",
     "output_type": "stream",
     "text": [
      "(20,)\n",
      "Index(['property_name', 'link', 'society', 'price', 'area', 'areaWithType',\n",
      "       'bedRoom', 'bathroom', 'balcony', 'additionalRoom', 'address',\n",
      "       'floorNum', 'facing', 'agePossession', 'nearbyLocations', 'description',\n",
      "       'furnishDetails', 'features', 'rating', 'property_id'],\n",
      "      dtype='object')\n"
     ]
    }
   ],
   "source": [
    "# flats\n",
    "print(datas[0].columns.shape)\n",
    "print(datas[0].columns)"
   ]
  },
  {
   "cell_type": "code",
   "execution_count": 87,
   "metadata": {},
   "outputs": [
    {
     "name": "stdout",
     "output_type": "stream",
     "text": [
      "(21,)\n",
      "Index(['property_name', 'link', 'society', 'price', 'rate', 'area',\n",
      "       'areaWithType', 'bedRoom', 'bathroom', 'balcony', 'additionalRoom',\n",
      "       'address', 'noOfFloor', 'facing', 'agePossession', 'nearbyLocations',\n",
      "       'description', 'furnishDetails', 'features', 'rating', 'property_id'],\n",
      "      dtype='object')\n"
     ]
    }
   ],
   "source": [
    "# houses\n",
    "print(datas[1].columns.shape)\n",
    "print(datas[1].columns)"
   ]
  },
  {
   "cell_type": "code",
   "execution_count": 88,
   "metadata": {},
   "outputs": [],
   "source": [
    "# rate col is not there in flats.csv, otherwise all remaining cols are common in both."
   ]
  },
  {
   "cell_type": "code",
   "execution_count": 89,
   "metadata": {},
   "outputs": [
    {
     "data": {
      "text/plain": [
       "0           45 Lac\n",
       "1           50 Lac\n",
       "2           40 Lac\n",
       "3       1.47 Crore\n",
       "4           70 Lac\n",
       "           ...    \n",
       "3023    1.05 Crore\n",
       "3024     3.3 Crore\n",
       "3025        95 Lac\n",
       "3026     5.8 Crore\n",
       "3027      11 Crore\n",
       "Name: price, Length: 3028, dtype: object"
      ]
     },
     "execution_count": 89,
     "metadata": {},
     "output_type": "execute_result"
    }
   ],
   "source": [
    "datas[0]['price']"
   ]
  },
  {
   "cell_type": "code",
   "execution_count": 90,
   "metadata": {},
   "outputs": [
    {
     "data": {
      "text/plain": [
       "0       5.25 Crore\n",
       "1        5.7 Crore\n",
       "2        2.1 Crore\n",
       "3          5 Crore\n",
       "4          3 Crore\n",
       "           ...    \n",
       "1090     3.6 Crore\n",
       "1091           NaN\n",
       "1092           NaN\n",
       "1093           NaN\n",
       "1094           NaN\n",
       "Name: price, Length: 1095, dtype: object"
      ]
     },
     "execution_count": 90,
     "metadata": {},
     "output_type": "execute_result"
    }
   ],
   "source": [
    "datas[1]['price']"
   ]
  },
  {
   "cell_type": "code",
   "execution_count": 91,
   "metadata": {},
   "outputs": [
    {
     "data": {
      "text/plain": [
       "0        ₹ 20,115/sq.ft.\n",
       "1       ₹ 105,751/sq.ft.\n",
       "2        ₹ 38,251/sq.ft.\n",
       "3        ₹ 43,066/sq.ft.\n",
       "4        ₹ 53,763/sq.ft.\n",
       "              ...       \n",
       "1090     ₹ 14,815/sq.ft.\n",
       "1091     ₹ 13,992/sq.ft.\n",
       "1092     ₹ 23,457/sq.ft.\n",
       "1093     ₹ 31,008/sq.ft.\n",
       "1094     ₹ 13,034/sq.ft.\n",
       "Name: rate, Length: 1095, dtype: object"
      ]
     },
     "execution_count": 91,
     "metadata": {},
     "output_type": "execute_result"
    }
   ],
   "source": [
    "datas[1]['rate']"
   ]
  },
  {
   "cell_type": "code",
   "execution_count": 92,
   "metadata": {},
   "outputs": [],
   "source": [
    "datas[0]['rate']=None"
   ]
  },
  {
   "cell_type": "markdown",
   "metadata": {},
   "source": [
    "# adding one extra col `property_type` to both datasets for concatination purpose"
   ]
  },
  {
   "cell_type": "code",
   "execution_count": 93,
   "metadata": {},
   "outputs": [],
   "source": [
    "datas[0]['property_type']='flat'\n",
    "datas[1]['property_type']='house'"
   ]
  },
  {
   "cell_type": "code",
   "execution_count": 94,
   "metadata": {},
   "outputs": [
    {
     "data": {
      "text/plain": [
       "1643    flat\n",
       "807     flat\n",
       "569     flat\n",
       "Name: property_type, dtype: object"
      ]
     },
     "execution_count": 94,
     "metadata": {},
     "output_type": "execute_result"
    }
   ],
   "source": [
    "datas[0]['property_type'].sample(3)"
   ]
  },
  {
   "cell_type": "code",
   "execution_count": 95,
   "metadata": {},
   "outputs": [
    {
     "data": {
      "text/plain": [
       "666    house\n",
       "645    house\n",
       "430    house\n",
       "Name: property_type, dtype: object"
      ]
     },
     "execution_count": 95,
     "metadata": {},
     "output_type": "execute_result"
    }
   ],
   "source": [
    "datas[1]['property_type'].sample(3)"
   ]
  },
  {
   "cell_type": "code",
   "execution_count": 96,
   "metadata": {},
   "outputs": [
    {
     "name": "stdout",
     "output_type": "stream",
     "text": [
      "(3028, 22)\n",
      "(1095, 22)\n"
     ]
    }
   ],
   "source": [
    "for i in datas:\n",
    "    print(i.shape)"
   ]
  },
  {
   "cell_type": "code",
   "execution_count": 97,
   "metadata": {},
   "outputs": [
    {
     "data": {
      "text/html": [
       "<div>\n",
       "<style scoped>\n",
       "    .dataframe tbody tr th:only-of-type {\n",
       "        vertical-align: middle;\n",
       "    }\n",
       "\n",
       "    .dataframe tbody tr th {\n",
       "        vertical-align: top;\n",
       "    }\n",
       "\n",
       "    .dataframe thead th {\n",
       "        text-align: right;\n",
       "    }\n",
       "</style>\n",
       "<table border=\"1\" class=\"dataframe\">\n",
       "  <thead>\n",
       "    <tr style=\"text-align: right;\">\n",
       "      <th></th>\n",
       "      <th>property_name</th>\n",
       "      <th>link</th>\n",
       "      <th>society</th>\n",
       "      <th>price</th>\n",
       "      <th>area</th>\n",
       "      <th>areaWithType</th>\n",
       "      <th>bedRoom</th>\n",
       "      <th>bathroom</th>\n",
       "      <th>balcony</th>\n",
       "      <th>additionalRoom</th>\n",
       "      <th>...</th>\n",
       "      <th>agePossession</th>\n",
       "      <th>nearbyLocations</th>\n",
       "      <th>description</th>\n",
       "      <th>furnishDetails</th>\n",
       "      <th>features</th>\n",
       "      <th>rating</th>\n",
       "      <th>property_id</th>\n",
       "      <th>rate</th>\n",
       "      <th>property_type</th>\n",
       "      <th>noOfFloor</th>\n",
       "    </tr>\n",
       "  </thead>\n",
       "  <tbody>\n",
       "    <tr>\n",
       "      <th>0</th>\n",
       "      <td>2 BHK Flat in Krishna Colony</td>\n",
       "      <td>https://www.99acres.com/2-bhk-bedroom-apartmen...</td>\n",
       "      <td>maa bhagwati residency</td>\n",
       "      <td>45 Lac</td>\n",
       "      <td>₹ 5,000/sq.ft.</td>\n",
       "      <td>Carpet area: 900 (83.61 sq.m.)</td>\n",
       "      <td>2 Bedrooms</td>\n",
       "      <td>2 Bathrooms</td>\n",
       "      <td>1 Balcony</td>\n",
       "      <td>NaN</td>\n",
       "      <td>...</td>\n",
       "      <td>1 to 5 Year Old</td>\n",
       "      <td>['Chintapurni Mandir', 'State bank ATM', 'Pear...</td>\n",
       "      <td>So with lift.Maa bhagwati residency is one of ...</td>\n",
       "      <td>['3 Fan', '4 Light', '1 Wardrobe', 'No AC', 'N...</td>\n",
       "      <td>['Feng Shui / Vaastu Compliant', 'Security / F...</td>\n",
       "      <td>['Environment4 out of 5', 'Safety4 out of 5', ...</td>\n",
       "      <td>C68850746</td>\n",
       "      <td>None</td>\n",
       "      <td>flat</td>\n",
       "      <td>NaN</td>\n",
       "    </tr>\n",
       "    <tr>\n",
       "      <th>1</th>\n",
       "      <td>2 BHK Flat in Ashok Vihar</td>\n",
       "      <td>https://www.99acres.com/2-bhk-bedroom-apartmen...</td>\n",
       "      <td>Apna Enclave</td>\n",
       "      <td>50 Lac</td>\n",
       "      <td>₹ 7,692/sq.ft.</td>\n",
       "      <td>Carpet area: 650 (60.39 sq.m.)</td>\n",
       "      <td>2 Bedrooms</td>\n",
       "      <td>2 Bathrooms</td>\n",
       "      <td>1 Balcony</td>\n",
       "      <td>NaN</td>\n",
       "      <td>...</td>\n",
       "      <td>10+ Year Old</td>\n",
       "      <td>['Chintapurni Mandir', 'Sheetla Mata Mandir', ...</td>\n",
       "      <td>Property situated on main road, railway statio...</td>\n",
       "      <td>['3 Wardrobe', '4 Fan', '1 Exhaust Fan', '1 Ge...</td>\n",
       "      <td>['Security / Fire Alarm', 'Maintenance Staff',...</td>\n",
       "      <td>['Environment4 out of 5', 'Safety4 out of 5', ...</td>\n",
       "      <td>H68850564</td>\n",
       "      <td>None</td>\n",
       "      <td>flat</td>\n",
       "      <td>NaN</td>\n",
       "    </tr>\n",
       "    <tr>\n",
       "      <th>2</th>\n",
       "      <td>2 BHK Flat in Sohna</td>\n",
       "      <td>https://www.99acres.com/2-bhk-bedroom-apartmen...</td>\n",
       "      <td>Tulsiani Easy in Homes</td>\n",
       "      <td>40 Lac</td>\n",
       "      <td>₹ 6,722/sq.ft.</td>\n",
       "      <td>Carpet area: 595 (55.28 sq.m.)</td>\n",
       "      <td>2 Bedrooms</td>\n",
       "      <td>2 Bathrooms</td>\n",
       "      <td>3 Balconies</td>\n",
       "      <td>NaN</td>\n",
       "      <td>...</td>\n",
       "      <td>0 to 1 Year Old</td>\n",
       "      <td>['Huda City Metro', 'Golf Course extn road', '...</td>\n",
       "      <td>This property is 15 km away from badshapur, gu...</td>\n",
       "      <td>NaN</td>\n",
       "      <td>['Power Back-up', 'Feng Shui / Vaastu Complian...</td>\n",
       "      <td>['Environment4 out of 5', 'Safety4 out of 5', ...</td>\n",
       "      <td>J68850120</td>\n",
       "      <td>None</td>\n",
       "      <td>flat</td>\n",
       "      <td>NaN</td>\n",
       "    </tr>\n",
       "    <tr>\n",
       "      <th>3</th>\n",
       "      <td>2 BHK Flat in Sector 61 Gurgaon</td>\n",
       "      <td>https://www.99acres.com/2-bhk-bedroom-apartmen...</td>\n",
       "      <td>Smart World Orchard</td>\n",
       "      <td>1.47 Crore</td>\n",
       "      <td>₹ 12,250/sq.ft.</td>\n",
       "      <td>Carpet area: 1200 (111.48 sq.m.)</td>\n",
       "      <td>2 Bedrooms</td>\n",
       "      <td>2 Bathrooms</td>\n",
       "      <td>2 Balconies</td>\n",
       "      <td>Study Room</td>\n",
       "      <td>...</td>\n",
       "      <td>Dec 2023</td>\n",
       "      <td>['Sector 55-56 Metro station', 'Bestech Centra...</td>\n",
       "      <td>Near to metro station of sector 56 and opposit...</td>\n",
       "      <td>NaN</td>\n",
       "      <td>['Security / Fire Alarm', 'Private Garden / Te...</td>\n",
       "      <td>NaN</td>\n",
       "      <td>S68849476</td>\n",
       "      <td>None</td>\n",
       "      <td>flat</td>\n",
       "      <td>NaN</td>\n",
       "    </tr>\n",
       "    <tr>\n",
       "      <th>4</th>\n",
       "      <td>2 BHK Flat in Sector 92 Gurgaon</td>\n",
       "      <td>https://www.99acres.com/2-bhk-bedroom-apartmen...</td>\n",
       "      <td>Parkwood Westend</td>\n",
       "      <td>70 Lac</td>\n",
       "      <td>₹ 5,204/sq.ft.</td>\n",
       "      <td>Super Built up area 1345(124.95 sq.m.)</td>\n",
       "      <td>2 Bedrooms</td>\n",
       "      <td>2 Bathrooms</td>\n",
       "      <td>3 Balconies</td>\n",
       "      <td>Study Room</td>\n",
       "      <td>...</td>\n",
       "      <td>Under Construction</td>\n",
       "      <td>['Yadav Clinic', 'Bangali Clinic', 'Dr. J. S. ...</td>\n",
       "      <td>We are the proud owners of this 2 bhk alongwit...</td>\n",
       "      <td>[]</td>\n",
       "      <td>NaN</td>\n",
       "      <td>['Environment5 out of 5', 'Safety3 out of 5', ...</td>\n",
       "      <td>L47956793</td>\n",
       "      <td>None</td>\n",
       "      <td>flat</td>\n",
       "      <td>NaN</td>\n",
       "    </tr>\n",
       "    <tr>\n",
       "      <th>...</th>\n",
       "      <td>...</td>\n",
       "      <td>...</td>\n",
       "      <td>...</td>\n",
       "      <td>...</td>\n",
       "      <td>...</td>\n",
       "      <td>...</td>\n",
       "      <td>...</td>\n",
       "      <td>...</td>\n",
       "      <td>...</td>\n",
       "      <td>...</td>\n",
       "      <td>...</td>\n",
       "      <td>...</td>\n",
       "      <td>...</td>\n",
       "      <td>...</td>\n",
       "      <td>...</td>\n",
       "      <td>...</td>\n",
       "      <td>...</td>\n",
       "      <td>...</td>\n",
       "      <td>...</td>\n",
       "      <td>...</td>\n",
       "      <td>...</td>\n",
       "    </tr>\n",
       "    <tr>\n",
       "      <th>4118</th>\n",
       "      <td>3 Bedroom House for sale in Bissar</td>\n",
       "      <td>https://www.99acres.com/3-bhk-bedroom-independ...</td>\n",
       "      <td>Silverglades Tarudhan Valley Golf Resort</td>\n",
       "      <td>3.6 Crore</td>\n",
       "      <td>(226 sq.m.) Plot Area</td>\n",
       "      <td>Plot area 270(225.75 sq.m.)</td>\n",
       "      <td>3 Bedrooms</td>\n",
       "      <td>3 Bathrooms</td>\n",
       "      <td>2 Balconies</td>\n",
       "      <td>Pooja Room,Study Room,Servant Room,Others</td>\n",
       "      <td>...</td>\n",
       "      <td>5 to 10 Year Old</td>\n",
       "      <td>NaN</td>\n",
       "      <td>This 3 bhk house for sale in bissar is an idea...</td>\n",
       "      <td>['1 Water Purifier', '10 Fan', '1 Fridge', '1 ...</td>\n",
       "      <td>['Centrally Air Conditioned', 'Water purifier'...</td>\n",
       "      <td>NaN</td>\n",
       "      <td>W70221444</td>\n",
       "      <td>₹ 14,815/sq.ft.</td>\n",
       "      <td>house</td>\n",
       "      <td>2 Floors</td>\n",
       "    </tr>\n",
       "    <tr>\n",
       "      <th>4119</th>\n",
       "      <td>3 Bedroom House for sale in Bissar</td>\n",
       "      <td>https://www.99acres.com/3-bhk-bedroom-independ...</td>\n",
       "      <td>Silverglades Tarudhan Valley Golf Resort</td>\n",
       "      <td>NaN</td>\n",
       "      <td>(226 sq.m.) Plot Area</td>\n",
       "      <td>NaN</td>\n",
       "      <td>NaN</td>\n",
       "      <td>NaN</td>\n",
       "      <td>NaN</td>\n",
       "      <td>NaN</td>\n",
       "      <td>...</td>\n",
       "      <td>NaN</td>\n",
       "      <td>NaN</td>\n",
       "      <td>NaN</td>\n",
       "      <td>NaN</td>\n",
       "      <td>NaN</td>\n",
       "      <td>NaN</td>\n",
       "      <td>NaN</td>\n",
       "      <td>₹ 13,992/sq.ft.</td>\n",
       "      <td>house</td>\n",
       "      <td>NaN</td>\n",
       "    </tr>\n",
       "    <tr>\n",
       "      <th>4120</th>\n",
       "      <td>8 Bedroom House for sale in DLF Phase 2</td>\n",
       "      <td>https://www.99acres.com/8-bhk-bedroom-independ...</td>\n",
       "      <td>NaN</td>\n",
       "      <td>NaN</td>\n",
       "      <td>(376 sq.m.) Plot Area</td>\n",
       "      <td>NaN</td>\n",
       "      <td>NaN</td>\n",
       "      <td>NaN</td>\n",
       "      <td>NaN</td>\n",
       "      <td>NaN</td>\n",
       "      <td>...</td>\n",
       "      <td>NaN</td>\n",
       "      <td>NaN</td>\n",
       "      <td>NaN</td>\n",
       "      <td>NaN</td>\n",
       "      <td>NaN</td>\n",
       "      <td>NaN</td>\n",
       "      <td>NaN</td>\n",
       "      <td>₹ 23,457/sq.ft.</td>\n",
       "      <td>house</td>\n",
       "      <td>NaN</td>\n",
       "    </tr>\n",
       "    <tr>\n",
       "      <th>4121</th>\n",
       "      <td>8 Bedroom House for sale in C Block Sushant Lo...</td>\n",
       "      <td>https://www.99acres.com/8-bhk-bedroom-independ...</td>\n",
       "      <td>NaN</td>\n",
       "      <td>NaN</td>\n",
       "      <td>(180 sq.m.) Plot Area</td>\n",
       "      <td>NaN</td>\n",
       "      <td>NaN</td>\n",
       "      <td>NaN</td>\n",
       "      <td>NaN</td>\n",
       "      <td>NaN</td>\n",
       "      <td>...</td>\n",
       "      <td>NaN</td>\n",
       "      <td>NaN</td>\n",
       "      <td>NaN</td>\n",
       "      <td>NaN</td>\n",
       "      <td>NaN</td>\n",
       "      <td>NaN</td>\n",
       "      <td>NaN</td>\n",
       "      <td>₹ 31,008/sq.ft.</td>\n",
       "      <td>house</td>\n",
       "      <td>NaN</td>\n",
       "    </tr>\n",
       "    <tr>\n",
       "      <th>4122</th>\n",
       "      <td>2 Bedroom House for sale in Sector 92 Gurgaon</td>\n",
       "      <td>https://www.99acres.com/2-bhk-bedroom-independ...</td>\n",
       "      <td>Signature Global City 92</td>\n",
       "      <td>NaN</td>\n",
       "      <td>(89 sq.m.) Plot Area</td>\n",
       "      <td>NaN</td>\n",
       "      <td>NaN</td>\n",
       "      <td>NaN</td>\n",
       "      <td>NaN</td>\n",
       "      <td>NaN</td>\n",
       "      <td>...</td>\n",
       "      <td>NaN</td>\n",
       "      <td>NaN</td>\n",
       "      <td>NaN</td>\n",
       "      <td>NaN</td>\n",
       "      <td>NaN</td>\n",
       "      <td>NaN</td>\n",
       "      <td>NaN</td>\n",
       "      <td>₹ 13,034/sq.ft.</td>\n",
       "      <td>house</td>\n",
       "      <td>NaN</td>\n",
       "    </tr>\n",
       "  </tbody>\n",
       "</table>\n",
       "<p>4123 rows × 23 columns</p>\n",
       "</div>"
      ],
      "text/plain": [
       "                                          property_name  \\\n",
       "0                          2 BHK Flat in Krishna Colony   \n",
       "1                             2 BHK Flat in Ashok Vihar   \n",
       "2                                   2 BHK Flat in Sohna   \n",
       "3                       2 BHK Flat in Sector 61 Gurgaon   \n",
       "4                       2 BHK Flat in Sector 92 Gurgaon   \n",
       "...                                                 ...   \n",
       "4118                 3 Bedroom House for sale in Bissar   \n",
       "4119                 3 Bedroom House for sale in Bissar   \n",
       "4120            8 Bedroom House for sale in DLF Phase 2   \n",
       "4121  8 Bedroom House for sale in C Block Sushant Lo...   \n",
       "4122      2 Bedroom House for sale in Sector 92 Gurgaon   \n",
       "\n",
       "                                                   link  \\\n",
       "0     https://www.99acres.com/2-bhk-bedroom-apartmen...   \n",
       "1     https://www.99acres.com/2-bhk-bedroom-apartmen...   \n",
       "2     https://www.99acres.com/2-bhk-bedroom-apartmen...   \n",
       "3     https://www.99acres.com/2-bhk-bedroom-apartmen...   \n",
       "4     https://www.99acres.com/2-bhk-bedroom-apartmen...   \n",
       "...                                                 ...   \n",
       "4118  https://www.99acres.com/3-bhk-bedroom-independ...   \n",
       "4119  https://www.99acres.com/3-bhk-bedroom-independ...   \n",
       "4120  https://www.99acres.com/8-bhk-bedroom-independ...   \n",
       "4121  https://www.99acres.com/8-bhk-bedroom-independ...   \n",
       "4122  https://www.99acres.com/2-bhk-bedroom-independ...   \n",
       "\n",
       "                                       society       price  \\\n",
       "0                       maa bhagwati residency      45 Lac   \n",
       "1                                 Apna Enclave      50 Lac   \n",
       "2                       Tulsiani Easy in Homes      40 Lac   \n",
       "3                          Smart World Orchard  1.47 Crore   \n",
       "4                             Parkwood Westend      70 Lac   \n",
       "...                                        ...         ...   \n",
       "4118  Silverglades Tarudhan Valley Golf Resort   3.6 Crore   \n",
       "4119  Silverglades Tarudhan Valley Golf Resort         NaN   \n",
       "4120                                       NaN         NaN   \n",
       "4121                                       NaN         NaN   \n",
       "4122                  Signature Global City 92         NaN   \n",
       "\n",
       "                       area                            areaWithType  \\\n",
       "0            ₹ 5,000/sq.ft.          Carpet area: 900 (83.61 sq.m.)   \n",
       "1            ₹ 7,692/sq.ft.          Carpet area: 650 (60.39 sq.m.)   \n",
       "2            ₹ 6,722/sq.ft.          Carpet area: 595 (55.28 sq.m.)   \n",
       "3           ₹ 12,250/sq.ft.        Carpet area: 1200 (111.48 sq.m.)   \n",
       "4            ₹ 5,204/sq.ft.  Super Built up area 1345(124.95 sq.m.)   \n",
       "...                     ...                                     ...   \n",
       "4118  (226 sq.m.) Plot Area             Plot area 270(225.75 sq.m.)   \n",
       "4119  (226 sq.m.) Plot Area                                     NaN   \n",
       "4120  (376 sq.m.) Plot Area                                     NaN   \n",
       "4121  (180 sq.m.) Plot Area                                     NaN   \n",
       "4122   (89 sq.m.) Plot Area                                     NaN   \n",
       "\n",
       "         bedRoom     bathroom      balcony  \\\n",
       "0     2 Bedrooms  2 Bathrooms    1 Balcony   \n",
       "1     2 Bedrooms  2 Bathrooms    1 Balcony   \n",
       "2     2 Bedrooms  2 Bathrooms  3 Balconies   \n",
       "3     2 Bedrooms  2 Bathrooms  2 Balconies   \n",
       "4     2 Bedrooms  2 Bathrooms  3 Balconies   \n",
       "...          ...          ...          ...   \n",
       "4118  3 Bedrooms  3 Bathrooms  2 Balconies   \n",
       "4119         NaN          NaN          NaN   \n",
       "4120         NaN          NaN          NaN   \n",
       "4121         NaN          NaN          NaN   \n",
       "4122         NaN          NaN          NaN   \n",
       "\n",
       "                                 additionalRoom  ...       agePossession  \\\n",
       "0                                           NaN  ...     1 to 5 Year Old   \n",
       "1                                           NaN  ...        10+ Year Old   \n",
       "2                                           NaN  ...     0 to 1 Year Old   \n",
       "3                                    Study Room  ...            Dec 2023   \n",
       "4                                    Study Room  ...  Under Construction   \n",
       "...                                         ...  ...                 ...   \n",
       "4118  Pooja Room,Study Room,Servant Room,Others  ...    5 to 10 Year Old   \n",
       "4119                                        NaN  ...                 NaN   \n",
       "4120                                        NaN  ...                 NaN   \n",
       "4121                                        NaN  ...                 NaN   \n",
       "4122                                        NaN  ...                 NaN   \n",
       "\n",
       "                                        nearbyLocations  \\\n",
       "0     ['Chintapurni Mandir', 'State bank ATM', 'Pear...   \n",
       "1     ['Chintapurni Mandir', 'Sheetla Mata Mandir', ...   \n",
       "2     ['Huda City Metro', 'Golf Course extn road', '...   \n",
       "3     ['Sector 55-56 Metro station', 'Bestech Centra...   \n",
       "4     ['Yadav Clinic', 'Bangali Clinic', 'Dr. J. S. ...   \n",
       "...                                                 ...   \n",
       "4118                                                NaN   \n",
       "4119                                                NaN   \n",
       "4120                                                NaN   \n",
       "4121                                                NaN   \n",
       "4122                                                NaN   \n",
       "\n",
       "                                            description  \\\n",
       "0     So with lift.Maa bhagwati residency is one of ...   \n",
       "1     Property situated on main road, railway statio...   \n",
       "2     This property is 15 km away from badshapur, gu...   \n",
       "3     Near to metro station of sector 56 and opposit...   \n",
       "4     We are the proud owners of this 2 bhk alongwit...   \n",
       "...                                                 ...   \n",
       "4118  This 3 bhk house for sale in bissar is an idea...   \n",
       "4119                                                NaN   \n",
       "4120                                                NaN   \n",
       "4121                                                NaN   \n",
       "4122                                                NaN   \n",
       "\n",
       "                                         furnishDetails  \\\n",
       "0     ['3 Fan', '4 Light', '1 Wardrobe', 'No AC', 'N...   \n",
       "1     ['3 Wardrobe', '4 Fan', '1 Exhaust Fan', '1 Ge...   \n",
       "2                                                   NaN   \n",
       "3                                                   NaN   \n",
       "4                                                    []   \n",
       "...                                                 ...   \n",
       "4118  ['1 Water Purifier', '10 Fan', '1 Fridge', '1 ...   \n",
       "4119                                                NaN   \n",
       "4120                                                NaN   \n",
       "4121                                                NaN   \n",
       "4122                                                NaN   \n",
       "\n",
       "                                               features  \\\n",
       "0     ['Feng Shui / Vaastu Compliant', 'Security / F...   \n",
       "1     ['Security / Fire Alarm', 'Maintenance Staff',...   \n",
       "2     ['Power Back-up', 'Feng Shui / Vaastu Complian...   \n",
       "3     ['Security / Fire Alarm', 'Private Garden / Te...   \n",
       "4                                                   NaN   \n",
       "...                                                 ...   \n",
       "4118  ['Centrally Air Conditioned', 'Water purifier'...   \n",
       "4119                                                NaN   \n",
       "4120                                                NaN   \n",
       "4121                                                NaN   \n",
       "4122                                                NaN   \n",
       "\n",
       "                                                 rating property_id  \\\n",
       "0     ['Environment4 out of 5', 'Safety4 out of 5', ...   C68850746   \n",
       "1     ['Environment4 out of 5', 'Safety4 out of 5', ...   H68850564   \n",
       "2     ['Environment4 out of 5', 'Safety4 out of 5', ...   J68850120   \n",
       "3                                                   NaN   S68849476   \n",
       "4     ['Environment5 out of 5', 'Safety3 out of 5', ...   L47956793   \n",
       "...                                                 ...         ...   \n",
       "4118                                                NaN   W70221444   \n",
       "4119                                                NaN         NaN   \n",
       "4120                                                NaN         NaN   \n",
       "4121                                                NaN         NaN   \n",
       "4122                                                NaN         NaN   \n",
       "\n",
       "                 rate property_type noOfFloor  \n",
       "0                None          flat       NaN  \n",
       "1                None          flat       NaN  \n",
       "2                None          flat       NaN  \n",
       "3                None          flat       NaN  \n",
       "4                None          flat       NaN  \n",
       "...               ...           ...       ...  \n",
       "4118  ₹ 14,815/sq.ft.         house  2 Floors  \n",
       "4119  ₹ 13,992/sq.ft.         house       NaN  \n",
       "4120  ₹ 23,457/sq.ft.         house       NaN  \n",
       "4121  ₹ 31,008/sq.ft.         house       NaN  \n",
       "4122  ₹ 13,034/sq.ft.         house       NaN  \n",
       "\n",
       "[4123 rows x 23 columns]"
      ]
     },
     "execution_count": 97,
     "metadata": {},
     "output_type": "execute_result"
    }
   ],
   "source": [
    "house_data = pd.concat([datas[0],datas[1]], axis=0, ignore_index=True)\n",
    "house_data"
   ]
  },
  {
   "cell_type": "code",
   "execution_count": 98,
   "metadata": {},
   "outputs": [],
   "source": [
    "house_data.to_csv(path+'\\merged_data\\merged_data.csv')"
   ]
  },
  {
   "cell_type": "code",
   "execution_count": null,
   "metadata": {},
   "outputs": [],
   "source": []
  },
  {
   "cell_type": "code",
   "execution_count": null,
   "metadata": {},
   "outputs": [],
   "source": []
  }
 ],
 "metadata": {
  "kernelspec": {
   "display_name": ".venv",
   "language": "python",
   "name": "python3"
  },
  "language_info": {
   "codemirror_mode": {
    "name": "ipython",
    "version": 3
   },
   "file_extension": ".py",
   "mimetype": "text/x-python",
   "name": "python",
   "nbconvert_exporter": "python",
   "pygments_lexer": "ipython3",
   "version": "3.10.0"
  }
 },
 "nbformat": 4,
 "nbformat_minor": 2
}
