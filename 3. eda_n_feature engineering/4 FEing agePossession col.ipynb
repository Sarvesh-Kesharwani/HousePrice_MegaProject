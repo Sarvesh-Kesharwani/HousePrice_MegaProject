{
 "cells": [
  {
   "cell_type": "code",
   "execution_count": 2,
   "metadata": {},
   "outputs": [
    {
     "data": {
      "text/html": [
       "<div>\n",
       "<style scoped>\n",
       "    .dataframe tbody tr th:only-of-type {\n",
       "        vertical-align: middle;\n",
       "    }\n",
       "\n",
       "    .dataframe tbody tr th {\n",
       "        vertical-align: top;\n",
       "    }\n",
       "\n",
       "    .dataframe thead th {\n",
       "        text-align: right;\n",
       "    }\n",
       "</style>\n",
       "<table border=\"1\" class=\"dataframe\">\n",
       "  <thead>\n",
       "    <tr style=\"text-align: right;\">\n",
       "      <th></th>\n",
       "      <th>property_name</th>\n",
       "      <th>sector</th>\n",
       "      <th>society</th>\n",
       "      <th>price_in_crores</th>\n",
       "      <th>price_per_sqft</th>\n",
       "      <th>bedRoom</th>\n",
       "      <th>bathroom</th>\n",
       "      <th>balcony</th>\n",
       "      <th>address</th>\n",
       "      <th>floorNum</th>\n",
       "      <th>facing</th>\n",
       "      <th>agePossession</th>\n",
       "      <th>nearbyLocations</th>\n",
       "      <th>description</th>\n",
       "      <th>furnishDetails</th>\n",
       "      <th>features</th>\n",
       "      <th>rating</th>\n",
       "      <th>property_type</th>\n",
       "      <th>noOfFloor</th>\n",
       "      <th>SuperBuiltupArea_sqft</th>\n",
       "      <th>BuiltupArea_sqft</th>\n",
       "      <th>CarpetArea_sqft</th>\n",
       "      <th>servantRoom</th>\n",
       "      <th>studyRoom</th>\n",
       "      <th>poojaRoom</th>\n",
       "      <th>storeRoom</th>\n",
       "      <th>otherAdditionalRoom</th>\n",
       "    </tr>\n",
       "  </thead>\n",
       "  <tbody>\n",
       "    <tr>\n",
       "      <th>0</th>\n",
       "      <td>2 BHK Flat in Sector 70 Gurgaon</td>\n",
       "      <td>sector 70</td>\n",
       "      <td>shree vardhman victoria</td>\n",
       "      <td>1.10</td>\n",
       "      <td>8461.0</td>\n",
       "      <td>2.0</td>\n",
       "      <td>2.0</td>\n",
       "      <td>2</td>\n",
       "      <td>Sector 70 Gurgaon, Gurgaon, Haryana</td>\n",
       "      <td>8.0</td>\n",
       "      <td>north-east</td>\n",
       "      <td>1 to 5 Year Old</td>\n",
       "      <td>['Airia Mall', 'Golf Course Extn Road', 'Sohna...</td>\n",
       "      <td>Square yards rera reg.\\r\\nHrera 660/2017/307\\r...</td>\n",
       "      <td>['3 Wardrobe', '1 Modular Kitchen', '1 Chimney...</td>\n",
       "      <td>['Security / Fire Alarm', 'Power Back-up', 'Fe...</td>\n",
       "      <td>['Green Area5 out of 5', 'Construction5 out of...</td>\n",
       "      <td>flat</td>\n",
       "      <td>1.0</td>\n",
       "      <td>NaN</td>\n",
       "      <td>NaN</td>\n",
       "      <td>1299.957411</td>\n",
       "      <td>False</td>\n",
       "      <td>False</td>\n",
       "      <td>False</td>\n",
       "      <td>False</td>\n",
       "      <td>False</td>\n",
       "    </tr>\n",
       "    <tr>\n",
       "      <th>1</th>\n",
       "      <td>3 Bedroom House for sale in Sector 40 Gurgaon</td>\n",
       "      <td>sector 40</td>\n",
       "      <td>NaN</td>\n",
       "      <td>2.15</td>\n",
       "      <td>23889.0</td>\n",
       "      <td>3.0</td>\n",
       "      <td>3.0</td>\n",
       "      <td>3</td>\n",
       "      <td>Sector 40 Gurgaon, Gurgaon, Haryana</td>\n",
       "      <td>0.0</td>\n",
       "      <td>NaN</td>\n",
       "      <td>5 to 10 year old</td>\n",
       "      <td>['Huda city centre metro station', 'Axis bank ...</td>\n",
       "      <td>Its just behind ryan international school and ...</td>\n",
       "      <td>['4 Wardrobe', '5 Fan', '4 Geyser', '2 Light',...</td>\n",
       "      <td>['Feng Shui / Vaastu Compliant', 'Private Gard...</td>\n",
       "      <td>['Environment4 out of 5', 'Lifestyle4 out of 5...</td>\n",
       "      <td>house</td>\n",
       "      <td>3.0</td>\n",
       "      <td>NaN</td>\n",
       "      <td>900.0</td>\n",
       "      <td>NaN</td>\n",
       "      <td>False</td>\n",
       "      <td>True</td>\n",
       "      <td>True</td>\n",
       "      <td>True</td>\n",
       "      <td>False</td>\n",
       "    </tr>\n",
       "    <tr>\n",
       "      <th>2</th>\n",
       "      <td>5 Bedroom House for sale in Palam Vihar</td>\n",
       "      <td>palam vihar</td>\n",
       "      <td>ansals palam vihar</td>\n",
       "      <td>9.00</td>\n",
       "      <td>19231.0</td>\n",
       "      <td>5.0</td>\n",
       "      <td>5.0</td>\n",
       "      <td>2</td>\n",
       "      <td>J-Block, Palam Vihar, Gurgaon, Haryana</td>\n",
       "      <td>0.0</td>\n",
       "      <td>north</td>\n",
       "      <td>10+ year old</td>\n",
       "      <td>['Palam Vihar Vyapar kendra', 'Palam triangle'...</td>\n",
       "      <td>North facing plot aviable on sale in palam vih...</td>\n",
       "      <td>['1 Water Purifier', '4 Fan', '1 Fridge', '1 E...</td>\n",
       "      <td>['Feng Shui / Vaastu Compliant', 'Private Gard...</td>\n",
       "      <td>['Environment5 out of 5', 'Safety4 out of 5', ...</td>\n",
       "      <td>house</td>\n",
       "      <td>2.0</td>\n",
       "      <td>NaN</td>\n",
       "      <td>4680.0</td>\n",
       "      <td>NaN</td>\n",
       "      <td>True</td>\n",
       "      <td>True</td>\n",
       "      <td>True</td>\n",
       "      <td>True</td>\n",
       "      <td>False</td>\n",
       "    </tr>\n",
       "  </tbody>\n",
       "</table>\n",
       "</div>"
      ],
      "text/plain": [
       "                                   property_name        sector  \\\n",
       "0                2 BHK Flat in Sector 70 Gurgaon    sector 70    \n",
       "1  3 Bedroom House for sale in Sector 40 Gurgaon    sector 40    \n",
       "2        5 Bedroom House for sale in Palam Vihar   palam vihar   \n",
       "\n",
       "                   society  price_in_crores  price_per_sqft  bedRoom  \\\n",
       "0  shree vardhman victoria             1.10          8461.0      2.0   \n",
       "1                      NaN             2.15         23889.0      3.0   \n",
       "2       ansals palam vihar             9.00         19231.0      5.0   \n",
       "\n",
       "   bathroom balcony                                 address  floorNum  \\\n",
       "0       2.0       2     Sector 70 Gurgaon, Gurgaon, Haryana       8.0   \n",
       "1       3.0       3     Sector 40 Gurgaon, Gurgaon, Haryana       0.0   \n",
       "2       5.0       2  J-Block, Palam Vihar, Gurgaon, Haryana       0.0   \n",
       "\n",
       "       facing     agePossession  \\\n",
       "0  north-east   1 to 5 Year Old   \n",
       "1         NaN  5 to 10 year old   \n",
       "2       north      10+ year old   \n",
       "\n",
       "                                     nearbyLocations  \\\n",
       "0  ['Airia Mall', 'Golf Course Extn Road', 'Sohna...   \n",
       "1  ['Huda city centre metro station', 'Axis bank ...   \n",
       "2  ['Palam Vihar Vyapar kendra', 'Palam triangle'...   \n",
       "\n",
       "                                         description  \\\n",
       "0  Square yards rera reg.\\r\\nHrera 660/2017/307\\r...   \n",
       "1  Its just behind ryan international school and ...   \n",
       "2  North facing plot aviable on sale in palam vih...   \n",
       "\n",
       "                                      furnishDetails  \\\n",
       "0  ['3 Wardrobe', '1 Modular Kitchen', '1 Chimney...   \n",
       "1  ['4 Wardrobe', '5 Fan', '4 Geyser', '2 Light',...   \n",
       "2  ['1 Water Purifier', '4 Fan', '1 Fridge', '1 E...   \n",
       "\n",
       "                                            features  \\\n",
       "0  ['Security / Fire Alarm', 'Power Back-up', 'Fe...   \n",
       "1  ['Feng Shui / Vaastu Compliant', 'Private Gard...   \n",
       "2  ['Feng Shui / Vaastu Compliant', 'Private Gard...   \n",
       "\n",
       "                                              rating property_type  noOfFloor  \\\n",
       "0  ['Green Area5 out of 5', 'Construction5 out of...          flat        1.0   \n",
       "1  ['Environment4 out of 5', 'Lifestyle4 out of 5...         house        3.0   \n",
       "2  ['Environment5 out of 5', 'Safety4 out of 5', ...         house        2.0   \n",
       "\n",
       "   SuperBuiltupArea_sqft  BuiltupArea_sqft  CarpetArea_sqft  servantRoom  \\\n",
       "0                    NaN               NaN      1299.957411        False   \n",
       "1                    NaN             900.0              NaN        False   \n",
       "2                    NaN            4680.0              NaN         True   \n",
       "\n",
       "   studyRoom  poojaRoom  storeRoom  otherAdditionalRoom  \n",
       "0      False      False      False                False  \n",
       "1       True       True       True                False  \n",
       "2       True       True       True                False  "
      ]
     },
     "execution_count": 2,
     "metadata": {},
     "output_type": "execute_result"
    }
   ],
   "source": [
    "import pandas as pd\n",
    "\n",
    "pd.set_option('display.max_colwidth', 50)\n",
    "pd.set_option('display.max_columns', 100)\n",
    "data = pd.read_csv(r'..\\3. eda_n_feature engineering\\3.1 FEed additionalRoom col.csv')\n",
    "data.head(3)"
   ]
  },
  {
   "cell_type": "code",
   "execution_count": 3,
   "metadata": {},
   "outputs": [
    {
     "data": {
      "text/plain": [
       "0        1 to 5 Year Old\n",
       "1       5 to 10 year old\n",
       "2           10+ year old\n",
       "3        1 to 5 Year Old\n",
       "4               Jun 2027\n",
       "              ...       \n",
       "3969     0 to 1 year old\n",
       "3970        10+ Year Old\n",
       "3971             By 2024\n",
       "3972            Dec 2024\n",
       "3973        10+ Year Old\n",
       "Name: agePossession, Length: 3974, dtype: object"
      ]
     },
     "execution_count": 3,
     "metadata": {},
     "output_type": "execute_result"
    }
   ],
   "source": [
    "data['agePossession']"
   ]
  },
  {
   "cell_type": "code",
   "execution_count": 7,
   "metadata": {},
   "outputs": [
    {
     "data": {
      "text/plain": [
       "0        1 to 5 year old\n",
       "1       5 to 10 year old\n",
       "2           10+ year old\n",
       "3        1 to 5 year old\n",
       "4               jun 2027\n",
       "              ...       \n",
       "3969     0 to 1 year old\n",
       "3970        10+ year old\n",
       "3971             by 2024\n",
       "3972            dec 2024\n",
       "3973        10+ year old\n",
       "Name: agePossession, Length: 3974, dtype: object"
      ]
     },
     "execution_count": 7,
     "metadata": {},
     "output_type": "execute_result"
    }
   ],
   "source": [
    "data['agePossession'] = data['agePossession'].str.lower().str.strip()\n",
    "data['agePossession']"
   ]
  },
  {
   "cell_type": "code",
   "execution_count": 14,
   "metadata": {},
   "outputs": [
    {
     "data": {
      "text/plain": [
       "agePossession\n",
       "1 to 5 year old       1707\n",
       "5 to 10 year old       616\n",
       "0 to 1 year old        553\n",
       "undefined              358\n",
       "10+ year old           356\n",
       "under construction      92\n",
       "within 6 months         70\n",
       "within 3 months         26\n",
       "dec 2023                22\n",
       "by 2023                 19\n",
       "by 2024                 17\n",
       "dec 2024                16\n",
       "mar 2024                14\n",
       "jan 2024                 8\n",
       "oct 2024                 8\n",
       "jun 2024                 7\n",
       "aug 2023                 7\n",
       "dec 2025                 7\n",
       "aug 2024                 5\n",
       "nov 2023                 5\n",
       "by 2025                  4\n",
       "jan 2025                 4\n",
       "sep 2023                 4\n",
       "jul 2024                 4\n",
       "oct 2023                 4\n",
       "feb 2024                 3\n",
       "may 2024                 3\n",
       "nov 2024                 3\n",
       "sep 2025                 2\n",
       "aug 2025                 2\n",
       "apr 2026                 2\n",
       "oct 2025                 2\n",
       "dec 2026                 2\n",
       "jan 2026                 2\n",
       "jul 2027                 2\n",
       "mar 2025                 2\n",
       "by 2027                  2\n",
       "jun 2027                 2\n",
       "jul 2025                 2\n",
       "jan 2027                 1\n",
       "sep 2027                 1\n",
       "jul 2026                 1\n",
       "mar 2026                 1\n",
       "apr 2024                 1\n",
       "jun 2025                 1\n",
       "aug 2026                 1\n",
       "nov 2025                 1\n",
       "jan 2028                 1\n",
       "NaN                      1\n",
       "Name: count, dtype: int64"
      ]
     },
     "execution_count": 14,
     "metadata": {},
     "output_type": "execute_result"
    }
   ],
   "source": [
    "data['agePossession'].value_counts(dropna=False)"
   ]
  },
  {
   "cell_type": "code",
   "execution_count": 15,
   "metadata": {},
   "outputs": [
    {
     "data": {
      "text/plain": [
       "1"
      ]
     },
     "execution_count": 15,
     "metadata": {},
     "output_type": "execute_result"
    }
   ],
   "source": [
    "data['agePossession'].isna().sum()"
   ]
  },
  {
   "cell_type": "code",
   "execution_count": null,
   "metadata": {},
   "outputs": [],
   "source": [
    "# undefined\n",
    "# Under Construction\n",
    "# Within 6 months\n",
    "# Within 3 months\n",
    "# 0 to 1 Year Old\n",
    "# 1 to 5 Year Old\n",
    "# 5 to 10 Year Old\n",
    "# 10+ year old\n",
    "\n",
    "# else all will fall under:\n",
    "#     under construction"
   ]
  },
  {
   "cell_type": "code",
   "execution_count": 16,
   "metadata": {},
   "outputs": [],
   "source": [
    "def clean_agePossesion_col(row):\n",
    "    if ('under construction' in row)  or ('within' in row):\n",
    "        return 'Under Construction'\n",
    "    if '0 to 1 year old' in row:\n",
    "        return 'Brand New'\n",
    "    if '1 to 5 year old' in row:\n",
    "        return 'Very Recent Construction'\n",
    "    if '5 to 10 year old' in row:\n",
    "        return 'Recent Construction'\n",
    "    if '10+ year old' in row:\n",
    "        return 'Old Construction'\n",
    "    if 'undefined' in row:\n",
    "        return 'Unknown Age'\n",
    "    else:\n",
    "        return 'Under Construction'"
   ]
  },
  {
   "cell_type": "code",
   "execution_count": 17,
   "metadata": {},
   "outputs": [
    {
     "data": {
      "text/plain": [
       "0       Very Recent Construction\n",
       "1            Recent Construction\n",
       "2               Old Construction\n",
       "3       Very Recent Construction\n",
       "4             Under Construction\n",
       "                  ...           \n",
       "3969                   Brand New\n",
       "3970            Old Construction\n",
       "3971          Under Construction\n",
       "3972          Under Construction\n",
       "3973            Old Construction\n",
       "Name: agePossession, Length: 3974, dtype: object"
      ]
     },
     "execution_count": 17,
     "metadata": {},
     "output_type": "execute_result"
    }
   ],
   "source": [
    "data['agePossession'] = data['agePossession'].astype(str).apply(clean_agePossesion_col)\n",
    "data['agePossession']"
   ]
  },
  {
   "cell_type": "code",
   "execution_count": null,
   "metadata": {},
   "outputs": [],
   "source": [
    "data.to_csv(r'..\\3. eda_n_feature engineering\\4.1 FEed agePossesion col.csv', index=False)"
   ]
  },
  {
   "cell_type": "code",
   "execution_count": null,
   "metadata": {},
   "outputs": [],
   "source": []
  }
 ],
 "metadata": {
  "kernelspec": {
   "display_name": "Python 3",
   "language": "python",
   "name": "python3"
  },
  "language_info": {
   "codemirror_mode": {
    "name": "ipython",
    "version": 3
   },
   "file_extension": ".py",
   "mimetype": "text/x-python",
   "name": "python",
   "nbconvert_exporter": "python",
   "pygments_lexer": "ipython3",
   "version": "3.10.8"
  },
  "orig_nbformat": 4
 },
 "nbformat": 4,
 "nbformat_minor": 2
}
