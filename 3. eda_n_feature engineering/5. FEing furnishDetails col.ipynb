{
 "cells": [
  {
   "cell_type": "code",
   "execution_count": 6,
   "metadata": {},
   "outputs": [
    {
     "data": {
      "text/html": [
       "<div>\n",
       "<style scoped>\n",
       "    .dataframe tbody tr th:only-of-type {\n",
       "        vertical-align: middle;\n",
       "    }\n",
       "\n",
       "    .dataframe tbody tr th {\n",
       "        vertical-align: top;\n",
       "    }\n",
       "\n",
       "    .dataframe thead th {\n",
       "        text-align: right;\n",
       "    }\n",
       "</style>\n",
       "<table border=\"1\" class=\"dataframe\">\n",
       "  <thead>\n",
       "    <tr style=\"text-align: right;\">\n",
       "      <th></th>\n",
       "      <th>property_name</th>\n",
       "      <th>sector</th>\n",
       "      <th>society</th>\n",
       "      <th>price_in_crores</th>\n",
       "      <th>price_per_sqft</th>\n",
       "      <th>bedRoom</th>\n",
       "      <th>bathroom</th>\n",
       "      <th>balcony</th>\n",
       "      <th>address</th>\n",
       "      <th>floorNum</th>\n",
       "      <th>...</th>\n",
       "      <th>property_type</th>\n",
       "      <th>noOfFloor</th>\n",
       "      <th>SuperBuiltupArea_sqft</th>\n",
       "      <th>BuiltupArea_sqft</th>\n",
       "      <th>CarpetArea_sqft</th>\n",
       "      <th>servantRoom</th>\n",
       "      <th>studyRoom</th>\n",
       "      <th>poojaRoom</th>\n",
       "      <th>storeRoom</th>\n",
       "      <th>otherAdditionalRoom</th>\n",
       "    </tr>\n",
       "  </thead>\n",
       "  <tbody>\n",
       "    <tr>\n",
       "      <th>0</th>\n",
       "      <td>2 BHK Flat in Sector 70 Gurgaon</td>\n",
       "      <td>sector 70</td>\n",
       "      <td>shree vardhman victoria</td>\n",
       "      <td>1.10</td>\n",
       "      <td>8461.0</td>\n",
       "      <td>2.0</td>\n",
       "      <td>2.0</td>\n",
       "      <td>2</td>\n",
       "      <td>Sector 70 Gurgaon, Gurgaon, Haryana</td>\n",
       "      <td>8.0</td>\n",
       "      <td>...</td>\n",
       "      <td>flat</td>\n",
       "      <td>1.0</td>\n",
       "      <td>NaN</td>\n",
       "      <td>NaN</td>\n",
       "      <td>1299.957411</td>\n",
       "      <td>False</td>\n",
       "      <td>False</td>\n",
       "      <td>False</td>\n",
       "      <td>False</td>\n",
       "      <td>False</td>\n",
       "    </tr>\n",
       "    <tr>\n",
       "      <th>1</th>\n",
       "      <td>3 Bedroom House for sale in Sector 40 Gurgaon</td>\n",
       "      <td>sector 40</td>\n",
       "      <td>NaN</td>\n",
       "      <td>2.15</td>\n",
       "      <td>23889.0</td>\n",
       "      <td>3.0</td>\n",
       "      <td>3.0</td>\n",
       "      <td>3</td>\n",
       "      <td>Sector 40 Gurgaon, Gurgaon, Haryana</td>\n",
       "      <td>0.0</td>\n",
       "      <td>...</td>\n",
       "      <td>house</td>\n",
       "      <td>3.0</td>\n",
       "      <td>NaN</td>\n",
       "      <td>900.0</td>\n",
       "      <td>NaN</td>\n",
       "      <td>False</td>\n",
       "      <td>True</td>\n",
       "      <td>True</td>\n",
       "      <td>True</td>\n",
       "      <td>False</td>\n",
       "    </tr>\n",
       "    <tr>\n",
       "      <th>2</th>\n",
       "      <td>5 Bedroom House for sale in Palam Vihar</td>\n",
       "      <td>palam vihar</td>\n",
       "      <td>ansals palam vihar</td>\n",
       "      <td>9.00</td>\n",
       "      <td>19231.0</td>\n",
       "      <td>5.0</td>\n",
       "      <td>5.0</td>\n",
       "      <td>2</td>\n",
       "      <td>J-Block, Palam Vihar, Gurgaon, Haryana</td>\n",
       "      <td>0.0</td>\n",
       "      <td>...</td>\n",
       "      <td>house</td>\n",
       "      <td>2.0</td>\n",
       "      <td>NaN</td>\n",
       "      <td>4680.0</td>\n",
       "      <td>NaN</td>\n",
       "      <td>True</td>\n",
       "      <td>True</td>\n",
       "      <td>True</td>\n",
       "      <td>True</td>\n",
       "      <td>False</td>\n",
       "    </tr>\n",
       "  </tbody>\n",
       "</table>\n",
       "<p>3 rows × 27 columns</p>\n",
       "</div>"
      ],
      "text/plain": [
       "                                   property_name        sector  \\\n",
       "0                2 BHK Flat in Sector 70 Gurgaon    sector 70    \n",
       "1  3 Bedroom House for sale in Sector 40 Gurgaon    sector 40    \n",
       "2        5 Bedroom House for sale in Palam Vihar   palam vihar   \n",
       "\n",
       "                   society  price_in_crores  price_per_sqft  bedRoom  \\\n",
       "0  shree vardhman victoria             1.10          8461.0      2.0   \n",
       "1                      NaN             2.15         23889.0      3.0   \n",
       "2       ansals palam vihar             9.00         19231.0      5.0   \n",
       "\n",
       "   bathroom balcony                                 address  floorNum  ...  \\\n",
       "0       2.0       2     Sector 70 Gurgaon, Gurgaon, Haryana       8.0  ...   \n",
       "1       3.0       3     Sector 40 Gurgaon, Gurgaon, Haryana       0.0  ...   \n",
       "2       5.0       2  J-Block, Palam Vihar, Gurgaon, Haryana       0.0  ...   \n",
       "\n",
       "  property_type noOfFloor SuperBuiltupArea_sqft BuiltupArea_sqft  \\\n",
       "0          flat       1.0                   NaN              NaN   \n",
       "1         house       3.0                   NaN            900.0   \n",
       "2         house       2.0                   NaN           4680.0   \n",
       "\n",
       "  CarpetArea_sqft servantRoom studyRoom poojaRoom  storeRoom  \\\n",
       "0     1299.957411       False     False     False      False   \n",
       "1             NaN       False      True      True       True   \n",
       "2             NaN        True      True      True       True   \n",
       "\n",
       "   otherAdditionalRoom  \n",
       "0                False  \n",
       "1                False  \n",
       "2                False  \n",
       "\n",
       "[3 rows x 27 columns]"
      ]
     },
     "execution_count": 6,
     "metadata": {},
     "output_type": "execute_result"
    }
   ],
   "source": [
    "import pandas as pd\n",
    "\n",
    "data = pd.read_csv(r'..\\3. eda_n_feature engineering\\4.1 FEed agePossesion col.csv')\n",
    "data.head(3)"
   ]
  },
  {
   "cell_type": "code",
   "execution_count": 7,
   "metadata": {},
   "outputs": [
    {
     "data": {
      "text/plain": [
       "0         ['3 Wardrobe', '1 Modular Kitchen', '1 Chimney', 'No AC', 'No Bed', 'No Curtains', 'No Dining Table', 'No Exhaust Fan', 'No Fan', 'No Geyser', 'No Light', 'No Microwave', 'No Fridge', 'No Sofa', 'No Stove', 'No TV', 'No Washing Machine', 'No Water Purifier']\n",
       "1          ['4 Wardrobe', '5 Fan', '4 Geyser', '2 Light', 'No AC', 'No Bed', 'No Chimney', 'No Curtains', 'No Dining Table', 'No Exhaust Fan', 'No Modular Kitchen', 'No Microwave', 'No Fridge', 'No Sofa', 'No Stove', 'No TV', 'No Washing Machine', 'No Water Purifier']\n",
       "2                   ['1 Water Purifier', '4 Fan', '1 Fridge', '1 Exhaust Fan', '5 Geyser', '1 Stove', '5 Light', '5 AC', '1 Modular Kitchen', '1 Chimney', '1 Curtains', '5 Wardrobe', '1 Washing Machine', 'No Bed', 'No Dining Table', 'No Microwave', 'No Sofa', 'No TV']\n",
       "3       ['1 Modular Kitchen', 'No AC', 'No Bed', 'No Chimney', 'No Curtains', 'No Dining Table', 'No Exhaust Fan', 'No Fan', 'No Geyser', 'No Light', 'No Microwave', 'No Fridge', 'No Sofa', 'No Stove', 'No TV', 'No Wardrobe', 'No Washing Machine', 'No Water Purifier']\n",
       "4              ['6 Wardrobe', '1 Fridge', '8 Fan', '1 Exhaust Fan', '1 Microwave', '1 Stove', '24 Light', '1 Chimney', '1 Modular Kitchen', 'No AC', 'No Bed', 'No Curtains', 'No Dining Table', 'No Geyser', 'No Sofa', 'No TV', 'No Washing Machine', 'No Water Purifier']\n",
       "                                                                                                                                        ...                                                                                                                                 \n",
       "3969          ['8 Wardrobe', '9 Fan', '1 Exhaust Fan', '3 Geyser', '1 Stove', '16 Light', '1 Chimney', '1 Modular Kitchen', 'No AC', 'No Bed', 'No Curtains', 'No Dining Table', 'No Microwave', 'No Fridge', 'No Sofa', 'No TV', 'No Washing Machine', 'No Water Purifier']\n",
       "3970                   ['1 Water Purifier', '4 Fan', '1 Fridge', '1 Exhaust Fan', '1 Dining Table', '4 Geyser', '1 Stove', '20 Light', '4 AC', '1 TV', '1 Modular Kitchen', '1 Chimney', '1 Curtains', '3 Bed', '3 Wardrobe', '1 Sofa', '1 Microwave', 'No Washing Machine']\n",
       "3971                                                                                                                                                                                                                                                                      []\n",
       "3972                                                                                                                                                                                                                                                                     NaN\n",
       "3973         ['1 Water Purifier', '6 Fan', '1 Exhaust Fan', '2 Geyser', '15 Light', '1 Modular Kitchen', '3 Wardrobe', 'No AC', 'No Bed', 'No Chimney', 'No Curtains', 'No Dining Table', 'No Microwave', 'No Fridge', 'No Sofa', 'No Stove', 'No TV', 'No Washing Machine']\n",
       "Name: furnishDetails, Length: 3974, dtype: object"
      ]
     },
     "execution_count": 7,
     "metadata": {},
     "output_type": "execute_result"
    }
   ],
   "source": [
    "pd.set_option('display.max_colwidth', 1000)\n",
    "data['furnishDetails']"
   ]
  },
  {
   "cell_type": "markdown",
   "metadata": {},
   "source": [
    "### joining all furnish detail rows into single string for further analysis"
   ]
  },
  {
   "cell_type": "code",
   "execution_count": 51,
   "metadata": {},
   "outputs": [],
   "source": [
    "pd.set_option('display.max_colwidth', 10)\n",
    "pd.set_option('display.max_columns', 10)\n",
    "pd.set_option('display.max_rows', 10)"
   ]
  },
  {
   "cell_type": "code",
   "execution_count": 57,
   "metadata": {},
   "outputs": [
    {
     "data": {
      "text/plain": [
       "(643005,\n",
       " \"['3 Wardrobe', '1 Modular Kitchen', '1 Chimney', 'No AC', 'No Bed', 'No Curtains', 'No Dining Table', 'No Exhaust Fan', 'No Fan', 'No Geyser', 'No Light', 'No Microwave', 'No Fridge', 'No Sofa', 'No Stove', 'No TV', 'No Washing Machine', 'No Water Purifier']['4 Wardrobe', '5 Fan', '4 Geyser', '2 Light', 'No AC', 'No Bed', 'No Chimney', 'No Curtains', 'No Dining Table', 'No Exhaust Fan', 'No Modular Kitchen', 'No Microwave', 'No Fridge', 'No Sofa', 'No Stove', 'No TV', 'No Washing Machine', 'No Water Purifier']['1 Water Purifier', '4 Fan', '1 Fridge', '1 Exhaust Fan', '5 Geyser', '1 Stove', '5 Light', '5 AC', '1 Modular Kitchen', '1 Chimney', '1 Curtains', '5 Wardrobe', '1 Washing Machine', 'No Bed', 'No Dining Table', 'No Microwave', 'No Sofa', 'No TV']['1 Modular Kitchen', 'No AC', 'No Bed', 'No Chimney', 'No Curtains', 'No Dining Table', 'No Exhaust Fan', 'No Fan', 'No Geyser', 'No Light', 'No Microwave', 'No Fridge', 'No Sofa', 'No Stove', 'No TV', 'No Wardrobe', 'No Washing Machine\")"
      ]
     },
     "execution_count": 57,
     "metadata": {},
     "output_type": "execute_result"
    }
   ],
   "source": [
    "all_furnishDetails = ''\n",
    "for row in data['furnishDetails'].astype(str).tolist():\n",
    "    all_furnishDetails += row\n",
    "len(all_furnishDetails), all_furnishDetails[:1000]"
   ]
  },
  {
   "cell_type": "code",
   "execution_count": 64,
   "metadata": {},
   "outputs": [
    {
     "data": {
      "text/plain": [
       "True"
      ]
     },
     "execution_count": 64,
     "metadata": {},
     "output_type": "execute_result"
    }
   ],
   "source": [
    "'nannan' in all_furnishDetails"
   ]
  },
  {
   "cell_type": "code",
   "execution_count": 66,
   "metadata": {},
   "outputs": [
    {
     "data": {
      "text/plain": [
       "furnishDetails\n",
       "False    2940\n",
       "Name: count, dtype: int64"
      ]
     },
     "execution_count": 66,
     "metadata": {},
     "output_type": "execute_result"
    }
   ],
   "source": [
    "data['furnishDetails'].str.contains('nannan').value_counts()"
   ]
  },
  {
   "cell_type": "code",
   "execution_count": 31,
   "metadata": {},
   "outputs": [
    {
     "data": {
      "text/plain": [
       "'!\"#$%&\\'()*+,-./:;<=>?@[\\\\]^_`{|}~'"
      ]
     },
     "execution_count": 31,
     "metadata": {},
     "output_type": "execute_result"
    }
   ],
   "source": [
    "import string\n",
    "string.punctuation"
   ]
  },
  {
   "cell_type": "markdown",
   "metadata": {},
   "source": [
    "### removing numeric and puctuation chracters from my furnish details"
   ]
  },
  {
   "cell_type": "code",
   "execution_count": 32,
   "metadata": {},
   "outputs": [],
   "source": [
    "chrs_to_remove = string.punctuation + '0123456789'"
   ]
  },
  {
   "cell_type": "code",
   "execution_count": 58,
   "metadata": {},
   "outputs": [
    {
     "data": {
      "text/plain": [
       "' Wardrobe  Modular Kitchen  Chimney No AC No Bed No Curtains No Dining Table No Exhaust Fan No Fan No Geyser No Light No Microwave No Fridge No Sofa No Stove No TV No Washing Machine No Water Purifier Wardrobe  Fan  Geyser  Light No AC No Bed No Chimney No Curtains No Dining Table No Exhaust Fan No Modular Kitchen No Microwave No Fridge No Sofa No Stove No TV No Washing Machine No Water Purifier Water Purifier  Fan  Fridge  Exhaust Fan  Geyser  Stove  Light  AC  Modular Kitchen  Chimney  Curtains  Wardrobe  Washing Machine No Bed No Dining Table No Microwave No Sofa No TV Modular Kitchen No AC No Bed No Chimney No Curtains No Dining Table No Exhaust Fan No Fan No Geyser No Light No Microwave No Fridge No Sofa No Stove No TV No Wardrobe No Washing Machine No Water Purifier Wardrobe  Fridge  Fan  Exhaust Fan  Microwave  Stove  Light  Chimney  Modular Kitchen No AC No Bed No Curtains No Dining Table No Geyser No Sofa No TV No Washing Machine No Water Purifiernannan Fan  Light  AC No Bed N'"
      ]
     },
     "execution_count": 58,
     "metadata": {},
     "output_type": "execute_result"
    }
   ],
   "source": [
    "translator = str.maketrans('', '', chrs_to_remove)\n",
    "all_furnishDetails = all_furnishDetails.translate(translator)\n",
    "all_furnishDetails[:1000]"
   ]
  },
  {
   "cell_type": "code",
   "execution_count": 59,
   "metadata": {},
   "outputs": [
    {
     "data": {
      "text/plain": [
       "'wardrobe  modular kitchen  chimney no ac no bed no curtains no dining table no exhaust fan no fan no geyser no light no microwave no fridge no sofa no stove no tv no washing machine no water purifier wardrobe  fan  geyser  light no ac no bed no chimney no curtains no dining table no exhaust fan no modular kitchen no microwave no fridge no sofa no stove no tv no washing machine no water purifier water purifier  fan  fridge  exhaust fan  geyser  stove  light  ac  modular kitchen  chimney  curtains  wardrobe  washing machine no bed no dining table no microwave no sofa no tv modular kitchen no ac no bed no chimney no curtains no dining table no exhaust fan no fan no geyser no light no microwave no fridge no sofa no stove no tv no wardrobe no washing machine no water purifier wardrobe  fridge  fan  exhaust fan  microwave  stove  light  chimney  modular kitchen no ac no bed no curtains no dining table no geyser no sofa no tv no washing machine no water purifiernannan fan  light  ac no bed no'"
      ]
     },
     "execution_count": 59,
     "metadata": {},
     "output_type": "execute_result"
    }
   ],
   "source": [
    "all_furnishDetails = all_furnishDetails.lower().strip()\n",
    "all_furnishDetails[:1000]"
   ]
  },
  {
   "cell_type": "markdown",
   "metadata": {},
   "source": [
    "### using string translator method created some weired `nannan` values in the o/p string, so let's try nltk's regexpTokenizer appraoch"
   ]
  },
  {
   "cell_type": "code",
   "execution_count": 69,
   "metadata": {},
   "outputs": [
    {
     "data": {
      "text/plain": [
       "no                         30526\n",
       "fan                         4998\n",
       "exhaust                     2499\n",
       "washing                     2499\n",
       "fridge                      2499\n",
       "                           ...  \n",
       "machinenannannannan            1\n",
       "sofanan                        1\n",
       "purifiernannannannannan        1\n",
       "microwavenannannan             1\n",
       "wardrobenannannannan           1\n",
       "Name: count, Length: 44, dtype: int64"
      ]
     },
     "execution_count": 69,
     "metadata": {},
     "output_type": "execute_result"
    }
   ],
   "source": [
    "from nltk.tokenize import RegexpTokenizer\n",
    "\n",
    "tokenizer = RegexpTokenizer(r'\\w+')\n",
    "tokens = tokenizer.tokenize(all_furnishDetails)\n",
    "pd.Series(tokens).value_counts()"
   ]
  },
  {
   "cell_type": "code",
   "execution_count": null,
   "metadata": {},
   "outputs": [],
   "source": [
    "# still getting same problem, so let's ignore and move ahead"
   ]
  },
  {
   "cell_type": "code",
   "execution_count": 36,
   "metadata": {},
   "outputs": [
    {
     "name": "stderr",
     "output_type": "stream",
     "text": [
      "[nltk_data] Downloading package punkt to\n",
      "[nltk_data]     C:\\Users\\sarvesh.kesharwani\\AppData\\Roaming\\nltk_data.\n",
      "[nltk_data]     ..\n",
      "[nltk_data]   Package punkt is already up-to-date!\n"
     ]
    },
    {
     "data": {
      "text/plain": [
       "True"
      ]
     },
     "execution_count": 36,
     "metadata": {},
     "output_type": "execute_result"
    }
   ],
   "source": [
    "import nltk\n",
    "nltk.download('punkt')"
   ]
  },
  {
   "cell_type": "code",
   "execution_count": 60,
   "metadata": {},
   "outputs": [
    {
     "data": {
      "text/plain": [
       "no                         30526\n",
       "fan                         4998\n",
       "exhaust                     2499\n",
       "washing                     2499\n",
       "fridge                      2499\n",
       "                           ...  \n",
       "machinenannannannan            1\n",
       "sofanan                        1\n",
       "purifiernannannannannan        1\n",
       "microwavenannannan             1\n",
       "wardrobenannannannan           1\n",
       "Name: count, Length: 44, dtype: int64"
      ]
     },
     "execution_count": 60,
     "metadata": {},
     "output_type": "execute_result"
    }
   ],
   "source": [
    "all_furnishDetails_lst = nltk.word_tokenize(all_furnishDetails)\n",
    "pd.Series(all_furnishDetails_lst).value_counts()"
   ]
  },
  {
   "cell_type": "code",
   "execution_count": 75,
   "metadata": {},
   "outputs": [
    {
     "data": {
      "text/plain": [
       "no                         30526\n",
       "fan                         4998\n",
       "exhaust                     2499\n",
       "washing                     2499\n",
       "fridge                      2499\n",
       "                           ...  \n",
       "machinenannannannan            1\n",
       "sofanan                        1\n",
       "purifiernannannannannan        1\n",
       "microwavenannannan             1\n",
       "wardrobenannannannan           1\n",
       "Name: count, Length: 44, dtype: int64"
      ]
     },
     "execution_count": 75,
     "metadata": {},
     "output_type": "execute_result"
    }
   ],
   "source": [
    "all_furnishDetails_lst_al = []\n",
    "for word in all_furnishDetails_lst:\n",
    "    if not word.isnumeric():\n",
    "        all_furnishDetails_lst_al.append(word)\n",
    "all_furnishDetails_lst_al\n",
    "\n",
    "pd.Series(all_furnishDetails_lst_al).value_counts()"
   ]
  },
  {
   "cell_type": "code",
   "execution_count": 76,
   "metadata": {},
   "outputs": [
    {
     "data": {
      "text/plain": [
       "no                         30526\n",
       "fan                         4998\n",
       "exhaust                     2499\n",
       "washing                     2499\n",
       "fridge                      2499\n",
       "                           ...  \n",
       "machinenannannannan            1\n",
       "sofanan                        1\n",
       "purifiernannannannannan        1\n",
       "microwavenannannan             1\n",
       "wardrobenannannannan           1\n",
       "Name: count, Length: 44, dtype: int64"
      ]
     },
     "execution_count": 76,
     "metadata": {},
     "output_type": "execute_result"
    }
   ],
   "source": [
    "all_furnishDetails_lst_al = pd.Series(all_furnishDetails_lst_al)\n",
    "all_furnishDetails_lst_al.value_counts()"
   ]
  },
  {
   "cell_type": "code",
   "execution_count": 84,
   "metadata": {},
   "outputs": [
    {
     "data": {
      "text/plain": [
       "no          30526\n",
       "fan          4998\n",
       "geyser       2499\n",
       "water        2499\n",
       "machine      2499\n",
       "            ...  \n",
       "bed          2499\n",
       "ac           2499\n",
       "chimney      2499\n",
       "kitchen      2499\n",
       "purifier     2499\n",
       "Name: count, Length: 23, dtype: int64"
      ]
     },
     "execution_count": 84,
     "metadata": {},
     "output_type": "execute_result"
    }
   ],
   "source": [
    "all_furnishDetails_lst_al.apply(lambda row: row.replace('nan', '')).str.strip().value_counts()"
   ]
  },
  {
   "cell_type": "code",
   "execution_count": 88,
   "metadata": {},
   "outputs": [
    {
     "data": {
      "text/plain": [
       "no          30526\n",
       "fan          4998\n",
       "geyser       2499\n",
       "water        2499\n",
       "machine      2499\n",
       "            ...  \n",
       "bed          2499\n",
       "ac           2499\n",
       "chimney      2499\n",
       "kitchen      2499\n",
       "purifier     2499\n",
       "Name: count, Length: 23, dtype: int64"
      ]
     },
     "execution_count": 88,
     "metadata": {},
     "output_type": "execute_result"
    }
   ],
   "source": [
    "all_furnishDetails_lst_al = all_furnishDetails_lst_al.apply(lambda row: row.replace('nan', '')).str.strip()\n",
    "all_furnishDetails_lst_al.value_counts()"
   ]
  },
  {
   "cell_type": "code",
   "execution_count": 91,
   "metadata": {},
   "outputs": [
    {
     "data": {
      "text/plain": [
       "(23,\n",
       " array(['wardrobe', 'modular', 'kitchen', 'chimney', 'no', 'ac', 'bed',\n",
       "        'curtains', 'dining', 'table', 'exhaust', 'fan', 'geyser', 'light',\n",
       "        'microwave', 'fridge', 'sofa', 'stove', 'tv', 'washing', 'machine',\n",
       "        'water', 'purifier'], dtype=object))"
      ]
     },
     "execution_count": 91,
     "metadata": {},
     "output_type": "execute_result"
    }
   ],
   "source": [
    "len(all_furnishDetails_lst_al.unique()), all_furnishDetails_lst_al.unique()"
   ]
  },
  {
   "cell_type": "markdown",
   "metadata": {},
   "source": [
    "### creating luxury item mapper"
   ]
  },
  {
   "cell_type": "code",
   "execution_count": 144,
   "metadata": {},
   "outputs": [
    {
     "data": {
      "text/plain": [
       "0         ['3 Wardrobe', '1 Modular Kitchen', '1 Chimney', 'No AC', 'No Bed', 'No Curtains', 'No Dining Table', 'No Exhaust Fan', 'No Fan', 'No Geyser', 'No Light', 'No Microwave', 'No Fridge', 'No Sofa', 'No Stove', 'No TV', 'No Washing Machine', 'No Water Purifier']\n",
       "1          ['4 Wardrobe', '5 Fan', '4 Geyser', '2 Light', 'No AC', 'No Bed', 'No Chimney', 'No Curtains', 'No Dining Table', 'No Exhaust Fan', 'No Modular Kitchen', 'No Microwave', 'No Fridge', 'No Sofa', 'No Stove', 'No TV', 'No Washing Machine', 'No Water Purifier']\n",
       "2                   ['1 Water Purifier', '4 Fan', '1 Fridge', '1 Exhaust Fan', '5 Geyser', '1 Stove', '5 Light', '5 AC', '1 Modular Kitchen', '1 Chimney', '1 Curtains', '5 Wardrobe', '1 Washing Machine', 'No Bed', 'No Dining Table', 'No Microwave', 'No Sofa', 'No TV']\n",
       "3       ['1 Modular Kitchen', 'No AC', 'No Bed', 'No Chimney', 'No Curtains', 'No Dining Table', 'No Exhaust Fan', 'No Fan', 'No Geyser', 'No Light', 'No Microwave', 'No Fridge', 'No Sofa', 'No Stove', 'No TV', 'No Wardrobe', 'No Washing Machine', 'No Water Purifier']\n",
       "4              ['6 Wardrobe', '1 Fridge', '8 Fan', '1 Exhaust Fan', '1 Microwave', '1 Stove', '24 Light', '1 Chimney', '1 Modular Kitchen', 'No AC', 'No Bed', 'No Curtains', 'No Dining Table', 'No Geyser', 'No Sofa', 'No TV', 'No Washing Machine', 'No Water Purifier']\n",
       "                                                                                                                                        ...                                                                                                                                 \n",
       "3969          ['8 Wardrobe', '9 Fan', '1 Exhaust Fan', '3 Geyser', '1 Stove', '16 Light', '1 Chimney', '1 Modular Kitchen', 'No AC', 'No Bed', 'No Curtains', 'No Dining Table', 'No Microwave', 'No Fridge', 'No Sofa', 'No TV', 'No Washing Machine', 'No Water Purifier']\n",
       "3970                   ['1 Water Purifier', '4 Fan', '1 Fridge', '1 Exhaust Fan', '1 Dining Table', '4 Geyser', '1 Stove', '20 Light', '4 AC', '1 TV', '1 Modular Kitchen', '1 Chimney', '1 Curtains', '3 Bed', '3 Wardrobe', '1 Sofa', '1 Microwave', 'No Washing Machine']\n",
       "3971                                                                                                                                                                                                                                                                      []\n",
       "3972                                                                                                                                                                                                                                                                     NaN\n",
       "3973         ['1 Water Purifier', '6 Fan', '1 Exhaust Fan', '2 Geyser', '15 Light', '1 Modular Kitchen', '3 Wardrobe', 'No AC', 'No Bed', 'No Chimney', 'No Curtains', 'No Dining Table', 'No Microwave', 'No Fridge', 'No Sofa', 'No Stove', 'No TV', 'No Washing Machine']\n",
       "Name: furnishDetails, Length: 3974, dtype: object"
      ]
     },
     "execution_count": 144,
     "metadata": {},
     "output_type": "execute_result"
    }
   ],
   "source": [
    "data['furnishDetails']"
   ]
  },
  {
   "cell_type": "code",
   "execution_count": 146,
   "metadata": {},
   "outputs": [],
   "source": [
    "data['furnishDetails'] = data['furnishDetails'].str.lower().str.strip()"
   ]
  },
  {
   "cell_type": "markdown",
   "metadata": {},
   "source": [
    "### testing and learning regex"
   ]
  },
  {
   "cell_type": "code",
   "execution_count": 226,
   "metadata": {},
   "outputs": [
    {
     "data": {
      "text/plain": [
       "[' exhaust fan', '']"
      ]
     },
     "execution_count": 226,
     "metadata": {},
     "output_type": "execute_result"
    }
   ],
   "source": [
    "txt1 = '1 exhaust fan'\n",
    "sg = re.findall(r'\\d*([\\w\\s]*)', txt1)\n",
    "sg"
   ]
  },
  {
   "cell_type": "code",
   "execution_count": 229,
   "metadata": {},
   "outputs": [
    {
     "data": {
      "text/plain": [
       "wardrobe           2499\n",
       "light              2499\n",
       "water purifier     2499\n",
       "washing machine    2499\n",
       "tv                 2499\n",
       "stove              2499\n",
       "sofa               2499\n",
       "fridge             2499\n",
       "microwave          2499\n",
       "geyser             2499\n",
       "modular kitchen    2499\n",
       "fan                2499\n",
       "exhaust fan        2499\n",
       "dining table       2499\n",
       "curtains           2499\n",
       "bed                2499\n",
       "ac                 2499\n",
       "chimney            2499\n",
       "                   1475\n",
       "Name: count, dtype: int64"
      ]
     },
     "execution_count": 229,
     "metadata": {},
     "output_type": "execute_result"
    }
   ],
   "source": [
    "import re\n",
    "all_items = []\n",
    "def temp(row):\n",
    "    # print(row[1:-1])\n",
    "    for r in row[1:-1].split(','):\n",
    "        item = r.strip()[1:-1]\n",
    "        item = item.replace('no', '')\n",
    "        sg = re.findall(r'\\d*([\\w\\s]*)', item)\n",
    "        if len(sg)>0:\n",
    "            item = sg[0]\n",
    "        all_items.append(item.strip())\n",
    "    return row\n",
    "\n",
    "pd.set_option('display.max_rows', None)\n",
    "tmp1 = data['furnishDetails'].astype(str).apply(temp)\n",
    "x=pd.Series(all_items).value_counts()\n",
    "x[x>1000]"
   ]
  },
  {
   "cell_type": "code",
   "execution_count": null,
   "metadata": {},
   "outputs": [],
   "source": [
    "# wardrobe\n",
    "# light\n",
    "# water purifier\n",
    "# washing machine\n",
    "# tv\n",
    "# stove\n",
    "# sofa\n",
    "# fridge\n",
    "# microwave\n",
    "# geyser\n",
    "# modular kitchen\n",
    "# fan\n",
    "# exhaust fan\n",
    "# dining table\n",
    "# curtains\n",
    "# bed\n",
    "# ac\n",
    "# chimney\n",
    "\n",
    "# total 18 unique items"
   ]
  },
  {
   "cell_type": "code",
   "execution_count": 252,
   "metadata": {},
   "outputs": [],
   "source": [
    "luxury_item_value_dict = {\n",
    "    \"wardrobe\": 8,\n",
    "    \"light\": 6,\n",
    "    \"water purifier\": 5,\n",
    "    \"washing machine\": 7,\n",
    "    \"tv\": 9,\n",
    "    \"stove\": 8,\n",
    "    \"sofa\": 9,\n",
    "    \"fridge\": 8,\n",
    "    \"microwave\": 6,\n",
    "    \"geyser\": 5,\n",
    "    \"modular kitchen\": 10,\n",
    "    \"fan\": 4,\n",
    "    \"exhaust fan\": 4,\n",
    "    \"dining table\": 9,\n",
    "    \"curtains\": 7,\n",
    "    \"bed\": 10,\n",
    "    \"ac\": 7,\n",
    "    \"chimney\": 6\n",
    "}"
   ]
  },
  {
   "cell_type": "markdown",
   "metadata": {},
   "source": [
    "### creating luxury_value col"
   ]
  },
  {
   "cell_type": "code",
   "execution_count": 248,
   "metadata": {},
   "outputs": [
    {
     "data": {
      "text/plain": [
       "[\"['3 wardrobe'\",\n",
       " \" '1 modular kitchen'\",\n",
       " \" '1 chimney'\",\n",
       " \" 'no ac'\",\n",
       " \" 'no bed'\",\n",
       " \" 'no curtains'\",\n",
       " \" 'no dining table'\",\n",
       " \" 'no exhaust fan'\",\n",
       " \" 'no fan'\",\n",
       " \" 'no geyser'\",\n",
       " \" 'no light'\",\n",
       " \" 'no microwave'\",\n",
       " \" 'no fridge'\",\n",
       " \" 'no sofa'\",\n",
       " \" 'no stove'\",\n",
       " \" 'no tv'\",\n",
       " \" 'no washing machine'\",\n",
       " \" 'no water purifier']\"]"
      ]
     },
     "execution_count": 248,
     "metadata": {},
     "output_type": "execute_result"
    }
   ],
   "source": [
    "pd.set_option('display.max_colwidth', 1000)\n",
    "data['furnishDetails'].astype(str).str.lower().str.strip().str.split(',')[0]"
   ]
  },
  {
   "cell_type": "code",
   "execution_count": 127,
   "metadata": {},
   "outputs": [
    {
     "name": "stdout",
     "output_type": "stream",
     "text": [
      "42\n"
     ]
    }
   ],
   "source": [
    "import re\n",
    "capture_grp = re.search(r'(\\d+)', '42sarvesh123')\n",
    "print(capture_grp.group())"
   ]
  },
  {
   "cell_type": "code",
   "execution_count": 257,
   "metadata": {},
   "outputs": [],
   "source": [
    "def calc_luxary_value(row):\n",
    "    items = row.split(',')\n",
    "    items_present = []\n",
    "    for item in items:\n",
    "        # check if item is present in property or not present\n",
    "        if 'no' not in item:\n",
    "            items_present.append(item)\n",
    "    # now for every present item in property calc the luxury value\n",
    "    for item in items_present:\n",
    "        # check the count of each item\n",
    "        capture_grp = re.findall(r'(\\d+)', item.strip())\n",
    "        if capture_grp:\n",
    "            item_count = int(capture_grp[0])\n",
    "        else:\n",
    "            item_count = 0\n",
    "        # get the luxury value of each item, multiply it with count and get the total luxury_value_of_property\n",
    "        property_luxury_value=0\n",
    "        for _, (key, value) in enumerate(luxury_item_value_dict.items()):\n",
    "            if str(key) in row:\n",
    "                property_luxury_value += item_count * int(value)\n",
    "    return property_luxury_value"
   ]
  },
  {
   "cell_type": "code",
   "execution_count": 258,
   "metadata": {},
   "outputs": [
    {
     "data": {
      "text/plain": [
       "luxary_value\n",
       "128     1805\n",
       "0       1475\n",
       "512      152\n",
       "384      135\n",
       "256      104\n",
       "640       92\n",
       "768       77\n",
       "896       26\n",
       "1280      21\n",
       "1024      19\n",
       "1536      12\n",
       "1152      11\n",
       "3840       6\n",
       "1408       6\n",
       "2560       6\n",
       "1920       4\n",
       "2304       3\n",
       "2048       3\n",
       "3072       2\n",
       "2176       2\n",
       "1664       2\n",
       "1792       2\n",
       "2816       1\n",
       "2688       1\n",
       "6528       1\n",
       "6144       1\n",
       "6656       1\n",
       "7936       1\n",
       "2432       1\n",
       "4096       1\n",
       "3584       1\n",
       "Name: count, dtype: int64"
      ]
     },
     "execution_count": 258,
     "metadata": {},
     "output_type": "execute_result"
    }
   ],
   "source": [
    "data['luxary_value'] = data['furnishDetails'].astype(str).apply(calc_luxary_value)\n",
    "data['luxary_value'].value_counts()"
   ]
  },
  {
   "cell_type": "code",
   "execution_count": 259,
   "metadata": {},
   "outputs": [
    {
     "data": {
      "text/plain": [
       "<Axes: >"
      ]
     },
     "execution_count": 259,
     "metadata": {},
     "output_type": "execute_result"
    },
    {
     "data": {
      "image/png": "[encoded data removed]",
      "text/plain": [
       "<Figure size 640x480 with 1 Axes>"
      ]
     },
     "metadata": {},
     "output_type": "display_data"
    }
   ],
   "source": [
    "data['luxary_value'].plot()"
   ]
  },
  {
   "cell_type": "code",
   "execution_count": 267,
   "metadata": {},
   "outputs": [
    {
     "data": {
      "text/plain": [
       "<Axes: >"
      ]
     },
     "execution_count": 267,
     "metadata": {},
     "output_type": "execute_result"
    },
    {
     "data": {
      "image/png": "[encoded data removed]",
      "text/plain": [
       "<Figure size 640x480 with 1 Axes>"
      ]
     },
     "metadata": {},
     "output_type": "display_data"
    }
   ],
   "source": [
    "data['luxary_value'].plot(kind='box')"
   ]
  },
  {
   "cell_type": "code",
   "execution_count": 275,
   "metadata": {},
   "outputs": [
    {
     "data": {
      "text/plain": [
       "<Axes: >"
      ]
     },
     "execution_count": 275,
     "metadata": {},
     "output_type": "execute_result"
    },
    {
     "data": {
      "image/png": "[encoded data removed]",
      "text/plain": [
       "<Figure size 640x480 with 1 Axes>"
      ]
     },
     "metadata": {},
     "output_type": "display_data"
    }
   ],
   "source": [
    "data[data['luxary_value']<300]['luxary_value'].plot(kind='box')"
   ]
  },
  {
   "cell_type": "code",
   "execution_count": 276,
   "metadata": {},
   "outputs": [
    {
     "data": {
      "text/plain": [
       "<Axes: >"
      ]
     },
     "execution_count": 276,
     "metadata": {},
     "output_type": "execute_result"
    }
   ],
   "source": [
    "data[data['luxary_value']<300]['luxary_value'].plot()"
   ]
  },
  {
   "cell_type": "code",
   "execution_count": 261,
   "metadata": {},
   "outputs": [
    {
     "data": {
      "text/plain": [
       "count    3974.000000\n",
       "mean      184.688475\n",
       "std       396.113504\n",
       "min         0.000000\n",
       "25%         0.000000\n",
       "50%       128.000000\n",
       "75%       128.000000\n",
       "max      7936.000000\n",
       "Name: luxary_value, dtype: float64"
      ]
     },
     "execution_count": 261,
     "metadata": {},
     "output_type": "execute_result"
    }
   ],
   "source": [
    "data['luxary_value'].describe()"
   ]
  },
  {
   "cell_type": "code",
   "execution_count": 266,
   "metadata": {},
   "outputs": [
    {
     "data": {
      "text/plain": [
       "1984.0"
      ]
     },
     "execution_count": 266,
     "metadata": {},
     "output_type": "execute_result"
    }
   ],
   "source": [
    "7936/4"
   ]
  },
  {
   "cell_type": "code",
   "execution_count": null,
   "metadata": {},
   "outputs": [],
   "source": [
    "def categorize_luxury_level(row):\n",
    "    if row<1984\n",
    "        return 1\n",
    "    return"
   ]
  },
  {
   "cell_type": "code",
   "execution_count": 265,
   "metadata": {},
   "outputs": [
    {
     "ename": "NameError",
     "evalue": "name 'categorize_luxury_level' is not defined",
     "output_type": "error",
     "traceback": [
      "\u001b[1;31m---------------------------------------------------------------------------\u001b[0m",
      "\u001b[1;31mNameError\u001b[0m                                 Traceback (most recent call last)",
      "\u001b[1;32mc:\\Users\\sarvesh.kesharwani\\Pictures\\DSC\\HousePrice_MegaProject\\3. eda_n_feature engineering\\5. FEing furnishDetails col.ipynb Cell 39\u001b[0m line \u001b[0;36m1\n\u001b[1;32m----> <a href='vscode-notebook-cell:/c%3A/Users/sarvesh.kesharwani/Pictures/DSC/HousePrice_MegaProject/3.%20eda_n_feature%20engineering/5.%20FEing%20furnishDetails%20col.ipynb#X63sZmlsZQ%3D%3D?line=0'>1</a>\u001b[0m data[\u001b[39m'\u001b[39m\u001b[39mluxary_level\u001b[39m\u001b[39m'\u001b[39m] \u001b[39m=\u001b[39m data[\u001b[39m'\u001b[39m\u001b[39mluxary_value\u001b[39m\u001b[39m'\u001b[39m]\u001b[39m.\u001b[39mapply(categorize_luxury_level)\n\u001b[0;32m      <a href='vscode-notebook-cell:/c%3A/Users/sarvesh.kesharwani/Pictures/DSC/HousePrice_MegaProject/3.%20eda_n_feature%20engineering/5.%20FEing%20furnishDetails%20col.ipynb#X63sZmlsZQ%3D%3D?line=1'>2</a>\u001b[0m data[\u001b[39m'\u001b[39m\u001b[39mluxary_level\u001b[39m\u001b[39m'\u001b[39m]\n",
      "\u001b[1;31mNameError\u001b[0m: name 'categorize_luxury_level' is not defined"
     ]
    }
   ],
   "source": [
    "data['luxary_level'] = data['luxary_value'].apply(categorize_luxury_level)\n",
    "data['luxary_level']"
   ]
  },
  {
   "cell_type": "code",
   "execution_count": null,
   "metadata": {},
   "outputs": [],
   "source": []
  },
  {
   "cell_type": "code",
   "execution_count": null,
   "metadata": {},
   "outputs": [],
   "source": []
  },
  {
   "cell_type": "code",
   "execution_count": null,
   "metadata": {},
   "outputs": [],
   "source": []
  },
  {
   "cell_type": "code",
   "execution_count": null,
   "metadata": {},
   "outputs": [],
   "source": []
  },
  {
   "cell_type": "code",
   "execution_count": null,
   "metadata": {},
   "outputs": [],
   "source": []
  },
  {
   "cell_type": "code",
   "execution_count": null,
   "metadata": {},
   "outputs": [],
   "source": []
  }
 ],
 "metadata": {
  "kernelspec": {
   "display_name": "Python 3",
   "language": "python",
   "name": "python3"
  },
  "language_info": {
   "codemirror_mode": {
    "name": "ipython",
    "version": 3
   },
   "file_extension": ".py",
   "mimetype": "text/x-python",
   "name": "python",
   "nbconvert_exporter": "python",
   "pygments_lexer": "ipython3",
   "version": "3.9.5"
  },
  "orig_nbformat": 4
 },
 "nbformat": 4,
 "nbformat_minor": 2
}
