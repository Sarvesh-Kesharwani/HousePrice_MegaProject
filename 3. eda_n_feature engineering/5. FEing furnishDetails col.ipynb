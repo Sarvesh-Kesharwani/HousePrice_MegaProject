{
 "cells": [
  {
   "cell_type": "markdown",
   "metadata": {},
   "source": [
    "### loading dataset"
   ]
  },
  {
   "cell_type": "code",
   "execution_count": 28,
   "metadata": {},
   "outputs": [
    {
     "data": {
      "text/html": [
       "<div>\n",
       "<style scoped>\n",
       "    .dataframe tbody tr th:only-of-type {\n",
       "        vertical-align: middle;\n",
       "    }\n",
       "\n",
       "    .dataframe tbody tr th {\n",
       "        vertical-align: top;\n",
       "    }\n",
       "\n",
       "    .dataframe thead th {\n",
       "        text-align: right;\n",
       "    }\n",
       "</style>\n",
       "<table border=\"1\" class=\"dataframe\">\n",
       "  <thead>\n",
       "    <tr style=\"text-align: right;\">\n",
       "      <th></th>\n",
       "      <th>property_name</th>\n",
       "      <th>sector</th>\n",
       "      <th>society</th>\n",
       "      <th>price_in_crores</th>\n",
       "      <th>price_per_sqft</th>\n",
       "      <th>...</th>\n",
       "      <th>servantRoom</th>\n",
       "      <th>studyRoom</th>\n",
       "      <th>poojaRoom</th>\n",
       "      <th>storeRoom</th>\n",
       "      <th>otherAdditionalRoom</th>\n",
       "    </tr>\n",
       "  </thead>\n",
       "  <tbody>\n",
       "    <tr>\n",
       "      <th>0</th>\n",
       "      <td>2 BHK Flat in Sector 70 Gurgaon</td>\n",
       "      <td>sector 70</td>\n",
       "      <td>shree vardhman victoria</td>\n",
       "      <td>1.10</td>\n",
       "      <td>8461.0</td>\n",
       "      <td>...</td>\n",
       "      <td>False</td>\n",
       "      <td>False</td>\n",
       "      <td>False</td>\n",
       "      <td>False</td>\n",
       "      <td>False</td>\n",
       "    </tr>\n",
       "    <tr>\n",
       "      <th>1</th>\n",
       "      <td>3 Bedroom House for sale in Sector 40 Gurgaon</td>\n",
       "      <td>sector 40</td>\n",
       "      <td>NaN</td>\n",
       "      <td>2.15</td>\n",
       "      <td>23889.0</td>\n",
       "      <td>...</td>\n",
       "      <td>False</td>\n",
       "      <td>True</td>\n",
       "      <td>True</td>\n",
       "      <td>True</td>\n",
       "      <td>False</td>\n",
       "    </tr>\n",
       "    <tr>\n",
       "      <th>2</th>\n",
       "      <td>5 Bedroom House for sale in Palam Vihar</td>\n",
       "      <td>palam vihar</td>\n",
       "      <td>ansals palam vihar</td>\n",
       "      <td>9.00</td>\n",
       "      <td>19231.0</td>\n",
       "      <td>...</td>\n",
       "      <td>True</td>\n",
       "      <td>True</td>\n",
       "      <td>True</td>\n",
       "      <td>True</td>\n",
       "      <td>False</td>\n",
       "    </tr>\n",
       "  </tbody>\n",
       "</table>\n",
       "<p>3 rows × 27 columns</p>\n",
       "</div>"
      ],
      "text/plain": [
       "                                   property_name        sector  \\\n",
       "0                2 BHK Flat in Sector 70 Gurgaon    sector 70    \n",
       "1  3 Bedroom House for sale in Sector 40 Gurgaon    sector 40    \n",
       "2        5 Bedroom House for sale in Palam Vihar   palam vihar   \n",
       "\n",
       "                   society  price_in_crores  price_per_sqft  ...  servantRoom  \\\n",
       "0  shree vardhman victoria             1.10          8461.0  ...        False   \n",
       "1                      NaN             2.15         23889.0  ...        False   \n",
       "2       ansals palam vihar             9.00         19231.0  ...         True   \n",
       "\n",
       "   studyRoom poojaRoom storeRoom  otherAdditionalRoom  \n",
       "0      False     False     False                False  \n",
       "1       True      True      True                False  \n",
       "2       True      True      True                False  \n",
       "\n",
       "[3 rows x 27 columns]"
      ]
     },
     "execution_count": 28,
     "metadata": {},
     "output_type": "execute_result"
    }
   ],
   "source": [
    "import pandas as pd\n",
    "\n",
    "data = pd.read_csv(r'..\\3. eda_n_feature engineering\\4.1 FEed agePossesion col.csv')\n",
    "data.head(3)"
   ]
  },
  {
   "cell_type": "code",
   "execution_count": 29,
   "metadata": {},
   "outputs": [
    {
     "data": {
      "text/plain": [
       "0         ['3 Wardrobe', '1 Modular Kitchen', '1 Chimney', 'No AC', 'No Bed', 'No Curtains', 'No Dining Table', 'No Exhaust Fan', 'No Fan', 'No Geyser', 'No Light', 'No Microwave', 'No Fridge', 'No Sofa', 'No Stove', 'No TV', 'No Washing Machine', 'No Water Purifier']\n",
       "1          ['4 Wardrobe', '5 Fan', '4 Geyser', '2 Light', 'No AC', 'No Bed', 'No Chimney', 'No Curtains', 'No Dining Table', 'No Exhaust Fan', 'No Modular Kitchen', 'No Microwave', 'No Fridge', 'No Sofa', 'No Stove', 'No TV', 'No Washing Machine', 'No Water Purifier']\n",
       "2                   ['1 Water Purifier', '4 Fan', '1 Fridge', '1 Exhaust Fan', '5 Geyser', '1 Stove', '5 Light', '5 AC', '1 Modular Kitchen', '1 Chimney', '1 Curtains', '5 Wardrobe', '1 Washing Machine', 'No Bed', 'No Dining Table', 'No Microwave', 'No Sofa', 'No TV']\n",
       "3       ['1 Modular Kitchen', 'No AC', 'No Bed', 'No Chimney', 'No Curtains', 'No Dining Table', 'No Exhaust Fan', 'No Fan', 'No Geyser', 'No Light', 'No Microwave', 'No Fridge', 'No Sofa', 'No Stove', 'No TV', 'No Wardrobe', 'No Washing Machine', 'No Water Purifier']\n",
       "4              ['6 Wardrobe', '1 Fridge', '8 Fan', '1 Exhaust Fan', '1 Microwave', '1 Stove', '24 Light', '1 Chimney', '1 Modular Kitchen', 'No AC', 'No Bed', 'No Curtains', 'No Dining Table', 'No Geyser', 'No Sofa', 'No TV', 'No Washing Machine', 'No Water Purifier']\n",
       "                                                                                                                                        ...                                                                                                                                 \n",
       "3969          ['8 Wardrobe', '9 Fan', '1 Exhaust Fan', '3 Geyser', '1 Stove', '16 Light', '1 Chimney', '1 Modular Kitchen', 'No AC', 'No Bed', 'No Curtains', 'No Dining Table', 'No Microwave', 'No Fridge', 'No Sofa', 'No TV', 'No Washing Machine', 'No Water Purifier']\n",
       "3970                   ['1 Water Purifier', '4 Fan', '1 Fridge', '1 Exhaust Fan', '1 Dining Table', '4 Geyser', '1 Stove', '20 Light', '4 AC', '1 TV', '1 Modular Kitchen', '1 Chimney', '1 Curtains', '3 Bed', '3 Wardrobe', '1 Sofa', '1 Microwave', 'No Washing Machine']\n",
       "3971                                                                                                                                                                                                                                                                      []\n",
       "3972                                                                                                                                                                                                                                                                     NaN\n",
       "3973         ['1 Water Purifier', '6 Fan', '1 Exhaust Fan', '2 Geyser', '15 Light', '1 Modular Kitchen', '3 Wardrobe', 'No AC', 'No Bed', 'No Chimney', 'No Curtains', 'No Dining Table', 'No Microwave', 'No Fridge', 'No Sofa', 'No Stove', 'No TV', 'No Washing Machine']\n",
       "Name: furnishDetails, Length: 3974, dtype: object"
      ]
     },
     "execution_count": 29,
     "metadata": {},
     "output_type": "execute_result"
    }
   ],
   "source": [
    "pd.set_option('display.max_colwidth', 1000)\n",
    "data['furnishDetails']"
   ]
  },
  {
   "cell_type": "markdown",
   "metadata": {},
   "source": [
    "### joining all furnish detail rows into single string for further analysis"
   ]
  },
  {
   "cell_type": "code",
   "execution_count": 30,
   "metadata": {},
   "outputs": [],
   "source": [
    "pd.set_option('display.max_colwidth', 10)\n",
    "pd.set_option('display.max_columns', 10)\n",
    "pd.set_option('display.max_rows', 10)"
   ]
  },
  {
   "cell_type": "code",
   "execution_count": 31,
   "metadata": {},
   "outputs": [
    {
     "data": {
      "text/plain": [
       "(643005,\n",
       " \"['3 Wardrobe', '1 Modular Kitchen', '1 Chimney', 'No AC', 'No Bed', 'No Curtains', 'No Dining Table', 'No Exhaust Fan', 'No Fan', 'No Geyser', 'No Light', 'No Microwave', 'No Fridge', 'No Sofa', 'No Stove', 'No TV', 'No Washing Machine', 'No Water Purifier']['4 Wardrobe', '5 Fan', '4 Geyser', '2 Light', 'No AC', 'No Bed', 'No Chimney', 'No Curtains', 'No Dining Table', 'No Exhaust Fan', 'No Modular Kitchen', 'No Microwave', 'No Fridge', 'No Sofa', 'No Stove', 'No TV', 'No Washing Machine', 'No Water Purifier']['1 Water Purifier', '4 Fan', '1 Fridge', '1 Exhaust Fan', '5 Geyser', '1 Stove', '5 Light', '5 AC', '1 Modular Kitchen', '1 Chimney', '1 Curtains', '5 Wardrobe', '1 Washing Machine', 'No Bed', 'No Dining Table', 'No Microwave', 'No Sofa', 'No TV']['1 Modular Kitchen', 'No AC', 'No Bed', 'No Chimney', 'No Curtains', 'No Dining Table', 'No Exhaust Fan', 'No Fan', 'No Geyser', 'No Light', 'No Microwave', 'No Fridge', 'No Sofa', 'No Stove', 'No TV', 'No Wardrobe', 'No Washing Machine\")"
      ]
     },
     "execution_count": 31,
     "metadata": {},
     "output_type": "execute_result"
    }
   ],
   "source": [
    "all_furnishDetails = ''\n",
    "for row in data['furnishDetails'].astype(str).tolist():\n",
    "    all_furnishDetails += row\n",
    "len(all_furnishDetails), all_furnishDetails[:1000]"
   ]
  },
  {
   "cell_type": "code",
   "execution_count": 32,
   "metadata": {},
   "outputs": [
    {
     "data": {
      "text/plain": [
       "True"
      ]
     },
     "execution_count": 32,
     "metadata": {},
     "output_type": "execute_result"
    }
   ],
   "source": [
    "'nannan' in all_furnishDetails"
   ]
  },
  {
   "cell_type": "code",
   "execution_count": 33,
   "metadata": {},
   "outputs": [
    {
     "data": {
      "text/plain": [
       "furnishDetails\n",
       "False    2940\n",
       "Name: count, dtype: int64"
      ]
     },
     "execution_count": 33,
     "metadata": {},
     "output_type": "execute_result"
    }
   ],
   "source": [
    "data['furnishDetails'].str.contains('nannan').value_counts()"
   ]
  },
  {
   "cell_type": "code",
   "execution_count": 34,
   "metadata": {},
   "outputs": [
    {
     "data": {
      "text/plain": [
       "'!\"#$%&\\'()*+,-./:;<=>?@[\\\\]^_`{|}~'"
      ]
     },
     "execution_count": 34,
     "metadata": {},
     "output_type": "execute_result"
    }
   ],
   "source": [
    "import string\n",
    "string.punctuation"
   ]
  },
  {
   "cell_type": "markdown",
   "metadata": {},
   "source": [
    "### removing numeric and puctuation chracters from my furnish details"
   ]
  },
  {
   "cell_type": "code",
   "execution_count": 35,
   "metadata": {},
   "outputs": [],
   "source": [
    "chrs_to_remove = string.punctuation + '0123456789'"
   ]
  },
  {
   "cell_type": "code",
   "execution_count": 36,
   "metadata": {},
   "outputs": [
    {
     "data": {
      "text/plain": [
       "' Wardrobe  Modular Kitchen  Chimney No AC No Bed No Curtains No Dining Table No Exhaust Fan No Fan No Geyser No Light No Microwave No Fridge No Sofa No Stove No TV No Washing Machine No Water Purifier Wardrobe  Fan  Geyser  Light No AC No Bed No Chimney No Curtains No Dining Table No Exhaust Fan No Modular Kitchen No Microwave No Fridge No Sofa No Stove No TV No Washing Machine No Water Purifier Water Purifier  Fan  Fridge  Exhaust Fan  Geyser  Stove  Light  AC  Modular Kitchen  Chimney  Curtains  Wardrobe  Washing Machine No Bed No Dining Table No Microwave No Sofa No TV Modular Kitchen No AC No Bed No Chimney No Curtains No Dining Table No Exhaust Fan No Fan No Geyser No Light No Microwave No Fridge No Sofa No Stove No TV No Wardrobe No Washing Machine No Water Purifier Wardrobe  Fridge  Fan  Exhaust Fan  Microwave  Stove  Light  Chimney  Modular Kitchen No AC No Bed No Curtains No Dining Table No Geyser No Sofa No TV No Washing Machine No Water Purifiernannan Fan  Light  AC No Bed N'"
      ]
     },
     "execution_count": 36,
     "metadata": {},
     "output_type": "execute_result"
    }
   ],
   "source": [
    "translator = str.maketrans('', '', chrs_to_remove)\n",
    "all_furnishDetails = all_furnishDetails.translate(translator)\n",
    "all_furnishDetails[:1000]"
   ]
  },
  {
   "cell_type": "code",
   "execution_count": 37,
   "metadata": {},
   "outputs": [
    {
     "data": {
      "text/plain": [
       "'wardrobe  modular kitchen  chimney no ac no bed no curtains no dining table no exhaust fan no fan no geyser no light no microwave no fridge no sofa no stove no tv no washing machine no water purifier wardrobe  fan  geyser  light no ac no bed no chimney no curtains no dining table no exhaust fan no modular kitchen no microwave no fridge no sofa no stove no tv no washing machine no water purifier water purifier  fan  fridge  exhaust fan  geyser  stove  light  ac  modular kitchen  chimney  curtains  wardrobe  washing machine no bed no dining table no microwave no sofa no tv modular kitchen no ac no bed no chimney no curtains no dining table no exhaust fan no fan no geyser no light no microwave no fridge no sofa no stove no tv no wardrobe no washing machine no water purifier wardrobe  fridge  fan  exhaust fan  microwave  stove  light  chimney  modular kitchen no ac no bed no curtains no dining table no geyser no sofa no tv no washing machine no water purifiernannan fan  light  ac no bed no'"
      ]
     },
     "execution_count": 37,
     "metadata": {},
     "output_type": "execute_result"
    }
   ],
   "source": [
    "all_furnishDetails = all_furnishDetails.lower().strip()\n",
    "all_furnishDetails[:1000]"
   ]
  },
  {
   "cell_type": "markdown",
   "metadata": {},
   "source": [
    "### using string translator method created some weired `nannan` values in the o/p string, so let's try nltk's regexpTokenizer appraoch"
   ]
  },
  {
   "cell_type": "code",
   "execution_count": 38,
   "metadata": {},
   "outputs": [
    {
     "data": {
      "text/plain": [
       "no                         30526\n",
       "fan                         4998\n",
       "exhaust                     2499\n",
       "washing                     2499\n",
       "fridge                      2499\n",
       "                           ...  \n",
       "machinenannannannan            1\n",
       "sofanan                        1\n",
       "purifiernannannannannan        1\n",
       "microwavenannannan             1\n",
       "wardrobenannannannan           1\n",
       "Name: count, Length: 44, dtype: int64"
      ]
     },
     "execution_count": 38,
     "metadata": {},
     "output_type": "execute_result"
    }
   ],
   "source": [
    "from nltk.tokenize import RegexpTokenizer\n",
    "\n",
    "tokenizer = RegexpTokenizer(r'\\w+')\n",
    "tokens = tokenizer.tokenize(all_furnishDetails)\n",
    "pd.Series(tokens).value_counts()"
   ]
  },
  {
   "cell_type": "code",
   "execution_count": 39,
   "metadata": {},
   "outputs": [],
   "source": [
    "# still getting same problem, so let's ignore and move ahead"
   ]
  },
  {
   "cell_type": "code",
   "execution_count": 40,
   "metadata": {},
   "outputs": [
    {
     "name": "stderr",
     "output_type": "stream",
     "text": [
      "[nltk_data] Downloading package punkt to\n",
      "[nltk_data]     C:\\Users\\sarvesh.kesharwani\\AppData\\Roaming\\nltk_data.\n",
      "[nltk_data]     ..\n",
      "[nltk_data]   Package punkt is already up-to-date!\n"
     ]
    },
    {
     "data": {
      "text/plain": [
       "True"
      ]
     },
     "execution_count": 40,
     "metadata": {},
     "output_type": "execute_result"
    }
   ],
   "source": [
    "import nltk\n",
    "nltk.download('punkt')"
   ]
  },
  {
   "cell_type": "code",
   "execution_count": 41,
   "metadata": {},
   "outputs": [
    {
     "data": {
      "text/plain": [
       "no                         30526\n",
       "fan                         4998\n",
       "exhaust                     2499\n",
       "washing                     2499\n",
       "fridge                      2499\n",
       "                           ...  \n",
       "machinenannannannan            1\n",
       "sofanan                        1\n",
       "purifiernannannannannan        1\n",
       "microwavenannannan             1\n",
       "wardrobenannannannan           1\n",
       "Name: count, Length: 44, dtype: int64"
      ]
     },
     "execution_count": 41,
     "metadata": {},
     "output_type": "execute_result"
    }
   ],
   "source": [
    "all_furnishDetails_lst = nltk.word_tokenize(all_furnishDetails)\n",
    "pd.Series(all_furnishDetails_lst).value_counts()"
   ]
  },
  {
   "cell_type": "code",
   "execution_count": 42,
   "metadata": {},
   "outputs": [
    {
     "data": {
      "text/plain": [
       "no                         30526\n",
       "fan                         4998\n",
       "exhaust                     2499\n",
       "washing                     2499\n",
       "fridge                      2499\n",
       "                           ...  \n",
       "machinenannannannan            1\n",
       "sofanan                        1\n",
       "purifiernannannannannan        1\n",
       "microwavenannannan             1\n",
       "wardrobenannannannan           1\n",
       "Name: count, Length: 44, dtype: int64"
      ]
     },
     "execution_count": 42,
     "metadata": {},
     "output_type": "execute_result"
    }
   ],
   "source": [
    "all_furnishDetails_lst_al = []\n",
    "for word in all_furnishDetails_lst:\n",
    "    if not word.isnumeric():\n",
    "        all_furnishDetails_lst_al.append(word)\n",
    "all_furnishDetails_lst_al\n",
    "\n",
    "pd.Series(all_furnishDetails_lst_al).value_counts()"
   ]
  },
  {
   "cell_type": "code",
   "execution_count": 43,
   "metadata": {},
   "outputs": [
    {
     "data": {
      "text/plain": [
       "no                         30526\n",
       "fan                         4998\n",
       "exhaust                     2499\n",
       "washing                     2499\n",
       "fridge                      2499\n",
       "                           ...  \n",
       "machinenannannannan            1\n",
       "sofanan                        1\n",
       "purifiernannannannannan        1\n",
       "microwavenannannan             1\n",
       "wardrobenannannannan           1\n",
       "Name: count, Length: 44, dtype: int64"
      ]
     },
     "execution_count": 43,
     "metadata": {},
     "output_type": "execute_result"
    }
   ],
   "source": [
    "all_furnishDetails_lst_al = pd.Series(all_furnishDetails_lst_al)\n",
    "all_furnishDetails_lst_al.value_counts()"
   ]
  },
  {
   "cell_type": "code",
   "execution_count": 44,
   "metadata": {},
   "outputs": [
    {
     "data": {
      "text/plain": [
       "no          30526\n",
       "fan          4998\n",
       "geyser       2499\n",
       "water        2499\n",
       "machine      2499\n",
       "            ...  \n",
       "bed          2499\n",
       "ac           2499\n",
       "chimney      2499\n",
       "kitchen      2499\n",
       "purifier     2499\n",
       "Name: count, Length: 23, dtype: int64"
      ]
     },
     "execution_count": 44,
     "metadata": {},
     "output_type": "execute_result"
    }
   ],
   "source": [
    "all_furnishDetails_lst_al.apply(lambda row: row.replace('nan', '')).str.strip().value_counts()"
   ]
  },
  {
   "cell_type": "code",
   "execution_count": 45,
   "metadata": {},
   "outputs": [
    {
     "data": {
      "text/plain": [
       "no          30526\n",
       "fan          4998\n",
       "geyser       2499\n",
       "water        2499\n",
       "machine      2499\n",
       "            ...  \n",
       "bed          2499\n",
       "ac           2499\n",
       "chimney      2499\n",
       "kitchen      2499\n",
       "purifier     2499\n",
       "Name: count, Length: 23, dtype: int64"
      ]
     },
     "execution_count": 45,
     "metadata": {},
     "output_type": "execute_result"
    }
   ],
   "source": [
    "all_furnishDetails_lst_al = all_furnishDetails_lst_al.apply(lambda row: row.replace('nan', '')).str.strip()\n",
    "all_furnishDetails_lst_al.value_counts()"
   ]
  },
  {
   "cell_type": "code",
   "execution_count": 46,
   "metadata": {},
   "outputs": [
    {
     "data": {
      "text/plain": [
       "(23,\n",
       " array(['wardrobe', 'modular', 'kitchen', 'chimney', 'no', 'ac', 'bed',\n",
       "        'curtains', 'dining', 'table', 'exhaust', 'fan', 'geyser', 'light',\n",
       "        'microwave', 'fridge', 'sofa', 'stove', 'tv', 'washing', 'machine',\n",
       "        'water', 'purifier'], dtype=object))"
      ]
     },
     "execution_count": 46,
     "metadata": {},
     "output_type": "execute_result"
    }
   ],
   "source": [
    "len(all_furnishDetails_lst_al.unique()), all_furnishDetails_lst_al.unique()"
   ]
  },
  {
   "cell_type": "markdown",
   "metadata": {},
   "source": [
    "### creating luxury item mapper"
   ]
  },
  {
   "cell_type": "code",
   "execution_count": 61,
   "metadata": {},
   "outputs": [
    {
     "data": {
      "text/plain": [
       "0         ['3 wardrobe', '1 modular kitchen', '1 chimney', 'no ac', 'no bed', 'no curtains', 'no dining table', 'no exhaust fan', 'no fan', 'no geyser', 'no light', 'no microwave', 'no fridge', 'no sofa', 'no stove', 'no tv', 'no washing machine', 'no water purifier']\n",
       "1          ['4 wardrobe', '5 fan', '4 geyser', '2 light', 'no ac', 'no bed', 'no chimney', 'no curtains', 'no dining table', 'no exhaust fan', 'no modular kitchen', 'no microwave', 'no fridge', 'no sofa', 'no stove', 'no tv', 'no washing machine', 'no water purifier']\n",
       "2                   ['1 water purifier', '4 fan', '1 fridge', '1 exhaust fan', '5 geyser', '1 stove', '5 light', '5 ac', '1 modular kitchen', '1 chimney', '1 curtains', '5 wardrobe', '1 washing machine', 'no bed', 'no dining table', 'no microwave', 'no sofa', 'no tv']\n",
       "3       ['1 modular kitchen', 'no ac', 'no bed', 'no chimney', 'no curtains', 'no dining table', 'no exhaust fan', 'no fan', 'no geyser', 'no light', 'no microwave', 'no fridge', 'no sofa', 'no stove', 'no tv', 'no wardrobe', 'no washing machine', 'no water purifier']\n",
       "4              ['6 wardrobe', '1 fridge', '8 fan', '1 exhaust fan', '1 microwave', '1 stove', '24 light', '1 chimney', '1 modular kitchen', 'no ac', 'no bed', 'no curtains', 'no dining table', 'no geyser', 'no sofa', 'no tv', 'no washing machine', 'no water purifier']\n",
       "                                                                                                                                        ...                                                                                                                                 \n",
       "3969          ['8 wardrobe', '9 fan', '1 exhaust fan', '3 geyser', '1 stove', '16 light', '1 chimney', '1 modular kitchen', 'no ac', 'no bed', 'no curtains', 'no dining table', 'no microwave', 'no fridge', 'no sofa', 'no tv', 'no washing machine', 'no water purifier']\n",
       "3970                   ['1 water purifier', '4 fan', '1 fridge', '1 exhaust fan', '1 dining table', '4 geyser', '1 stove', '20 light', '4 ac', '1 tv', '1 modular kitchen', '1 chimney', '1 curtains', '3 bed', '3 wardrobe', '1 sofa', '1 microwave', 'no washing machine']\n",
       "3971                                                                                                                                                                                                                                                                      []\n",
       "3972                                                                                                                                                                                                                                                                     NaN\n",
       "3973         ['1 water purifier', '6 fan', '1 exhaust fan', '2 geyser', '15 light', '1 modular kitchen', '3 wardrobe', 'no ac', 'no bed', 'no chimney', 'no curtains', 'no dining table', 'no microwave', 'no fridge', 'no sofa', 'no stove', 'no tv', 'no washing machine']\n",
       "Name: furnishDetails, Length: 3974, dtype: object"
      ]
     },
     "execution_count": 61,
     "metadata": {},
     "output_type": "execute_result"
    }
   ],
   "source": [
    "data['furnishDetails']"
   ]
  },
  {
   "cell_type": "code",
   "execution_count": 62,
   "metadata": {},
   "outputs": [],
   "source": [
    "data['furnishDetails'] = data['furnishDetails'].str.lower().str.strip()"
   ]
  },
  {
   "cell_type": "code",
   "execution_count": 63,
   "metadata": {},
   "outputs": [
    {
     "data": {
      "text/plain": [
       "[' exhaust fan', '']"
      ]
     },
     "execution_count": 63,
     "metadata": {},
     "output_type": "execute_result"
    }
   ],
   "source": [
    "txt1 = '1 exhaust fan'\n",
    "sg = re.findall(r'\\d*([\\w\\s]*)', txt1)\n",
    "sg"
   ]
  },
  {
   "cell_type": "code",
   "execution_count": 64,
   "metadata": {},
   "outputs": [
    {
     "data": {
      "text/plain": [
       "wardrobe           2499\n",
       "light              2499\n",
       "water purifier     2499\n",
       "washing machine    2499\n",
       "tv                 2499\n",
       "stove              2499\n",
       "sofa               2499\n",
       "fridge             2499\n",
       "microwave          2499\n",
       "geyser             2499\n",
       "modular kitchen    2499\n",
       "fan                2499\n",
       "exhaust fan        2499\n",
       "dining table       2499\n",
       "curtains           2499\n",
       "bed                2499\n",
       "ac                 2499\n",
       "chimney            2499\n",
       "                   1475\n",
       "Name: count, dtype: int64"
      ]
     },
     "execution_count": 64,
     "metadata": {},
     "output_type": "execute_result"
    }
   ],
   "source": [
    "import re\n",
    "all_items = []\n",
    "def temp(row):\n",
    "    # print(row[1:-1])\n",
    "    for r in row[1:-1].split(','):\n",
    "        item = r.strip()[1:-1]\n",
    "        item = item.replace('no', '')\n",
    "        sg = re.findall(r'\\d*([\\w\\s]*)', item)\n",
    "        if len(sg)>0:\n",
    "            item = sg[0]\n",
    "        all_items.append(item.strip())\n",
    "    return row\n",
    "\n",
    "pd.set_option('display.max_rows', None)\n",
    "tmp1 = data['furnishDetails'].astype(str).apply(temp)\n",
    "x=pd.Series(all_items).value_counts()\n",
    "x[x>1000]"
   ]
  },
  {
   "cell_type": "code",
   "execution_count": 65,
   "metadata": {},
   "outputs": [],
   "source": [
    "# wardrobe\n",
    "# light\n",
    "# water purifier\n",
    "# washing machine\n",
    "# tv\n",
    "# stove\n",
    "# sofa\n",
    "# fridge\n",
    "# microwave\n",
    "# geyser\n",
    "# modular kitchen\n",
    "# fan\n",
    "# exhaust fan\n",
    "# dining table\n",
    "# curtains\n",
    "# bed\n",
    "# ac\n",
    "# chimney\n",
    "\n",
    "# total 18 unique items"
   ]
  },
  {
   "cell_type": "code",
   "execution_count": 66,
   "metadata": {},
   "outputs": [],
   "source": [
    "luxury_item_value_dict = {\n",
    "    \"wardrobe\": 8,\n",
    "    \"light\": 6,\n",
    "    \"water purifier\": 5,\n",
    "    \"washing machine\": 7,\n",
    "    \"tv\": 9,\n",
    "    \"stove\": 8,\n",
    "    \"sofa\": 9,\n",
    "    \"fridge\": 8,\n",
    "    \"microwave\": 6,\n",
    "    \"geyser\": 5,\n",
    "    \"modular kitchen\": 10,\n",
    "    \"fan\": 4,\n",
    "    \"exhaust fan\": 4,\n",
    "    \"dining table\": 9,\n",
    "    \"curtains\": 7,\n",
    "    \"bed\": 10,\n",
    "    \"ac\": 7,\n",
    "    \"chimney\": 6\n",
    "}"
   ]
  },
  {
   "cell_type": "markdown",
   "metadata": {},
   "source": [
    "### creating luxury_value col"
   ]
  },
  {
   "cell_type": "code",
   "execution_count": 67,
   "metadata": {},
   "outputs": [
    {
     "data": {
      "text/plain": [
       "[\"['3 wardrobe'\",\n",
       " \" '1 modular kitchen'\",\n",
       " \" '1 chimney'\",\n",
       " \" 'no ac'\",\n",
       " \" 'no bed'\",\n",
       " \" 'no curtains'\",\n",
       " \" 'no dining table'\",\n",
       " \" 'no exhaust fan'\",\n",
       " \" 'no fan'\",\n",
       " \" 'no geyser'\",\n",
       " \" 'no light'\",\n",
       " \" 'no microwave'\",\n",
       " \" 'no fridge'\",\n",
       " \" 'no sofa'\",\n",
       " \" 'no stove'\",\n",
       " \" 'no tv'\",\n",
       " \" 'no washing machine'\",\n",
       " \" 'no water purifier']\"]"
      ]
     },
     "execution_count": 67,
     "metadata": {},
     "output_type": "execute_result"
    }
   ],
   "source": [
    "pd.set_option('display.max_colwidth', 1000)\n",
    "data['furnishDetails'].astype(str).str.lower().str.strip().str.split(',')[0]"
   ]
  },
  {
   "cell_type": "code",
   "execution_count": 68,
   "metadata": {},
   "outputs": [
    {
     "name": "stdout",
     "output_type": "stream",
     "text": [
      "42\n"
     ]
    }
   ],
   "source": [
    "import re\n",
    "capture_grp = re.search(r'(\\d+)', '42sarvesh123')\n",
    "print(capture_grp.group())"
   ]
  },
  {
   "cell_type": "code",
   "execution_count": 69,
   "metadata": {},
   "outputs": [],
   "source": [
    "def calc_luxary_value(row):\n",
    "    items = row.split(',')\n",
    "    items_present = []\n",
    "    for item in items:\n",
    "        # check if item is present in property or not present\n",
    "        if 'no' not in item:\n",
    "            items_present.append(item)\n",
    "    # now for every present item in property calc the luxury value\n",
    "    for item in items_present:\n",
    "        # check the count of each item\n",
    "        capture_grp = re.findall(r'(\\d+)', item.strip())\n",
    "        if capture_grp:\n",
    "            item_count = int(capture_grp[0])\n",
    "        else:\n",
    "            item_count = 0\n",
    "        # get the luxury value of each item, multiply it with count and get the total luxury_value_of_property\n",
    "        property_luxury_value=0\n",
    "        for _, (key, value) in enumerate(luxury_item_value_dict.items()):\n",
    "            if str(key) in row:\n",
    "                property_luxury_value += item_count * int(value)\n",
    "    return property_luxury_value"
   ]
  },
  {
   "cell_type": "code",
   "execution_count": 70,
   "metadata": {},
   "outputs": [
    {
     "data": {
      "text/plain": [
       "luxary_value\n",
       "128     1805\n",
       "0       1475\n",
       "512      152\n",
       "384      135\n",
       "256      104\n",
       "640       92\n",
       "768       77\n",
       "896       26\n",
       "1280      21\n",
       "1024      19\n",
       "1536      12\n",
       "1152      11\n",
       "3840       6\n",
       "1408       6\n",
       "2560       6\n",
       "1920       4\n",
       "2304       3\n",
       "2048       3\n",
       "3072       2\n",
       "2176       2\n",
       "1664       2\n",
       "1792       2\n",
       "2816       1\n",
       "2688       1\n",
       "6528       1\n",
       "6144       1\n",
       "6656       1\n",
       "7936       1\n",
       "2432       1\n",
       "4096       1\n",
       "3584       1\n",
       "Name: count, dtype: int64"
      ]
     },
     "execution_count": 70,
     "metadata": {},
     "output_type": "execute_result"
    }
   ],
   "source": [
    "data['luxary_value'] = data['furnishDetails'].astype(str).apply(calc_luxary_value)\n",
    "data['luxary_value'].value_counts()"
   ]
  },
  {
   "cell_type": "markdown",
   "metadata": {},
   "source": [
    "### analyzing the values in this luxary_value col"
   ]
  },
  {
   "cell_type": "code",
   "execution_count": 71,
   "metadata": {},
   "outputs": [
    {
     "data": {
      "text/plain": [
       "<Axes: >"
      ]
     },
     "execution_count": 71,
     "metadata": {},
     "output_type": "execute_result"
    },
    {
     "data": {
      "image/png": "[encoded data removed]",
      "text/plain": [
       "<Figure size 640x480 with 1 Axes>"
      ]
     },
     "metadata": {},
     "output_type": "display_data"
    }
   ],
   "source": [
    "data['luxary_value'].plot()"
   ]
  },
  {
   "cell_type": "code",
   "execution_count": 72,
   "metadata": {},
   "outputs": [
    {
     "data": {
      "text/plain": [
       "<Axes: >"
      ]
     },
     "execution_count": 72,
     "metadata": {},
     "output_type": "execute_result"
    },
    {
     "data": {
      "image/png": "[encoded data removed]",
      "text/plain": [
       "<Figure size 640x480 with 1 Axes>"
      ]
     },
     "metadata": {},
     "output_type": "display_data"
    }
   ],
   "source": [
    "data['luxary_value'].plot(kind='box')"
   ]
  },
  {
   "cell_type": "code",
   "execution_count": 73,
   "metadata": {},
   "outputs": [
    {
     "data": {
      "text/plain": [
       "<Axes: >"
      ]
     },
     "execution_count": 73,
     "metadata": {},
     "output_type": "execute_result"
    },
    {
     "data": {
      "image/png": "[encoded data removed]",
      "text/plain": [
       "<Figure size 640x480 with 1 Axes>"
      ]
     },
     "metadata": {},
     "output_type": "display_data"
    }
   ],
   "source": [
    "data[data['luxary_value']<300]['luxary_value'].plot(kind='box')"
   ]
  },
  {
   "cell_type": "code",
   "execution_count": 74,
   "metadata": {},
   "outputs": [
    {
     "data": {
      "text/plain": [
       "<Axes: >"
      ]
     },
     "execution_count": 74,
     "metadata": {},
     "output_type": "execute_result"
    },
    {
     "data": {
      "image/png": "[encoded data removed]",
      "text/plain": [
       "<Figure size 640x480 with 1 Axes>"
      ]
     },
     "metadata": {},
     "output_type": "display_data"
    }
   ],
   "source": [
    "data[data['luxary_value']<300]['luxary_value'].plot()"
   ]
  },
  {
   "cell_type": "code",
   "execution_count": 75,
   "metadata": {},
   "outputs": [
    {
     "data": {
      "text/plain": [
       "count    3974.000000\n",
       "mean      184.688475\n",
       "std       396.113504\n",
       "min         0.000000\n",
       "25%         0.000000\n",
       "50%       128.000000\n",
       "75%       128.000000\n",
       "max      7936.000000\n",
       "Name: luxary_value, dtype: float64"
      ]
     },
     "execution_count": 75,
     "metadata": {},
     "output_type": "execute_result"
    }
   ],
   "source": [
    "data['luxary_value'].describe()"
   ]
  },
  {
   "cell_type": "markdown",
   "metadata": {},
   "source": [
    "### creating onehot columns for all the items"
   ]
  },
  {
   "cell_type": "code",
   "execution_count": 76,
   "metadata": {},
   "outputs": [],
   "source": [
    "items_ = ['wardrobe', 'light', 'water purifier', 'washing machine', 'tv', 'stove', 'sofa', 'fridge', 'microwave', 'geyser', 'modular kitchen', 'fan', 'exhaust fan', 'dining table', 'curtains', 'bed', 'ac', 'chimney']"
   ]
  },
  {
   "cell_type": "code",
   "execution_count": 77,
   "metadata": {},
   "outputs": [
    {
     "data": {
      "text/plain": [
       "(1034, 3974)"
      ]
     },
     "execution_count": 77,
     "metadata": {},
     "output_type": "execute_result"
    }
   ],
   "source": [
    "data['furnishDetails'].isna().sum(), data.shape[0]"
   ]
  },
  {
   "cell_type": "code",
   "execution_count": 78,
   "metadata": {},
   "outputs": [
    {
     "data": {
      "text/plain": [
       "\"['3 wardrobe', '1 modular kitchen', '1 chimney', 'no ac', 'no bed', 'no curtains', 'no dining table', 'no exhaust fan', 'no fan', 'no geyser', 'no light', 'no microwave', 'no fridge', 'no sofa', 'no stove', 'no tv', 'no washing machine', 'no water purifier']\""
      ]
     },
     "execution_count": 78,
     "metadata": {},
     "output_type": "execute_result"
    }
   ],
   "source": [
    "data['furnishDetails'][0]"
   ]
  },
  {
   "cell_type": "code",
   "execution_count": 94,
   "metadata": {},
   "outputs": [
    {
     "data": {
      "text/plain": [
       "[]"
      ]
     },
     "execution_count": 94,
     "metadata": {},
     "output_type": "execute_result"
    }
   ],
   "source": [
    "tmp_str = 'sarvesh'\n",
    "re.findall(r'\\d+', tmp_str)"
   ]
  },
  {
   "cell_type": "code",
   "execution_count": 103,
   "metadata": {},
   "outputs": [],
   "source": [
    "def get_furnishing_item_count(row, item_to_count):\n",
    "    items = str(row).split(',')\n",
    "    items_present = []\n",
    "    for item in items:\n",
    "        # check if item is present in property or not present\n",
    "        if 'no' not in item:\n",
    "            items_present.append(item.strip())\n",
    "    # now get the count of each item\n",
    "    for item in items_present:\n",
    "        if item_to_count in item:\n",
    "            capture_grps = re.findall(r'(\\d+)', item.strip())\n",
    "            if capture_grps:\n",
    "                return int(capture_grps[0])\n",
    "            else:\n",
    "                return 0\n",
    "    # when all the items in a proeprty are 0s\n",
    "    else:\n",
    "        return 0\n"
   ]
  },
  {
   "cell_type": "code",
   "execution_count": 115,
   "metadata": {},
   "outputs": [],
   "source": [
    "df = pd.DataFrame()\n",
    "for _, (key, value) in enumerate(luxury_item_value_dict.items()):\n",
    "    df[key+'_available'] = data['furnishDetails'].astype(str).apply(lambda row: get_furnishing_item_count(row, key))"
   ]
  },
  {
   "cell_type": "code",
   "execution_count": 116,
   "metadata": {},
   "outputs": [
    {
     "data": {
      "text/html": [
       "<div>\n",
       "<style scoped>\n",
       "    .dataframe tbody tr th:only-of-type {\n",
       "        vertical-align: middle;\n",
       "    }\n",
       "\n",
       "    .dataframe tbody tr th {\n",
       "        vertical-align: top;\n",
       "    }\n",
       "\n",
       "    .dataframe thead th {\n",
       "        text-align: right;\n",
       "    }\n",
       "</style>\n",
       "<table border=\"1\" class=\"dataframe\">\n",
       "  <thead>\n",
       "    <tr style=\"text-align: right;\">\n",
       "      <th></th>\n",
       "      <th>wardrobe_available</th>\n",
       "      <th>light_available</th>\n",
       "      <th>water purifier_available</th>\n",
       "      <th>washing machine_available</th>\n",
       "      <th>tv_available</th>\n",
       "      <th>stove_available</th>\n",
       "      <th>sofa_available</th>\n",
       "      <th>fridge_available</th>\n",
       "      <th>microwave_available</th>\n",
       "      <th>geyser_available</th>\n",
       "      <th>modular kitchen_available</th>\n",
       "      <th>fan_available</th>\n",
       "      <th>exhaust fan_available</th>\n",
       "      <th>dining table_available</th>\n",
       "      <th>curtains_available</th>\n",
       "      <th>bed_available</th>\n",
       "      <th>ac_available</th>\n",
       "      <th>chimney_available</th>\n",
       "    </tr>\n",
       "  </thead>\n",
       "  <tbody>\n",
       "    <tr>\n",
       "      <th>0</th>\n",
       "      <td>3</td>\n",
       "      <td>0</td>\n",
       "      <td>0</td>\n",
       "      <td>0</td>\n",
       "      <td>0</td>\n",
       "      <td>0</td>\n",
       "      <td>0</td>\n",
       "      <td>0</td>\n",
       "      <td>0</td>\n",
       "      <td>0</td>\n",
       "      <td>1</td>\n",
       "      <td>0</td>\n",
       "      <td>0</td>\n",
       "      <td>0</td>\n",
       "      <td>0</td>\n",
       "      <td>0</td>\n",
       "      <td>0</td>\n",
       "      <td>1</td>\n",
       "    </tr>\n",
       "    <tr>\n",
       "      <th>1</th>\n",
       "      <td>4</td>\n",
       "      <td>2</td>\n",
       "      <td>0</td>\n",
       "      <td>0</td>\n",
       "      <td>0</td>\n",
       "      <td>0</td>\n",
       "      <td>0</td>\n",
       "      <td>0</td>\n",
       "      <td>0</td>\n",
       "      <td>4</td>\n",
       "      <td>0</td>\n",
       "      <td>5</td>\n",
       "      <td>0</td>\n",
       "      <td>0</td>\n",
       "      <td>0</td>\n",
       "      <td>0</td>\n",
       "      <td>0</td>\n",
       "      <td>0</td>\n",
       "    </tr>\n",
       "    <tr>\n",
       "      <th>2</th>\n",
       "      <td>5</td>\n",
       "      <td>5</td>\n",
       "      <td>1</td>\n",
       "      <td>1</td>\n",
       "      <td>0</td>\n",
       "      <td>1</td>\n",
       "      <td>0</td>\n",
       "      <td>1</td>\n",
       "      <td>0</td>\n",
       "      <td>5</td>\n",
       "      <td>1</td>\n",
       "      <td>4</td>\n",
       "      <td>1</td>\n",
       "      <td>0</td>\n",
       "      <td>1</td>\n",
       "      <td>0</td>\n",
       "      <td>5</td>\n",
       "      <td>1</td>\n",
       "    </tr>\n",
       "    <tr>\n",
       "      <th>3</th>\n",
       "      <td>0</td>\n",
       "      <td>0</td>\n",
       "      <td>0</td>\n",
       "      <td>0</td>\n",
       "      <td>0</td>\n",
       "      <td>0</td>\n",
       "      <td>0</td>\n",
       "      <td>0</td>\n",
       "      <td>0</td>\n",
       "      <td>0</td>\n",
       "      <td>1</td>\n",
       "      <td>0</td>\n",
       "      <td>0</td>\n",
       "      <td>0</td>\n",
       "      <td>0</td>\n",
       "      <td>0</td>\n",
       "      <td>0</td>\n",
       "      <td>0</td>\n",
       "    </tr>\n",
       "    <tr>\n",
       "      <th>4</th>\n",
       "      <td>6</td>\n",
       "      <td>24</td>\n",
       "      <td>0</td>\n",
       "      <td>0</td>\n",
       "      <td>0</td>\n",
       "      <td>1</td>\n",
       "      <td>0</td>\n",
       "      <td>1</td>\n",
       "      <td>1</td>\n",
       "      <td>0</td>\n",
       "      <td>1</td>\n",
       "      <td>8</td>\n",
       "      <td>1</td>\n",
       "      <td>0</td>\n",
       "      <td>0</td>\n",
       "      <td>0</td>\n",
       "      <td>0</td>\n",
       "      <td>1</td>\n",
       "    </tr>\n",
       "  </tbody>\n",
       "</table>\n",
       "</div>"
      ],
      "text/plain": [
       "   wardrobe_available  light_available  water purifier_available  \\\n",
       "0                   3                0                         0   \n",
       "1                   4                2                         0   \n",
       "2                   5                5                         1   \n",
       "3                   0                0                         0   \n",
       "4                   6               24                         0   \n",
       "\n",
       "   washing machine_available  tv_available  stove_available  sofa_available  \\\n",
       "0                          0             0                0               0   \n",
       "1                          0             0                0               0   \n",
       "2                          1             0                1               0   \n",
       "3                          0             0                0               0   \n",
       "4                          0             0                1               0   \n",
       "\n",
       "   fridge_available  microwave_available  geyser_available  \\\n",
       "0                 0                    0                 0   \n",
       "1                 0                    0                 4   \n",
       "2                 1                    0                 5   \n",
       "3                 0                    0                 0   \n",
       "4                 1                    1                 0   \n",
       "\n",
       "   modular kitchen_available  fan_available  exhaust fan_available  \\\n",
       "0                          1              0                      0   \n",
       "1                          0              5                      0   \n",
       "2                          1              4                      1   \n",
       "3                          1              0                      0   \n",
       "4                          1              8                      1   \n",
       "\n",
       "   dining table_available  curtains_available  bed_available  ac_available  \\\n",
       "0                       0                   0              0             0   \n",
       "1                       0                   0              0             0   \n",
       "2                       0                   1              0             5   \n",
       "3                       0                   0              0             0   \n",
       "4                       0                   0              0             0   \n",
       "\n",
       "   chimney_available  \n",
       "0                  1  \n",
       "1                  0  \n",
       "2                  1  \n",
       "3                  0  \n",
       "4                  1  "
      ]
     },
     "execution_count": 116,
     "metadata": {},
     "output_type": "execute_result"
    }
   ],
   "source": [
    "pd.set_option('display.max_columns', None)\n",
    "df.head()"
   ]
  },
  {
   "cell_type": "code",
   "execution_count": 117,
   "metadata": {},
   "outputs": [
    {
     "data": {
      "text/plain": [
       "18"
      ]
     },
     "execution_count": 117,
     "metadata": {},
     "output_type": "execute_result"
    }
   ],
   "source": [
    "df.shape[1]"
   ]
  },
  {
   "cell_type": "code",
   "execution_count": 118,
   "metadata": {},
   "outputs": [
    {
     "data": {
      "text/plain": [
       "array([[ 0.61508342, -0.48665138, -0.33081123, ..., -0.12245821,\n",
       "        -0.5269571 ,  1.05592372],\n",
       "       [ 0.99893102, -0.29975995, -0.33081123, ..., -0.12245821,\n",
       "        -0.5269571 , -0.5275634 ],\n",
       "       [ 1.38277863, -0.01942279,  3.022872  , ..., -0.12245821,\n",
       "         1.38130562,  1.05592372],\n",
       "       ...,\n",
       "       [-0.53645938, -0.48665138, -0.33081123, ..., -0.12245821,\n",
       "        -0.5269571 , -0.5275634 ],\n",
       "       [-0.53645938, -0.48665138, -0.33081123, ..., -0.12245821,\n",
       "        -0.5269571 , -0.5275634 ],\n",
       "       [ 0.61508342,  0.9150344 ,  3.022872  , ..., -0.12245821,\n",
       "        -0.5269571 , -0.5275634 ]])"
      ]
     },
     "execution_count": 118,
     "metadata": {},
     "output_type": "execute_result"
    }
   ],
   "source": [
    "from sklearn.cluster import  KMeans\n",
    "from sklearn.preprocessing import StandardScaler\n",
    "\n",
    "scaler = StandardScaler()\n",
    "scaled_df = scaler.fit_transform(df)\n",
    "scaled_df\n"
   ]
  },
  {
   "cell_type": "code",
   "execution_count": 119,
   "metadata": {},
   "outputs": [],
   "source": [
    "wcss_reduced =  []\n",
    "for i in range(1, 11):\n",
    "    kmeans = KMeans(n_clusters=i, init='k-means++', random_state=42)\n",
    "    kmeans.fit(scaled_df)\n",
    "    wcss_reduced.append(kmeans.inertia_)"
   ]
  },
  {
   "cell_type": "code",
   "execution_count": 123,
   "metadata": {},
   "outputs": [
    {
     "data": {
      "image/png": "[encoded data removed]",
      "text/plain": [
       "<Figure size 640x480 with 1 Axes>"
      ]
     },
     "metadata": {},
     "output_type": "display_data"
    }
   ],
   "source": [
    "import matplotlib.pyplot as plt \n",
    "\n",
    "plt.plot(range(1,11), wcss_reduced, marker='o', linestyle='--')\n",
    "plt.title('Elbow method to find the best number of clusters')\n",
    "plt.xlabel('Number of clusters')\n",
    "plt.ylabel('WCSS')\n",
    "plt.grid(True)\n",
    "plt.show()"
   ]
  },
  {
   "cell_type": "markdown",
   "metadata": {},
   "source": [
    "### classifying each property by predicting with the kmeans model trained on 3 clusters "
   ]
  },
  {
   "cell_type": "code",
   "execution_count": 128,
   "metadata": {},
   "outputs": [
    {
     "data": {
      "text/html": [
       "<style>#sk-container-id-2 {\n",
       "  /* Definition of color scheme common for light and dark mode */\n",
       "  --sklearn-color-text: black;\n",
       "  --sklearn-color-line: gray;\n",
       "  /* Definition of color scheme for unfitted estimators */\n",
       "  --sklearn-color-unfitted-level-0: #fff5e6;\n",
       "  --sklearn-color-unfitted-level-1: #f6e4d2;\n",
       "  --sklearn-color-unfitted-level-2: #ffe0b3;\n",
       "  --sklearn-color-unfitted-level-3: chocolate;\n",
       "  /* Definition of color scheme for fitted estimators */\n",
       "  --sklearn-color-fitted-level-0: #f0f8ff;\n",
       "  --sklearn-color-fitted-level-1: #d4ebff;\n",
       "  --sklearn-color-fitted-level-2: #b3dbfd;\n",
       "  --sklearn-color-fitted-level-3: cornflowerblue;\n",
       "\n",
       "  /* Specific color for light theme */\n",
       "  --sklearn-color-text-on-default-background: var(--sg-text-color, var(--theme-code-foreground, var(--jp-content-font-color1, black)));\n",
       "  --sklearn-color-background: var(--sg-background-color, var(--theme-background, var(--jp-layout-color0, white)));\n",
       "  --sklearn-color-border-box: var(--sg-text-color, var(--theme-code-foreground, var(--jp-content-font-color1, black)));\n",
       "  --sklearn-color-icon: #696969;\n",
       "\n",
       "  @media (prefers-color-scheme: dark) {\n",
       "    /* Redefinition of color scheme for dark theme */\n",
       "    --sklearn-color-text-on-default-background: var(--sg-text-color, var(--theme-code-foreground, var(--jp-content-font-color1, white)));\n",
       "    --sklearn-color-background: var(--sg-background-color, var(--theme-background, var(--jp-layout-color0, #111)));\n",
       "    --sklearn-color-border-box: var(--sg-text-color, var(--theme-code-foreground, var(--jp-content-font-color1, white)));\n",
       "    --sklearn-color-icon: #878787;\n",
       "  }\n",
       "}\n",
       "\n",
       "#sk-container-id-2 {\n",
       "  color: var(--sklearn-color-text);\n",
       "}\n",
       "\n",
       "#sk-container-id-2 pre {\n",
       "  padding: 0;\n",
       "}\n",
       "\n",
       "#sk-container-id-2 input.sk-hidden--visually {\n",
       "  border: 0;\n",
       "  clip: rect(1px 1px 1px 1px);\n",
       "  clip: rect(1px, 1px, 1px, 1px);\n",
       "  height: 1px;\n",
       "  margin: -1px;\n",
       "  overflow: hidden;\n",
       "  padding: 0;\n",
       "  position: absolute;\n",
       "  width: 1px;\n",
       "}\n",
       "\n",
       "#sk-container-id-2 div.sk-dashed-wrapped {\n",
       "  border: 1px dashed var(--sklearn-color-line);\n",
       "  margin: 0 0.4em 0.5em 0.4em;\n",
       "  box-sizing: border-box;\n",
       "  padding-bottom: 0.4em;\n",
       "  background-color: var(--sklearn-color-background);\n",
       "}\n",
       "\n",
       "#sk-container-id-2 div.sk-container {\n",
       "  /* jupyter's `normalize.less` sets `[hidden] { display: none; }`\n",
       "     but bootstrap.min.css set `[hidden] { display: none !important; }`\n",
       "     so we also need the `!important` here to be able to override the\n",
       "     default hidden behavior on the sphinx rendered scikit-learn.org.\n",
       "     See: https://github.com/scikit-learn/scikit-learn/issues/21755 */\n",
       "  display: inline-block !important;\n",
       "  position: relative;\n",
       "}\n",
       "\n",
       "#sk-container-id-2 div.sk-text-repr-fallback {\n",
       "  display: none;\n",
       "}\n",
       "\n",
       "div.sk-parallel-item,\n",
       "div.sk-serial,\n",
       "div.sk-item {\n",
       "  /* draw centered vertical line to link estimators */\n",
       "  background-image: linear-gradient(var(--sklearn-color-text-on-default-background), var(--sklearn-color-text-on-default-background));\n",
       "  background-size: 2px 100%;\n",
       "  background-repeat: no-repeat;\n",
       "  background-position: center center;\n",
       "}\n",
       "\n",
       "/* Parallel-specific style estimator block */\n",
       "\n",
       "#sk-container-id-2 div.sk-parallel-item::after {\n",
       "  content: \"\";\n",
       "  width: 100%;\n",
       "  border-bottom: 2px solid var(--sklearn-color-text-on-default-background);\n",
       "  flex-grow: 1;\n",
       "}\n",
       "\n",
       "#sk-container-id-2 div.sk-parallel {\n",
       "  display: flex;\n",
       "  align-items: stretch;\n",
       "  justify-content: center;\n",
       "  background-color: var(--sklearn-color-background);\n",
       "  position: relative;\n",
       "}\n",
       "\n",
       "#sk-container-id-2 div.sk-parallel-item {\n",
       "  display: flex;\n",
       "  flex-direction: column;\n",
       "}\n",
       "\n",
       "#sk-container-id-2 div.sk-parallel-item:first-child::after {\n",
       "  align-self: flex-end;\n",
       "  width: 50%;\n",
       "}\n",
       "\n",
       "#sk-container-id-2 div.sk-parallel-item:last-child::after {\n",
       "  align-self: flex-start;\n",
       "  width: 50%;\n",
       "}\n",
       "\n",
       "#sk-container-id-2 div.sk-parallel-item:only-child::after {\n",
       "  width: 0;\n",
       "}\n",
       "\n",
       "/* Serial-specific style estimator block */\n",
       "\n",
       "#sk-container-id-2 div.sk-serial {\n",
       "  display: flex;\n",
       "  flex-direction: column;\n",
       "  align-items: center;\n",
       "  background-color: var(--sklearn-color-background);\n",
       "  padding-right: 1em;\n",
       "  padding-left: 1em;\n",
       "}\n",
       "\n",
       "\n",
       "/* Toggleable style: style used for estimator/Pipeline/ColumnTransformer box that is\n",
       "clickable and can be expanded/collapsed.\n",
       "- Pipeline and ColumnTransformer use this feature and define the default style\n",
       "- Estimators will overwrite some part of the style using the `sk-estimator` class\n",
       "*/\n",
       "\n",
       "/* Pipeline and ColumnTransformer style (default) */\n",
       "\n",
       "#sk-container-id-2 div.sk-toggleable {\n",
       "  /* Default theme specific background. It is overwritten whether we have a\n",
       "  specific estimator or a Pipeline/ColumnTransformer */\n",
       "  background-color: var(--sklearn-color-background);\n",
       "}\n",
       "\n",
       "/* Toggleable label */\n",
       "#sk-container-id-2 label.sk-toggleable__label {\n",
       "  cursor: pointer;\n",
       "  display: block;\n",
       "  width: 100%;\n",
       "  margin-bottom: 0;\n",
       "  padding: 0.5em;\n",
       "  box-sizing: border-box;\n",
       "  text-align: center;\n",
       "}\n",
       "\n",
       "#sk-container-id-2 label.sk-toggleable__label-arrow:before {\n",
       "  /* Arrow on the left of the label */\n",
       "  content: \"▸\";\n",
       "  float: left;\n",
       "  margin-right: 0.25em;\n",
       "  color: var(--sklearn-color-icon);\n",
       "}\n",
       "\n",
       "#sk-container-id-2 label.sk-toggleable__label-arrow:hover:before {\n",
       "  color: var(--sklearn-color-text);\n",
       "}\n",
       "\n",
       "/* Toggleable content - dropdown */\n",
       "\n",
       "#sk-container-id-2 div.sk-toggleable__content {\n",
       "  max-height: 0;\n",
       "  max-width: 0;\n",
       "  overflow: hidden;\n",
       "  text-align: left;\n",
       "  /* unfitted */\n",
       "  background-color: var(--sklearn-color-unfitted-level-0);\n",
       "}\n",
       "\n",
       "#sk-container-id-2 div.sk-toggleable__content.fitted {\n",
       "  /* fitted */\n",
       "  background-color: var(--sklearn-color-fitted-level-0);\n",
       "}\n",
       "\n",
       "#sk-container-id-2 div.sk-toggleable__content pre {\n",
       "  margin: 0.2em;\n",
       "  border-radius: 0.25em;\n",
       "  color: var(--sklearn-color-text);\n",
       "  /* unfitted */\n",
       "  background-color: var(--sklearn-color-unfitted-level-0);\n",
       "}\n",
       "\n",
       "#sk-container-id-2 div.sk-toggleable__content.fitted pre {\n",
       "  /* unfitted */\n",
       "  background-color: var(--sklearn-color-fitted-level-0);\n",
       "}\n",
       "\n",
       "#sk-container-id-2 input.sk-toggleable__control:checked~div.sk-toggleable__content {\n",
       "  /* Expand drop-down */\n",
       "  max-height: 200px;\n",
       "  max-width: 100%;\n",
       "  overflow: auto;\n",
       "}\n",
       "\n",
       "#sk-container-id-2 input.sk-toggleable__control:checked~label.sk-toggleable__label-arrow:before {\n",
       "  content: \"▾\";\n",
       "}\n",
       "\n",
       "/* Pipeline/ColumnTransformer-specific style */\n",
       "\n",
       "#sk-container-id-2 div.sk-label input.sk-toggleable__control:checked~label.sk-toggleable__label {\n",
       "  color: var(--sklearn-color-text);\n",
       "  background-color: var(--sklearn-color-unfitted-level-2);\n",
       "}\n",
       "\n",
       "#sk-container-id-2 div.sk-label.fitted input.sk-toggleable__control:checked~label.sk-toggleable__label {\n",
       "  background-color: var(--sklearn-color-fitted-level-2);\n",
       "}\n",
       "\n",
       "/* Estimator-specific style */\n",
       "\n",
       "/* Colorize estimator box */\n",
       "#sk-container-id-2 div.sk-estimator input.sk-toggleable__control:checked~label.sk-toggleable__label {\n",
       "  /* unfitted */\n",
       "  background-color: var(--sklearn-color-unfitted-level-2);\n",
       "}\n",
       "\n",
       "#sk-container-id-2 div.sk-estimator.fitted input.sk-toggleable__control:checked~label.sk-toggleable__label {\n",
       "  /* fitted */\n",
       "  background-color: var(--sklearn-color-fitted-level-2);\n",
       "}\n",
       "\n",
       "#sk-container-id-2 div.sk-label label.sk-toggleable__label,\n",
       "#sk-container-id-2 div.sk-label label {\n",
       "  /* The background is the default theme color */\n",
       "  color: var(--sklearn-color-text-on-default-background);\n",
       "}\n",
       "\n",
       "/* On hover, darken the color of the background */\n",
       "#sk-container-id-2 div.sk-label:hover label.sk-toggleable__label {\n",
       "  color: var(--sklearn-color-text);\n",
       "  background-color: var(--sklearn-color-unfitted-level-2);\n",
       "}\n",
       "\n",
       "/* Label box, darken color on hover, fitted */\n",
       "#sk-container-id-2 div.sk-label.fitted:hover label.sk-toggleable__label.fitted {\n",
       "  color: var(--sklearn-color-text);\n",
       "  background-color: var(--sklearn-color-fitted-level-2);\n",
       "}\n",
       "\n",
       "/* Estimator label */\n",
       "\n",
       "#sk-container-id-2 div.sk-label label {\n",
       "  font-family: monospace;\n",
       "  font-weight: bold;\n",
       "  display: inline-block;\n",
       "  line-height: 1.2em;\n",
       "}\n",
       "\n",
       "#sk-container-id-2 div.sk-label-container {\n",
       "  text-align: center;\n",
       "}\n",
       "\n",
       "/* Estimator-specific */\n",
       "#sk-container-id-2 div.sk-estimator {\n",
       "  font-family: monospace;\n",
       "  border: 1px dotted var(--sklearn-color-border-box);\n",
       "  border-radius: 0.25em;\n",
       "  box-sizing: border-box;\n",
       "  margin-bottom: 0.5em;\n",
       "  /* unfitted */\n",
       "  background-color: var(--sklearn-color-unfitted-level-0);\n",
       "}\n",
       "\n",
       "#sk-container-id-2 div.sk-estimator.fitted {\n",
       "  /* fitted */\n",
       "  background-color: var(--sklearn-color-fitted-level-0);\n",
       "}\n",
       "\n",
       "/* on hover */\n",
       "#sk-container-id-2 div.sk-estimator:hover {\n",
       "  /* unfitted */\n",
       "  background-color: var(--sklearn-color-unfitted-level-2);\n",
       "}\n",
       "\n",
       "#sk-container-id-2 div.sk-estimator.fitted:hover {\n",
       "  /* fitted */\n",
       "  background-color: var(--sklearn-color-fitted-level-2);\n",
       "}\n",
       "\n",
       "/* Specification for estimator info (e.g. \"i\" and \"?\") */\n",
       "\n",
       "/* Common style for \"i\" and \"?\" */\n",
       "\n",
       ".sk-estimator-doc-link,\n",
       "a:link.sk-estimator-doc-link,\n",
       "a:visited.sk-estimator-doc-link {\n",
       "  float: right;\n",
       "  font-size: smaller;\n",
       "  line-height: 1em;\n",
       "  font-family: monospace;\n",
       "  background-color: var(--sklearn-color-background);\n",
       "  border-radius: 1em;\n",
       "  height: 1em;\n",
       "  width: 1em;\n",
       "  text-decoration: none !important;\n",
       "  margin-left: 1ex;\n",
       "  /* unfitted */\n",
       "  border: var(--sklearn-color-unfitted-level-1) 1pt solid;\n",
       "  color: var(--sklearn-color-unfitted-level-1);\n",
       "}\n",
       "\n",
       ".sk-estimator-doc-link.fitted,\n",
       "a:link.sk-estimator-doc-link.fitted,\n",
       "a:visited.sk-estimator-doc-link.fitted {\n",
       "  /* fitted */\n",
       "  border: var(--sklearn-color-fitted-level-1) 1pt solid;\n",
       "  color: var(--sklearn-color-fitted-level-1);\n",
       "}\n",
       "\n",
       "/* On hover */\n",
       "div.sk-estimator:hover .sk-estimator-doc-link:hover,\n",
       ".sk-estimator-doc-link:hover,\n",
       "div.sk-label-container:hover .sk-estimator-doc-link:hover,\n",
       ".sk-estimator-doc-link:hover {\n",
       "  /* unfitted */\n",
       "  background-color: var(--sklearn-color-unfitted-level-3);\n",
       "  color: var(--sklearn-color-background);\n",
       "  text-decoration: none;\n",
       "}\n",
       "\n",
       "div.sk-estimator.fitted:hover .sk-estimator-doc-link.fitted:hover,\n",
       ".sk-estimator-doc-link.fitted:hover,\n",
       "div.sk-label-container:hover .sk-estimator-doc-link.fitted:hover,\n",
       ".sk-estimator-doc-link.fitted:hover {\n",
       "  /* fitted */\n",
       "  background-color: var(--sklearn-color-fitted-level-3);\n",
       "  color: var(--sklearn-color-background);\n",
       "  text-decoration: none;\n",
       "}\n",
       "\n",
       "/* Span, style for the box shown on hovering the info icon */\n",
       ".sk-estimator-doc-link span {\n",
       "  display: none;\n",
       "  z-index: 9999;\n",
       "  position: relative;\n",
       "  font-weight: normal;\n",
       "  right: .2ex;\n",
       "  padding: .5ex;\n",
       "  margin: .5ex;\n",
       "  width: min-content;\n",
       "  min-width: 20ex;\n",
       "  max-width: 50ex;\n",
       "  color: var(--sklearn-color-text);\n",
       "  box-shadow: 2pt 2pt 4pt #999;\n",
       "  /* unfitted */\n",
       "  background: var(--sklearn-color-unfitted-level-0);\n",
       "  border: .5pt solid var(--sklearn-color-unfitted-level-3);\n",
       "}\n",
       "\n",
       ".sk-estimator-doc-link.fitted span {\n",
       "  /* fitted */\n",
       "  background: var(--sklearn-color-fitted-level-0);\n",
       "  border: var(--sklearn-color-fitted-level-3);\n",
       "}\n",
       "\n",
       ".sk-estimator-doc-link:hover span {\n",
       "  display: block;\n",
       "}\n",
       "\n",
       "/* \"?\"-specific style due to the `<a>` HTML tag */\n",
       "\n",
       "#sk-container-id-2 a.estimator_doc_link {\n",
       "  float: right;\n",
       "  font-size: 1rem;\n",
       "  line-height: 1em;\n",
       "  font-family: monospace;\n",
       "  background-color: var(--sklearn-color-background);\n",
       "  border-radius: 1rem;\n",
       "  height: 1rem;\n",
       "  width: 1rem;\n",
       "  text-decoration: none;\n",
       "  /* unfitted */\n",
       "  color: var(--sklearn-color-unfitted-level-1);\n",
       "  border: var(--sklearn-color-unfitted-level-1) 1pt solid;\n",
       "}\n",
       "\n",
       "#sk-container-id-2 a.estimator_doc_link.fitted {\n",
       "  /* fitted */\n",
       "  border: var(--sklearn-color-fitted-level-1) 1pt solid;\n",
       "  color: var(--sklearn-color-fitted-level-1);\n",
       "}\n",
       "\n",
       "/* On hover */\n",
       "#sk-container-id-2 a.estimator_doc_link:hover {\n",
       "  /* unfitted */\n",
       "  background-color: var(--sklearn-color-unfitted-level-3);\n",
       "  color: var(--sklearn-color-background);\n",
       "  text-decoration: none;\n",
       "}\n",
       "\n",
       "#sk-container-id-2 a.estimator_doc_link.fitted:hover {\n",
       "  /* fitted */\n",
       "  background-color: var(--sklearn-color-fitted-level-3);\n",
       "}\n",
       "</style><div id=\"sk-container-id-2\" class=\"sk-top-container\"><div class=\"sk-text-repr-fallback\"><pre>KMeans(n_clusters=3, random_state=42)</pre><b>In a Jupyter environment, please rerun this cell to show the HTML representation or trust the notebook. <br />On GitHub, the HTML representation is unable to render, please try loading this page with nbviewer.org.</b></div><div class=\"sk-container\" hidden><div class=\"sk-item\"><div class=\"sk-estimator fitted sk-toggleable\"><input class=\"sk-toggleable__control sk-hidden--visually\" id=\"sk-estimator-id-2\" type=\"checkbox\" checked><label for=\"sk-estimator-id-2\" class=\"sk-toggleable__label fitted sk-toggleable__label-arrow fitted\">&nbsp;&nbsp;KMeans<a class=\"sk-estimator-doc-link fitted\" rel=\"noreferrer\" target=\"_blank\" href=\"https://scikit-learn.org/1.5/modules/generated/sklearn.cluster.KMeans.html\">?<span>Documentation for KMeans</span></a><span class=\"sk-estimator-doc-link fitted\">i<span>Fitted</span></span></label><div class=\"sk-toggleable__content fitted\"><pre>KMeans(n_clusters=3, random_state=42)</pre></div> </div></div></div></div>"
      ],
      "text/plain": [
       "KMeans(n_clusters=3, random_state=42)"
      ]
     },
     "execution_count": 128,
     "metadata": {},
     "output_type": "execute_result"
    }
   ],
   "source": [
    "noOfClusters = 3\n",
    "\n",
    "kmeans = KMeans(n_clusters=3, init='k-means++', random_state=42)\n",
    "kmeans.fit(scaled_df)"
   ]
  },
  {
   "cell_type": "code",
   "execution_count": 135,
   "metadata": {},
   "outputs": [
    {
     "data": {
      "text/plain": [
       "0    0\n",
       "1    0\n",
       "2    1\n",
       "Name: luxury_class, dtype: int32"
      ]
     },
     "execution_count": 135,
     "metadata": {},
     "output_type": "execute_result"
    }
   ],
   "source": [
    "df_ = pd.DataFrame(scaled_df)\n",
    "df_['luxury_class'] = kmeans.predict(scaled_df)\n",
    "df_['luxury_class'].head(3)"
   ]
  },
  {
   "cell_type": "code",
   "execution_count": 134,
   "metadata": {},
   "outputs": [
    {
     "data": {
      "text/html": [
       "<div>\n",
       "<style scoped>\n",
       "    .dataframe tbody tr th:only-of-type {\n",
       "        vertical-align: middle;\n",
       "    }\n",
       "\n",
       "    .dataframe tbody tr th {\n",
       "        vertical-align: top;\n",
       "    }\n",
       "\n",
       "    .dataframe thead th {\n",
       "        text-align: right;\n",
       "    }\n",
       "</style>\n",
       "<table border=\"1\" class=\"dataframe\">\n",
       "  <thead>\n",
       "    <tr style=\"text-align: right;\">\n",
       "      <th></th>\n",
       "      <th>0</th>\n",
       "      <th>1</th>\n",
       "      <th>2</th>\n",
       "      <th>3</th>\n",
       "      <th>4</th>\n",
       "      <th>5</th>\n",
       "      <th>6</th>\n",
       "      <th>7</th>\n",
       "      <th>8</th>\n",
       "      <th>9</th>\n",
       "      <th>10</th>\n",
       "      <th>11</th>\n",
       "      <th>12</th>\n",
       "      <th>13</th>\n",
       "      <th>14</th>\n",
       "      <th>15</th>\n",
       "      <th>16</th>\n",
       "      <th>17</th>\n",
       "      <th>luxury_class</th>\n",
       "    </tr>\n",
       "  </thead>\n",
       "  <tbody>\n",
       "    <tr>\n",
       "      <th>0</th>\n",
       "      <td>0.615083</td>\n",
       "      <td>-0.486651</td>\n",
       "      <td>-0.330811</td>\n",
       "      <td>-0.217180</td>\n",
       "      <td>-0.116227</td>\n",
       "      <td>-0.378508</td>\n",
       "      <td>-0.206811</td>\n",
       "      <td>-0.235608</td>\n",
       "      <td>-0.240881</td>\n",
       "      <td>-0.505263</td>\n",
       "      <td>1.239377</td>\n",
       "      <td>-0.641897</td>\n",
       "      <td>-0.692476</td>\n",
       "      <td>-0.195988</td>\n",
       "      <td>-0.222256</td>\n",
       "      <td>-0.122458</td>\n",
       "      <td>-0.526957</td>\n",
       "      <td>1.055924</td>\n",
       "      <td>0</td>\n",
       "    </tr>\n",
       "    <tr>\n",
       "      <th>1</th>\n",
       "      <td>0.998931</td>\n",
       "      <td>-0.299760</td>\n",
       "      <td>-0.330811</td>\n",
       "      <td>-0.217180</td>\n",
       "      <td>-0.116227</td>\n",
       "      <td>-0.378508</td>\n",
       "      <td>-0.206811</td>\n",
       "      <td>-0.235608</td>\n",
       "      <td>-0.240881</td>\n",
       "      <td>1.278757</td>\n",
       "      <td>-0.806857</td>\n",
       "      <td>0.716843</td>\n",
       "      <td>-0.692476</td>\n",
       "      <td>-0.195988</td>\n",
       "      <td>-0.222256</td>\n",
       "      <td>-0.122458</td>\n",
       "      <td>-0.526957</td>\n",
       "      <td>-0.527563</td>\n",
       "      <td>0</td>\n",
       "    </tr>\n",
       "    <tr>\n",
       "      <th>2</th>\n",
       "      <td>1.382779</td>\n",
       "      <td>-0.019423</td>\n",
       "      <td>3.022872</td>\n",
       "      <td>4.604467</td>\n",
       "      <td>-0.116227</td>\n",
       "      <td>2.641954</td>\n",
       "      <td>-0.206811</td>\n",
       "      <td>4.244332</td>\n",
       "      <td>-0.240881</td>\n",
       "      <td>1.724762</td>\n",
       "      <td>1.239377</td>\n",
       "      <td>0.445095</td>\n",
       "      <td>1.444093</td>\n",
       "      <td>-0.195988</td>\n",
       "      <td>0.537852</td>\n",
       "      <td>-0.122458</td>\n",
       "      <td>1.381306</td>\n",
       "      <td>1.055924</td>\n",
       "      <td>1</td>\n",
       "    </tr>\n",
       "  </tbody>\n",
       "</table>\n",
       "</div>"
      ],
      "text/plain": [
       "          0         1         2         3         4         5         6  \\\n",
       "0  0.615083 -0.486651 -0.330811 -0.217180 -0.116227 -0.378508 -0.206811   \n",
       "1  0.998931 -0.299760 -0.330811 -0.217180 -0.116227 -0.378508 -0.206811   \n",
       "2  1.382779 -0.019423  3.022872  4.604467 -0.116227  2.641954 -0.206811   \n",
       "\n",
       "          7         8         9        10        11        12        13  \\\n",
       "0 -0.235608 -0.240881 -0.505263  1.239377 -0.641897 -0.692476 -0.195988   \n",
       "1 -0.235608 -0.240881  1.278757 -0.806857  0.716843 -0.692476 -0.195988   \n",
       "2  4.244332 -0.240881  1.724762  1.239377  0.445095  1.444093 -0.195988   \n",
       "\n",
       "         14        15        16        17  luxury_class  \n",
       "0 -0.222256 -0.122458 -0.526957  1.055924             0  \n",
       "1 -0.222256 -0.122458 -0.526957 -0.527563             0  \n",
       "2  0.537852 -0.122458  1.381306  1.055924             1  "
      ]
     },
     "execution_count": 134,
     "metadata": {},
     "output_type": "execute_result"
    }
   ],
   "source": [
    "df_.head(3)"
   ]
  },
  {
   "cell_type": "code",
   "execution_count": 139,
   "metadata": {},
   "outputs": [
    {
     "data": {
      "text/plain": [
       "3974"
      ]
     },
     "execution_count": 139,
     "metadata": {},
     "output_type": "execute_result"
    }
   ],
   "source": [
    "df_.shape[0]"
   ]
  },
  {
   "cell_type": "code",
   "execution_count": 140,
   "metadata": {},
   "outputs": [
    {
     "data": {
      "text/plain": [
       "3974"
      ]
     },
     "execution_count": 140,
     "metadata": {},
     "output_type": "execute_result"
    }
   ],
   "source": [
    "data.shape[0]"
   ]
  },
  {
   "cell_type": "code",
   "execution_count": 146,
   "metadata": {},
   "outputs": [
    {
     "data": {
      "text/html": [
       "<div>\n",
       "<style scoped>\n",
       "    .dataframe tbody tr th:only-of-type {\n",
       "        vertical-align: middle;\n",
       "    }\n",
       "\n",
       "    .dataframe tbody tr th {\n",
       "        vertical-align: top;\n",
       "    }\n",
       "\n",
       "    .dataframe thead th {\n",
       "        text-align: right;\n",
       "    }\n",
       "</style>\n",
       "<table border=\"1\" class=\"dataframe\">\n",
       "  <thead>\n",
       "    <tr style=\"text-align: right;\">\n",
       "      <th></th>\n",
       "      <th>property_name</th>\n",
       "      <th>sector</th>\n",
       "      <th>society</th>\n",
       "      <th>price_in_crores</th>\n",
       "      <th>price_per_sqft</th>\n",
       "      <th>bedRoom</th>\n",
       "      <th>bathroom</th>\n",
       "      <th>balcony</th>\n",
       "      <th>address</th>\n",
       "      <th>floorNum</th>\n",
       "      <th>facing</th>\n",
       "      <th>agePossession</th>\n",
       "      <th>nearbyLocations</th>\n",
       "      <th>description</th>\n",
       "      <th>furnishDetails</th>\n",
       "      <th>features</th>\n",
       "      <th>rating</th>\n",
       "      <th>property_type</th>\n",
       "      <th>noOfFloor</th>\n",
       "      <th>SuperBuiltupArea_sqft</th>\n",
       "      <th>BuiltupArea_sqft</th>\n",
       "      <th>CarpetArea_sqft</th>\n",
       "      <th>servantRoom</th>\n",
       "      <th>studyRoom</th>\n",
       "      <th>poojaRoom</th>\n",
       "      <th>storeRoom</th>\n",
       "      <th>otherAdditionalRoom</th>\n",
       "      <th>luxary_value</th>\n",
       "      <th>luxury_class</th>\n",
       "    </tr>\n",
       "  </thead>\n",
       "  <tbody>\n",
       "    <tr>\n",
       "      <th>0</th>\n",
       "      <td>2 BHK Flat in Sector 70 Gurgaon</td>\n",
       "      <td>sector 70</td>\n",
       "      <td>shree vardhman victoria</td>\n",
       "      <td>1.10</td>\n",
       "      <td>8461.0</td>\n",
       "      <td>2.0</td>\n",
       "      <td>2.0</td>\n",
       "      <td>2</td>\n",
       "      <td>Sector 70 Gurgaon, Gurgaon, Haryana</td>\n",
       "      <td>8.0</td>\n",
       "      <td>north-east</td>\n",
       "      <td>Very Recent Construction</td>\n",
       "      <td>['Airia Mall', 'Golf Course Extn Road', 'Sohna...</td>\n",
       "      <td>Square yards rera reg.\\r\\nHrera 660/2017/307\\r...</td>\n",
       "      <td>['3 wardrobe', '1 modular kitchen', '1 chimney...</td>\n",
       "      <td>['Security / Fire Alarm', 'Power Back-up', 'Fe...</td>\n",
       "      <td>['Green Area5 out of 5', 'Construction5 out of...</td>\n",
       "      <td>flat</td>\n",
       "      <td>1.0</td>\n",
       "      <td>NaN</td>\n",
       "      <td>NaN</td>\n",
       "      <td>1299.957411</td>\n",
       "      <td>False</td>\n",
       "      <td>False</td>\n",
       "      <td>False</td>\n",
       "      <td>False</td>\n",
       "      <td>False</td>\n",
       "      <td>128</td>\n",
       "      <td>0</td>\n",
       "    </tr>\n",
       "    <tr>\n",
       "      <th>1</th>\n",
       "      <td>3 Bedroom House for sale in Sector 40 Gurgaon</td>\n",
       "      <td>sector 40</td>\n",
       "      <td>NaN</td>\n",
       "      <td>2.15</td>\n",
       "      <td>23889.0</td>\n",
       "      <td>3.0</td>\n",
       "      <td>3.0</td>\n",
       "      <td>3</td>\n",
       "      <td>Sector 40 Gurgaon, Gurgaon, Haryana</td>\n",
       "      <td>0.0</td>\n",
       "      <td>NaN</td>\n",
       "      <td>Recent Construction</td>\n",
       "      <td>['Huda city centre metro station', 'Axis bank ...</td>\n",
       "      <td>Its just behind ryan international school and ...</td>\n",
       "      <td>['4 wardrobe', '5 fan', '4 geyser', '2 light',...</td>\n",
       "      <td>['Feng Shui / Vaastu Compliant', 'Private Gard...</td>\n",
       "      <td>['Environment4 out of 5', 'Lifestyle4 out of 5...</td>\n",
       "      <td>house</td>\n",
       "      <td>3.0</td>\n",
       "      <td>NaN</td>\n",
       "      <td>900.0</td>\n",
       "      <td>NaN</td>\n",
       "      <td>False</td>\n",
       "      <td>True</td>\n",
       "      <td>True</td>\n",
       "      <td>True</td>\n",
       "      <td>False</td>\n",
       "      <td>256</td>\n",
       "      <td>0</td>\n",
       "    </tr>\n",
       "    <tr>\n",
       "      <th>2</th>\n",
       "      <td>5 Bedroom House for sale in Palam Vihar</td>\n",
       "      <td>palam vihar</td>\n",
       "      <td>ansals palam vihar</td>\n",
       "      <td>9.00</td>\n",
       "      <td>19231.0</td>\n",
       "      <td>5.0</td>\n",
       "      <td>5.0</td>\n",
       "      <td>2</td>\n",
       "      <td>J-Block, Palam Vihar, Gurgaon, Haryana</td>\n",
       "      <td>0.0</td>\n",
       "      <td>north</td>\n",
       "      <td>Old Construction</td>\n",
       "      <td>['Palam Vihar Vyapar kendra', 'Palam triangle'...</td>\n",
       "      <td>North facing plot aviable on sale in palam vih...</td>\n",
       "      <td>['1 water purifier', '4 fan', '1 fridge', '1 e...</td>\n",
       "      <td>['Feng Shui / Vaastu Compliant', 'Private Gard...</td>\n",
       "      <td>['Environment5 out of 5', 'Safety4 out of 5', ...</td>\n",
       "      <td>house</td>\n",
       "      <td>2.0</td>\n",
       "      <td>NaN</td>\n",
       "      <td>4680.0</td>\n",
       "      <td>NaN</td>\n",
       "      <td>True</td>\n",
       "      <td>True</td>\n",
       "      <td>True</td>\n",
       "      <td>True</td>\n",
       "      <td>False</td>\n",
       "      <td>128</td>\n",
       "      <td>1</td>\n",
       "    </tr>\n",
       "  </tbody>\n",
       "</table>\n",
       "</div>"
      ],
      "text/plain": [
       "                                   property_name        sector  \\\n",
       "0                2 BHK Flat in Sector 70 Gurgaon    sector 70    \n",
       "1  3 Bedroom House for sale in Sector 40 Gurgaon    sector 40    \n",
       "2        5 Bedroom House for sale in Palam Vihar   palam vihar   \n",
       "\n",
       "                   society  price_in_crores  price_per_sqft  bedRoom  \\\n",
       "0  shree vardhman victoria             1.10          8461.0      2.0   \n",
       "1                      NaN             2.15         23889.0      3.0   \n",
       "2       ansals palam vihar             9.00         19231.0      5.0   \n",
       "\n",
       "   bathroom balcony                                 address  floorNum  \\\n",
       "0       2.0       2     Sector 70 Gurgaon, Gurgaon, Haryana       8.0   \n",
       "1       3.0       3     Sector 40 Gurgaon, Gurgaon, Haryana       0.0   \n",
       "2       5.0       2  J-Block, Palam Vihar, Gurgaon, Haryana       0.0   \n",
       "\n",
       "       facing             agePossession  \\\n",
       "0  north-east  Very Recent Construction   \n",
       "1         NaN       Recent Construction   \n",
       "2       north          Old Construction   \n",
       "\n",
       "                                     nearbyLocations  \\\n",
       "0  ['Airia Mall', 'Golf Course Extn Road', 'Sohna...   \n",
       "1  ['Huda city centre metro station', 'Axis bank ...   \n",
       "2  ['Palam Vihar Vyapar kendra', 'Palam triangle'...   \n",
       "\n",
       "                                         description  \\\n",
       "0  Square yards rera reg.\\r\\nHrera 660/2017/307\\r...   \n",
       "1  Its just behind ryan international school and ...   \n",
       "2  North facing plot aviable on sale in palam vih...   \n",
       "\n",
       "                                      furnishDetails  \\\n",
       "0  ['3 wardrobe', '1 modular kitchen', '1 chimney...   \n",
       "1  ['4 wardrobe', '5 fan', '4 geyser', '2 light',...   \n",
       "2  ['1 water purifier', '4 fan', '1 fridge', '1 e...   \n",
       "\n",
       "                                            features  \\\n",
       "0  ['Security / Fire Alarm', 'Power Back-up', 'Fe...   \n",
       "1  ['Feng Shui / Vaastu Compliant', 'Private Gard...   \n",
       "2  ['Feng Shui / Vaastu Compliant', 'Private Gard...   \n",
       "\n",
       "                                              rating property_type  noOfFloor  \\\n",
       "0  ['Green Area5 out of 5', 'Construction5 out of...          flat        1.0   \n",
       "1  ['Environment4 out of 5', 'Lifestyle4 out of 5...         house        3.0   \n",
       "2  ['Environment5 out of 5', 'Safety4 out of 5', ...         house        2.0   \n",
       "\n",
       "   SuperBuiltupArea_sqft  BuiltupArea_sqft  CarpetArea_sqft  servantRoom  \\\n",
       "0                    NaN               NaN      1299.957411        False   \n",
       "1                    NaN             900.0              NaN        False   \n",
       "2                    NaN            4680.0              NaN         True   \n",
       "\n",
       "   studyRoom  poojaRoom  storeRoom  otherAdditionalRoom  luxary_value  \\\n",
       "0      False      False      False                False           128   \n",
       "1       True       True       True                False           256   \n",
       "2       True       True       True                False           128   \n",
       "\n",
       "   luxury_class  \n",
       "0             0  \n",
       "1             0  \n",
       "2             1  "
      ]
     },
     "execution_count": 146,
     "metadata": {},
     "output_type": "execute_result"
    }
   ],
   "source": [
    "data['luxury_class'] = df_['luxury_class']\n",
    "\n",
    "pd.set_option('display.max_colwidth', 50)\n",
    "data.head(3)"
   ]
  },
  {
   "cell_type": "code",
   "execution_count": 147,
   "metadata": {},
   "outputs": [],
   "source": [
    "data.drop(columns=['luxary_value', 'furnishDetails'], axis=1, inplace=True)"
   ]
  },
  {
   "cell_type": "code",
   "execution_count": 148,
   "metadata": {},
   "outputs": [
    {
     "data": {
      "text/html": [
       "<div>\n",
       "<style scoped>\n",
       "    .dataframe tbody tr th:only-of-type {\n",
       "        vertical-align: middle;\n",
       "    }\n",
       "\n",
       "    .dataframe tbody tr th {\n",
       "        vertical-align: top;\n",
       "    }\n",
       "\n",
       "    .dataframe thead th {\n",
       "        text-align: right;\n",
       "    }\n",
       "</style>\n",
       "<table border=\"1\" class=\"dataframe\">\n",
       "  <thead>\n",
       "    <tr style=\"text-align: right;\">\n",
       "      <th></th>\n",
       "      <th>property_name</th>\n",
       "      <th>sector</th>\n",
       "      <th>society</th>\n",
       "      <th>price_in_crores</th>\n",
       "      <th>price_per_sqft</th>\n",
       "      <th>bedRoom</th>\n",
       "      <th>bathroom</th>\n",
       "      <th>balcony</th>\n",
       "      <th>address</th>\n",
       "      <th>floorNum</th>\n",
       "      <th>facing</th>\n",
       "      <th>agePossession</th>\n",
       "      <th>nearbyLocations</th>\n",
       "      <th>description</th>\n",
       "      <th>features</th>\n",
       "      <th>rating</th>\n",
       "      <th>property_type</th>\n",
       "      <th>noOfFloor</th>\n",
       "      <th>SuperBuiltupArea_sqft</th>\n",
       "      <th>BuiltupArea_sqft</th>\n",
       "      <th>CarpetArea_sqft</th>\n",
       "      <th>servantRoom</th>\n",
       "      <th>studyRoom</th>\n",
       "      <th>poojaRoom</th>\n",
       "      <th>storeRoom</th>\n",
       "      <th>otherAdditionalRoom</th>\n",
       "      <th>luxury_class</th>\n",
       "    </tr>\n",
       "  </thead>\n",
       "  <tbody>\n",
       "    <tr>\n",
       "      <th>0</th>\n",
       "      <td>2 BHK Flat in Sector 70 Gurgaon</td>\n",
       "      <td>sector 70</td>\n",
       "      <td>shree vardhman victoria</td>\n",
       "      <td>1.10</td>\n",
       "      <td>8461.0</td>\n",
       "      <td>2.0</td>\n",
       "      <td>2.0</td>\n",
       "      <td>2</td>\n",
       "      <td>Sector 70 Gurgaon, Gurgaon, Haryana</td>\n",
       "      <td>8.0</td>\n",
       "      <td>north-east</td>\n",
       "      <td>Very Recent Construction</td>\n",
       "      <td>['Airia Mall', 'Golf Course Extn Road', 'Sohna...</td>\n",
       "      <td>Square yards rera reg.\\r\\nHrera 660/2017/307\\r...</td>\n",
       "      <td>['Security / Fire Alarm', 'Power Back-up', 'Fe...</td>\n",
       "      <td>['Green Area5 out of 5', 'Construction5 out of...</td>\n",
       "      <td>flat</td>\n",
       "      <td>1.0</td>\n",
       "      <td>NaN</td>\n",
       "      <td>NaN</td>\n",
       "      <td>1299.957411</td>\n",
       "      <td>False</td>\n",
       "      <td>False</td>\n",
       "      <td>False</td>\n",
       "      <td>False</td>\n",
       "      <td>False</td>\n",
       "      <td>0</td>\n",
       "    </tr>\n",
       "    <tr>\n",
       "      <th>1</th>\n",
       "      <td>3 Bedroom House for sale in Sector 40 Gurgaon</td>\n",
       "      <td>sector 40</td>\n",
       "      <td>NaN</td>\n",
       "      <td>2.15</td>\n",
       "      <td>23889.0</td>\n",
       "      <td>3.0</td>\n",
       "      <td>3.0</td>\n",
       "      <td>3</td>\n",
       "      <td>Sector 40 Gurgaon, Gurgaon, Haryana</td>\n",
       "      <td>0.0</td>\n",
       "      <td>NaN</td>\n",
       "      <td>Recent Construction</td>\n",
       "      <td>['Huda city centre metro station', 'Axis bank ...</td>\n",
       "      <td>Its just behind ryan international school and ...</td>\n",
       "      <td>['Feng Shui / Vaastu Compliant', 'Private Gard...</td>\n",
       "      <td>['Environment4 out of 5', 'Lifestyle4 out of 5...</td>\n",
       "      <td>house</td>\n",
       "      <td>3.0</td>\n",
       "      <td>NaN</td>\n",
       "      <td>900.0</td>\n",
       "      <td>NaN</td>\n",
       "      <td>False</td>\n",
       "      <td>True</td>\n",
       "      <td>True</td>\n",
       "      <td>True</td>\n",
       "      <td>False</td>\n",
       "      <td>0</td>\n",
       "    </tr>\n",
       "    <tr>\n",
       "      <th>2</th>\n",
       "      <td>5 Bedroom House for sale in Palam Vihar</td>\n",
       "      <td>palam vihar</td>\n",
       "      <td>ansals palam vihar</td>\n",
       "      <td>9.00</td>\n",
       "      <td>19231.0</td>\n",
       "      <td>5.0</td>\n",
       "      <td>5.0</td>\n",
       "      <td>2</td>\n",
       "      <td>J-Block, Palam Vihar, Gurgaon, Haryana</td>\n",
       "      <td>0.0</td>\n",
       "      <td>north</td>\n",
       "      <td>Old Construction</td>\n",
       "      <td>['Palam Vihar Vyapar kendra', 'Palam triangle'...</td>\n",
       "      <td>North facing plot aviable on sale in palam vih...</td>\n",
       "      <td>['Feng Shui / Vaastu Compliant', 'Private Gard...</td>\n",
       "      <td>['Environment5 out of 5', 'Safety4 out of 5', ...</td>\n",
       "      <td>house</td>\n",
       "      <td>2.0</td>\n",
       "      <td>NaN</td>\n",
       "      <td>4680.0</td>\n",
       "      <td>NaN</td>\n",
       "      <td>True</td>\n",
       "      <td>True</td>\n",
       "      <td>True</td>\n",
       "      <td>True</td>\n",
       "      <td>False</td>\n",
       "      <td>1</td>\n",
       "    </tr>\n",
       "  </tbody>\n",
       "</table>\n",
       "</div>"
      ],
      "text/plain": [
       "                                   property_name        sector  \\\n",
       "0                2 BHK Flat in Sector 70 Gurgaon    sector 70    \n",
       "1  3 Bedroom House for sale in Sector 40 Gurgaon    sector 40    \n",
       "2        5 Bedroom House for sale in Palam Vihar   palam vihar   \n",
       "\n",
       "                   society  price_in_crores  price_per_sqft  bedRoom  \\\n",
       "0  shree vardhman victoria             1.10          8461.0      2.0   \n",
       "1                      NaN             2.15         23889.0      3.0   \n",
       "2       ansals palam vihar             9.00         19231.0      5.0   \n",
       "\n",
       "   bathroom balcony                                 address  floorNum  \\\n",
       "0       2.0       2     Sector 70 Gurgaon, Gurgaon, Haryana       8.0   \n",
       "1       3.0       3     Sector 40 Gurgaon, Gurgaon, Haryana       0.0   \n",
       "2       5.0       2  J-Block, Palam Vihar, Gurgaon, Haryana       0.0   \n",
       "\n",
       "       facing             agePossession  \\\n",
       "0  north-east  Very Recent Construction   \n",
       "1         NaN       Recent Construction   \n",
       "2       north          Old Construction   \n",
       "\n",
       "                                     nearbyLocations  \\\n",
       "0  ['Airia Mall', 'Golf Course Extn Road', 'Sohna...   \n",
       "1  ['Huda city centre metro station', 'Axis bank ...   \n",
       "2  ['Palam Vihar Vyapar kendra', 'Palam triangle'...   \n",
       "\n",
       "                                         description  \\\n",
       "0  Square yards rera reg.\\r\\nHrera 660/2017/307\\r...   \n",
       "1  Its just behind ryan international school and ...   \n",
       "2  North facing plot aviable on sale in palam vih...   \n",
       "\n",
       "                                            features  \\\n",
       "0  ['Security / Fire Alarm', 'Power Back-up', 'Fe...   \n",
       "1  ['Feng Shui / Vaastu Compliant', 'Private Gard...   \n",
       "2  ['Feng Shui / Vaastu Compliant', 'Private Gard...   \n",
       "\n",
       "                                              rating property_type  noOfFloor  \\\n",
       "0  ['Green Area5 out of 5', 'Construction5 out of...          flat        1.0   \n",
       "1  ['Environment4 out of 5', 'Lifestyle4 out of 5...         house        3.0   \n",
       "2  ['Environment5 out of 5', 'Safety4 out of 5', ...         house        2.0   \n",
       "\n",
       "   SuperBuiltupArea_sqft  BuiltupArea_sqft  CarpetArea_sqft  servantRoom  \\\n",
       "0                    NaN               NaN      1299.957411        False   \n",
       "1                    NaN             900.0              NaN        False   \n",
       "2                    NaN            4680.0              NaN         True   \n",
       "\n",
       "   studyRoom  poojaRoom  storeRoom  otherAdditionalRoom  luxury_class  \n",
       "0      False      False      False                False             0  \n",
       "1       True       True       True                False             0  \n",
       "2       True       True       True                False             1  "
      ]
     },
     "execution_count": 148,
     "metadata": {},
     "output_type": "execute_result"
    }
   ],
   "source": [
    "data.head(3)"
   ]
  },
  {
   "cell_type": "code",
   "execution_count": null,
   "metadata": {},
   "outputs": [],
   "source": [
    "data.to_csv(r'..\\3. eda_n_feature engineering\\5.1 FEed furnishDetails col.csv', index=False)"
   ]
  },
  {
   "cell_type": "code",
   "execution_count": null,
   "metadata": {},
   "outputs": [],
   "source": []
  },
  {
   "cell_type": "code",
   "execution_count": null,
   "metadata": {},
   "outputs": [],
   "source": []
  }
 ],
 "metadata": {
  "kernelspec": {
   "display_name": "Python 3",
   "language": "python",
   "name": "python3"
  },
  "language_info": {
   "codemirror_mode": {
    "name": "ipython",
    "version": 3
   },
   "file_extension": ".py",
   "mimetype": "text/x-python",
   "name": "python",
   "nbconvert_exporter": "python",
   "pygments_lexer": "ipython3",
   "version": "3.9.5"
  },
  "orig_nbformat": 4
 },
 "nbformat": 4,
 "nbformat_minor": 2
}
