{
 "cells": [
  {
   "cell_type": "code",
   "execution_count": 51,
   "metadata": {},
   "outputs": [
    {
     "data": {
      "text/html": [
       "<div>\n",
       "<style scoped>\n",
       "    .dataframe tbody tr th:only-of-type {\n",
       "        vertical-align: middle;\n",
       "    }\n",
       "\n",
       "    .dataframe tbody tr th {\n",
       "        vertical-align: top;\n",
       "    }\n",
       "\n",
       "    .dataframe thead th {\n",
       "        text-align: right;\n",
       "    }\n",
       "</style>\n",
       "<table border=\"1\" class=\"dataframe\">\n",
       "  <thead>\n",
       "    <tr style=\"text-align: right;\">\n",
       "      <th></th>\n",
       "      <th>property_name</th>\n",
       "      <th>sector</th>\n",
       "      <th>society</th>\n",
       "      <th>price_in_crores</th>\n",
       "      <th>price_per_sqft</th>\n",
       "      <th>bedRoom</th>\n",
       "      <th>bathroom</th>\n",
       "      <th>balcony</th>\n",
       "      <th>address</th>\n",
       "      <th>floorNum</th>\n",
       "      <th>facing</th>\n",
       "      <th>agePossession</th>\n",
       "      <th>nearbyLocations</th>\n",
       "      <th>description</th>\n",
       "      <th>features</th>\n",
       "      <th>rating</th>\n",
       "      <th>property_type</th>\n",
       "      <th>noOfFloor</th>\n",
       "      <th>SuperBuiltupArea_sqft</th>\n",
       "      <th>BuiltupArea_sqft</th>\n",
       "      <th>CarpetArea_sqft</th>\n",
       "      <th>servantRoom</th>\n",
       "      <th>studyRoom</th>\n",
       "      <th>poojaRoom</th>\n",
       "      <th>storeRoom</th>\n",
       "      <th>otherAdditionalRoom</th>\n",
       "      <th>luxury_class</th>\n",
       "    </tr>\n",
       "  </thead>\n",
       "  <tbody>\n",
       "    <tr>\n",
       "      <th>0</th>\n",
       "      <td>2 BHK Flat in Sector 70 Gurgaon</td>\n",
       "      <td>sector 70</td>\n",
       "      <td>shree vardhman victoria</td>\n",
       "      <td>1.10</td>\n",
       "      <td>8461.0</td>\n",
       "      <td>2.0</td>\n",
       "      <td>2.0</td>\n",
       "      <td>2</td>\n",
       "      <td>Sector 70 Gurgaon, Gurgaon, Haryana</td>\n",
       "      <td>8.0</td>\n",
       "      <td>north-east</td>\n",
       "      <td>Very Recent Construction</td>\n",
       "      <td>['Airia Mall', 'Golf Course Extn Road', 'Sohna...</td>\n",
       "      <td>Square yards rera reg.\\r\\nHrera 660/2017/307\\r...</td>\n",
       "      <td>['Security / Fire Alarm', 'Power Back-up', 'Fe...</td>\n",
       "      <td>['Green Area5 out of 5', 'Construction5 out of...</td>\n",
       "      <td>flat</td>\n",
       "      <td>1.0</td>\n",
       "      <td>NaN</td>\n",
       "      <td>NaN</td>\n",
       "      <td>1299.957411</td>\n",
       "      <td>False</td>\n",
       "      <td>False</td>\n",
       "      <td>False</td>\n",
       "      <td>False</td>\n",
       "      <td>False</td>\n",
       "      <td>0</td>\n",
       "    </tr>\n",
       "    <tr>\n",
       "      <th>1</th>\n",
       "      <td>3 Bedroom House for sale in Sector 40 Gurgaon</td>\n",
       "      <td>sector 40</td>\n",
       "      <td>NaN</td>\n",
       "      <td>2.15</td>\n",
       "      <td>23889.0</td>\n",
       "      <td>3.0</td>\n",
       "      <td>3.0</td>\n",
       "      <td>3</td>\n",
       "      <td>Sector 40 Gurgaon, Gurgaon, Haryana</td>\n",
       "      <td>0.0</td>\n",
       "      <td>NaN</td>\n",
       "      <td>Recent Construction</td>\n",
       "      <td>['Huda city centre metro station', 'Axis bank ...</td>\n",
       "      <td>Its just behind ryan international school and ...</td>\n",
       "      <td>['Feng Shui / Vaastu Compliant', 'Private Gard...</td>\n",
       "      <td>['Environment4 out of 5', 'Lifestyle4 out of 5...</td>\n",
       "      <td>house</td>\n",
       "      <td>3.0</td>\n",
       "      <td>NaN</td>\n",
       "      <td>900.0</td>\n",
       "      <td>NaN</td>\n",
       "      <td>False</td>\n",
       "      <td>True</td>\n",
       "      <td>True</td>\n",
       "      <td>True</td>\n",
       "      <td>False</td>\n",
       "      <td>0</td>\n",
       "    </tr>\n",
       "    <tr>\n",
       "      <th>2</th>\n",
       "      <td>5 Bedroom House for sale in Palam Vihar</td>\n",
       "      <td>palam vihar</td>\n",
       "      <td>ansals palam vihar</td>\n",
       "      <td>9.00</td>\n",
       "      <td>19231.0</td>\n",
       "      <td>5.0</td>\n",
       "      <td>5.0</td>\n",
       "      <td>2</td>\n",
       "      <td>J-Block, Palam Vihar, Gurgaon, Haryana</td>\n",
       "      <td>0.0</td>\n",
       "      <td>north</td>\n",
       "      <td>Old Construction</td>\n",
       "      <td>['Palam Vihar Vyapar kendra', 'Palam triangle'...</td>\n",
       "      <td>North facing plot aviable on sale in palam vih...</td>\n",
       "      <td>['Feng Shui / Vaastu Compliant', 'Private Gard...</td>\n",
       "      <td>['Environment5 out of 5', 'Safety4 out of 5', ...</td>\n",
       "      <td>house</td>\n",
       "      <td>2.0</td>\n",
       "      <td>NaN</td>\n",
       "      <td>4680.0</td>\n",
       "      <td>NaN</td>\n",
       "      <td>True</td>\n",
       "      <td>True</td>\n",
       "      <td>True</td>\n",
       "      <td>True</td>\n",
       "      <td>False</td>\n",
       "      <td>1</td>\n",
       "    </tr>\n",
       "  </tbody>\n",
       "</table>\n",
       "</div>"
      ],
      "text/plain": [
       "                                   property_name        sector  \\\n",
       "0                2 BHK Flat in Sector 70 Gurgaon    sector 70    \n",
       "1  3 Bedroom House for sale in Sector 40 Gurgaon    sector 40    \n",
       "2        5 Bedroom House for sale in Palam Vihar   palam vihar   \n",
       "\n",
       "                   society  price_in_crores  price_per_sqft  bedRoom  \\\n",
       "0  shree vardhman victoria             1.10          8461.0      2.0   \n",
       "1                      NaN             2.15         23889.0      3.0   \n",
       "2       ansals palam vihar             9.00         19231.0      5.0   \n",
       "\n",
       "   bathroom balcony                                 address  floorNum  \\\n",
       "0       2.0       2     Sector 70 Gurgaon, Gurgaon, Haryana       8.0   \n",
       "1       3.0       3     Sector 40 Gurgaon, Gurgaon, Haryana       0.0   \n",
       "2       5.0       2  J-Block, Palam Vihar, Gurgaon, Haryana       0.0   \n",
       "\n",
       "       facing             agePossession  \\\n",
       "0  north-east  Very Recent Construction   \n",
       "1         NaN       Recent Construction   \n",
       "2       north          Old Construction   \n",
       "\n",
       "                                     nearbyLocations  \\\n",
       "0  ['Airia Mall', 'Golf Course Extn Road', 'Sohna...   \n",
       "1  ['Huda city centre metro station', 'Axis bank ...   \n",
       "2  ['Palam Vihar Vyapar kendra', 'Palam triangle'...   \n",
       "\n",
       "                                         description  \\\n",
       "0  Square yards rera reg.\\r\\nHrera 660/2017/307\\r...   \n",
       "1  Its just behind ryan international school and ...   \n",
       "2  North facing plot aviable on sale in palam vih...   \n",
       "\n",
       "                                            features  \\\n",
       "0  ['Security / Fire Alarm', 'Power Back-up', 'Fe...   \n",
       "1  ['Feng Shui / Vaastu Compliant', 'Private Gard...   \n",
       "2  ['Feng Shui / Vaastu Compliant', 'Private Gard...   \n",
       "\n",
       "                                              rating property_type  noOfFloor  \\\n",
       "0  ['Green Area5 out of 5', 'Construction5 out of...          flat        1.0   \n",
       "1  ['Environment4 out of 5', 'Lifestyle4 out of 5...         house        3.0   \n",
       "2  ['Environment5 out of 5', 'Safety4 out of 5', ...         house        2.0   \n",
       "\n",
       "   SuperBuiltupArea_sqft  BuiltupArea_sqft  CarpetArea_sqft  servantRoom  \\\n",
       "0                    NaN               NaN      1299.957411        False   \n",
       "1                    NaN             900.0              NaN        False   \n",
       "2                    NaN            4680.0              NaN         True   \n",
       "\n",
       "   studyRoom  poojaRoom  storeRoom  otherAdditionalRoom  luxury_class  \n",
       "0      False      False      False                False             0  \n",
       "1       True       True       True                False             0  \n",
       "2       True       True       True                False             1  "
      ]
     },
     "execution_count": 51,
     "metadata": {},
     "output_type": "execute_result"
    }
   ],
   "source": [
    "import pandas as pd\n",
    "pd.set_option('display.max_columns', None)\n",
    "import seaborn as sns\n",
    "\n",
    "\n",
    "data = pd.read_csv(r'..\\3. eda_n_feature engineering\\5.1 FEed furnishDetails col.csv')\n",
    "data.head(3)"
   ]
  },
  {
   "cell_type": "markdown",
   "metadata": {},
   "source": [
    "### outlier records on the basis of `price` col"
   ]
  },
  {
   "cell_type": "code",
   "execution_count": 52,
   "metadata": {},
   "outputs": [
    {
     "data": {
      "text/plain": [
       "0       1.10\n",
       "1       2.15\n",
       "2       9.00\n",
       "3       1.70\n",
       "4       4.00\n",
       "        ... \n",
       "3969    9.19\n",
       "3970    1.40\n",
       "3971    3.78\n",
       "3972    0.72\n",
       "3973    1.40\n",
       "Name: price_in_crores, Length: 3974, dtype: float64"
      ]
     },
     "execution_count": 52,
     "metadata": {},
     "output_type": "execute_result"
    }
   ],
   "source": [
    "data['price_in_crores']"
   ]
  },
  {
   "cell_type": "code",
   "execution_count": 53,
   "metadata": {},
   "outputs": [
    {
     "data": {
      "text/plain": [
       "<Axes: xlabel='price_in_crores', ylabel='Count'>"
      ]
     },
     "execution_count": 53,
     "metadata": {},
     "output_type": "execute_result"
    },
    {
     "data": {
      "image/png": "[encoded data removed]",
      "text/plain": [
       "<Figure size 640x480 with 1 Axes>"
      ]
     },
     "metadata": {},
     "output_type": "display_data"
    }
   ],
   "source": [
    "sns.histplot(data['price_in_crores'])"
   ]
  },
  {
   "cell_type": "code",
   "execution_count": 54,
   "metadata": {},
   "outputs": [
    {
     "data": {
      "text/plain": [
       "<Axes: xlabel='price_in_crores'>"
      ]
     },
     "execution_count": 54,
     "metadata": {},
     "output_type": "execute_result"
    },
    {
     "data": {
      "image/png": "[encoded data removed]",
      "text/plain": [
       "<Figure size 640x480 with 1 Axes>"
      ]
     },
     "metadata": {},
     "output_type": "display_data"
    }
   ],
   "source": [
    "sns.boxplot(x=data['price_in_crores'])"
   ]
  },
  {
   "cell_type": "markdown",
   "metadata": {},
   "source": [
    "#### removing outliers"
   ]
  },
  {
   "cell_type": "code",
   "execution_count": 55,
   "metadata": {},
   "outputs": [
    {
     "name": "stdout",
     "output_type": "stream",
     "text": [
      "<class 'pandas.core.series.Series'>\n",
      "RangeIndex: 3974 entries, 0 to 3973\n",
      "Series name: price_in_crores\n",
      "Non-Null Count  Dtype  \n",
      "--------------  -----  \n",
      "3954 non-null   float64\n",
      "dtypes: float64(1)\n",
      "memory usage: 31.2 KB\n"
     ]
    }
   ],
   "source": [
    "data['price_in_crores'].info()"
   ]
  },
  {
   "cell_type": "code",
   "execution_count": 56,
   "metadata": {},
   "outputs": [
    {
     "data": {
      "text/plain": [
       "(3974, '-->', 3503)"
      ]
     },
     "execution_count": 56,
     "metadata": {},
     "output_type": "execute_result"
    }
   ],
   "source": [
    "q1 = data['price_in_crores'].quantile(0.25)\n",
    "q3 = data['price_in_crores'].quantile(0.75)\n",
    "iqr = q3-q1\n",
    "\n",
    "lower_bound = q1 - iqr * 1.5\n",
    "upper_bound = q3 + iqr * 1.5\n",
    "\n",
    "data.shape[0], '-->',data[(data['price_in_crores']>lower_bound) & (data['price_in_crores']<upper_bound)].shape[0]"
   ]
  },
  {
   "cell_type": "code",
   "execution_count": 57,
   "metadata": {},
   "outputs": [],
   "source": [
    "# analyzing outlier records\n",
    "outlier_records = data[(data['price_in_crores']<lower_bound) | (data['price_in_crores']>upper_bound)]"
   ]
  },
  {
   "cell_type": "code",
   "execution_count": 58,
   "metadata": {},
   "outputs": [
    {
     "data": {
      "text/plain": [
       "count    448.000000\n",
       "mean       9.161004\n",
       "std        4.041683\n",
       "min        5.460000\n",
       "25%        6.300000\n",
       "50%        8.000000\n",
       "75%       10.550000\n",
       "max       31.500000\n",
       "Name: price_in_crores, dtype: float64"
      ]
     },
     "execution_count": 58,
     "metadata": {},
     "output_type": "execute_result"
    }
   ],
   "source": [
    "outlier_records['price_in_crores'].describe()"
   ]
  },
  {
   "cell_type": "code",
   "execution_count": 59,
   "metadata": {},
   "outputs": [
    {
     "data": {
      "text/html": [
       "<div>\n",
       "<style scoped>\n",
       "    .dataframe tbody tr th:only-of-type {\n",
       "        vertical-align: middle;\n",
       "    }\n",
       "\n",
       "    .dataframe tbody tr th {\n",
       "        vertical-align: top;\n",
       "    }\n",
       "\n",
       "    .dataframe thead th {\n",
       "        text-align: right;\n",
       "    }\n",
       "</style>\n",
       "<table border=\"1\" class=\"dataframe\">\n",
       "  <thead>\n",
       "    <tr style=\"text-align: right;\">\n",
       "      <th></th>\n",
       "      <th>property_name</th>\n",
       "      <th>sector</th>\n",
       "      <th>society</th>\n",
       "      <th>price_in_crores</th>\n",
       "      <th>price_per_sqft</th>\n",
       "      <th>bedRoom</th>\n",
       "      <th>bathroom</th>\n",
       "      <th>balcony</th>\n",
       "      <th>address</th>\n",
       "      <th>floorNum</th>\n",
       "      <th>facing</th>\n",
       "      <th>agePossession</th>\n",
       "      <th>nearbyLocations</th>\n",
       "      <th>description</th>\n",
       "      <th>features</th>\n",
       "      <th>rating</th>\n",
       "      <th>property_type</th>\n",
       "      <th>noOfFloor</th>\n",
       "      <th>SuperBuiltupArea_sqft</th>\n",
       "      <th>BuiltupArea_sqft</th>\n",
       "      <th>CarpetArea_sqft</th>\n",
       "      <th>servantRoom</th>\n",
       "      <th>studyRoom</th>\n",
       "      <th>poojaRoom</th>\n",
       "      <th>storeRoom</th>\n",
       "      <th>otherAdditionalRoom</th>\n",
       "      <th>luxury_class</th>\n",
       "    </tr>\n",
       "  </thead>\n",
       "  <tbody>\n",
       "    <tr>\n",
       "      <th>0</th>\n",
       "      <td>2 BHK Flat in Sector 70 Gurgaon</td>\n",
       "      <td>sector 70</td>\n",
       "      <td>shree vardhman victoria</td>\n",
       "      <td>1.10</td>\n",
       "      <td>8461.0</td>\n",
       "      <td>2.0</td>\n",
       "      <td>2.0</td>\n",
       "      <td>2</td>\n",
       "      <td>Sector 70 Gurgaon, Gurgaon, Haryana</td>\n",
       "      <td>8.0</td>\n",
       "      <td>north-east</td>\n",
       "      <td>Very Recent Construction</td>\n",
       "      <td>['Airia Mall', 'Golf Course Extn Road', 'Sohna...</td>\n",
       "      <td>Square yards rera reg.\\r\\nHrera 660/2017/307\\r...</td>\n",
       "      <td>['Security / Fire Alarm', 'Power Back-up', 'Fe...</td>\n",
       "      <td>['Green Area5 out of 5', 'Construction5 out of...</td>\n",
       "      <td>flat</td>\n",
       "      <td>1.0</td>\n",
       "      <td>NaN</td>\n",
       "      <td>NaN</td>\n",
       "      <td>1299.957411</td>\n",
       "      <td>False</td>\n",
       "      <td>False</td>\n",
       "      <td>False</td>\n",
       "      <td>False</td>\n",
       "      <td>False</td>\n",
       "      <td>0</td>\n",
       "    </tr>\n",
       "    <tr>\n",
       "      <th>1</th>\n",
       "      <td>3 Bedroom House for sale in Sector 40 Gurgaon</td>\n",
       "      <td>sector 40</td>\n",
       "      <td>NaN</td>\n",
       "      <td>2.15</td>\n",
       "      <td>23889.0</td>\n",
       "      <td>3.0</td>\n",
       "      <td>3.0</td>\n",
       "      <td>3</td>\n",
       "      <td>Sector 40 Gurgaon, Gurgaon, Haryana</td>\n",
       "      <td>0.0</td>\n",
       "      <td>NaN</td>\n",
       "      <td>Recent Construction</td>\n",
       "      <td>['Huda city centre metro station', 'Axis bank ...</td>\n",
       "      <td>Its just behind ryan international school and ...</td>\n",
       "      <td>['Feng Shui / Vaastu Compliant', 'Private Gard...</td>\n",
       "      <td>['Environment4 out of 5', 'Lifestyle4 out of 5...</td>\n",
       "      <td>house</td>\n",
       "      <td>3.0</td>\n",
       "      <td>NaN</td>\n",
       "      <td>900.0</td>\n",
       "      <td>NaN</td>\n",
       "      <td>False</td>\n",
       "      <td>True</td>\n",
       "      <td>True</td>\n",
       "      <td>True</td>\n",
       "      <td>False</td>\n",
       "      <td>0</td>\n",
       "    </tr>\n",
       "    <tr>\n",
       "      <th>3</th>\n",
       "      <td>4 BHK Flat in Sector 69 Gurgaon</td>\n",
       "      <td>sector 69</td>\n",
       "      <td>tulip violet</td>\n",
       "      <td>1.70</td>\n",
       "      <td>8445.0</td>\n",
       "      <td>4.0</td>\n",
       "      <td>4.0</td>\n",
       "      <td>2</td>\n",
       "      <td>701, Sector 69 Gurgaon, Gurgaon, Haryana</td>\n",
       "      <td>7.0</td>\n",
       "      <td>west</td>\n",
       "      <td>Very Recent Construction</td>\n",
       "      <td>['Airia Mall Sector 68', 'Southern Peripheral ...</td>\n",
       "      <td>Tulip violet is one of gurgaon's most sought a...</td>\n",
       "      <td>['Security / Fire Alarm', 'Power Back-up', 'Fe...</td>\n",
       "      <td>['Green Area5 out of 5', 'Construction4 out of...</td>\n",
       "      <td>flat</td>\n",
       "      <td>1.0</td>\n",
       "      <td>2010.0</td>\n",
       "      <td>NaN</td>\n",
       "      <td>NaN</td>\n",
       "      <td>False</td>\n",
       "      <td>False</td>\n",
       "      <td>False</td>\n",
       "      <td>False</td>\n",
       "      <td>False</td>\n",
       "      <td>0</td>\n",
       "    </tr>\n",
       "  </tbody>\n",
       "</table>\n",
       "</div>"
      ],
      "text/plain": [
       "                                   property_name       sector  \\\n",
       "0                2 BHK Flat in Sector 70 Gurgaon   sector 70    \n",
       "1  3 Bedroom House for sale in Sector 40 Gurgaon   sector 40    \n",
       "3                4 BHK Flat in Sector 69 Gurgaon   sector 69    \n",
       "\n",
       "                   society  price_in_crores  price_per_sqft  bedRoom  \\\n",
       "0  shree vardhman victoria             1.10          8461.0      2.0   \n",
       "1                      NaN             2.15         23889.0      3.0   \n",
       "3             tulip violet             1.70          8445.0      4.0   \n",
       "\n",
       "   bathroom balcony                                   address  floorNum  \\\n",
       "0       2.0       2       Sector 70 Gurgaon, Gurgaon, Haryana       8.0   \n",
       "1       3.0       3       Sector 40 Gurgaon, Gurgaon, Haryana       0.0   \n",
       "3       4.0       2  701, Sector 69 Gurgaon, Gurgaon, Haryana       7.0   \n",
       "\n",
       "       facing             agePossession  \\\n",
       "0  north-east  Very Recent Construction   \n",
       "1         NaN       Recent Construction   \n",
       "3        west  Very Recent Construction   \n",
       "\n",
       "                                     nearbyLocations  \\\n",
       "0  ['Airia Mall', 'Golf Course Extn Road', 'Sohna...   \n",
       "1  ['Huda city centre metro station', 'Axis bank ...   \n",
       "3  ['Airia Mall Sector 68', 'Southern Peripheral ...   \n",
       "\n",
       "                                         description  \\\n",
       "0  Square yards rera reg.\\r\\nHrera 660/2017/307\\r...   \n",
       "1  Its just behind ryan international school and ...   \n",
       "3  Tulip violet is one of gurgaon's most sought a...   \n",
       "\n",
       "                                            features  \\\n",
       "0  ['Security / Fire Alarm', 'Power Back-up', 'Fe...   \n",
       "1  ['Feng Shui / Vaastu Compliant', 'Private Gard...   \n",
       "3  ['Security / Fire Alarm', 'Power Back-up', 'Fe...   \n",
       "\n",
       "                                              rating property_type  noOfFloor  \\\n",
       "0  ['Green Area5 out of 5', 'Construction5 out of...          flat        1.0   \n",
       "1  ['Environment4 out of 5', 'Lifestyle4 out of 5...         house        3.0   \n",
       "3  ['Green Area5 out of 5', 'Construction4 out of...          flat        1.0   \n",
       "\n",
       "   SuperBuiltupArea_sqft  BuiltupArea_sqft  CarpetArea_sqft  servantRoom  \\\n",
       "0                    NaN               NaN      1299.957411        False   \n",
       "1                    NaN             900.0              NaN        False   \n",
       "3                 2010.0               NaN              NaN        False   \n",
       "\n",
       "   studyRoom  poojaRoom  storeRoom  otherAdditionalRoom  luxury_class  \n",
       "0      False      False      False                False             0  \n",
       "1       True       True       True                False             0  \n",
       "3      False      False      False                False             0  "
      ]
     },
     "execution_count": 59,
     "metadata": {},
     "output_type": "execute_result"
    }
   ],
   "source": [
    "# removing outliers\n",
    "data = data[(data['price_in_crores']>lower_bound) & (data['price_in_crores']<upper_bound)]\n",
    "data.head(3)"
   ]
  },
  {
   "cell_type": "code",
   "execution_count": null,
   "metadata": {},
   "outputs": [],
   "source": []
  },
  {
   "cell_type": "code",
   "execution_count": null,
   "metadata": {},
   "outputs": [],
   "source": []
  },
  {
   "cell_type": "code",
   "execution_count": null,
   "metadata": {},
   "outputs": [],
   "source": []
  },
  {
   "cell_type": "code",
   "execution_count": null,
   "metadata": {},
   "outputs": [],
   "source": []
  }
 ],
 "metadata": {
  "kernelspec": {
   "display_name": ".venv",
   "language": "python",
   "name": "python3"
  },
  "language_info": {
   "codemirror_mode": {
    "name": "ipython",
    "version": 3
   },
   "file_extension": ".py",
   "mimetype": "text/x-python",
   "name": "python",
   "nbconvert_exporter": "python",
   "pygments_lexer": "ipython3",
   "version": "3.9.5"
  },
  "orig_nbformat": 4
 },
 "nbformat": 4,
 "nbformat_minor": 2
}
