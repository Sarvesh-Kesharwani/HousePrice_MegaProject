{
 "cells": [
  {
   "cell_type": "code",
   "execution_count": 35,
   "metadata": {},
   "outputs": [
    {
     "data": {
      "text/html": [
       "<div>\n",
       "<style scoped>\n",
       "    .dataframe tbody tr th:only-of-type {\n",
       "        vertical-align: middle;\n",
       "    }\n",
       "\n",
       "    .dataframe tbody tr th {\n",
       "        vertical-align: top;\n",
       "    }\n",
       "\n",
       "    .dataframe thead th {\n",
       "        text-align: right;\n",
       "    }\n",
       "</style>\n",
       "<table border=\"1\" class=\"dataframe\">\n",
       "  <thead>\n",
       "    <tr style=\"text-align: right;\">\n",
       "      <th></th>\n",
       "      <th>Unnamed: 0</th>\n",
       "      <th>property_name</th>\n",
       "      <th>link</th>\n",
       "      <th>society</th>\n",
       "      <th>price</th>\n",
       "      <th>area</th>\n",
       "      <th>areaWithType</th>\n",
       "      <th>bedRoom</th>\n",
       "      <th>bathroom</th>\n",
       "      <th>balcony</th>\n",
       "      <th>...</th>\n",
       "      <th>facing</th>\n",
       "      <th>agePossession</th>\n",
       "      <th>nearbyLocations</th>\n",
       "      <th>description</th>\n",
       "      <th>furnishDetails</th>\n",
       "      <th>features</th>\n",
       "      <th>rating</th>\n",
       "      <th>rate</th>\n",
       "      <th>property_type</th>\n",
       "      <th>noOfFloor</th>\n",
       "    </tr>\n",
       "  </thead>\n",
       "  <tbody>\n",
       "    <tr>\n",
       "      <th>3094</th>\n",
       "      <td>3094</td>\n",
       "      <td>8 Bedroom House for sale in Uppals Southend</td>\n",
       "      <td>https://www.99acres.com/8-bhk-bedroom-independ...</td>\n",
       "      <td>NaN</td>\n",
       "      <td>NaN</td>\n",
       "      <td>(268 sq.m.) Plot Area</td>\n",
       "      <td>NaN</td>\n",
       "      <td>NaN</td>\n",
       "      <td>NaN</td>\n",
       "      <td>NaN</td>\n",
       "      <td>...</td>\n",
       "      <td>NaN</td>\n",
       "      <td>NaN</td>\n",
       "      <td>NaN</td>\n",
       "      <td>NaN</td>\n",
       "      <td>NaN</td>\n",
       "      <td>NaN</td>\n",
       "      <td>NaN</td>\n",
       "      <td>₹ 15,625/sq.ft.</td>\n",
       "      <td>house</td>\n",
       "      <td>NaN</td>\n",
       "    </tr>\n",
       "    <tr>\n",
       "      <th>1404</th>\n",
       "      <td>1404</td>\n",
       "      <td>3 BHK Flat in Sector 109 Gurgaon</td>\n",
       "      <td>https://www.99acres.com/3-bhk-bedroom-apartmen...</td>\n",
       "      <td>SBTL Caladium</td>\n",
       "      <td>1.2 Crore</td>\n",
       "      <td>₹ 6,382/sq.ft.</td>\n",
       "      <td>Super Built up area 1880(174.66 sq.m.)</td>\n",
       "      <td>3.0</td>\n",
       "      <td>2.0</td>\n",
       "      <td>2 Balconies</td>\n",
       "      <td>...</td>\n",
       "      <td>South</td>\n",
       "      <td>1 to 5 Year Old</td>\n",
       "      <td>['Palam Vihar Vyapar kendra', 'Chirag Hospital...</td>\n",
       "      <td>Situated in sector 109 gurgaon, sbtl caladium ...</td>\n",
       "      <td>['7 Fan', '1 Exhaust Fan', '1 Geyser', '7 Ligh...</td>\n",
       "      <td>['Water purifier', 'Security / Fire Alarm', 'P...</td>\n",
       "      <td>['Environment5 out of 5', 'Lifestyle4 out of 5...</td>\n",
       "      <td>NaN</td>\n",
       "      <td>flat</td>\n",
       "      <td>NaN</td>\n",
       "    </tr>\n",
       "    <tr>\n",
       "      <th>1396</th>\n",
       "      <td>1396</td>\n",
       "      <td>3 BHK Flat in Sector 70 Gurgaon</td>\n",
       "      <td>https://www.99acres.com/3-bhk-bedroom-apartmen...</td>\n",
       "      <td>Shree Vardhman Victoria3.8 ★</td>\n",
       "      <td>1.62 Crore</td>\n",
       "      <td>₹ 8,307/sq.ft.</td>\n",
       "      <td>Super Built up area 1950(181.16 sq.m.)Carpet a...</td>\n",
       "      <td>3.0</td>\n",
       "      <td>5.0</td>\n",
       "      <td>3 Balconies</td>\n",
       "      <td>...</td>\n",
       "      <td>North</td>\n",
       "      <td>1 to 5 Year Old</td>\n",
       "      <td>['Airia Mall', 'Golf Course Extn Road', 'Sohna...</td>\n",
       "      <td>This 3 bhk flat is located in shree vardhman v...</td>\n",
       "      <td>NaN</td>\n",
       "      <td>['Power Back-up', 'Feng Shui / Vaastu Complian...</td>\n",
       "      <td>['Green Area5 out of 5', 'Construction5 out of...</td>\n",
       "      <td>NaN</td>\n",
       "      <td>flat</td>\n",
       "      <td>NaN</td>\n",
       "    </tr>\n",
       "  </tbody>\n",
       "</table>\n",
       "<p>3 rows × 23 columns</p>\n",
       "</div>"
      ],
      "text/plain": [
       "      Unnamed: 0                                property_name  \\\n",
       "3094        3094  8 Bedroom House for sale in Uppals Southend   \n",
       "1404        1404             3 BHK Flat in Sector 109 Gurgaon   \n",
       "1396        1396              3 BHK Flat in Sector 70 Gurgaon   \n",
       "\n",
       "                                                   link  \\\n",
       "3094  https://www.99acres.com/8-bhk-bedroom-independ...   \n",
       "1404  https://www.99acres.com/3-bhk-bedroom-apartmen...   \n",
       "1396  https://www.99acres.com/3-bhk-bedroom-apartmen...   \n",
       "\n",
       "                           society       price                   area  \\\n",
       "3094                           NaN         NaN  (268 sq.m.) Plot Area   \n",
       "1404                 SBTL Caladium   1.2 Crore         ₹ 6,382/sq.ft.   \n",
       "1396  Shree Vardhman Victoria3.8 ★  1.62 Crore         ₹ 8,307/sq.ft.   \n",
       "\n",
       "                                           areaWithType  bedRoom  bathroom  \\\n",
       "3094                                                NaN      NaN       NaN   \n",
       "1404             Super Built up area 1880(174.66 sq.m.)      3.0       2.0   \n",
       "1396  Super Built up area 1950(181.16 sq.m.)Carpet a...      3.0       5.0   \n",
       "\n",
       "          balcony  ... facing    agePossession  \\\n",
       "3094          NaN  ...    NaN              NaN   \n",
       "1404  2 Balconies  ...  South  1 to 5 Year Old   \n",
       "1396  3 Balconies  ...  North  1 to 5 Year Old   \n",
       "\n",
       "                                        nearbyLocations  \\\n",
       "3094                                                NaN   \n",
       "1404  ['Palam Vihar Vyapar kendra', 'Chirag Hospital...   \n",
       "1396  ['Airia Mall', 'Golf Course Extn Road', 'Sohna...   \n",
       "\n",
       "                                            description  \\\n",
       "3094                                                NaN   \n",
       "1404  Situated in sector 109 gurgaon, sbtl caladium ...   \n",
       "1396  This 3 bhk flat is located in shree vardhman v...   \n",
       "\n",
       "                                         furnishDetails  \\\n",
       "3094                                                NaN   \n",
       "1404  ['7 Fan', '1 Exhaust Fan', '1 Geyser', '7 Ligh...   \n",
       "1396                                                NaN   \n",
       "\n",
       "                                               features  \\\n",
       "3094                                                NaN   \n",
       "1404  ['Water purifier', 'Security / Fire Alarm', 'P...   \n",
       "1396  ['Power Back-up', 'Feng Shui / Vaastu Complian...   \n",
       "\n",
       "                                                 rating             rate  \\\n",
       "3094                                                NaN  ₹ 15,625/sq.ft.   \n",
       "1404  ['Environment5 out of 5', 'Lifestyle4 out of 5...              NaN   \n",
       "1396  ['Green Area5 out of 5', 'Construction5 out of...              NaN   \n",
       "\n",
       "     property_type noOfFloor  \n",
       "3094         house       NaN  \n",
       "1404          flat       NaN  \n",
       "1396          flat       NaN  \n",
       "\n",
       "[3 rows x 23 columns]"
      ]
     },
     "execution_count": 35,
     "metadata": {},
     "output_type": "execute_result"
    }
   ],
   "source": [
    "import pandas as pd \n",
    "\n",
    "data = pd.read_csv(r'F:\\Github_dsc\\HousePrice_MegaProject\\2. data_cleaning\\0. data\\cleaned_level1.csv')\n",
    "data.sample(3)"
   ]
  },
  {
   "cell_type": "code",
   "execution_count": 36,
   "metadata": {},
   "outputs": [],
   "source": [
    "data.drop(columns='Unnamed: 0', inplace=True)"
   ]
  },
  {
   "cell_type": "code",
   "execution_count": 37,
   "metadata": {},
   "outputs": [
    {
     "data": {
      "text/html": [
       "<div>\n",
       "<style scoped>\n",
       "    .dataframe tbody tr th:only-of-type {\n",
       "        vertical-align: middle;\n",
       "    }\n",
       "\n",
       "    .dataframe tbody tr th {\n",
       "        vertical-align: top;\n",
       "    }\n",
       "\n",
       "    .dataframe thead th {\n",
       "        text-align: right;\n",
       "    }\n",
       "</style>\n",
       "<table border=\"1\" class=\"dataframe\">\n",
       "  <thead>\n",
       "    <tr style=\"text-align: right;\">\n",
       "      <th></th>\n",
       "      <th>property_name</th>\n",
       "      <th>link</th>\n",
       "      <th>society</th>\n",
       "      <th>price</th>\n",
       "      <th>area</th>\n",
       "      <th>areaWithType</th>\n",
       "      <th>bedRoom</th>\n",
       "      <th>bathroom</th>\n",
       "      <th>balcony</th>\n",
       "      <th>additionalRoom</th>\n",
       "      <th>...</th>\n",
       "      <th>facing</th>\n",
       "      <th>agePossession</th>\n",
       "      <th>nearbyLocations</th>\n",
       "      <th>description</th>\n",
       "      <th>furnishDetails</th>\n",
       "      <th>features</th>\n",
       "      <th>rating</th>\n",
       "      <th>rate</th>\n",
       "      <th>property_type</th>\n",
       "      <th>noOfFloor</th>\n",
       "    </tr>\n",
       "  </thead>\n",
       "  <tbody>\n",
       "    <tr>\n",
       "      <th>3670</th>\n",
       "      <td>1 Bedroom House for sale in Sector 81 Gurgaon</td>\n",
       "      <td>https://www.99acres.com/1-bhk-bedroom-independ...</td>\n",
       "      <td>NaN</td>\n",
       "      <td>89 Lac</td>\n",
       "      <td>(102 sq.m.) Built-up Area</td>\n",
       "      <td>Built Up area: 1095 (101.73 sq.m.)</td>\n",
       "      <td>1.0</td>\n",
       "      <td>1.0</td>\n",
       "      <td>No Balcony</td>\n",
       "      <td>NaN</td>\n",
       "      <td>...</td>\n",
       "      <td>NaN</td>\n",
       "      <td>undefined</td>\n",
       "      <td>['Orris Community Center', 'Petrol Pump', 'HP ...</td>\n",
       "      <td>Property for sale in sector 81, gurgaon. This ...</td>\n",
       "      <td>['1 Light', 'No AC', 'No Bed', 'No Chimney', '...</td>\n",
       "      <td>NaN</td>\n",
       "      <td>['Environment4.5 out of 5', 'Lifestyle4 out of...</td>\n",
       "      <td>₹ 8,127/sq.ft.</td>\n",
       "      <td>house</td>\n",
       "      <td>1 Floors</td>\n",
       "    </tr>\n",
       "    <tr>\n",
       "      <th>1258</th>\n",
       "      <td>2 BHK Flat in Sector 85 Gurgaon</td>\n",
       "      <td>https://www.99acres.com/2-bhk-bedroom-apartmen...</td>\n",
       "      <td>SS The Leaf3.8 ★</td>\n",
       "      <td>1.06 Crore</td>\n",
       "      <td>₹ 6,343/sq.ft.</td>\n",
       "      <td>Super Built up area 1671(155.24 sq.m.)</td>\n",
       "      <td>2.0</td>\n",
       "      <td>2.0</td>\n",
       "      <td>2 Balconies</td>\n",
       "      <td>NaN</td>\n",
       "      <td>...</td>\n",
       "      <td>South</td>\n",
       "      <td>1 to 5 Year Old</td>\n",
       "      <td>['Sapphire 83 Mall', 'Dwarka Expressway', 'Cen...</td>\n",
       "      <td>Luxury property with all basic amenities in it...</td>\n",
       "      <td>[]</td>\n",
       "      <td>['Security / Fire Alarm', 'Intercom Facility',...</td>\n",
       "      <td>['Green Area4.5 out of 5', 'Construction4.5 ou...</td>\n",
       "      <td>NaN</td>\n",
       "      <td>flat</td>\n",
       "      <td>NaN</td>\n",
       "    </tr>\n",
       "    <tr>\n",
       "      <th>2770</th>\n",
       "      <td>2 BHK Flat in Sohna</td>\n",
       "      <td>https://www.99acres.com/2-bhk-bedroom-apartmen...</td>\n",
       "      <td>MVN Athens3.7 ★</td>\n",
       "      <td>25 Lac</td>\n",
       "      <td>₹ 5,189/sq.ft.</td>\n",
       "      <td>Carpet area: 481.73 (44.75 sq.m.)</td>\n",
       "      <td>2.0</td>\n",
       "      <td>2.0</td>\n",
       "      <td>1 Balcony</td>\n",
       "      <td>Pooja Room</td>\n",
       "      <td>...</td>\n",
       "      <td>North</td>\n",
       "      <td>1 to 5 Year Old</td>\n",
       "      <td>['SBI ATM', 'Axis bank ATM', 'UCO bank ATM', '...</td>\n",
       "      <td>1 or 2bhk with all aminities,parking,play ground</td>\n",
       "      <td>NaN</td>\n",
       "      <td>['Security / Fire Alarm', 'Intercom Facility',...</td>\n",
       "      <td>['Management5 out of 5', 'Green Area4 out of 5...</td>\n",
       "      <td>NaN</td>\n",
       "      <td>flat</td>\n",
       "      <td>NaN</td>\n",
       "    </tr>\n",
       "  </tbody>\n",
       "</table>\n",
       "<p>3 rows × 22 columns</p>\n",
       "</div>"
      ],
      "text/plain": [
       "                                      property_name  \\\n",
       "3670  1 Bedroom House for sale in Sector 81 Gurgaon   \n",
       "1258                2 BHK Flat in Sector 85 Gurgaon   \n",
       "2770                            2 BHK Flat in Sohna   \n",
       "\n",
       "                                                   link           society  \\\n",
       "3670  https://www.99acres.com/1-bhk-bedroom-independ...               NaN   \n",
       "1258  https://www.99acres.com/2-bhk-bedroom-apartmen...  SS The Leaf3.8 ★   \n",
       "2770  https://www.99acres.com/2-bhk-bedroom-apartmen...   MVN Athens3.7 ★   \n",
       "\n",
       "           price                       area  \\\n",
       "3670      89 Lac  (102 sq.m.) Built-up Area   \n",
       "1258  1.06 Crore             ₹ 6,343/sq.ft.   \n",
       "2770      25 Lac             ₹ 5,189/sq.ft.   \n",
       "\n",
       "                                areaWithType  bedRoom  bathroom      balcony  \\\n",
       "3670      Built Up area: 1095 (101.73 sq.m.)      1.0       1.0   No Balcony   \n",
       "1258  Super Built up area 1671(155.24 sq.m.)      2.0       2.0  2 Balconies   \n",
       "2770       Carpet area: 481.73 (44.75 sq.m.)      2.0       2.0    1 Balcony   \n",
       "\n",
       "     additionalRoom  ... facing    agePossession  \\\n",
       "3670            NaN  ...    NaN        undefined   \n",
       "1258            NaN  ...  South  1 to 5 Year Old   \n",
       "2770     Pooja Room  ...  North  1 to 5 Year Old   \n",
       "\n",
       "                                        nearbyLocations  \\\n",
       "3670  ['Orris Community Center', 'Petrol Pump', 'HP ...   \n",
       "1258  ['Sapphire 83 Mall', 'Dwarka Expressway', 'Cen...   \n",
       "2770  ['SBI ATM', 'Axis bank ATM', 'UCO bank ATM', '...   \n",
       "\n",
       "                                            description  \\\n",
       "3670  Property for sale in sector 81, gurgaon. This ...   \n",
       "1258  Luxury property with all basic amenities in it...   \n",
       "2770   1 or 2bhk with all aminities,parking,play ground   \n",
       "\n",
       "                                         furnishDetails  \\\n",
       "3670  ['1 Light', 'No AC', 'No Bed', 'No Chimney', '...   \n",
       "1258                                                 []   \n",
       "2770                                                NaN   \n",
       "\n",
       "                                               features  \\\n",
       "3670                                                NaN   \n",
       "1258  ['Security / Fire Alarm', 'Intercom Facility',...   \n",
       "2770  ['Security / Fire Alarm', 'Intercom Facility',...   \n",
       "\n",
       "                                                 rating            rate  \\\n",
       "3670  ['Environment4.5 out of 5', 'Lifestyle4 out of...  ₹ 8,127/sq.ft.   \n",
       "1258  ['Green Area4.5 out of 5', 'Construction4.5 ou...             NaN   \n",
       "2770  ['Management5 out of 5', 'Green Area4 out of 5...             NaN   \n",
       "\n",
       "     property_type noOfFloor  \n",
       "3670         house  1 Floors  \n",
       "1258          flat       NaN  \n",
       "2770          flat       NaN  \n",
       "\n",
       "[3 rows x 22 columns]"
      ]
     },
     "execution_count": 37,
     "metadata": {},
     "output_type": "execute_result"
    }
   ],
   "source": [
    "data.sample(3)"
   ]
  },
  {
   "cell_type": "markdown",
   "metadata": {},
   "source": [
    "# lets check `society` col"
   ]
  },
  {
   "cell_type": "code",
   "execution_count": 38,
   "metadata": {},
   "outputs": [
    {
     "data": {
      "text/plain": [
       "0                         maa bhagwati residency\n",
       "1                                   Apna Enclave\n",
       "2                         Tulsiani Easy in Homes\n",
       "3                            Smart World Orchard\n",
       "4                               Parkwood Westend\n",
       "                          ...                   \n",
       "4118    Silverglades Tarudhan Valley Golf Resort\n",
       "4119    Silverglades Tarudhan Valley Golf Resort\n",
       "4120                                         NaN\n",
       "4121                                         NaN\n",
       "4122                    Signature Global City 92\n",
       "Name: society, Length: 4123, dtype: object"
      ]
     },
     "execution_count": 38,
     "metadata": {},
     "output_type": "execute_result"
    }
   ],
   "source": [
    "data['society']"
   ]
  },
  {
   "cell_type": "code",
   "execution_count": 39,
   "metadata": {},
   "outputs": [
    {
     "data": {
      "text/plain": [
       "society\n",
       "NaN                                          625\n",
       "SS The Leaf3.8 ★                              73\n",
       "Tulip Violet4.3 ★                             40\n",
       "Shapoorji Pallonji Joyville Gurugram4.0 ★     39\n",
       "Signature Global Park4.0 ★                    37\n",
       "                                            ... \n",
       "Huda Housing Board Society                     1\n",
       "Aipl Peaceful Homes                            1\n",
       "DLF Icon                                       1\n",
       "Dlf 76                                         1\n",
       "Raisina Residency3.7 ★                         1\n",
       "Name: count, Length: 771, dtype: int64"
      ]
     },
     "execution_count": 39,
     "metadata": {},
     "output_type": "execute_result"
    }
   ],
   "source": [
    "data['society'].value_counts(dropna=False)"
   ]
  },
  {
   "cell_type": "code",
   "execution_count": 40,
   "metadata": {},
   "outputs": [],
   "source": [
    "data['society'] = data['society'].str.strip().str.lower()"
   ]
  },
  {
   "cell_type": "code",
   "execution_count": 41,
   "metadata": {},
   "outputs": [
    {
     "data": {
      "text/plain": [
       "society\n",
       "NaN                                          625\n",
       "ss the leaf3.8 ★                              73\n",
       "tulip violet4.3 ★                             40\n",
       "shapoorji pallonji joyville gurugram4.0 ★     39\n",
       "signature global park4.0 ★                    37\n",
       "                                            ... \n",
       "huda housing board society                     1\n",
       "aipl peaceful homes                            1\n",
       "dlf icon                                       1\n",
       "dlf 76                                         1\n",
       "empire estate                                  1\n",
       "Name: count, Length: 762, dtype: int64"
      ]
     },
     "execution_count": 41,
     "metadata": {},
     "output_type": "execute_result"
    }
   ],
   "source": [
    "data['society'].value_counts(dropna=False)"
   ]
  },
  {
   "cell_type": "markdown",
   "metadata": {},
   "source": [
    "# got confused, so let's try balcony col first"
   ]
  },
  {
   "cell_type": "code",
   "execution_count": 42,
   "metadata": {},
   "outputs": [
    {
     "data": {
      "text/plain": [
       "0         1 Balcony\n",
       "1         1 Balcony\n",
       "2       3 Balconies\n",
       "3       2 Balconies\n",
       "4       3 Balconies\n",
       "           ...     \n",
       "4118    2 Balconies\n",
       "4119            NaN\n",
       "4120            NaN\n",
       "4121            NaN\n",
       "4122            NaN\n",
       "Name: balcony, Length: 4123, dtype: object"
      ]
     },
     "execution_count": 42,
     "metadata": {},
     "output_type": "execute_result"
    }
   ],
   "source": [
    "data['balcony']"
   ]
  },
  {
   "cell_type": "code",
   "execution_count": 43,
   "metadata": {},
   "outputs": [
    {
     "data": {
      "text/plain": [
       "balcony\n",
       "3+ Balconies    1237\n",
       "3 Balconies     1140\n",
       "2 Balconies      975\n",
       "1 Balcony        426\n",
       "No Balcony       217\n",
       "NaN              127\n",
       "balcony            1\n",
       "Name: count, dtype: int64"
      ]
     },
     "execution_count": 43,
     "metadata": {},
     "output_type": "execute_result"
    }
   ],
   "source": [
    "data['balcony'].value_counts(dropna=False)"
   ]
  },
  {
   "cell_type": "code",
   "execution_count": 44,
   "metadata": {},
   "outputs": [],
   "source": [
    "data['balcony'] = data['balcony'].str.strip().str.lower().str.split(' ').str[0]"
   ]
  },
  {
   "cell_type": "code",
   "execution_count": 49,
   "metadata": {},
   "outputs": [
    {
     "data": {
      "text/plain": [
       "balcony\n",
       "3+         1237\n",
       "3          1140\n",
       "2           975\n",
       "1           426\n",
       "0           217\n",
       "            127\n",
       "balcony       1\n",
       "Name: count, dtype: int64"
      ]
     },
     "execution_count": 49,
     "metadata": {},
     "output_type": "execute_result"
    }
   ],
   "source": [
    "data['balcony'].value_counts(dropna=False)"
   ]
  },
  {
   "cell_type": "code",
   "execution_count": 48,
   "metadata": {},
   "outputs": [],
   "source": [
    "data['balcony'].replace('no', 0, inplace=True)"
   ]
  },
  {
   "cell_type": "code",
   "execution_count": 47,
   "metadata": {},
   "outputs": [],
   "source": [
    "data['balcony'].fillna('', inplace=True)"
   ]
  },
  {
   "cell_type": "code",
   "execution_count": null,
   "metadata": {},
   "outputs": [],
   "source": []
  },
  {
   "cell_type": "code",
   "execution_count": null,
   "metadata": {},
   "outputs": [],
   "source": []
  },
  {
   "cell_type": "code",
   "execution_count": null,
   "metadata": {},
   "outputs": [],
   "source": []
  },
  {
   "cell_type": "code",
   "execution_count": null,
   "metadata": {},
   "outputs": [],
   "source": []
  }
 ],
 "metadata": {
  "kernelspec": {
   "display_name": ".venv",
   "language": "python",
   "name": "python3"
  },
  "language_info": {
   "codemirror_mode": {
    "name": "ipython",
    "version": 3
   },
   "file_extension": ".py",
   "mimetype": "text/x-python",
   "name": "python",
   "nbconvert_exporter": "python",
   "pygments_lexer": "ipython3",
   "version": "3.10.0"
  }
 },
 "nbformat": 4,
 "nbformat_minor": 2
}
