{
 "cells": [
  {
   "cell_type": "code",
   "execution_count": 5,
   "metadata": {},
   "outputs": [],
   "source": [
    "import pandas as pd \n",
    "import os"
   ]
  },
  {
   "cell_type": "code",
   "execution_count": 6,
   "metadata": {},
   "outputs": [
    {
     "name": "stdout",
     "output_type": "stream",
     "text": [
      "['experiment_data', 'flats - flats.csv', 'independent-house - independent-house.csv', 'other data']\n",
      "experiment_data\n",
      "<class 'str'>\n"
     ]
    }
   ],
   "source": [
    "print(os.listdir(r'F:\\Github_dsc\\HousePrice_MegaProject\\1. data_gathering\\cx_data'))\n",
    "print(os.listdir(r'F:\\Github_dsc\\HousePrice_MegaProject\\1. data_gathering\\cx_data')[0])\n",
    "print(type(os.listdir(r'F:\\Github_dsc\\HousePrice_MegaProject\\1. data_gathering\\cx_data')[0]))"
   ]
  },
  {
   "cell_type": "code",
   "execution_count": 7,
   "metadata": {},
   "outputs": [],
   "source": [
    "datas=[]\n",
    "for file in os.listdir(r'F:\\Github_dsc\\HousePrice_MegaProject\\1. data_gathering\\cx_data'):\n",
    "    if file.endswith('.csv'):\n",
    "        datas.append(pd.read_csv(os.path.join(r'F:\\Github_dsc\\HousePrice_MegaProject\\1. data_gathering\\cx_data', file)))"
   ]
  },
  {
   "cell_type": "code",
   "execution_count": 8,
   "metadata": {},
   "outputs": [
    {
     "name": "stdout",
     "output_type": "stream",
     "text": [
      "(20,)\n",
      "Index(['property_name', 'link', 'society', 'price', 'area', 'areaWithType',\n",
      "       'bedRoom', 'bathroom', 'balcony', 'additionalRoom', 'address',\n",
      "       'floorNum', 'facing', 'agePossession', 'nearbyLocations', 'description',\n",
      "       'furnishDetails', 'features', 'rating', 'property_id'],\n",
      "      dtype='object')\n"
     ]
    }
   ],
   "source": [
    "print(datas[0].columns.shape)\n",
    "print(datas[0].columns)"
   ]
  },
  {
   "cell_type": "code",
   "execution_count": 9,
   "metadata": {},
   "outputs": [
    {
     "name": "stdout",
     "output_type": "stream",
     "text": [
      "(21,)\n",
      "Index(['property_name', 'link', 'society', 'price', 'rate', 'area',\n",
      "       'areaWithType', 'bedRoom', 'bathroom', 'balcony', 'additionalRoom',\n",
      "       'address', 'noOfFloor', 'facing', 'agePossession', 'nearbyLocations',\n",
      "       'description', 'furnishDetails', 'features', 'rating', 'property_id'],\n",
      "      dtype='object')\n"
     ]
    }
   ],
   "source": [
    "print(datas[1].columns.shape)\n",
    "print(datas[1].columns)"
   ]
  },
  {
   "cell_type": "code",
   "execution_count": 10,
   "metadata": {},
   "outputs": [],
   "source": [
    "datas[0]['rate']=None"
   ]
  },
  {
   "cell_type": "code",
   "execution_count": 11,
   "metadata": {},
   "outputs": [
    {
     "name": "stdout",
     "output_type": "stream",
     "text": [
      "(3028, 21)\n",
      "(1095, 21)\n"
     ]
    }
   ],
   "source": [
    "for i in datas:\n",
    "    print(i.shape)"
   ]
  },
  {
   "cell_type": "code",
   "execution_count": 12,
   "metadata": {},
   "outputs": [
    {
     "data": {
      "text/html": [
       "<div>\n",
       "<style scoped>\n",
       "    .dataframe tbody tr th:only-of-type {\n",
       "        vertical-align: middle;\n",
       "    }\n",
       "\n",
       "    .dataframe tbody tr th {\n",
       "        vertical-align: top;\n",
       "    }\n",
       "\n",
       "    .dataframe thead th {\n",
       "        text-align: right;\n",
       "    }\n",
       "</style>\n",
       "<table border=\"1\" class=\"dataframe\">\n",
       "  <thead>\n",
       "    <tr style=\"text-align: right;\">\n",
       "      <th></th>\n",
       "      <th>property_name</th>\n",
       "      <th>link</th>\n",
       "      <th>society</th>\n",
       "      <th>price</th>\n",
       "      <th>area</th>\n",
       "      <th>areaWithType</th>\n",
       "      <th>bedRoom</th>\n",
       "      <th>bathroom</th>\n",
       "      <th>balcony</th>\n",
       "      <th>additionalRoom</th>\n",
       "      <th>...</th>\n",
       "      <th>facing</th>\n",
       "      <th>agePossession</th>\n",
       "      <th>nearbyLocations</th>\n",
       "      <th>description</th>\n",
       "      <th>furnishDetails</th>\n",
       "      <th>features</th>\n",
       "      <th>rating</th>\n",
       "      <th>property_id</th>\n",
       "      <th>rate</th>\n",
       "      <th>noOfFloor</th>\n",
       "    </tr>\n",
       "  </thead>\n",
       "  <tbody>\n",
       "    <tr>\n",
       "      <th>1785</th>\n",
       "      <td>3 BHK Flat in Sector 79 Gurgaon</td>\n",
       "      <td>https://www.99acres.com/3-bhk-bedroom-apartmen...</td>\n",
       "      <td>Mapsko Mount Ville4.1 ★</td>\n",
       "      <td>1.3 Crore</td>\n",
       "      <td>₹ 8,024/sq.ft.</td>\n",
       "      <td>Super Built up area 1620(150.5 sq.m.)Carpet ar...</td>\n",
       "      <td>3 Bedrooms</td>\n",
       "      <td>3 Bathrooms</td>\n",
       "      <td>3+ Balconies</td>\n",
       "      <td>NaN</td>\n",
       "      <td>...</td>\n",
       "      <td>North-East</td>\n",
       "      <td>1 to 5 Year Old</td>\n",
       "      <td>['Huda Metro Station (Gurugram)', 'Sapphire 83...</td>\n",
       "      <td>3 bhk 3 ath park facing and sun facing near to...</td>\n",
       "      <td>['5 Fan', '1 Exhaust Fan', '1 Dining Table', '...</td>\n",
       "      <td>['Water purifier', 'Security / Fire Alarm', 'P...</td>\n",
       "      <td>['Green Area5 out of 5', 'Construction5 out of...</td>\n",
       "      <td>C69305780</td>\n",
       "      <td>None</td>\n",
       "      <td>NaN</td>\n",
       "    </tr>\n",
       "    <tr>\n",
       "      <th>432</th>\n",
       "      <td>3 BHK Flat in Palam Vihar</td>\n",
       "      <td>https://www.99acres.com/3-bhk-bedroom-apartmen...</td>\n",
       "      <td>Bestech Park View Residency3.9 ★</td>\n",
       "      <td>1.51 Crore</td>\n",
       "      <td>₹ 7,869/sq.ft.</td>\n",
       "      <td>Super Built up area 1920(178.37 sq.m.)</td>\n",
       "      <td>3 Bedrooms</td>\n",
       "      <td>4 Bathrooms</td>\n",
       "      <td>3+ Balconies</td>\n",
       "      <td>Servant Room</td>\n",
       "      <td>...</td>\n",
       "      <td>South-West</td>\n",
       "      <td>5 to 10 Year Old</td>\n",
       "      <td>['Dwarka Sector 21 Metro Station', 'HUDA Marke...</td>\n",
       "      <td>Located in the popular residential address of ...</td>\n",
       "      <td>['3 Wardrobe', '5 Fan', '2 Geyser', '5 Light',...</td>\n",
       "      <td>['Security / Fire Alarm', 'Power Back-up', 'Li...</td>\n",
       "      <td>['Green Area5 out of 5', 'Construction4 out of...</td>\n",
       "      <td>D68401312</td>\n",
       "      <td>None</td>\n",
       "      <td>NaN</td>\n",
       "    </tr>\n",
       "    <tr>\n",
       "      <th>3076</th>\n",
       "      <td>4 Bedroom House for sale in Sector 70A Gurgaon</td>\n",
       "      <td>https://www.99acres.com/4-bhk-bedroom-independ...</td>\n",
       "      <td>Bptp Visionnaire</td>\n",
       "      <td>5.4 Crore</td>\n",
       "      <td>(242 sq.m.) Plot Area</td>\n",
       "      <td>Plot area 290(242.48 sq.m.)</td>\n",
       "      <td>4 Bedrooms</td>\n",
       "      <td>5 Bathrooms</td>\n",
       "      <td>3+ Balconies</td>\n",
       "      <td>Pooja Room,Store Room,Study Room,Servant Room</td>\n",
       "      <td>...</td>\n",
       "      <td>North</td>\n",
       "      <td>1 to 5 Year Old</td>\n",
       "      <td>['Good Earth City Center 2', 'Kunskapsskolan I...</td>\n",
       "      <td>Bptp duplex villa 290 sqyd plot size, private ...</td>\n",
       "      <td>['5 Wardrobe', '1 Water Purifier', '6 Geyser',...</td>\n",
       "      <td>['Security / Fire Alarm', 'Feng Shui / Vaastu ...</td>\n",
       "      <td>['Environment5 out of 5', 'Lifestyle4 out of 5...</td>\n",
       "      <td>H68309874</td>\n",
       "      <td>₹ 20,690/sq.ft.</td>\n",
       "      <td>3 Floors</td>\n",
       "    </tr>\n",
       "  </tbody>\n",
       "</table>\n",
       "<p>3 rows × 22 columns</p>\n",
       "</div>"
      ],
      "text/plain": [
       "                                       property_name  \\\n",
       "1785                 3 BHK Flat in Sector 79 Gurgaon   \n",
       "432                        3 BHK Flat in Palam Vihar   \n",
       "3076  4 Bedroom House for sale in Sector 70A Gurgaon   \n",
       "\n",
       "                                                   link  \\\n",
       "1785  https://www.99acres.com/3-bhk-bedroom-apartmen...   \n",
       "432   https://www.99acres.com/3-bhk-bedroom-apartmen...   \n",
       "3076  https://www.99acres.com/4-bhk-bedroom-independ...   \n",
       "\n",
       "                               society       price                   area  \\\n",
       "1785           Mapsko Mount Ville4.1 ★   1.3 Crore         ₹ 8,024/sq.ft.   \n",
       "432   Bestech Park View Residency3.9 ★  1.51 Crore         ₹ 7,869/sq.ft.   \n",
       "3076                  Bptp Visionnaire   5.4 Crore  (242 sq.m.) Plot Area   \n",
       "\n",
       "                                           areaWithType     bedRoom  \\\n",
       "1785  Super Built up area 1620(150.5 sq.m.)Carpet ar...  3 Bedrooms   \n",
       "432              Super Built up area 1920(178.37 sq.m.)  3 Bedrooms   \n",
       "3076                        Plot area 290(242.48 sq.m.)  4 Bedrooms   \n",
       "\n",
       "         bathroom       balcony  \\\n",
       "1785  3 Bathrooms  3+ Balconies   \n",
       "432   4 Bathrooms  3+ Balconies   \n",
       "3076  5 Bathrooms  3+ Balconies   \n",
       "\n",
       "                                     additionalRoom  ...      facing  \\\n",
       "1785                                            NaN  ...  North-East   \n",
       "432                                    Servant Room  ...  South-West   \n",
       "3076  Pooja Room,Store Room,Study Room,Servant Room  ...       North   \n",
       "\n",
       "         agePossession                                    nearbyLocations  \\\n",
       "1785   1 to 5 Year Old  ['Huda Metro Station (Gurugram)', 'Sapphire 83...   \n",
       "432   5 to 10 Year Old  ['Dwarka Sector 21 Metro Station', 'HUDA Marke...   \n",
       "3076   1 to 5 Year Old  ['Good Earth City Center 2', 'Kunskapsskolan I...   \n",
       "\n",
       "                                            description  \\\n",
       "1785  3 bhk 3 ath park facing and sun facing near to...   \n",
       "432   Located in the popular residential address of ...   \n",
       "3076  Bptp duplex villa 290 sqyd plot size, private ...   \n",
       "\n",
       "                                         furnishDetails  \\\n",
       "1785  ['5 Fan', '1 Exhaust Fan', '1 Dining Table', '...   \n",
       "432   ['3 Wardrobe', '5 Fan', '2 Geyser', '5 Light',...   \n",
       "3076  ['5 Wardrobe', '1 Water Purifier', '6 Geyser',...   \n",
       "\n",
       "                                               features  \\\n",
       "1785  ['Water purifier', 'Security / Fire Alarm', 'P...   \n",
       "432   ['Security / Fire Alarm', 'Power Back-up', 'Li...   \n",
       "3076  ['Security / Fire Alarm', 'Feng Shui / Vaastu ...   \n",
       "\n",
       "                                                 rating property_id  \\\n",
       "1785  ['Green Area5 out of 5', 'Construction5 out of...   C69305780   \n",
       "432   ['Green Area5 out of 5', 'Construction4 out of...   D68401312   \n",
       "3076  ['Environment5 out of 5', 'Lifestyle4 out of 5...   H68309874   \n",
       "\n",
       "                 rate noOfFloor  \n",
       "1785             None       NaN  \n",
       "432              None       NaN  \n",
       "3076  ₹ 20,690/sq.ft.  3 Floors  \n",
       "\n",
       "[3 rows x 22 columns]"
      ]
     },
     "execution_count": 12,
     "metadata": {},
     "output_type": "execute_result"
    }
   ],
   "source": [
    "house_data = pd.concat([datas[0],datas[1]], axis=0, ignore_index=True)\n",
    "house_data.sample(3)"
   ]
  },
  {
   "cell_type": "code",
   "execution_count": 14,
   "metadata": {},
   "outputs": [],
   "source": [
    "house_data.to_csv(r'F:\\Github_dsc\\HousePrice_MegaProject\\2. data_cleaning\\data\\house_merged_data.csv')"
   ]
  },
  {
   "cell_type": "code",
   "execution_count": null,
   "metadata": {},
   "outputs": [],
   "source": []
  },
  {
   "cell_type": "code",
   "execution_count": null,
   "metadata": {},
   "outputs": [],
   "source": []
  }
 ],
 "metadata": {
  "kernelspec": {
   "display_name": ".venv",
   "language": "python",
   "name": "python3"
  },
  "language_info": {
   "codemirror_mode": {
    "name": "ipython",
    "version": 3
   },
   "file_extension": ".py",
   "mimetype": "text/x-python",
   "name": "python",
   "nbconvert_exporter": "python",
   "pygments_lexer": "ipython3",
   "version": "3.10.0"
  }
 },
 "nbformat": 4,
 "nbformat_minor": 2
}
