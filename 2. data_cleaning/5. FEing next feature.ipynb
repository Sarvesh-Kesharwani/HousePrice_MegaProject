{
 "cells": [
  {
   "cell_type": "markdown",
   "metadata": {},
   "source": [
    "### loading dataset"
   ]
  },
  {
   "cell_type": "code",
   "execution_count": 2,
   "metadata": {},
   "outputs": [
    {
     "data": {
      "text/html": [
       "<div>\n",
       "<style scoped>\n",
       "    .dataframe tbody tr th:only-of-type {\n",
       "        vertical-align: middle;\n",
       "    }\n",
       "\n",
       "    .dataframe tbody tr th {\n",
       "        vertical-align: top;\n",
       "    }\n",
       "\n",
       "    .dataframe thead th {\n",
       "        text-align: right;\n",
       "    }\n",
       "</style>\n",
       "<table border=\"1\" class=\"dataframe\">\n",
       "  <thead>\n",
       "    <tr style=\"text-align: right;\">\n",
       "      <th></th>\n",
       "      <th>property_name</th>\n",
       "      <th>sector</th>\n",
       "      <th>society</th>\n",
       "      <th>area_in_sqft</th>\n",
       "      <th>price_in_crores</th>\n",
       "      <th>price_per_sqft</th>\n",
       "      <th>areaWithType</th>\n",
       "      <th>bedRoom</th>\n",
       "      <th>bathroom</th>\n",
       "      <th>balcony</th>\n",
       "      <th>additionalRoom</th>\n",
       "      <th>address</th>\n",
       "      <th>floorNum</th>\n",
       "      <th>facing</th>\n",
       "      <th>agePossession</th>\n",
       "      <th>nearbyLocations</th>\n",
       "      <th>description</th>\n",
       "      <th>furnishDetails</th>\n",
       "      <th>features</th>\n",
       "      <th>rating</th>\n",
       "      <th>property_type</th>\n",
       "      <th>noOfFloor</th>\n",
       "      <th>area</th>\n",
       "    </tr>\n",
       "  </thead>\n",
       "  <tbody>\n",
       "    <tr>\n",
       "      <th>0</th>\n",
       "      <td>2 BHK Flat in Sector 70 Gurgaon</td>\n",
       "      <td>sector 70</td>\n",
       "      <td>shree vardhman victoria</td>\n",
       "      <td>1300.0</td>\n",
       "      <td>1.10</td>\n",
       "      <td>8461.0</td>\n",
       "      <td>Carpet area: 1300 (120.77 sq.m.)</td>\n",
       "      <td>2.0</td>\n",
       "      <td>2.0</td>\n",
       "      <td>2</td>\n",
       "      <td>not available</td>\n",
       "      <td>Sector 70 Gurgaon, Gurgaon, Haryana</td>\n",
       "      <td>8.0</td>\n",
       "      <td>north-east</td>\n",
       "      <td>1 to 5 Year Old</td>\n",
       "      <td>['Airia Mall', 'Golf Course Extn Road', 'Sohna Road', 'Southern Peripheral Rd, Gurugram', 'Kunskapsskolan International', 'Ektaa Hospitals  Main Sohna Rd', 'Sanjeevani Hospital - Child Specialist', 'Federal Bank Sector 71', 'Central Bank Of India Sohna Rd', 'Axis Bank, Sohna Rd', 'Spaze Palazo, Golf Course Ext Rd', 'VATIKA BUSINESS PARK Sohna Rd', 'The Medicity, Spaze iTech Park', 'Tulip Violet Society, Sector 69', 'IndianOil, Hasanpur']</td>\n",
       "      <td>Square yards rera reg.\\r\\nHrera 660/2017/307\\r\\nProject rera reg.\\r\\n70 of 2017\\r\\nShree vardhman victoria - Project info\\r\\nShree vardhman victoria is an exclusive project located in sector 70, southern peripheral road and well connected by major road(s) like sohna road, southern peripheral road. The total area in which shree vardhman victoria has been built is 11 acre. This project has been developed by shree vardhman who are one of the reputed developers in the gurgaon. The project current status is ready to move. It has 592 units. The apartment units are available in various configurations like 2 bhk flats at a price of rs 82.44 l with property size of 1300 sqft, 3 bhk flats at a price of rs 1.24 cr with property size of 1950 sqft, 4 bhk flats at a price of rs 1.62 cr with property size of 2550 sqft.\\r\\nShree vardhman victoria - Price list\\r\\nUnit type area new home price*\\r\\n2 bhk 1300 sq. Ft.\\r\\nApartment \\r\\n1300 sq. Ft.\\r\\n(Saleable)\\r\\n 82.44 lac\\r\\n3 bhk 1950 sq. Ft.\\r\\nA...</td>\n",
       "      <td>['3 Wardrobe', '1 Modular Kitchen', '1 Chimney', 'No AC', 'No Bed', 'No Curtains', 'No Dining Table', 'No Exhaust Fan', 'No Fan', 'No Geyser', 'No Light', 'No Microwave', 'No Fridge', 'No Sofa', 'No Stove', 'No TV', 'No Washing Machine', 'No Water Purifier']</td>\n",
       "      <td>['Security / Fire Alarm', 'Power Back-up', 'Feng Shui / Vaastu Compliant', 'Intercom Facility', 'Lift(s)', 'High Ceiling Height', 'Maintenance Staff', 'False Ceiling Lighting', 'Water Storage', 'Separate entry for servant room', 'No open drainage around', 'Piped-gas', 'Swimming Pool', 'Park', 'Internet/wi-fi connectivity', 'Shopping Centre', 'Fitness Centre / GYM', 'Waste Disposal', 'Rain Water Harvesting', 'Club house / Community Center', 'Water softening plant']</td>\n",
       "      <td>['Green Area5 out of 5', 'Construction5 out of 5', 'Management4.5 out of 5', 'Amenities4.5 out of 5', 'Connectivity3.5 out of 5']</td>\n",
       "      <td>flat</td>\n",
       "      <td>1.0</td>\n",
       "      <td>NaN</td>\n",
       "    </tr>\n",
       "    <tr>\n",
       "      <th>1</th>\n",
       "      <td>3 Bedroom House for sale in Sector 40 Gurgaon</td>\n",
       "      <td>sector 40</td>\n",
       "      <td>NaN</td>\n",
       "      <td>900.0</td>\n",
       "      <td>2.15</td>\n",
       "      <td>23889.0</td>\n",
       "      <td>Plot area 100(83.61 sq.m.)</td>\n",
       "      <td>3.0</td>\n",
       "      <td>3.0</td>\n",
       "      <td>3</td>\n",
       "      <td>Pooja Room,Study Room,Store Room</td>\n",
       "      <td>Sector 40 Gurgaon, Gurgaon, Haryana</td>\n",
       "      <td>0.0</td>\n",
       "      <td>NaN</td>\n",
       "      <td>5 to 10 year old</td>\n",
       "      <td>['Huda city centre metro station', 'Axis bank ATM', 'State bank of india ATM', 'Icici bank ATM', 'Icici ATM', 'Citi bank ATM', 'Axis bank ATM', 'Hdfc ATM', 'Standard chartered ATM', 'Hdfc bank ATM', 'Axis bank ATM', 'Hdfc bank ATM', 'State bank of india ATM', 'Dispencery', 'Shivam Hospital Gurgaon', 'Fortis Memorial Research Institute Fortis Vivekanand Hospital', 'Dr. Naval Mendiratta', 'Centre For Sight Gurgaon Sector 29', 'Sukhmani Hospital Pvt. Ltd', 'Ahmed Hospital Multi Speciality', \"DR AKRAM JAWED'S THE UPPER LIMB CLINIC\", 'Medanta', 'Gardian Pharmacy', 'City Medical', 'Gardian Pharmacy', 'Pernod Ricard Charitable Dispensary', 'IBP Petrol Pump', 'Bharat petroleum', 'Hdfc bank', 'Raj Restaurant', 'Fast food', 'Fast Food', 'Om Sweets', 'Bar and restaurant', 'Cafe Coffee Day', '32nd Milestone', 'Darbar', 'PWO house', 'Dhabba', 'St. Angels Jr', 'School of Inspired Leadership SOIL', 'CR Model Public School', 'Manav Rachna School', 'St. Angels Sr', 'Amity Global School', 'Salvan Pu...</td>\n",
       "      <td>Its just behind ryan international school and huda market and nh8 are two minutes away 3 bedroom excellent location</td>\n",
       "      <td>['4 Wardrobe', '5 Fan', '4 Geyser', '2 Light', 'No AC', 'No Bed', 'No Chimney', 'No Curtains', 'No Dining Table', 'No Exhaust Fan', 'No Modular Kitchen', 'No Microwave', 'No Fridge', 'No Sofa', 'No Stove', 'No TV', 'No Washing Machine', 'No Water Purifier']</td>\n",
       "      <td>['Feng Shui / Vaastu Compliant', 'Private Garden / Terrace', 'Water purifier', 'Park', 'Natural Light', 'Airy Rooms', 'Club house / Community Center']</td>\n",
       "      <td>['Environment4 out of 5', 'Lifestyle4 out of 5', 'Connectivity4 out of 5', 'Safety4 out of 5']</td>\n",
       "      <td>house</td>\n",
       "      <td>3.0</td>\n",
       "      <td>(84 sq.m.) Plot Area</td>\n",
       "    </tr>\n",
       "    <tr>\n",
       "      <th>2</th>\n",
       "      <td>5 Bedroom House for sale in Palam Vihar</td>\n",
       "      <td>palam vihar</td>\n",
       "      <td>ansals palam vihar</td>\n",
       "      <td>4680.0</td>\n",
       "      <td>9.00</td>\n",
       "      <td>19231.0</td>\n",
       "      <td>Plot area 520(434.79 sq.m.)</td>\n",
       "      <td>5.0</td>\n",
       "      <td>5.0</td>\n",
       "      <td>2</td>\n",
       "      <td>Pooja Room,Study Room,Servant Room,Store Room</td>\n",
       "      <td>J-Block, Palam Vihar, Gurgaon, Haryana</td>\n",
       "      <td>0.0</td>\n",
       "      <td>north</td>\n",
       "      <td>10+ year old</td>\n",
       "      <td>['Palam Vihar Vyapar kendra', 'Palam triangle', 'HUDA Sector 23 Market', 'Ram Mandir', 'Metro Hospital and Heart Institute Gurgaon', \"DR KAPOOR'S Dental Care and Implant Centre\", 'Kalyan Hospital Gurgaon', 'Ansals plaza underground car parking', 'Ansals Plaza above ground car parking', 'HUDA sector 23 parking', 'Axis bank', 'Punjab national bank', 'Oriental bank of commerce', 'Big Cinemas', 'Cafe Coffee Day', 'Pizza Hut', \"Domino's Pizza\", 'Moti Mahal', 'Pind Baluchi', \"McDonald's\", 'Om Sweets', 'Chiranjiv Bharati School', 'Masti ki Pathshala Teach India', 'Swiss Cottage school', 'THE NORTHCAP UNIVERSITY', 'Palam vihar railway station', 'Bijwasan railway station']</td>\n",
       "      <td>North facing plot aviable on sale in palam vihar , marg , very good location beautiful approach, vide 18 mtr. Road and direct entry 60m road in front, call us for more details regarding this plot.</td>\n",
       "      <td>['1 Water Purifier', '4 Fan', '1 Fridge', '1 Exhaust Fan', '5 Geyser', '1 Stove', '5 Light', '5 AC', '1 Modular Kitchen', '1 Chimney', '1 Curtains', '5 Wardrobe', '1 Washing Machine', 'No Bed', 'No Dining Table', 'No Microwave', 'No Sofa', 'No TV']</td>\n",
       "      <td>['Feng Shui / Vaastu Compliant', 'Private Garden / Terrace', 'High Ceiling Height', 'Maintenance Staff', 'False Ceiling Lighting', 'Water Storage', 'Separate entry for servant room', 'No open drainage around', 'Bank Attached Property', 'Piped-gas', 'Visitor Parking', 'Swimming Pool', 'Park', 'Security Personnel', 'Internet/wi-fi connectivity', 'Low Density Society', 'Fitness Centre / GYM', 'Waste Disposal', 'Rain Water Harvesting', 'Club house / Community Center']</td>\n",
       "      <td>['Environment5 out of 5', 'Safety4 out of 5', 'Lifestyle5 out of 5', 'Connectivity5 out of 5']</td>\n",
       "      <td>house</td>\n",
       "      <td>2.0</td>\n",
       "      <td>(435 sq.m.) Plot Area</td>\n",
       "    </tr>\n",
       "  </tbody>\n",
       "</table>\n",
       "</div>"
      ],
      "text/plain": [
       "                                   property_name        sector  \\\n",
       "0                2 BHK Flat in Sector 70 Gurgaon    sector 70    \n",
       "1  3 Bedroom House for sale in Sector 40 Gurgaon    sector 40    \n",
       "2        5 Bedroom House for sale in Palam Vihar   palam vihar   \n",
       "\n",
       "                   society  area_in_sqft  price_in_crores  price_per_sqft  \\\n",
       "0  shree vardhman victoria        1300.0             1.10          8461.0   \n",
       "1                      NaN         900.0             2.15         23889.0   \n",
       "2       ansals palam vihar        4680.0             9.00         19231.0   \n",
       "\n",
       "                       areaWithType  bedRoom  bathroom balcony  \\\n",
       "0  Carpet area: 1300 (120.77 sq.m.)      2.0       2.0       2   \n",
       "1        Plot area 100(83.61 sq.m.)      3.0       3.0       3   \n",
       "2       Plot area 520(434.79 sq.m.)      5.0       5.0       2   \n",
       "\n",
       "                                  additionalRoom  \\\n",
       "0                                  not available   \n",
       "1               Pooja Room,Study Room,Store Room   \n",
       "2  Pooja Room,Study Room,Servant Room,Store Room   \n",
       "\n",
       "                                  address  floorNum      facing  \\\n",
       "0     Sector 70 Gurgaon, Gurgaon, Haryana       8.0  north-east   \n",
       "1     Sector 40 Gurgaon, Gurgaon, Haryana       0.0         NaN   \n",
       "2  J-Block, Palam Vihar, Gurgaon, Haryana       0.0       north   \n",
       "\n",
       "      agePossession  \\\n",
       "0   1 to 5 Year Old   \n",
       "1  5 to 10 year old   \n",
       "2      10+ year old   \n",
       "\n",
       "                                                                                                                                                                                                                                                                                                                                                                                                                                                                                                                                                                                                                                                                                                                                                                                                                                                                                                                                                                                                                           nearbyLocations  \\\n",
       "0                                                                                                                                                                                                                                                                                                                                                                                                                                                                                                                                                                                ['Airia Mall', 'Golf Course Extn Road', 'Sohna Road', 'Southern Peripheral Rd, Gurugram', 'Kunskapsskolan International', 'Ektaa Hospitals  Main Sohna Rd', 'Sanjeevani Hospital - Child Specialist', 'Federal Bank Sector 71', 'Central Bank Of India Sohna Rd', 'Axis Bank, Sohna Rd', 'Spaze Palazo, Golf Course Ext Rd', 'VATIKA BUSINESS PARK Sohna Rd', 'The Medicity, Spaze iTech Park', 'Tulip Violet Society, Sector 69', 'IndianOil, Hasanpur']   \n",
       "1  ['Huda city centre metro station', 'Axis bank ATM', 'State bank of india ATM', 'Icici bank ATM', 'Icici ATM', 'Citi bank ATM', 'Axis bank ATM', 'Hdfc ATM', 'Standard chartered ATM', 'Hdfc bank ATM', 'Axis bank ATM', 'Hdfc bank ATM', 'State bank of india ATM', 'Dispencery', 'Shivam Hospital Gurgaon', 'Fortis Memorial Research Institute Fortis Vivekanand Hospital', 'Dr. Naval Mendiratta', 'Centre For Sight Gurgaon Sector 29', 'Sukhmani Hospital Pvt. Ltd', 'Ahmed Hospital Multi Speciality', \"DR AKRAM JAWED'S THE UPPER LIMB CLINIC\", 'Medanta', 'Gardian Pharmacy', 'City Medical', 'Gardian Pharmacy', 'Pernod Ricard Charitable Dispensary', 'IBP Petrol Pump', 'Bharat petroleum', 'Hdfc bank', 'Raj Restaurant', 'Fast food', 'Fast Food', 'Om Sweets', 'Bar and restaurant', 'Cafe Coffee Day', '32nd Milestone', 'Darbar', 'PWO house', 'Dhabba', 'St. Angels Jr', 'School of Inspired Leadership SOIL', 'CR Model Public School', 'Manav Rachna School', 'St. Angels Sr', 'Amity Global School', 'Salvan Pu...   \n",
       "2                                                                                                                                                                                                                                                                                                                                         ['Palam Vihar Vyapar kendra', 'Palam triangle', 'HUDA Sector 23 Market', 'Ram Mandir', 'Metro Hospital and Heart Institute Gurgaon', \"DR KAPOOR'S Dental Care and Implant Centre\", 'Kalyan Hospital Gurgaon', 'Ansals plaza underground car parking', 'Ansals Plaza above ground car parking', 'HUDA sector 23 parking', 'Axis bank', 'Punjab national bank', 'Oriental bank of commerce', 'Big Cinemas', 'Cafe Coffee Day', 'Pizza Hut', \"Domino's Pizza\", 'Moti Mahal', 'Pind Baluchi', \"McDonald's\", 'Om Sweets', 'Chiranjiv Bharati School', 'Masti ki Pathshala Teach India', 'Swiss Cottage school', 'THE NORTHCAP UNIVERSITY', 'Palam vihar railway station', 'Bijwasan railway station']   \n",
       "\n",
       "                                                                                                                                                                                                                                                                                                                                                                                                                                                                                                                                                                                                                                                                                                                                                                                                                                                                                                                                                                                                                               description  \\\n",
       "0  Square yards rera reg.\\r\\nHrera 660/2017/307\\r\\nProject rera reg.\\r\\n70 of 2017\\r\\nShree vardhman victoria - Project info\\r\\nShree vardhman victoria is an exclusive project located in sector 70, southern peripheral road and well connected by major road(s) like sohna road, southern peripheral road. The total area in which shree vardhman victoria has been built is 11 acre. This project has been developed by shree vardhman who are one of the reputed developers in the gurgaon. The project current status is ready to move. It has 592 units. The apartment units are available in various configurations like 2 bhk flats at a price of rs 82.44 l with property size of 1300 sqft, 3 bhk flats at a price of rs 1.24 cr with property size of 1950 sqft, 4 bhk flats at a price of rs 1.62 cr with property size of 2550 sqft.\\r\\nShree vardhman victoria - Price list\\r\\nUnit type area new home price*\\r\\n2 bhk 1300 sq. Ft.\\r\\nApartment \\r\\n1300 sq. Ft.\\r\\n(Saleable)\\r\\n 82.44 lac\\r\\n3 bhk 1950 sq. Ft.\\r\\nA...   \n",
       "1                                                                                                                                                                                                                                                                                                                                                                                                                                                                                                                                                                                                                                                                                                                                                                                                                                                                                                                      Its just behind ryan international school and huda market and nh8 are two minutes away 3 bedroom excellent location   \n",
       "2                                                                                                                                                                                                                                                                                                                                                                                                                                                                                                                                                                                                                                                                                                                                                                                                                                     North facing plot aviable on sale in palam vihar , marg , very good location beautiful approach, vide 18 mtr. Road and direct entry 60m road in front, call us for more details regarding this plot.   \n",
       "\n",
       "                                                                                                                                                                                                                                                       furnishDetails  \\\n",
       "0  ['3 Wardrobe', '1 Modular Kitchen', '1 Chimney', 'No AC', 'No Bed', 'No Curtains', 'No Dining Table', 'No Exhaust Fan', 'No Fan', 'No Geyser', 'No Light', 'No Microwave', 'No Fridge', 'No Sofa', 'No Stove', 'No TV', 'No Washing Machine', 'No Water Purifier']   \n",
       "1   ['4 Wardrobe', '5 Fan', '4 Geyser', '2 Light', 'No AC', 'No Bed', 'No Chimney', 'No Curtains', 'No Dining Table', 'No Exhaust Fan', 'No Modular Kitchen', 'No Microwave', 'No Fridge', 'No Sofa', 'No Stove', 'No TV', 'No Washing Machine', 'No Water Purifier']   \n",
       "2            ['1 Water Purifier', '4 Fan', '1 Fridge', '1 Exhaust Fan', '5 Geyser', '1 Stove', '5 Light', '5 AC', '1 Modular Kitchen', '1 Chimney', '1 Curtains', '5 Wardrobe', '1 Washing Machine', 'No Bed', 'No Dining Table', 'No Microwave', 'No Sofa', 'No TV']   \n",
       "\n",
       "                                                                                                                                                                                                                                                                                                                                                                                                                                                                               features  \\\n",
       "0  ['Security / Fire Alarm', 'Power Back-up', 'Feng Shui / Vaastu Compliant', 'Intercom Facility', 'Lift(s)', 'High Ceiling Height', 'Maintenance Staff', 'False Ceiling Lighting', 'Water Storage', 'Separate entry for servant room', 'No open drainage around', 'Piped-gas', 'Swimming Pool', 'Park', 'Internet/wi-fi connectivity', 'Shopping Centre', 'Fitness Centre / GYM', 'Waste Disposal', 'Rain Water Harvesting', 'Club house / Community Center', 'Water softening plant']   \n",
       "1                                                                                                                                                                                                                                                                                                                                ['Feng Shui / Vaastu Compliant', 'Private Garden / Terrace', 'Water purifier', 'Park', 'Natural Light', 'Airy Rooms', 'Club house / Community Center']   \n",
       "2  ['Feng Shui / Vaastu Compliant', 'Private Garden / Terrace', 'High Ceiling Height', 'Maintenance Staff', 'False Ceiling Lighting', 'Water Storage', 'Separate entry for servant room', 'No open drainage around', 'Bank Attached Property', 'Piped-gas', 'Visitor Parking', 'Swimming Pool', 'Park', 'Security Personnel', 'Internet/wi-fi connectivity', 'Low Density Society', 'Fitness Centre / GYM', 'Waste Disposal', 'Rain Water Harvesting', 'Club house / Community Center']   \n",
       "\n",
       "                                                                                                                              rating  \\\n",
       "0  ['Green Area5 out of 5', 'Construction5 out of 5', 'Management4.5 out of 5', 'Amenities4.5 out of 5', 'Connectivity3.5 out of 5']   \n",
       "1                                     ['Environment4 out of 5', 'Lifestyle4 out of 5', 'Connectivity4 out of 5', 'Safety4 out of 5']   \n",
       "2                                     ['Environment5 out of 5', 'Safety4 out of 5', 'Lifestyle5 out of 5', 'Connectivity5 out of 5']   \n",
       "\n",
       "  property_type  noOfFloor                   area  \n",
       "0          flat        1.0                    NaN  \n",
       "1         house        3.0   (84 sq.m.) Plot Area  \n",
       "2         house        2.0  (435 sq.m.) Plot Area  "
      ]
     },
     "execution_count": 2,
     "metadata": {},
     "output_type": "execute_result"
    }
   ],
   "source": [
    "import pandas as pd\n",
    "pd.set_option('display.max_columns', None)\n",
    "pd.set_option('display.max_colwidth', 1000)\n",
    "data = pd.read_csv(r'../2. data_cleaning\\4.1 some cols FEed.csv')\n",
    "data.head(3)"
   ]
  },
  {
   "cell_type": "markdown",
   "metadata": {},
   "source": [
    "### FEing `areaWithType` col"
   ]
  },
  {
   "cell_type": "code",
   "execution_count": 3,
   "metadata": {},
   "outputs": [
    {
     "data": {
      "text/plain": [
       "0    Carpet area: 1300 (120.77 sq.m.)\n",
       "1          Plot area 100(83.61 sq.m.)\n",
       "2         Plot area 520(434.79 sq.m.)\n",
       "Name: areaWithType, dtype: object"
      ]
     },
     "execution_count": 3,
     "metadata": {},
     "output_type": "execute_result"
    }
   ],
   "source": [
    "data['areaWithType'].head(3)"
   ]
  },
  {
   "cell_type": "markdown",
   "metadata": {},
   "source": [
    "#### `area_in_sqft` col contains one of the 3 area_types in `areaWithType` col."
   ]
  },
  {
   "cell_type": "code",
   "execution_count": 4,
   "metadata": {},
   "outputs": [
    {
     "data": {
      "text/html": [
       "<div>\n",
       "<style scoped>\n",
       "    .dataframe tbody tr th:only-of-type {\n",
       "        vertical-align: middle;\n",
       "    }\n",
       "\n",
       "    .dataframe tbody tr th {\n",
       "        vertical-align: top;\n",
       "    }\n",
       "\n",
       "    .dataframe thead th {\n",
       "        text-align: right;\n",
       "    }\n",
       "</style>\n",
       "<table border=\"1\" class=\"dataframe\">\n",
       "  <thead>\n",
       "    <tr style=\"text-align: right;\">\n",
       "      <th></th>\n",
       "      <th>area_in_sqft</th>\n",
       "      <th>areaWithType</th>\n",
       "    </tr>\n",
       "  </thead>\n",
       "  <tbody>\n",
       "    <tr>\n",
       "      <th>2190</th>\n",
       "      <td>773.0</td>\n",
       "      <td>Built Up area: 761 (70.7 sq.m.)</td>\n",
       "    </tr>\n",
       "    <tr>\n",
       "      <th>2203</th>\n",
       "      <td>1935.0</td>\n",
       "      <td>Plot area 215(179.77 sq.m.)</td>\n",
       "    </tr>\n",
       "    <tr>\n",
       "      <th>2531</th>\n",
       "      <td>1094.0</td>\n",
       "      <td>Super Built up area 1360(126.35 sq.m.)Carpet area: 1094 sq.ft. (101.64 sq.m.)</td>\n",
       "    </tr>\n",
       "  </tbody>\n",
       "</table>\n",
       "</div>"
      ],
      "text/plain": [
       "      area_in_sqft  \\\n",
       "2190         773.0   \n",
       "2203        1935.0   \n",
       "2531        1094.0   \n",
       "\n",
       "                                                                       areaWithType  \n",
       "2190                                                Built Up area: 761 (70.7 sq.m.)  \n",
       "2203                                                    Plot area 215(179.77 sq.m.)  \n",
       "2531  Super Built up area 1360(126.35 sq.m.)Carpet area: 1094 sq.ft. (101.64 sq.m.)  "
      ]
     },
     "execution_count": 4,
     "metadata": {},
     "output_type": "execute_result"
    }
   ],
   "source": [
    "data[['area_in_sqft', 'areaWithType']].sample(3)"
   ]
  },
  {
   "cell_type": "markdown",
   "metadata": {},
   "source": [
    "#### creating `superBuiltupArea` col"
   ]
  },
  {
   "cell_type": "code",
   "execution_count": 5,
   "metadata": {},
   "outputs": [
    {
     "data": {
      "text/plain": [
       "3                                                                                       Super Built up area 2010(186.74 sq.m.)\n",
       "11                                                                                      Super Built up area 2217(205.97 sq.m.)\n",
       "15                                                                                        Super Built up area 700(65.03 sq.m.)\n",
       "16      Super Built up area 1424(132.29 sq.m.)Built Up area: 1200 sq.ft. (111.48 sq.m.)Carpet area: 1139 sq.ft. (105.82 sq.m.)\n",
       "17                                                                                      Super Built up area 1960(182.09 sq.m.)\n",
       "                                                                 ...                                                          \n",
       "4068                                             Super Built up area 1990(184.88 sq.m.)Carpet area: 1700 sq.ft. (157.94 sq.m.)\n",
       "4071                                                                                    Super Built up area 1950(181.16 sq.m.)\n",
       "4072     Super Built up area 1337(124.21 sq.m.)Built Up area: 1330 sq.ft. (123.56 sq.m.)Carpet area: 1050 sq.ft. (97.55 sq.m.)\n",
       "4073                                                                                    Super Built up area 2905(269.88 sq.m.)\n",
       "4078                                                                                    Super Built up area 1780(165.37 sq.m.)\n",
       "Name: areaWithType, Length: 1934, dtype: object"
      ]
     },
     "execution_count": 5,
     "metadata": {},
     "output_type": "execute_result"
    }
   ],
   "source": [
    "# areaWithType containing \"super\" keyword\n",
    "data[data['areaWithType'].str.lower().str.strip().fillna('').str.contains('super')]['areaWithType']"
   ]
  },
  {
   "cell_type": "code",
   "execution_count": 6,
   "metadata": {},
   "outputs": [
    {
     "data": {
      "text/plain": [
       "0        NaN\n",
       "1        NaN\n",
       "2        NaN\n",
       "3       2010\n",
       "4        NaN\n",
       "        ... \n",
       "4077     NaN\n",
       "4078    1780\n",
       "4079     NaN\n",
       "4080     NaN\n",
       "4081     NaN\n",
       "Name: SuperBuiltupArea, Length: 4082, dtype: object"
      ]
     },
     "execution_count": 6,
     "metadata": {},
     "output_type": "execute_result"
    }
   ],
   "source": [
    "data['SuperBuiltupArea'] = data['areaWithType'].str.lower().str.strip().str.extract(r'super built up area (\\d+\\.?\\d+)')\n",
    "data['SuperBuiltupArea']"
   ]
  },
  {
   "cell_type": "code",
   "execution_count": 7,
   "metadata": {},
   "outputs": [
    {
     "data": {
      "text/plain": [
       "SuperBuiltupArea\n",
       "NaN     2148\n",
       "1650      38\n",
       "1950      38\n",
       "2000      26\n",
       "1578      25\n",
       "2150      23\n",
       "1640      22\n",
       "Name: count, dtype: int64"
      ]
     },
     "execution_count": 7,
     "metadata": {},
     "output_type": "execute_result"
    }
   ],
   "source": [
    "data['SuperBuiltupArea'].value_counts(dropna=False)[data['SuperBuiltupArea'].value_counts(dropna=False) >20]"
   ]
  },
  {
   "cell_type": "code",
   "execution_count": 8,
   "metadata": {},
   "outputs": [],
   "source": [
    "# observation\n",
    "# 2148 places regex couldn't extract superBuiltupArea value."
   ]
  },
  {
   "cell_type": "code",
   "execution_count": 9,
   "metadata": {},
   "outputs": [
    {
     "data": {
      "text/html": [
       "<div>\n",
       "<style scoped>\n",
       "    .dataframe tbody tr th:only-of-type {\n",
       "        vertical-align: middle;\n",
       "    }\n",
       "\n",
       "    .dataframe tbody tr th {\n",
       "        vertical-align: top;\n",
       "    }\n",
       "\n",
       "    .dataframe thead th {\n",
       "        text-align: right;\n",
       "    }\n",
       "</style>\n",
       "<table border=\"1\" class=\"dataframe\">\n",
       "  <thead>\n",
       "    <tr style=\"text-align: right;\">\n",
       "      <th></th>\n",
       "      <th>SuperBuiltupArea</th>\n",
       "      <th>areaWithType</th>\n",
       "    </tr>\n",
       "  </thead>\n",
       "  <tbody>\n",
       "    <tr>\n",
       "      <th>1703</th>\n",
       "      <td>NaN</td>\n",
       "      <td>Carpet area: 830 (77.11 sq.m.)</td>\n",
       "    </tr>\n",
       "    <tr>\n",
       "      <th>638</th>\n",
       "      <td>NaN</td>\n",
       "      <td>Plot area 320(267.56 sq.m.)</td>\n",
       "    </tr>\n",
       "    <tr>\n",
       "      <th>924</th>\n",
       "      <td>NaN</td>\n",
       "      <td>Carpet area: 1760 (163.51 sq.m.)</td>\n",
       "    </tr>\n",
       "    <tr>\n",
       "      <th>2978</th>\n",
       "      <td>NaN</td>\n",
       "      <td>Built Up area: 1081 (100.43 sq.m.)</td>\n",
       "    </tr>\n",
       "    <tr>\n",
       "      <th>608</th>\n",
       "      <td>NaN</td>\n",
       "      <td>Carpet area: 1295 (120.31 sq.m.)</td>\n",
       "    </tr>\n",
       "  </tbody>\n",
       "</table>\n",
       "</div>"
      ],
      "text/plain": [
       "     SuperBuiltupArea                        areaWithType\n",
       "1703              NaN      Carpet area: 830 (77.11 sq.m.)\n",
       "638               NaN         Plot area 320(267.56 sq.m.)\n",
       "924               NaN    Carpet area: 1760 (163.51 sq.m.)\n",
       "2978              NaN  Built Up area: 1081 (100.43 sq.m.)\n",
       "608               NaN    Carpet area: 1295 (120.31 sq.m.)"
      ]
     },
     "execution_count": 9,
     "metadata": {},
     "output_type": "execute_result"
    }
   ],
   "source": [
    "data[data['SuperBuiltupArea'].isna()][['SuperBuiltupArea', 'areaWithType']].sample(5)"
   ]
  },
  {
   "cell_type": "markdown",
   "metadata": {},
   "source": [
    "#### creating `BuiltupArea` col"
   ]
  },
  {
   "cell_type": "code",
   "execution_count": 10,
   "metadata": {},
   "outputs": [
    {
     "data": {
      "text/plain": [
       "3412    built up area: 3000 (278.71 sq.m.)\n",
       "1097    built up area: 1210 (112.41 sq.m.)\n",
       "3646           plot area 163(136.29 sq.m.)\n",
       "Name: areaWithType, dtype: object"
      ]
     },
     "execution_count": 10,
     "metadata": {},
     "output_type": "execute_result"
    }
   ],
   "source": [
    "data['areaWithType'].str.lower().str.strip().sample(3)"
   ]
  },
  {
   "cell_type": "code",
   "execution_count": 11,
   "metadata": {},
   "outputs": [
    {
     "data": {
      "text/plain": [
       "0       NaN\n",
       "1       NaN\n",
       "2       NaN\n",
       "3       NaN\n",
       "4       NaN\n",
       "       ... \n",
       "4077    NaN\n",
       "4078    NaN\n",
       "4079    NaN\n",
       "4080    NaN\n",
       "4081    NaN\n",
       "Name: BuiltupArea, Length: 4082, dtype: object"
      ]
     },
     "execution_count": 11,
     "metadata": {},
     "output_type": "execute_result"
    }
   ],
   "source": [
    "data['BuiltupArea'] = data['areaWithType'].str.lower().str.strip().str.extract(r'built up area\\s*:\\s*(\\d+\\.?\\d*)')\n",
    "data['BuiltupArea']"
   ]
  },
  {
   "cell_type": "code",
   "execution_count": 12,
   "metadata": {},
   "outputs": [
    {
     "data": {
      "text/plain": [
       "BuiltupArea\n",
       "NaN     2848\n",
       "1900      34\n",
       "1600      26\n",
       "2000      25\n",
       "1300      24\n",
       "1700      22\n",
       "Name: count, dtype: int64"
      ]
     },
     "execution_count": 12,
     "metadata": {},
     "output_type": "execute_result"
    }
   ],
   "source": [
    "data['BuiltupArea'].value_counts(dropna=False)[data['BuiltupArea'].value_counts(dropna=False) >20]"
   ]
  },
  {
   "cell_type": "code",
   "execution_count": 13,
   "metadata": {},
   "outputs": [],
   "source": [
    "# observation\n",
    "# 2848 places regex couldn't extract BuiltupArea value."
   ]
  },
  {
   "cell_type": "code",
   "execution_count": 14,
   "metadata": {},
   "outputs": [
    {
     "data": {
      "text/html": [
       "<div>\n",
       "<style scoped>\n",
       "    .dataframe tbody tr th:only-of-type {\n",
       "        vertical-align: middle;\n",
       "    }\n",
       "\n",
       "    .dataframe tbody tr th {\n",
       "        vertical-align: top;\n",
       "    }\n",
       "\n",
       "    .dataframe thead th {\n",
       "        text-align: right;\n",
       "    }\n",
       "</style>\n",
       "<table border=\"1\" class=\"dataframe\">\n",
       "  <thead>\n",
       "    <tr style=\"text-align: right;\">\n",
       "      <th></th>\n",
       "      <th>BuiltupArea</th>\n",
       "      <th>areaWithType</th>\n",
       "    </tr>\n",
       "  </thead>\n",
       "  <tbody>\n",
       "    <tr>\n",
       "      <th>3016</th>\n",
       "      <td>NaN</td>\n",
       "      <td>Super Built up area 1711(158.96 sq.m.)</td>\n",
       "    </tr>\n",
       "    <tr>\n",
       "      <th>2500</th>\n",
       "      <td>NaN</td>\n",
       "      <td>Carpet area: 1439 (133.69 sq.m.)</td>\n",
       "    </tr>\n",
       "    <tr>\n",
       "      <th>3404</th>\n",
       "      <td>NaN</td>\n",
       "      <td>Plot area 500(46.45 sq.m.)</td>\n",
       "    </tr>\n",
       "    <tr>\n",
       "      <th>2209</th>\n",
       "      <td>NaN</td>\n",
       "      <td>Super Built up area 2087(193.89 sq.m.)</td>\n",
       "    </tr>\n",
       "    <tr>\n",
       "      <th>2948</th>\n",
       "      <td>NaN</td>\n",
       "      <td>Carpet area: 1500 (139.35 sq.m.)</td>\n",
       "    </tr>\n",
       "  </tbody>\n",
       "</table>\n",
       "</div>"
      ],
      "text/plain": [
       "     BuiltupArea                            areaWithType\n",
       "3016         NaN  Super Built up area 1711(158.96 sq.m.)\n",
       "2500         NaN        Carpet area: 1439 (133.69 sq.m.)\n",
       "3404         NaN              Plot area 500(46.45 sq.m.)\n",
       "2209         NaN  Super Built up area 2087(193.89 sq.m.)\n",
       "2948         NaN        Carpet area: 1500 (139.35 sq.m.)"
      ]
     },
     "execution_count": 14,
     "metadata": {},
     "output_type": "execute_result"
    }
   ],
   "source": [
    "data[data['BuiltupArea'].isna()][['BuiltupArea', 'areaWithType']].sample(5)"
   ]
  },
  {
   "cell_type": "markdown",
   "metadata": {},
   "source": [
    "#### creating `CarpetArea` col"
   ]
  },
  {
   "cell_type": "code",
   "execution_count": 15,
   "metadata": {},
   "outputs": [
    {
     "data": {
      "text/plain": [
       "4042         carpet area: 366.08 (34.01 sq.m.)\n",
       "913           carpet area: 1150 (106.84 sq.m.)\n",
       "2666    super built up area 3400(315.87 sq.m.)\n",
       "Name: areaWithType, dtype: object"
      ]
     },
     "execution_count": 15,
     "metadata": {},
     "output_type": "execute_result"
    }
   ],
   "source": [
    "data['areaWithType'].str.lower().str.strip().sample(3)"
   ]
  },
  {
   "cell_type": "code",
   "execution_count": 16,
   "metadata": {},
   "outputs": [
    {
     "data": {
      "text/plain": [
       "0       1300\n",
       "1        NaN\n",
       "2        NaN\n",
       "3        NaN\n",
       "4       3500\n",
       "        ... \n",
       "4077     NaN\n",
       "4078     NaN\n",
       "4079    2295\n",
       "4080    1120\n",
       "4081    1300\n",
       "Name: CarpetArea, Length: 4082, dtype: object"
      ]
     },
     "execution_count": 16,
     "metadata": {},
     "output_type": "execute_result"
    }
   ],
   "source": [
    "data['CarpetArea'] = data['areaWithType'].str.lower().str.strip().str.extract(r'carpet area\\s*:\\s*(\\d+\\.?\\d*)')\n",
    "data['CarpetArea']"
   ]
  },
  {
   "cell_type": "code",
   "execution_count": 17,
   "metadata": {},
   "outputs": [
    {
     "data": {
      "text/plain": [
       "CarpetArea\n",
       "NaN     2079\n",
       "1400      42\n",
       "1800      37\n",
       "1600      36\n",
       "1200      33\n",
       "1500      30\n",
       "1350      29\n",
       "1650      28\n",
       "900       25\n",
       "2000      23\n",
       "1300      23\n",
       "1000      23\n",
       "1450      23\n",
       "2200      21\n",
       "Name: count, dtype: int64"
      ]
     },
     "execution_count": 17,
     "metadata": {},
     "output_type": "execute_result"
    }
   ],
   "source": [
    "data['CarpetArea'].value_counts(dropna=False)[data['CarpetArea'].value_counts(dropna=False) >20]"
   ]
  },
  {
   "cell_type": "code",
   "execution_count": 18,
   "metadata": {},
   "outputs": [],
   "source": [
    "# observation\n",
    "# 2079 places regex couldn't extract CarpetArea value."
   ]
  },
  {
   "cell_type": "code",
   "execution_count": 19,
   "metadata": {},
   "outputs": [
    {
     "data": {
      "text/html": [
       "<div>\n",
       "<style scoped>\n",
       "    .dataframe tbody tr th:only-of-type {\n",
       "        vertical-align: middle;\n",
       "    }\n",
       "\n",
       "    .dataframe tbody tr th {\n",
       "        vertical-align: top;\n",
       "    }\n",
       "\n",
       "    .dataframe thead th {\n",
       "        text-align: right;\n",
       "    }\n",
       "</style>\n",
       "<table border=\"1\" class=\"dataframe\">\n",
       "  <thead>\n",
       "    <tr style=\"text-align: right;\">\n",
       "      <th></th>\n",
       "      <th>CarpetArea</th>\n",
       "      <th>areaWithType</th>\n",
       "    </tr>\n",
       "  </thead>\n",
       "  <tbody>\n",
       "    <tr>\n",
       "      <th>1436</th>\n",
       "      <td>NaN</td>\n",
       "      <td>Super Built up area 1200(111.48 sq.m.)</td>\n",
       "    </tr>\n",
       "    <tr>\n",
       "      <th>877</th>\n",
       "      <td>NaN</td>\n",
       "      <td>Super Built up area 1997(185.53 sq.m.)</td>\n",
       "    </tr>\n",
       "    <tr>\n",
       "      <th>2081</th>\n",
       "      <td>NaN</td>\n",
       "      <td>Super Built up area 1755(163.04 sq.m.)</td>\n",
       "    </tr>\n",
       "    <tr>\n",
       "      <th>2610</th>\n",
       "      <td>NaN</td>\n",
       "      <td>Super Built up area 2812(261.24 sq.m.)</td>\n",
       "    </tr>\n",
       "    <tr>\n",
       "      <th>604</th>\n",
       "      <td>NaN</td>\n",
       "      <td>Super Built up area 1550(144 sq.m.)</td>\n",
       "    </tr>\n",
       "  </tbody>\n",
       "</table>\n",
       "</div>"
      ],
      "text/plain": [
       "     CarpetArea                            areaWithType\n",
       "1436        NaN  Super Built up area 1200(111.48 sq.m.)\n",
       "877         NaN  Super Built up area 1997(185.53 sq.m.)\n",
       "2081        NaN  Super Built up area 1755(163.04 sq.m.)\n",
       "2610        NaN  Super Built up area 2812(261.24 sq.m.)\n",
       "604         NaN     Super Built up area 1550(144 sq.m.)"
      ]
     },
     "execution_count": 19,
     "metadata": {},
     "output_type": "execute_result"
    }
   ],
   "source": [
    "data[data['CarpetArea'].isna()][['CarpetArea', 'areaWithType']].sample(5)"
   ]
  },
  {
   "cell_type": "markdown",
   "metadata": {},
   "source": [
    "#### converting all 3 area_cols from sqm to sqft"
   ]
  },
  {
   "cell_type": "code",
   "execution_count": 20,
   "metadata": {},
   "outputs": [],
   "source": [
    "import re\n",
    "def convert_to_sqft(area_text, area_value):\n",
    "    if not area_value:\n",
    "        return None\n",
    "    match = re.search(r\"{} \\((\\d+\\.?\\d*) sq.m.\\)*\".format(area_value), str(area_text))\n",
    "    if match:\n",
    "        sqm_value = float(match.group(1))\n",
    "        return sqm_value*10.76391\n",
    "    return area_value"
   ]
  },
  {
   "cell_type": "code",
   "execution_count": 21,
   "metadata": {},
   "outputs": [],
   "source": [
    "data['CarpetArea'] = data.apply(lambda x: convert_to_sqft(x['areaWithType'], x['CarpetArea']), axis=1)\n",
    "data['BuiltupArea'] = data.apply(lambda x: convert_to_sqft(x['areaWithType'], x['BuiltupArea']), axis=1)\n",
    "data['SuperBuiltupArea'] = data.apply(lambda x: convert_to_sqft(x['areaWithType'], x['SuperBuiltupArea']), axis=1)"
   ]
  },
  {
   "cell_type": "code",
   "execution_count": 22,
   "metadata": {},
   "outputs": [
    {
     "data": {
      "text/html": [
       "<div>\n",
       "<style scoped>\n",
       "    .dataframe tbody tr th:only-of-type {\n",
       "        vertical-align: middle;\n",
       "    }\n",
       "\n",
       "    .dataframe tbody tr th {\n",
       "        vertical-align: top;\n",
       "    }\n",
       "\n",
       "    .dataframe thead th {\n",
       "        text-align: right;\n",
       "    }\n",
       "</style>\n",
       "<table border=\"1\" class=\"dataframe\">\n",
       "  <thead>\n",
       "    <tr style=\"text-align: right;\">\n",
       "      <th></th>\n",
       "      <th>SuperBuiltupArea</th>\n",
       "      <th>BuiltupArea</th>\n",
       "      <th>CarpetArea</th>\n",
       "    </tr>\n",
       "  </thead>\n",
       "  <tbody>\n",
       "    <tr>\n",
       "      <th>0</th>\n",
       "      <td>NaN</td>\n",
       "      <td>NaN</td>\n",
       "      <td>1299.957411</td>\n",
       "    </tr>\n",
       "    <tr>\n",
       "      <th>1</th>\n",
       "      <td>NaN</td>\n",
       "      <td>NaN</td>\n",
       "      <td>NaN</td>\n",
       "    </tr>\n",
       "    <tr>\n",
       "      <th>2</th>\n",
       "      <td>NaN</td>\n",
       "      <td>NaN</td>\n",
       "      <td>NaN</td>\n",
       "    </tr>\n",
       "  </tbody>\n",
       "</table>\n",
       "</div>"
      ],
      "text/plain": [
       "  SuperBuiltupArea BuiltupArea   CarpetArea\n",
       "0              NaN         NaN  1299.957411\n",
       "1              NaN         NaN          NaN\n",
       "2              NaN         NaN          NaN"
      ]
     },
     "execution_count": 22,
     "metadata": {},
     "output_type": "execute_result"
    }
   ],
   "source": [
    "data[['SuperBuiltupArea', 'BuiltupArea',\t'CarpetArea']].head(3)"
   ]
  },
  {
   "cell_type": "markdown",
   "metadata": {},
   "source": [
    "#### checking where none of the 3 area values are present"
   ]
  },
  {
   "cell_type": "code",
   "execution_count": 37,
   "metadata": {},
   "outputs": [
    {
     "data": {
      "text/plain": [
       "735"
      ]
     },
     "execution_count": 37,
     "metadata": {},
     "output_type": "execute_result"
    }
   ],
   "source": [
    "data[(data['CarpetArea'].isnull() & data['BuiltupArea'].isnull() & data['SuperBuiltupArea'].isnull())][['CarpetArea', 'BuiltupArea', 'SuperBuiltupArea']].shape[0]"
   ]
  },
  {
   "cell_type": "code",
   "execution_count": 33,
   "metadata": {},
   "outputs": [
    {
     "data": {
      "text/plain": [
       "4082"
      ]
     },
     "execution_count": 33,
     "metadata": {},
     "output_type": "execute_result"
    }
   ],
   "source": [
    "data.shape[0]"
   ]
  },
  {
   "cell_type": "code",
   "execution_count": 38,
   "metadata": {},
   "outputs": [
    {
     "data": {
      "text/html": [
       "<div>\n",
       "<style scoped>\n",
       "    .dataframe tbody tr th:only-of-type {\n",
       "        vertical-align: middle;\n",
       "    }\n",
       "\n",
       "    .dataframe tbody tr th {\n",
       "        vertical-align: top;\n",
       "    }\n",
       "\n",
       "    .dataframe thead th {\n",
       "        text-align: right;\n",
       "    }\n",
       "</style>\n",
       "<table border=\"1\" class=\"dataframe\">\n",
       "  <thead>\n",
       "    <tr style=\"text-align: right;\">\n",
       "      <th></th>\n",
       "      <th>CarpetArea</th>\n",
       "      <th>BuiltupArea</th>\n",
       "      <th>SuperBuiltupArea</th>\n",
       "    </tr>\n",
       "  </thead>\n",
       "  <tbody>\n",
       "    <tr>\n",
       "      <th>2440</th>\n",
       "      <td>NaN</td>\n",
       "      <td>NaN</td>\n",
       "      <td>NaN</td>\n",
       "    </tr>\n",
       "    <tr>\n",
       "      <th>2515</th>\n",
       "      <td>NaN</td>\n",
       "      <td>NaN</td>\n",
       "      <td>NaN</td>\n",
       "    </tr>\n",
       "    <tr>\n",
       "      <th>1533</th>\n",
       "      <td>NaN</td>\n",
       "      <td>NaN</td>\n",
       "      <td>NaN</td>\n",
       "    </tr>\n",
       "    <tr>\n",
       "      <th>499</th>\n",
       "      <td>NaN</td>\n",
       "      <td>NaN</td>\n",
       "      <td>NaN</td>\n",
       "    </tr>\n",
       "    <tr>\n",
       "      <th>3113</th>\n",
       "      <td>NaN</td>\n",
       "      <td>NaN</td>\n",
       "      <td>NaN</td>\n",
       "    </tr>\n",
       "  </tbody>\n",
       "</table>\n",
       "</div>"
      ],
      "text/plain": [
       "     CarpetArea BuiltupArea SuperBuiltupArea\n",
       "2440        NaN         NaN              NaN\n",
       "2515        NaN         NaN              NaN\n",
       "1533        NaN         NaN              NaN\n",
       "499         NaN         NaN              NaN\n",
       "3113        NaN         NaN              NaN"
      ]
     },
     "execution_count": 38,
     "metadata": {},
     "output_type": "execute_result"
    }
   ],
   "source": [
    "data[(data['CarpetArea'].isnull() & data['BuiltupArea'].isnull() & data['SuperBuiltupArea'].isnull())][['CarpetArea', 'BuiltupArea', 'SuperBuiltupArea']].sample(5)"
   ]
  },
  {
   "cell_type": "code",
   "execution_count": 39,
   "metadata": {},
   "outputs": [],
   "source": [
    "# there are 737 rows with no are at all, it is becoz some rows also have plot_area which we are yet to extract"
   ]
  },
  {
   "cell_type": "markdown",
   "metadata": {},
   "source": [
    "#### extracting plot_area values from areaWithType col"
   ]
  },
  {
   "cell_type": "code",
   "execution_count": 40,
   "metadata": {},
   "outputs": [
    {
     "data": {
      "text/plain": [
       "0             Carpet area: 1300 (120.77 sq.m.)\n",
       "1                   Plot area 100(83.61 sq.m.)\n",
       "2                  Plot area 520(434.79 sq.m.)\n",
       "3       Super Built up area 2010(186.74 sq.m.)\n",
       "4             Carpet area: 3500 (325.16 sq.m.)\n",
       "                         ...                  \n",
       "4077               Plot area 300(250.84 sq.m.)\n",
       "4078    Super Built up area 1780(165.37 sq.m.)\n",
       "4079          Carpet area: 2295 (213.21 sq.m.)\n",
       "4080          Carpet area: 1120 (104.05 sq.m.)\n",
       "4081          Carpet area: 1300 (120.77 sq.m.)\n",
       "Name: areaWithType, Length: 4082, dtype: object"
      ]
     },
     "execution_count": 40,
     "metadata": {},
     "output_type": "execute_result"
    }
   ],
   "source": [
    "data['areaWithType']"
   ]
  },
  {
   "cell_type": "code",
   "execution_count": null,
   "metadata": {},
   "outputs": [],
   "source": []
  },
  {
   "cell_type": "code",
   "execution_count": null,
   "metadata": {},
   "outputs": [],
   "source": []
  },
  {
   "cell_type": "code",
   "execution_count": null,
   "metadata": {},
   "outputs": [],
   "source": []
  },
  {
   "cell_type": "code",
   "execution_count": null,
   "metadata": {},
   "outputs": [],
   "source": []
  },
  {
   "cell_type": "code",
   "execution_count": null,
   "metadata": {},
   "outputs": [],
   "source": []
  },
  {
   "cell_type": "code",
   "execution_count": null,
   "metadata": {},
   "outputs": [],
   "source": []
  },
  {
   "cell_type": "code",
   "execution_count": null,
   "metadata": {},
   "outputs": [],
   "source": []
  },
  {
   "cell_type": "code",
   "execution_count": null,
   "metadata": {},
   "outputs": [],
   "source": []
  }
 ],
 "metadata": {
  "kernelspec": {
   "display_name": "Python 3",
   "language": "python",
   "name": "python3"
  },
  "language_info": {
   "codemirror_mode": {
    "name": "ipython",
    "version": 3
   },
   "file_extension": ".py",
   "mimetype": "text/x-python",
   "name": "python",
   "nbconvert_exporter": "python",
   "pygments_lexer": "ipython3",
   "version": "3.10.8"
  },
  "orig_nbformat": 4
 },
 "nbformat": 4,
 "nbformat_minor": 2
}
