{
 "cells": [
  {
   "cell_type": "markdown",
   "metadata": {},
   "source": [
    "### loading dataset"
   ]
  },
  {
   "cell_type": "code",
   "execution_count": 40,
   "metadata": {},
   "outputs": [
    {
     "data": {
      "text/html": [
       "<div>\n",
       "<style scoped>\n",
       "    .dataframe tbody tr th:only-of-type {\n",
       "        vertical-align: middle;\n",
       "    }\n",
       "\n",
       "    .dataframe tbody tr th {\n",
       "        vertical-align: top;\n",
       "    }\n",
       "\n",
       "    .dataframe thead th {\n",
       "        text-align: right;\n",
       "    }\n",
       "</style>\n",
       "<table border=\"1\" class=\"dataframe\">\n",
       "  <thead>\n",
       "    <tr style=\"text-align: right;\">\n",
       "      <th></th>\n",
       "      <th>property_name</th>\n",
       "      <th>sector</th>\n",
       "      <th>society</th>\n",
       "      <th>area_in_sqft</th>\n",
       "      <th>price_in_crores</th>\n",
       "      <th>price_per_sqft</th>\n",
       "      <th>areaWithType</th>\n",
       "      <th>bedRoom</th>\n",
       "      <th>bathroom</th>\n",
       "      <th>balcony</th>\n",
       "      <th>additionalRoom</th>\n",
       "      <th>address</th>\n",
       "      <th>floorNum</th>\n",
       "      <th>facing</th>\n",
       "      <th>agePossession</th>\n",
       "      <th>nearbyLocations</th>\n",
       "      <th>description</th>\n",
       "      <th>furnishDetails</th>\n",
       "      <th>features</th>\n",
       "      <th>rating</th>\n",
       "      <th>property_type</th>\n",
       "      <th>noOfFloor</th>\n",
       "      <th>area</th>\n",
       "    </tr>\n",
       "  </thead>\n",
       "  <tbody>\n",
       "    <tr>\n",
       "      <th>0</th>\n",
       "      <td>2 BHK Flat in Sector 70 Gurgaon</td>\n",
       "      <td>sector 70</td>\n",
       "      <td>shree vardhman victoria</td>\n",
       "      <td>1300.0</td>\n",
       "      <td>1.10</td>\n",
       "      <td>8461.0</td>\n",
       "      <td>Carpet area: 1300 (120.77 sq.m.)</td>\n",
       "      <td>2.0</td>\n",
       "      <td>2.0</td>\n",
       "      <td>2</td>\n",
       "      <td>not available</td>\n",
       "      <td>Sector 70 Gurgaon, Gurgaon, Haryana</td>\n",
       "      <td>8.0</td>\n",
       "      <td>north-east</td>\n",
       "      <td>1 to 5 Year Old</td>\n",
       "      <td>['Airia Mall', 'Golf Course Extn Road', 'Sohna Road', 'Southern Peripheral Rd, Gurugram', 'Kunsk...</td>\n",
       "      <td>Square yards rera reg.\\r\\nHrera 660/2017/307\\r\\nProject rera reg.\\r\\n70 of 2017\\r\\nShree vardhma...</td>\n",
       "      <td>['3 Wardrobe', '1 Modular Kitchen', '1 Chimney', 'No AC', 'No Bed', 'No Curtains', 'No Dining Ta...</td>\n",
       "      <td>['Security / Fire Alarm', 'Power Back-up', 'Feng Shui / Vaastu Compliant', 'Intercom Facility', ...</td>\n",
       "      <td>['Green Area5 out of 5', 'Construction5 out of 5', 'Management4.5 out of 5', 'Amenities4.5 out o...</td>\n",
       "      <td>flat</td>\n",
       "      <td>1.0</td>\n",
       "      <td>NaN</td>\n",
       "    </tr>\n",
       "    <tr>\n",
       "      <th>1</th>\n",
       "      <td>3 Bedroom House for sale in Sector 40 Gurgaon</td>\n",
       "      <td>sector 40</td>\n",
       "      <td>NaN</td>\n",
       "      <td>900.0</td>\n",
       "      <td>2.15</td>\n",
       "      <td>23889.0</td>\n",
       "      <td>Plot area 100(83.61 sq.m.)</td>\n",
       "      <td>3.0</td>\n",
       "      <td>3.0</td>\n",
       "      <td>3</td>\n",
       "      <td>Pooja Room,Study Room,Store Room</td>\n",
       "      <td>Sector 40 Gurgaon, Gurgaon, Haryana</td>\n",
       "      <td>0.0</td>\n",
       "      <td>NaN</td>\n",
       "      <td>5 to 10 year old</td>\n",
       "      <td>['Huda city centre metro station', 'Axis bank ATM', 'State bank of india ATM', 'Icici bank ATM',...</td>\n",
       "      <td>Its just behind ryan international school and huda market and nh8 are two minutes away 3 bedroom...</td>\n",
       "      <td>['4 Wardrobe', '5 Fan', '4 Geyser', '2 Light', 'No AC', 'No Bed', 'No Chimney', 'No Curtains', '...</td>\n",
       "      <td>['Feng Shui / Vaastu Compliant', 'Private Garden / Terrace', 'Water purifier', 'Park', 'Natural ...</td>\n",
       "      <td>['Environment4 out of 5', 'Lifestyle4 out of 5', 'Connectivity4 out of 5', 'Safety4 out of 5']</td>\n",
       "      <td>house</td>\n",
       "      <td>3.0</td>\n",
       "      <td>(84 sq.m.) Plot Area</td>\n",
       "    </tr>\n",
       "    <tr>\n",
       "      <th>2</th>\n",
       "      <td>5 Bedroom House for sale in Palam Vihar</td>\n",
       "      <td>palam vihar</td>\n",
       "      <td>ansals palam vihar</td>\n",
       "      <td>4680.0</td>\n",
       "      <td>9.00</td>\n",
       "      <td>19231.0</td>\n",
       "      <td>Plot area 520(434.79 sq.m.)</td>\n",
       "      <td>5.0</td>\n",
       "      <td>5.0</td>\n",
       "      <td>2</td>\n",
       "      <td>Pooja Room,Study Room,Servant Room,Store Room</td>\n",
       "      <td>J-Block, Palam Vihar, Gurgaon, Haryana</td>\n",
       "      <td>0.0</td>\n",
       "      <td>north</td>\n",
       "      <td>10+ year old</td>\n",
       "      <td>['Palam Vihar Vyapar kendra', 'Palam triangle', 'HUDA Sector 23 Market', 'Ram Mandir', 'Metro Ho...</td>\n",
       "      <td>North facing plot aviable on sale in palam vihar , marg , very good location beautiful approach,...</td>\n",
       "      <td>['1 Water Purifier', '4 Fan', '1 Fridge', '1 Exhaust Fan', '5 Geyser', '1 Stove', '5 Light', '5 ...</td>\n",
       "      <td>['Feng Shui / Vaastu Compliant', 'Private Garden / Terrace', 'High Ceiling Height', 'Maintenance...</td>\n",
       "      <td>['Environment5 out of 5', 'Safety4 out of 5', 'Lifestyle5 out of 5', 'Connectivity5 out of 5']</td>\n",
       "      <td>house</td>\n",
       "      <td>2.0</td>\n",
       "      <td>(435 sq.m.) Plot Area</td>\n",
       "    </tr>\n",
       "  </tbody>\n",
       "</table>\n",
       "</div>"
      ],
      "text/plain": [
       "                                   property_name        sector  \\\n",
       "0                2 BHK Flat in Sector 70 Gurgaon    sector 70    \n",
       "1  3 Bedroom House for sale in Sector 40 Gurgaon    sector 40    \n",
       "2        5 Bedroom House for sale in Palam Vihar   palam vihar   \n",
       "\n",
       "                   society  area_in_sqft  price_in_crores  price_per_sqft  \\\n",
       "0  shree vardhman victoria        1300.0             1.10          8461.0   \n",
       "1                      NaN         900.0             2.15         23889.0   \n",
       "2       ansals palam vihar        4680.0             9.00         19231.0   \n",
       "\n",
       "                       areaWithType  bedRoom  bathroom balcony  \\\n",
       "0  Carpet area: 1300 (120.77 sq.m.)      2.0       2.0       2   \n",
       "1        Plot area 100(83.61 sq.m.)      3.0       3.0       3   \n",
       "2       Plot area 520(434.79 sq.m.)      5.0       5.0       2   \n",
       "\n",
       "                                  additionalRoom  \\\n",
       "0                                  not available   \n",
       "1               Pooja Room,Study Room,Store Room   \n",
       "2  Pooja Room,Study Room,Servant Room,Store Room   \n",
       "\n",
       "                                  address  floorNum      facing  \\\n",
       "0     Sector 70 Gurgaon, Gurgaon, Haryana       8.0  north-east   \n",
       "1     Sector 40 Gurgaon, Gurgaon, Haryana       0.0         NaN   \n",
       "2  J-Block, Palam Vihar, Gurgaon, Haryana       0.0       north   \n",
       "\n",
       "      agePossession  \\\n",
       "0   1 to 5 Year Old   \n",
       "1  5 to 10 year old   \n",
       "2      10+ year old   \n",
       "\n",
       "                                                                                       nearbyLocations  \\\n",
       "0  ['Airia Mall', 'Golf Course Extn Road', 'Sohna Road', 'Southern Peripheral Rd, Gurugram', 'Kunsk...   \n",
       "1  ['Huda city centre metro station', 'Axis bank ATM', 'State bank of india ATM', 'Icici bank ATM',...   \n",
       "2  ['Palam Vihar Vyapar kendra', 'Palam triangle', 'HUDA Sector 23 Market', 'Ram Mandir', 'Metro Ho...   \n",
       "\n",
       "                                                                                           description  \\\n",
       "0  Square yards rera reg.\\r\\nHrera 660/2017/307\\r\\nProject rera reg.\\r\\n70 of 2017\\r\\nShree vardhma...   \n",
       "1  Its just behind ryan international school and huda market and nh8 are two minutes away 3 bedroom...   \n",
       "2  North facing plot aviable on sale in palam vihar , marg , very good location beautiful approach,...   \n",
       "\n",
       "                                                                                        furnishDetails  \\\n",
       "0  ['3 Wardrobe', '1 Modular Kitchen', '1 Chimney', 'No AC', 'No Bed', 'No Curtains', 'No Dining Ta...   \n",
       "1  ['4 Wardrobe', '5 Fan', '4 Geyser', '2 Light', 'No AC', 'No Bed', 'No Chimney', 'No Curtains', '...   \n",
       "2  ['1 Water Purifier', '4 Fan', '1 Fridge', '1 Exhaust Fan', '5 Geyser', '1 Stove', '5 Light', '5 ...   \n",
       "\n",
       "                                                                                              features  \\\n",
       "0  ['Security / Fire Alarm', 'Power Back-up', 'Feng Shui / Vaastu Compliant', 'Intercom Facility', ...   \n",
       "1  ['Feng Shui / Vaastu Compliant', 'Private Garden / Terrace', 'Water purifier', 'Park', 'Natural ...   \n",
       "2  ['Feng Shui / Vaastu Compliant', 'Private Garden / Terrace', 'High Ceiling Height', 'Maintenance...   \n",
       "\n",
       "                                                                                                rating  \\\n",
       "0  ['Green Area5 out of 5', 'Construction5 out of 5', 'Management4.5 out of 5', 'Amenities4.5 out o...   \n",
       "1       ['Environment4 out of 5', 'Lifestyle4 out of 5', 'Connectivity4 out of 5', 'Safety4 out of 5']   \n",
       "2       ['Environment5 out of 5', 'Safety4 out of 5', 'Lifestyle5 out of 5', 'Connectivity5 out of 5']   \n",
       "\n",
       "  property_type  noOfFloor                   area  \n",
       "0          flat        1.0                    NaN  \n",
       "1         house        3.0   (84 sq.m.) Plot Area  \n",
       "2         house        2.0  (435 sq.m.) Plot Area  "
      ]
     },
     "execution_count": 40,
     "metadata": {},
     "output_type": "execute_result"
    }
   ],
   "source": [
    "import pandas as pd\n",
    "pd.set_option('display.max_columns', None)\n",
    "pd.set_option('display.max_colwidth', 100)\n",
    "data = pd.read_csv(r'../2. data_cleaning\\4.1 some cols FEed.csv')\n",
    "data.head(3)"
   ]
  },
  {
   "cell_type": "markdown",
   "metadata": {},
   "source": [
    "### FEing `areaWithType` col"
   ]
  },
  {
   "cell_type": "code",
   "execution_count": 41,
   "metadata": {},
   "outputs": [
    {
     "data": {
      "text/plain": [
       "0    Carpet area: 1300 (120.77 sq.m.)\n",
       "1          Plot area 100(83.61 sq.m.)\n",
       "2         Plot area 520(434.79 sq.m.)\n",
       "Name: areaWithType, dtype: object"
      ]
     },
     "execution_count": 41,
     "metadata": {},
     "output_type": "execute_result"
    }
   ],
   "source": [
    "data['areaWithType'].head(3)"
   ]
  },
  {
   "cell_type": "markdown",
   "metadata": {},
   "source": [
    "#### `area_in_sqft` col contains one of the 3 area_types in `areaWithType` col."
   ]
  },
  {
   "cell_type": "code",
   "execution_count": 42,
   "metadata": {},
   "outputs": [
    {
     "data": {
      "text/html": [
       "<div>\n",
       "<style scoped>\n",
       "    .dataframe tbody tr th:only-of-type {\n",
       "        vertical-align: middle;\n",
       "    }\n",
       "\n",
       "    .dataframe tbody tr th {\n",
       "        vertical-align: top;\n",
       "    }\n",
       "\n",
       "    .dataframe thead th {\n",
       "        text-align: right;\n",
       "    }\n",
       "</style>\n",
       "<table border=\"1\" class=\"dataframe\">\n",
       "  <thead>\n",
       "    <tr style=\"text-align: right;\">\n",
       "      <th></th>\n",
       "      <th>area_in_sqft</th>\n",
       "      <th>areaWithType</th>\n",
       "    </tr>\n",
       "  </thead>\n",
       "  <tbody>\n",
       "    <tr>\n",
       "      <th>772</th>\n",
       "      <td>1980.0</td>\n",
       "      <td>Super Built up area 1630(151.43 sq.m.)</td>\n",
       "    </tr>\n",
       "    <tr>\n",
       "      <th>75</th>\n",
       "      <td>2361.0</td>\n",
       "      <td>Super Built up area 2361(219.34 sq.m.)Built Up area: 1900 sq.ft. (176.52 sq.m.)</td>\n",
       "    </tr>\n",
       "    <tr>\n",
       "      <th>3624</th>\n",
       "      <td>482.0</td>\n",
       "      <td>Carpet area: 481.73 (44.75 sq.m.)</td>\n",
       "    </tr>\n",
       "  </tbody>\n",
       "</table>\n",
       "</div>"
      ],
      "text/plain": [
       "      area_in_sqft  \\\n",
       "772         1980.0   \n",
       "75          2361.0   \n",
       "3624         482.0   \n",
       "\n",
       "                                                                         areaWithType  \n",
       "772                                            Super Built up area 1630(151.43 sq.m.)  \n",
       "75    Super Built up area 2361(219.34 sq.m.)Built Up area: 1900 sq.ft. (176.52 sq.m.)  \n",
       "3624                                                Carpet area: 481.73 (44.75 sq.m.)  "
      ]
     },
     "execution_count": 42,
     "metadata": {},
     "output_type": "execute_result"
    }
   ],
   "source": [
    "data[['area_in_sqft', 'areaWithType']].sample(3)"
   ]
  },
  {
   "cell_type": "markdown",
   "metadata": {},
   "source": [
    "#### creating `superBuiltupArea` col"
   ]
  },
  {
   "cell_type": "code",
   "execution_count": 43,
   "metadata": {},
   "outputs": [
    {
     "data": {
      "text/plain": [
       "1800    super built up area 1640(152.36 sq.m.)built up area: 1638 sq.ft. (152.18 sq.m.)carpet area: 1635...\n",
       "3484    super built up area 1326(123.19 sq.m.)built up area: 1325 sq.ft. (123.1 sq.m.)carpet area: 1320 ...\n",
       "1924                                                                         carpet area: 625 (58.06 sq.m.)\n",
       "Name: areaWithType, dtype: object"
      ]
     },
     "execution_count": 43,
     "metadata": {},
     "output_type": "execute_result"
    }
   ],
   "source": [
    "data['areaWithType'].str.lower().str.strip().sample(3)"
   ]
  },
  {
   "cell_type": "code",
   "execution_count": 44,
   "metadata": {},
   "outputs": [
    {
     "data": {
      "text/plain": [
       "0        NaN\n",
       "1        NaN\n",
       "2        NaN\n",
       "3       2010\n",
       "4        NaN\n",
       "        ... \n",
       "4077     NaN\n",
       "4078    1780\n",
       "4079     NaN\n",
       "4080     NaN\n",
       "4081     NaN\n",
       "Name: SuperBuiltupArea, Length: 4082, dtype: object"
      ]
     },
     "execution_count": 44,
     "metadata": {},
     "output_type": "execute_result"
    }
   ],
   "source": [
    "data['SuperBuiltupArea'] = data['areaWithType'].str.lower().str.strip().str.extract(r'super built up area (\\d+\\.?\\d+)')\n",
    "data['SuperBuiltupArea']"
   ]
  },
  {
   "cell_type": "markdown",
   "metadata": {},
   "source": [
    "#### creating `BuiltupArea` col"
   ]
  },
  {
   "cell_type": "code",
   "execution_count": 45,
   "metadata": {},
   "outputs": [
    {
     "data": {
      "text/plain": [
       "0       NaN\n",
       "1       NaN\n",
       "2       NaN\n",
       "3       NaN\n",
       "4       NaN\n",
       "       ... \n",
       "4077    NaN\n",
       "4078    NaN\n",
       "4079    NaN\n",
       "4080    NaN\n",
       "4081    NaN\n",
       "Name: BuiltupArea, Length: 4082, dtype: object"
      ]
     },
     "execution_count": 45,
     "metadata": {},
     "output_type": "execute_result"
    }
   ],
   "source": [
    "data['BuiltupArea'] = data['areaWithType'].str.lower().str.strip().str.extract(r'built up area\\s*:\\s*(\\d+\\.?\\d*)')\n",
    "data['BuiltupArea']"
   ]
  },
  {
   "cell_type": "markdown",
   "metadata": {},
   "source": [
    "#### creating `CarpetArea` col"
   ]
  },
  {
   "cell_type": "code",
   "execution_count": 46,
   "metadata": {},
   "outputs": [
    {
     "data": {
      "text/plain": [
       "0       1300\n",
       "1        NaN\n",
       "2        NaN\n",
       "3        NaN\n",
       "4       3500\n",
       "        ... \n",
       "4077     NaN\n",
       "4078     NaN\n",
       "4079    2295\n",
       "4080    1120\n",
       "4081    1300\n",
       "Name: CarpetArea, Length: 4082, dtype: object"
      ]
     },
     "execution_count": 46,
     "metadata": {},
     "output_type": "execute_result"
    }
   ],
   "source": [
    "data['CarpetArea'] = data['areaWithType'].str.lower().str.strip().str.extract(r'carpet area\\s*:\\s*(\\d+\\.?\\d*)')\n",
    "data['CarpetArea']"
   ]
  },
  {
   "cell_type": "markdown",
   "metadata": {},
   "source": [
    "#### converting all 3 area_cols from sqm to sqft"
   ]
  },
  {
   "cell_type": "code",
   "execution_count": 47,
   "metadata": {},
   "outputs": [],
   "source": [
    "import re\n",
    "def convert_to_sqft(area_text, area_value):\n",
    "    if not area_value:\n",
    "        return None\n",
    "    match = re.search(r\"{} \\((\\d+\\.?\\d*) sq.m.\\)*\".format(area_value), str(area_text))\n",
    "    if match:\n",
    "        sqm_value = float(match.group(1))\n",
    "        return sqm_value*10.76391\n",
    "    return area_value"
   ]
  },
  {
   "cell_type": "code",
   "execution_count": 48,
   "metadata": {},
   "outputs": [],
   "source": [
    "data['CarpetArea'] = data.apply(lambda x: convert_to_sqft(x['areaWithType'], x['CarpetArea']), axis=1)\n",
    "data['BuiltupArea'] = data.apply(lambda x: convert_to_sqft(x['areaWithType'], x['BuiltupArea']), axis=1)\n",
    "data['SuperBuiltupArea'] = data.apply(lambda x: convert_to_sqft(x['areaWithType'], x['SuperBuiltupArea']), axis=1)"
   ]
  },
  {
   "cell_type": "code",
   "execution_count": 49,
   "metadata": {},
   "outputs": [
    {
     "data": {
      "text/html": [
       "<div>\n",
       "<style scoped>\n",
       "    .dataframe tbody tr th:only-of-type {\n",
       "        vertical-align: middle;\n",
       "    }\n",
       "\n",
       "    .dataframe tbody tr th {\n",
       "        vertical-align: top;\n",
       "    }\n",
       "\n",
       "    .dataframe thead th {\n",
       "        text-align: right;\n",
       "    }\n",
       "</style>\n",
       "<table border=\"1\" class=\"dataframe\">\n",
       "  <thead>\n",
       "    <tr style=\"text-align: right;\">\n",
       "      <th></th>\n",
       "      <th>SuperBuiltupArea</th>\n",
       "      <th>BuiltupArea</th>\n",
       "      <th>CarpetArea</th>\n",
       "    </tr>\n",
       "  </thead>\n",
       "  <tbody>\n",
       "    <tr>\n",
       "      <th>0</th>\n",
       "      <td>NaN</td>\n",
       "      <td>NaN</td>\n",
       "      <td>1299.957411</td>\n",
       "    </tr>\n",
       "    <tr>\n",
       "      <th>1</th>\n",
       "      <td>NaN</td>\n",
       "      <td>NaN</td>\n",
       "      <td>NaN</td>\n",
       "    </tr>\n",
       "    <tr>\n",
       "      <th>2</th>\n",
       "      <td>NaN</td>\n",
       "      <td>NaN</td>\n",
       "      <td>NaN</td>\n",
       "    </tr>\n",
       "  </tbody>\n",
       "</table>\n",
       "</div>"
      ],
      "text/plain": [
       "  SuperBuiltupArea BuiltupArea   CarpetArea\n",
       "0              NaN         NaN  1299.957411\n",
       "1              NaN         NaN          NaN\n",
       "2              NaN         NaN          NaN"
      ]
     },
     "execution_count": 49,
     "metadata": {},
     "output_type": "execute_result"
    }
   ],
   "source": [
    "data[['SuperBuiltupArea', 'BuiltupArea',\t'CarpetArea']].head(3)"
   ]
  },
  {
   "cell_type": "markdown",
   "metadata": {},
   "source": [
    "#### checking where none of the 3 are null"
   ]
  },
  {
   "cell_type": "code",
   "execution_count": 50,
   "metadata": {},
   "outputs": [
    {
     "data": {
      "text/html": [
       "<div>\n",
       "<style scoped>\n",
       "    .dataframe tbody tr th:only-of-type {\n",
       "        vertical-align: middle;\n",
       "    }\n",
       "\n",
       "    .dataframe tbody tr th {\n",
       "        vertical-align: top;\n",
       "    }\n",
       "\n",
       "    .dataframe thead th {\n",
       "        text-align: right;\n",
       "    }\n",
       "</style>\n",
       "<table border=\"1\" class=\"dataframe\">\n",
       "  <thead>\n",
       "    <tr style=\"text-align: right;\">\n",
       "      <th></th>\n",
       "      <th>CarpetArea</th>\n",
       "      <th>BuiltupArea</th>\n",
       "      <th>SuperBuiltupArea</th>\n",
       "    </tr>\n",
       "  </thead>\n",
       "  <tbody>\n",
       "    <tr>\n",
       "      <th>2318</th>\n",
       "      <td>1350</td>\n",
       "      <td>1475</td>\n",
       "      <td>1750</td>\n",
       "    </tr>\n",
       "    <tr>\n",
       "      <th>209</th>\n",
       "      <td>1991</td>\n",
       "      <td>2091</td>\n",
       "      <td>2191</td>\n",
       "    </tr>\n",
       "    <tr>\n",
       "      <th>418</th>\n",
       "      <td>1750</td>\n",
       "      <td>1950</td>\n",
       "      <td>2086</td>\n",
       "    </tr>\n",
       "    <tr>\n",
       "      <th>1432</th>\n",
       "      <td>1928</td>\n",
       "      <td>1929</td>\n",
       "      <td>1930</td>\n",
       "    </tr>\n",
       "    <tr>\n",
       "      <th>3968</th>\n",
       "      <td>1257</td>\n",
       "      <td>1600</td>\n",
       "      <td>2103</td>\n",
       "    </tr>\n",
       "  </tbody>\n",
       "</table>\n",
       "</div>"
      ],
      "text/plain": [
       "     CarpetArea BuiltupArea SuperBuiltupArea\n",
       "2318       1350        1475             1750\n",
       "209        1991        2091             2191\n",
       "418        1750        1950             2086\n",
       "1432       1928        1929             1930\n",
       "3968       1257        1600             2103"
      ]
     },
     "execution_count": 50,
     "metadata": {},
     "output_type": "execute_result"
    }
   ],
   "source": [
    "data[~(data['CarpetArea'].isnull() | data['BuiltupArea'].isnull() | data['SuperBuiltupArea'].isnull())][['CarpetArea', 'BuiltupArea', 'SuperBuiltupArea']].sample(5)"
   ]
  },
  {
   "cell_type": "code",
   "execution_count": 51,
   "metadata": {},
   "outputs": [
    {
     "data": {
      "text/plain": [
       "(735, 3)"
      ]
     },
     "execution_count": 51,
     "metadata": {},
     "output_type": "execute_result"
    }
   ],
   "source": [
    "data[(data['CarpetArea'].isnull() & data['BuiltupArea'].isnull() & data['SuperBuiltupArea'].isnull())][['CarpetArea', 'BuiltupArea', 'SuperBuiltupArea']].shape"
   ]
  },
  {
   "cell_type": "code",
   "execution_count": 52,
   "metadata": {},
   "outputs": [
    {
     "data": {
      "text/html": [
       "<div>\n",
       "<style scoped>\n",
       "    .dataframe tbody tr th:only-of-type {\n",
       "        vertical-align: middle;\n",
       "    }\n",
       "\n",
       "    .dataframe tbody tr th {\n",
       "        vertical-align: top;\n",
       "    }\n",
       "\n",
       "    .dataframe thead th {\n",
       "        text-align: right;\n",
       "    }\n",
       "</style>\n",
       "<table border=\"1\" class=\"dataframe\">\n",
       "  <thead>\n",
       "    <tr style=\"text-align: right;\">\n",
       "      <th></th>\n",
       "      <th>CarpetArea</th>\n",
       "      <th>BuiltupArea</th>\n",
       "      <th>SuperBuiltupArea</th>\n",
       "    </tr>\n",
       "  </thead>\n",
       "  <tbody>\n",
       "    <tr>\n",
       "      <th>1</th>\n",
       "      <td>NaN</td>\n",
       "      <td>NaN</td>\n",
       "      <td>NaN</td>\n",
       "    </tr>\n",
       "    <tr>\n",
       "      <th>2</th>\n",
       "      <td>NaN</td>\n",
       "      <td>NaN</td>\n",
       "      <td>NaN</td>\n",
       "    </tr>\n",
       "    <tr>\n",
       "      <th>9</th>\n",
       "      <td>NaN</td>\n",
       "      <td>NaN</td>\n",
       "      <td>NaN</td>\n",
       "    </tr>\n",
       "    <tr>\n",
       "      <th>10</th>\n",
       "      <td>NaN</td>\n",
       "      <td>NaN</td>\n",
       "      <td>NaN</td>\n",
       "    </tr>\n",
       "    <tr>\n",
       "      <th>12</th>\n",
       "      <td>NaN</td>\n",
       "      <td>NaN</td>\n",
       "      <td>NaN</td>\n",
       "    </tr>\n",
       "  </tbody>\n",
       "</table>\n",
       "</div>"
      ],
      "text/plain": [
       "   CarpetArea BuiltupArea SuperBuiltupArea\n",
       "1         NaN         NaN              NaN\n",
       "2         NaN         NaN              NaN\n",
       "9         NaN         NaN              NaN\n",
       "10        NaN         NaN              NaN\n",
       "12        NaN         NaN              NaN"
      ]
     },
     "execution_count": 52,
     "metadata": {},
     "output_type": "execute_result"
    }
   ],
   "source": [
    "data[(data['CarpetArea'].isnull() & data['BuiltupArea'].isnull() & data['SuperBuiltupArea'].isnull())][['CarpetArea', 'BuiltupArea', 'SuperBuiltupArea']].head()"
   ]
  },
  {
   "cell_type": "code",
   "execution_count": null,
   "metadata": {},
   "outputs": [],
   "source": []
  },
  {
   "cell_type": "code",
   "execution_count": null,
   "metadata": {},
   "outputs": [],
   "source": []
  },
  {
   "cell_type": "code",
   "execution_count": null,
   "metadata": {},
   "outputs": [],
   "source": []
  },
  {
   "cell_type": "code",
   "execution_count": null,
   "metadata": {},
   "outputs": [],
   "source": []
  },
  {
   "cell_type": "code",
   "execution_count": null,
   "metadata": {},
   "outputs": [],
   "source": []
  },
  {
   "cell_type": "code",
   "execution_count": null,
   "metadata": {},
   "outputs": [],
   "source": []
  },
  {
   "cell_type": "code",
   "execution_count": null,
   "metadata": {},
   "outputs": [],
   "source": []
  },
  {
   "cell_type": "code",
   "execution_count": null,
   "metadata": {},
   "outputs": [],
   "source": []
  },
  {
   "cell_type": "code",
   "execution_count": null,
   "metadata": {},
   "outputs": [],
   "source": []
  }
 ],
 "metadata": {
  "kernelspec": {
   "display_name": "Python 3",
   "language": "python",
   "name": "python3"
  },
  "language_info": {
   "codemirror_mode": {
    "name": "ipython",
    "version": 3
   },
   "file_extension": ".py",
   "mimetype": "text/x-python",
   "name": "python",
   "nbconvert_exporter": "python",
   "pygments_lexer": "ipython3",
   "version": "3.10.8"
  },
  "orig_nbformat": 4
 },
 "nbformat": 4,
 "nbformat_minor": 2
}
