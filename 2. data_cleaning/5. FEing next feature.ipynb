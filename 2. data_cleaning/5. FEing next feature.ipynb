{
 "cells": [
  {
   "cell_type": "markdown",
   "metadata": {},
   "source": [
    "### loading dataset"
   ]
  },
  {
   "cell_type": "code",
   "execution_count": 129,
   "metadata": {},
   "outputs": [
    {
     "data": {
      "text/html": [
       "<div>\n",
       "<style scoped>\n",
       "    .dataframe tbody tr th:only-of-type {\n",
       "        vertical-align: middle;\n",
       "    }\n",
       "\n",
       "    .dataframe tbody tr th {\n",
       "        vertical-align: top;\n",
       "    }\n",
       "\n",
       "    .dataframe thead th {\n",
       "        text-align: right;\n",
       "    }\n",
       "</style>\n",
       "<table border=\"1\" class=\"dataframe\">\n",
       "  <thead>\n",
       "    <tr style=\"text-align: right;\">\n",
       "      <th></th>\n",
       "      <th>property_name</th>\n",
       "      <th>sector</th>\n",
       "      <th>society</th>\n",
       "      <th>area_in_sqft</th>\n",
       "      <th>price_in_crores</th>\n",
       "      <th>price_per_sqft</th>\n",
       "      <th>areaWithType</th>\n",
       "      <th>bedRoom</th>\n",
       "      <th>bathroom</th>\n",
       "      <th>balcony</th>\n",
       "      <th>additionalRoom</th>\n",
       "      <th>address</th>\n",
       "      <th>floorNum</th>\n",
       "      <th>facing</th>\n",
       "      <th>agePossession</th>\n",
       "      <th>nearbyLocations</th>\n",
       "      <th>description</th>\n",
       "      <th>furnishDetails</th>\n",
       "      <th>features</th>\n",
       "      <th>rating</th>\n",
       "      <th>property_type</th>\n",
       "      <th>noOfFloor</th>\n",
       "      <th>area</th>\n",
       "    </tr>\n",
       "  </thead>\n",
       "  <tbody>\n",
       "    <tr>\n",
       "      <th>0</th>\n",
       "      <td>2 BHK Flat in Sector 70 Gurgaon</td>\n",
       "      <td>sector 70</td>\n",
       "      <td>shree vardhman victoria</td>\n",
       "      <td>1300.0</td>\n",
       "      <td>1.10</td>\n",
       "      <td>8461.0</td>\n",
       "      <td>Carpet area: 1300 (120.77 sq.m.)</td>\n",
       "      <td>2.0</td>\n",
       "      <td>2.0</td>\n",
       "      <td>2</td>\n",
       "      <td>not available</td>\n",
       "      <td>Sector 70 Gurgaon, Gurgaon, Haryana</td>\n",
       "      <td>8.0</td>\n",
       "      <td>north-east</td>\n",
       "      <td>1 to 5 Year Old</td>\n",
       "      <td>['Airia Mall', 'Golf Course Extn Road', 'Sohna Road', 'Southern Peripheral Rd, Gurugram', 'Kunskapsskolan International', 'Ektaa Hospitals  Main Sohna Rd', 'Sanjeevani Hospital - Child Specialist', 'Federal Bank Sector 71', 'Central Bank Of India Sohna Rd', 'Axis Bank, Sohna Rd', 'Spaze Palazo, Golf Course Ext Rd', 'VATIKA BUSINESS PARK Sohna Rd', 'The Medicity, Spaze iTech Park', 'Tulip Violet Society, Sector 69', 'IndianOil, Hasanpur']</td>\n",
       "      <td>Square yards rera reg.\\r\\nHrera 660/2017/307\\r\\nProject rera reg.\\r\\n70 of 2017\\r\\nShree vardhman victoria - Project info\\r\\nShree vardhman victoria is an exclusive project located in sector 70, southern peripheral road and well connected by major road(s) like sohna road, southern peripheral road. The total area in which shree vardhman victoria has been built is 11 acre. This project has been developed by shree vardhman who are one of the reputed developers in the gurgaon. The project current status is ready to move. It has 592 units. The apartment units are available in various configurations like 2 bhk flats at a price of rs 82.44 l with property size of 1300 sqft, 3 bhk flats at a price of rs 1.24 cr with property size of 1950 sqft, 4 bhk flats at a price of rs 1.62 cr with property size of 2550 sqft.\\r\\nShree vardhman victoria - Price list\\r\\nUnit type area new home price*\\r\\n2 bhk 1300 sq. Ft.\\r\\nApartment \\r\\n1300 sq. Ft.\\r\\n(Saleable)\\r\\n 82.44 lac\\r\\n3 bhk 1950 sq. Ft.\\r\\nA...</td>\n",
       "      <td>['3 Wardrobe', '1 Modular Kitchen', '1 Chimney', 'No AC', 'No Bed', 'No Curtains', 'No Dining Table', 'No Exhaust Fan', 'No Fan', 'No Geyser', 'No Light', 'No Microwave', 'No Fridge', 'No Sofa', 'No Stove', 'No TV', 'No Washing Machine', 'No Water Purifier']</td>\n",
       "      <td>['Security / Fire Alarm', 'Power Back-up', 'Feng Shui / Vaastu Compliant', 'Intercom Facility', 'Lift(s)', 'High Ceiling Height', 'Maintenance Staff', 'False Ceiling Lighting', 'Water Storage', 'Separate entry for servant room', 'No open drainage around', 'Piped-gas', 'Swimming Pool', 'Park', 'Internet/wi-fi connectivity', 'Shopping Centre', 'Fitness Centre / GYM', 'Waste Disposal', 'Rain Water Harvesting', 'Club house / Community Center', 'Water softening plant']</td>\n",
       "      <td>['Green Area5 out of 5', 'Construction5 out of 5', 'Management4.5 out of 5', 'Amenities4.5 out of 5', 'Connectivity3.5 out of 5']</td>\n",
       "      <td>flat</td>\n",
       "      <td>1.0</td>\n",
       "      <td>NaN</td>\n",
       "    </tr>\n",
       "    <tr>\n",
       "      <th>1</th>\n",
       "      <td>3 Bedroom House for sale in Sector 40 Gurgaon</td>\n",
       "      <td>sector 40</td>\n",
       "      <td>NaN</td>\n",
       "      <td>900.0</td>\n",
       "      <td>2.15</td>\n",
       "      <td>23889.0</td>\n",
       "      <td>Plot area 100(83.61 sq.m.)</td>\n",
       "      <td>3.0</td>\n",
       "      <td>3.0</td>\n",
       "      <td>3</td>\n",
       "      <td>Pooja Room,Study Room,Store Room</td>\n",
       "      <td>Sector 40 Gurgaon, Gurgaon, Haryana</td>\n",
       "      <td>0.0</td>\n",
       "      <td>NaN</td>\n",
       "      <td>5 to 10 year old</td>\n",
       "      <td>['Huda city centre metro station', 'Axis bank ATM', 'State bank of india ATM', 'Icici bank ATM', 'Icici ATM', 'Citi bank ATM', 'Axis bank ATM', 'Hdfc ATM', 'Standard chartered ATM', 'Hdfc bank ATM', 'Axis bank ATM', 'Hdfc bank ATM', 'State bank of india ATM', 'Dispencery', 'Shivam Hospital Gurgaon', 'Fortis Memorial Research Institute Fortis Vivekanand Hospital', 'Dr. Naval Mendiratta', 'Centre For Sight Gurgaon Sector 29', 'Sukhmani Hospital Pvt. Ltd', 'Ahmed Hospital Multi Speciality', \"DR AKRAM JAWED'S THE UPPER LIMB CLINIC\", 'Medanta', 'Gardian Pharmacy', 'City Medical', 'Gardian Pharmacy', 'Pernod Ricard Charitable Dispensary', 'IBP Petrol Pump', 'Bharat petroleum', 'Hdfc bank', 'Raj Restaurant', 'Fast food', 'Fast Food', 'Om Sweets', 'Bar and restaurant', 'Cafe Coffee Day', '32nd Milestone', 'Darbar', 'PWO house', 'Dhabba', 'St. Angels Jr', 'School of Inspired Leadership SOIL', 'CR Model Public School', 'Manav Rachna School', 'St. Angels Sr', 'Amity Global School', 'Salvan Pu...</td>\n",
       "      <td>Its just behind ryan international school and huda market and nh8 are two minutes away 3 bedroom excellent location</td>\n",
       "      <td>['4 Wardrobe', '5 Fan', '4 Geyser', '2 Light', 'No AC', 'No Bed', 'No Chimney', 'No Curtains', 'No Dining Table', 'No Exhaust Fan', 'No Modular Kitchen', 'No Microwave', 'No Fridge', 'No Sofa', 'No Stove', 'No TV', 'No Washing Machine', 'No Water Purifier']</td>\n",
       "      <td>['Feng Shui / Vaastu Compliant', 'Private Garden / Terrace', 'Water purifier', 'Park', 'Natural Light', 'Airy Rooms', 'Club house / Community Center']</td>\n",
       "      <td>['Environment4 out of 5', 'Lifestyle4 out of 5', 'Connectivity4 out of 5', 'Safety4 out of 5']</td>\n",
       "      <td>house</td>\n",
       "      <td>3.0</td>\n",
       "      <td>(84 sq.m.) Plot Area</td>\n",
       "    </tr>\n",
       "    <tr>\n",
       "      <th>2</th>\n",
       "      <td>5 Bedroom House for sale in Palam Vihar</td>\n",
       "      <td>palam vihar</td>\n",
       "      <td>ansals palam vihar</td>\n",
       "      <td>4680.0</td>\n",
       "      <td>9.00</td>\n",
       "      <td>19231.0</td>\n",
       "      <td>Plot area 520(434.79 sq.m.)</td>\n",
       "      <td>5.0</td>\n",
       "      <td>5.0</td>\n",
       "      <td>2</td>\n",
       "      <td>Pooja Room,Study Room,Servant Room,Store Room</td>\n",
       "      <td>J-Block, Palam Vihar, Gurgaon, Haryana</td>\n",
       "      <td>0.0</td>\n",
       "      <td>north</td>\n",
       "      <td>10+ year old</td>\n",
       "      <td>['Palam Vihar Vyapar kendra', 'Palam triangle', 'HUDA Sector 23 Market', 'Ram Mandir', 'Metro Hospital and Heart Institute Gurgaon', \"DR KAPOOR'S Dental Care and Implant Centre\", 'Kalyan Hospital Gurgaon', 'Ansals plaza underground car parking', 'Ansals Plaza above ground car parking', 'HUDA sector 23 parking', 'Axis bank', 'Punjab national bank', 'Oriental bank of commerce', 'Big Cinemas', 'Cafe Coffee Day', 'Pizza Hut', \"Domino's Pizza\", 'Moti Mahal', 'Pind Baluchi', \"McDonald's\", 'Om Sweets', 'Chiranjiv Bharati School', 'Masti ki Pathshala Teach India', 'Swiss Cottage school', 'THE NORTHCAP UNIVERSITY', 'Palam vihar railway station', 'Bijwasan railway station']</td>\n",
       "      <td>North facing plot aviable on sale in palam vihar , marg , very good location beautiful approach, vide 18 mtr. Road and direct entry 60m road in front, call us for more details regarding this plot.</td>\n",
       "      <td>['1 Water Purifier', '4 Fan', '1 Fridge', '1 Exhaust Fan', '5 Geyser', '1 Stove', '5 Light', '5 AC', '1 Modular Kitchen', '1 Chimney', '1 Curtains', '5 Wardrobe', '1 Washing Machine', 'No Bed', 'No Dining Table', 'No Microwave', 'No Sofa', 'No TV']</td>\n",
       "      <td>['Feng Shui / Vaastu Compliant', 'Private Garden / Terrace', 'High Ceiling Height', 'Maintenance Staff', 'False Ceiling Lighting', 'Water Storage', 'Separate entry for servant room', 'No open drainage around', 'Bank Attached Property', 'Piped-gas', 'Visitor Parking', 'Swimming Pool', 'Park', 'Security Personnel', 'Internet/wi-fi connectivity', 'Low Density Society', 'Fitness Centre / GYM', 'Waste Disposal', 'Rain Water Harvesting', 'Club house / Community Center']</td>\n",
       "      <td>['Environment5 out of 5', 'Safety4 out of 5', 'Lifestyle5 out of 5', 'Connectivity5 out of 5']</td>\n",
       "      <td>house</td>\n",
       "      <td>2.0</td>\n",
       "      <td>(435 sq.m.) Plot Area</td>\n",
       "    </tr>\n",
       "  </tbody>\n",
       "</table>\n",
       "</div>"
      ],
      "text/plain": [
       "                                   property_name        sector  \\\n",
       "0                2 BHK Flat in Sector 70 Gurgaon    sector 70    \n",
       "1  3 Bedroom House for sale in Sector 40 Gurgaon    sector 40    \n",
       "2        5 Bedroom House for sale in Palam Vihar   palam vihar   \n",
       "\n",
       "                   society  area_in_sqft  price_in_crores  price_per_sqft  \\\n",
       "0  shree vardhman victoria        1300.0             1.10          8461.0   \n",
       "1                      NaN         900.0             2.15         23889.0   \n",
       "2       ansals palam vihar        4680.0             9.00         19231.0   \n",
       "\n",
       "                       areaWithType  bedRoom  bathroom balcony  \\\n",
       "0  Carpet area: 1300 (120.77 sq.m.)      2.0       2.0       2   \n",
       "1        Plot area 100(83.61 sq.m.)      3.0       3.0       3   \n",
       "2       Plot area 520(434.79 sq.m.)      5.0       5.0       2   \n",
       "\n",
       "                                  additionalRoom  \\\n",
       "0                                  not available   \n",
       "1               Pooja Room,Study Room,Store Room   \n",
       "2  Pooja Room,Study Room,Servant Room,Store Room   \n",
       "\n",
       "                                  address  floorNum      facing  \\\n",
       "0     Sector 70 Gurgaon, Gurgaon, Haryana       8.0  north-east   \n",
       "1     Sector 40 Gurgaon, Gurgaon, Haryana       0.0         NaN   \n",
       "2  J-Block, Palam Vihar, Gurgaon, Haryana       0.0       north   \n",
       "\n",
       "      agePossession  \\\n",
       "0   1 to 5 Year Old   \n",
       "1  5 to 10 year old   \n",
       "2      10+ year old   \n",
       "\n",
       "                                                                                                                                                                                                                                                                                                                                                                                                                                                                                                                                                                                                                                                                                                                                                                                                                                                                                                                                                                                                                           nearbyLocations  \\\n",
       "0                                                                                                                                                                                                                                                                                                                                                                                                                                                                                                                                                                                ['Airia Mall', 'Golf Course Extn Road', 'Sohna Road', 'Southern Peripheral Rd, Gurugram', 'Kunskapsskolan International', 'Ektaa Hospitals  Main Sohna Rd', 'Sanjeevani Hospital - Child Specialist', 'Federal Bank Sector 71', 'Central Bank Of India Sohna Rd', 'Axis Bank, Sohna Rd', 'Spaze Palazo, Golf Course Ext Rd', 'VATIKA BUSINESS PARK Sohna Rd', 'The Medicity, Spaze iTech Park', 'Tulip Violet Society, Sector 69', 'IndianOil, Hasanpur']   \n",
       "1  ['Huda city centre metro station', 'Axis bank ATM', 'State bank of india ATM', 'Icici bank ATM', 'Icici ATM', 'Citi bank ATM', 'Axis bank ATM', 'Hdfc ATM', 'Standard chartered ATM', 'Hdfc bank ATM', 'Axis bank ATM', 'Hdfc bank ATM', 'State bank of india ATM', 'Dispencery', 'Shivam Hospital Gurgaon', 'Fortis Memorial Research Institute Fortis Vivekanand Hospital', 'Dr. Naval Mendiratta', 'Centre For Sight Gurgaon Sector 29', 'Sukhmani Hospital Pvt. Ltd', 'Ahmed Hospital Multi Speciality', \"DR AKRAM JAWED'S THE UPPER LIMB CLINIC\", 'Medanta', 'Gardian Pharmacy', 'City Medical', 'Gardian Pharmacy', 'Pernod Ricard Charitable Dispensary', 'IBP Petrol Pump', 'Bharat petroleum', 'Hdfc bank', 'Raj Restaurant', 'Fast food', 'Fast Food', 'Om Sweets', 'Bar and restaurant', 'Cafe Coffee Day', '32nd Milestone', 'Darbar', 'PWO house', 'Dhabba', 'St. Angels Jr', 'School of Inspired Leadership SOIL', 'CR Model Public School', 'Manav Rachna School', 'St. Angels Sr', 'Amity Global School', 'Salvan Pu...   \n",
       "2                                                                                                                                                                                                                                                                                                                                         ['Palam Vihar Vyapar kendra', 'Palam triangle', 'HUDA Sector 23 Market', 'Ram Mandir', 'Metro Hospital and Heart Institute Gurgaon', \"DR KAPOOR'S Dental Care and Implant Centre\", 'Kalyan Hospital Gurgaon', 'Ansals plaza underground car parking', 'Ansals Plaza above ground car parking', 'HUDA sector 23 parking', 'Axis bank', 'Punjab national bank', 'Oriental bank of commerce', 'Big Cinemas', 'Cafe Coffee Day', 'Pizza Hut', \"Domino's Pizza\", 'Moti Mahal', 'Pind Baluchi', \"McDonald's\", 'Om Sweets', 'Chiranjiv Bharati School', 'Masti ki Pathshala Teach India', 'Swiss Cottage school', 'THE NORTHCAP UNIVERSITY', 'Palam vihar railway station', 'Bijwasan railway station']   \n",
       "\n",
       "                                                                                                                                                                                                                                                                                                                                                                                                                                                                                                                                                                                                                                                                                                                                                                                                                                                                                                                                                                                                                               description  \\\n",
       "0  Square yards rera reg.\\r\\nHrera 660/2017/307\\r\\nProject rera reg.\\r\\n70 of 2017\\r\\nShree vardhman victoria - Project info\\r\\nShree vardhman victoria is an exclusive project located in sector 70, southern peripheral road and well connected by major road(s) like sohna road, southern peripheral road. The total area in which shree vardhman victoria has been built is 11 acre. This project has been developed by shree vardhman who are one of the reputed developers in the gurgaon. The project current status is ready to move. It has 592 units. The apartment units are available in various configurations like 2 bhk flats at a price of rs 82.44 l with property size of 1300 sqft, 3 bhk flats at a price of rs 1.24 cr with property size of 1950 sqft, 4 bhk flats at a price of rs 1.62 cr with property size of 2550 sqft.\\r\\nShree vardhman victoria - Price list\\r\\nUnit type area new home price*\\r\\n2 bhk 1300 sq. Ft.\\r\\nApartment \\r\\n1300 sq. Ft.\\r\\n(Saleable)\\r\\n 82.44 lac\\r\\n3 bhk 1950 sq. Ft.\\r\\nA...   \n",
       "1                                                                                                                                                                                                                                                                                                                                                                                                                                                                                                                                                                                                                                                                                                                                                                                                                                                                                                                      Its just behind ryan international school and huda market and nh8 are two minutes away 3 bedroom excellent location   \n",
       "2                                                                                                                                                                                                                                                                                                                                                                                                                                                                                                                                                                                                                                                                                                                                                                                                                                     North facing plot aviable on sale in palam vihar , marg , very good location beautiful approach, vide 18 mtr. Road and direct entry 60m road in front, call us for more details regarding this plot.   \n",
       "\n",
       "                                                                                                                                                                                                                                                       furnishDetails  \\\n",
       "0  ['3 Wardrobe', '1 Modular Kitchen', '1 Chimney', 'No AC', 'No Bed', 'No Curtains', 'No Dining Table', 'No Exhaust Fan', 'No Fan', 'No Geyser', 'No Light', 'No Microwave', 'No Fridge', 'No Sofa', 'No Stove', 'No TV', 'No Washing Machine', 'No Water Purifier']   \n",
       "1   ['4 Wardrobe', '5 Fan', '4 Geyser', '2 Light', 'No AC', 'No Bed', 'No Chimney', 'No Curtains', 'No Dining Table', 'No Exhaust Fan', 'No Modular Kitchen', 'No Microwave', 'No Fridge', 'No Sofa', 'No Stove', 'No TV', 'No Washing Machine', 'No Water Purifier']   \n",
       "2            ['1 Water Purifier', '4 Fan', '1 Fridge', '1 Exhaust Fan', '5 Geyser', '1 Stove', '5 Light', '5 AC', '1 Modular Kitchen', '1 Chimney', '1 Curtains', '5 Wardrobe', '1 Washing Machine', 'No Bed', 'No Dining Table', 'No Microwave', 'No Sofa', 'No TV']   \n",
       "\n",
       "                                                                                                                                                                                                                                                                                                                                                                                                                                                                               features  \\\n",
       "0  ['Security / Fire Alarm', 'Power Back-up', 'Feng Shui / Vaastu Compliant', 'Intercom Facility', 'Lift(s)', 'High Ceiling Height', 'Maintenance Staff', 'False Ceiling Lighting', 'Water Storage', 'Separate entry for servant room', 'No open drainage around', 'Piped-gas', 'Swimming Pool', 'Park', 'Internet/wi-fi connectivity', 'Shopping Centre', 'Fitness Centre / GYM', 'Waste Disposal', 'Rain Water Harvesting', 'Club house / Community Center', 'Water softening plant']   \n",
       "1                                                                                                                                                                                                                                                                                                                                ['Feng Shui / Vaastu Compliant', 'Private Garden / Terrace', 'Water purifier', 'Park', 'Natural Light', 'Airy Rooms', 'Club house / Community Center']   \n",
       "2  ['Feng Shui / Vaastu Compliant', 'Private Garden / Terrace', 'High Ceiling Height', 'Maintenance Staff', 'False Ceiling Lighting', 'Water Storage', 'Separate entry for servant room', 'No open drainage around', 'Bank Attached Property', 'Piped-gas', 'Visitor Parking', 'Swimming Pool', 'Park', 'Security Personnel', 'Internet/wi-fi connectivity', 'Low Density Society', 'Fitness Centre / GYM', 'Waste Disposal', 'Rain Water Harvesting', 'Club house / Community Center']   \n",
       "\n",
       "                                                                                                                              rating  \\\n",
       "0  ['Green Area5 out of 5', 'Construction5 out of 5', 'Management4.5 out of 5', 'Amenities4.5 out of 5', 'Connectivity3.5 out of 5']   \n",
       "1                                     ['Environment4 out of 5', 'Lifestyle4 out of 5', 'Connectivity4 out of 5', 'Safety4 out of 5']   \n",
       "2                                     ['Environment5 out of 5', 'Safety4 out of 5', 'Lifestyle5 out of 5', 'Connectivity5 out of 5']   \n",
       "\n",
       "  property_type  noOfFloor                   area  \n",
       "0          flat        1.0                    NaN  \n",
       "1         house        3.0   (84 sq.m.) Plot Area  \n",
       "2         house        2.0  (435 sq.m.) Plot Area  "
      ]
     },
     "execution_count": 129,
     "metadata": {},
     "output_type": "execute_result"
    }
   ],
   "source": [
    "import pandas as pd\n",
    "pd.set_option('display.max_columns', None)\n",
    "pd.set_option('display.max_colwidth', 1000)\n",
    "data = pd.read_csv(r'../2. data_cleaning\\4.1 some cols FEed.csv')\n",
    "data.head(3)"
   ]
  },
  {
   "cell_type": "markdown",
   "metadata": {},
   "source": [
    "### FEing `areaWithType` col"
   ]
  },
  {
   "cell_type": "code",
   "execution_count": 130,
   "metadata": {},
   "outputs": [
    {
     "data": {
      "text/plain": [
       "0    Carpet area: 1300 (120.77 sq.m.)\n",
       "1          Plot area 100(83.61 sq.m.)\n",
       "2         Plot area 520(434.79 sq.m.)\n",
       "Name: areaWithType, dtype: object"
      ]
     },
     "execution_count": 130,
     "metadata": {},
     "output_type": "execute_result"
    }
   ],
   "source": [
    "data['areaWithType'].head(3)"
   ]
  },
  {
   "cell_type": "code",
   "execution_count": 131,
   "metadata": {},
   "outputs": [],
   "source": [
    "data['areaWithType'] = data['areaWithType'].str.strip().str.lower()"
   ]
  },
  {
   "cell_type": "code",
   "execution_count": 132,
   "metadata": {},
   "outputs": [
    {
     "data": {
      "text/plain": [
       "areaWithType\n",
       "NaN                                                                              108\n",
       "plot area 360(301.01 sq.m.)                                                       39\n",
       "plot area 300(250.84 sq.m.)                                                       27\n",
       "plot area 200(167.23 sq.m.)                                                       21\n",
       "plot area 502(419.74 sq.m.)                                                       19\n",
       "plot area 270(225.75 sq.m.)                                                       19\n",
       "super built up area 1578(146.6 sq.m.)                                             17\n",
       "super built up area 1350(125.42 sq.m.)                                            17\n",
       "super built up area 1950(181.16 sq.m.)carpet area: 1161 sq.ft. (107.86 sq.m.)     17\n",
       "plot area 900(83.61 sq.m.)                                                        17\n",
       "plot area 500(418.06 sq.m.)                                                       15\n",
       "super built up area 1650(153.29 sq.m.)carpet area: 1022.58 sq.ft. (95 sq.m.)      15\n",
       "super built up area 2010(186.74 sq.m.)                                            14\n",
       "plot area 150(125.42 sq.m.)                                                       14\n",
       "carpet area: 900 (83.61 sq.m.)                                                    13\n",
       "plot area 215(179.77 sq.m.)                                                       12\n",
       "super built up area 2150(199.74 sq.m.)                                            12\n",
       "super built up area 1950(181.16 sq.m.)                                            11\n",
       "plot area 100(83.61 sq.m.)                                                        11\n",
       "plot area 161(134.62 sq.m.)                                                       11\n",
       "plot area 400(334.45 sq.m.)                                                       11\n",
       "carpet area: 1450 (134.71 sq.m.)                                                  11\n",
       "carpet area: 1650 (153.29 sq.m.)                                                  11\n",
       "Name: count, dtype: int64"
      ]
     },
     "execution_count": 132,
     "metadata": {},
     "output_type": "execute_result"
    }
   ],
   "source": [
    "x = data['areaWithType'].value_counts(dropna=False)\n",
    "x[x>10]"
   ]
  },
  {
   "cell_type": "markdown",
   "metadata": {},
   "source": [
    "#### `area_in_sqft` col contains one of the 3 area_types in `areaWithType` col."
   ]
  },
  {
   "cell_type": "code",
   "execution_count": 133,
   "metadata": {},
   "outputs": [
    {
     "data": {
      "text/html": [
       "<div>\n",
       "<style scoped>\n",
       "    .dataframe tbody tr th:only-of-type {\n",
       "        vertical-align: middle;\n",
       "    }\n",
       "\n",
       "    .dataframe tbody tr th {\n",
       "        vertical-align: top;\n",
       "    }\n",
       "\n",
       "    .dataframe thead th {\n",
       "        text-align: right;\n",
       "    }\n",
       "</style>\n",
       "<table border=\"1\" class=\"dataframe\">\n",
       "  <thead>\n",
       "    <tr style=\"text-align: right;\">\n",
       "      <th></th>\n",
       "      <th>area_in_sqft</th>\n",
       "      <th>areaWithType</th>\n",
       "    </tr>\n",
       "  </thead>\n",
       "  <tbody>\n",
       "    <tr>\n",
       "      <th>682</th>\n",
       "      <td>1790.0</td>\n",
       "      <td>super built up area 1790(166.3 sq.m.)carpet area: 1350 sq.ft. (125.42 sq.m.)</td>\n",
       "    </tr>\n",
       "    <tr>\n",
       "      <th>2173</th>\n",
       "      <td>3240.0</td>\n",
       "      <td>plot area 360(301.01 sq.m.)</td>\n",
       "    </tr>\n",
       "    <tr>\n",
       "      <th>3789</th>\n",
       "      <td>700.0</td>\n",
       "      <td>super built up area 700(65.03 sq.m.)carpet area: 450 sq.ft. (41.81 sq.m.)</td>\n",
       "    </tr>\n",
       "  </tbody>\n",
       "</table>\n",
       "</div>"
      ],
      "text/plain": [
       "      area_in_sqft  \\\n",
       "682         1790.0   \n",
       "2173        3240.0   \n",
       "3789         700.0   \n",
       "\n",
       "                                                                      areaWithType  \n",
       "682   super built up area 1790(166.3 sq.m.)carpet area: 1350 sq.ft. (125.42 sq.m.)  \n",
       "2173                                                   plot area 360(301.01 sq.m.)  \n",
       "3789     super built up area 700(65.03 sq.m.)carpet area: 450 sq.ft. (41.81 sq.m.)  "
      ]
     },
     "execution_count": 133,
     "metadata": {},
     "output_type": "execute_result"
    }
   ],
   "source": [
    "data[['area_in_sqft', 'areaWithType']].sample(3)"
   ]
  },
  {
   "cell_type": "markdown",
   "metadata": {},
   "source": [
    "#### creating `superBuiltupArea` col"
   ]
  },
  {
   "cell_type": "code",
   "execution_count": 134,
   "metadata": {},
   "outputs": [
    {
     "data": {
      "text/plain": [
       "3                                                                                       super built up area 2010(186.74 sq.m.)\n",
       "11                                                                                      super built up area 2217(205.97 sq.m.)\n",
       "15                                                                                        super built up area 700(65.03 sq.m.)\n",
       "16      super built up area 1424(132.29 sq.m.)built up area: 1200 sq.ft. (111.48 sq.m.)carpet area: 1139 sq.ft. (105.82 sq.m.)\n",
       "17                                                                                      super built up area 1960(182.09 sq.m.)\n",
       "                                                                 ...                                                          \n",
       "4068                                             super built up area 1990(184.88 sq.m.)carpet area: 1700 sq.ft. (157.94 sq.m.)\n",
       "4071                                                                                    super built up area 1950(181.16 sq.m.)\n",
       "4072     super built up area 1337(124.21 sq.m.)built up area: 1330 sq.ft. (123.56 sq.m.)carpet area: 1050 sq.ft. (97.55 sq.m.)\n",
       "4073                                                                                    super built up area 2905(269.88 sq.m.)\n",
       "4078                                                                                    super built up area 1780(165.37 sq.m.)\n",
       "Name: areaWithType, Length: 1934, dtype: object"
      ]
     },
     "execution_count": 134,
     "metadata": {},
     "output_type": "execute_result"
    }
   ],
   "source": [
    "# areaWithType containing \"super\" keyword\n",
    "data[data['areaWithType'].str.lower().str.strip().fillna('').str.contains('super')]['areaWithType']"
   ]
  },
  {
   "cell_type": "code",
   "execution_count": 135,
   "metadata": {},
   "outputs": [
    {
     "data": {
      "text/plain": [
       "0        NaN\n",
       "1        NaN\n",
       "2        NaN\n",
       "3       2010\n",
       "4        NaN\n",
       "        ... \n",
       "4077     NaN\n",
       "4078    1780\n",
       "4079     NaN\n",
       "4080     NaN\n",
       "4081     NaN\n",
       "Name: SuperBuiltupArea, Length: 4082, dtype: object"
      ]
     },
     "execution_count": 135,
     "metadata": {},
     "output_type": "execute_result"
    }
   ],
   "source": [
    "data['SuperBuiltupArea'] = data['areaWithType'].str.lower().str.strip().str.extract(r'super built up area (\\d+\\.?\\d+)')\n",
    "data['SuperBuiltupArea']"
   ]
  },
  {
   "cell_type": "code",
   "execution_count": 136,
   "metadata": {},
   "outputs": [
    {
     "data": {
      "text/plain": [
       "SuperBuiltupArea\n",
       "NaN     2148\n",
       "1650      38\n",
       "1950      38\n",
       "2000      26\n",
       "1578      25\n",
       "2150      23\n",
       "1640      22\n",
       "Name: count, dtype: int64"
      ]
     },
     "execution_count": 136,
     "metadata": {},
     "output_type": "execute_result"
    }
   ],
   "source": [
    "data['SuperBuiltupArea'].value_counts(dropna=False)[data['SuperBuiltupArea'].value_counts(dropna=False) >20]"
   ]
  },
  {
   "cell_type": "code",
   "execution_count": 137,
   "metadata": {},
   "outputs": [],
   "source": [
    "# observation\n",
    "# 2148 places regex couldn't extract superBuiltupArea value."
   ]
  },
  {
   "cell_type": "code",
   "execution_count": 138,
   "metadata": {},
   "outputs": [
    {
     "data": {
      "text/html": [
       "<div>\n",
       "<style scoped>\n",
       "    .dataframe tbody tr th:only-of-type {\n",
       "        vertical-align: middle;\n",
       "    }\n",
       "\n",
       "    .dataframe tbody tr th {\n",
       "        vertical-align: top;\n",
       "    }\n",
       "\n",
       "    .dataframe thead th {\n",
       "        text-align: right;\n",
       "    }\n",
       "</style>\n",
       "<table border=\"1\" class=\"dataframe\">\n",
       "  <thead>\n",
       "    <tr style=\"text-align: right;\">\n",
       "      <th></th>\n",
       "      <th>SuperBuiltupArea</th>\n",
       "      <th>areaWithType</th>\n",
       "    </tr>\n",
       "  </thead>\n",
       "  <tbody>\n",
       "    <tr>\n",
       "      <th>2019</th>\n",
       "      <td>NaN</td>\n",
       "      <td>built up area: 1734 (161.09 sq.m.)</td>\n",
       "    </tr>\n",
       "    <tr>\n",
       "      <th>3868</th>\n",
       "      <td>NaN</td>\n",
       "      <td>carpet area: 2290 (212.75 sq.m.)</td>\n",
       "    </tr>\n",
       "    <tr>\n",
       "      <th>2964</th>\n",
       "      <td>NaN</td>\n",
       "      <td>built up area: 800 (74.32 sq.m.)</td>\n",
       "    </tr>\n",
       "    <tr>\n",
       "      <th>3076</th>\n",
       "      <td>NaN</td>\n",
       "      <td>carpet area: 1690 (157.01 sq.m.)</td>\n",
       "    </tr>\n",
       "    <tr>\n",
       "      <th>3276</th>\n",
       "      <td>NaN</td>\n",
       "      <td>plot area 521</td>\n",
       "    </tr>\n",
       "  </tbody>\n",
       "</table>\n",
       "</div>"
      ],
      "text/plain": [
       "     SuperBuiltupArea                        areaWithType\n",
       "2019              NaN  built up area: 1734 (161.09 sq.m.)\n",
       "3868              NaN    carpet area: 2290 (212.75 sq.m.)\n",
       "2964              NaN    built up area: 800 (74.32 sq.m.)\n",
       "3076              NaN    carpet area: 1690 (157.01 sq.m.)\n",
       "3276              NaN                       plot area 521"
      ]
     },
     "execution_count": 138,
     "metadata": {},
     "output_type": "execute_result"
    }
   ],
   "source": [
    "data[data['SuperBuiltupArea'].isna()][['SuperBuiltupArea', 'areaWithType']].sample(5)"
   ]
  },
  {
   "cell_type": "markdown",
   "metadata": {},
   "source": [
    "#### creating `BuiltupArea` col"
   ]
  },
  {
   "cell_type": "code",
   "execution_count": 139,
   "metadata": {},
   "outputs": [
    {
     "data": {
      "text/plain": [
       "2978    built up area: 1081 (100.43 sq.m.)\n",
       "1137             plot area 14(354.1 sq.m.)\n",
       "3920      carpet area: 1900 (176.52 sq.m.)\n",
       "Name: areaWithType, dtype: object"
      ]
     },
     "execution_count": 139,
     "metadata": {},
     "output_type": "execute_result"
    }
   ],
   "source": [
    "data['areaWithType'].str.lower().str.strip().sample(3)"
   ]
  },
  {
   "cell_type": "code",
   "execution_count": 140,
   "metadata": {},
   "outputs": [
    {
     "data": {
      "text/plain": [
       "0       NaN\n",
       "1       NaN\n",
       "2       NaN\n",
       "3       NaN\n",
       "4       NaN\n",
       "       ... \n",
       "4077    NaN\n",
       "4078    NaN\n",
       "4079    NaN\n",
       "4080    NaN\n",
       "4081    NaN\n",
       "Name: BuiltupArea, Length: 4082, dtype: object"
      ]
     },
     "execution_count": 140,
     "metadata": {},
     "output_type": "execute_result"
    }
   ],
   "source": [
    "data['BuiltupArea'] = data['areaWithType'].str.lower().str.strip().str.extract(r'built up area\\s*:\\s*(\\d+\\.?\\d*)')\n",
    "data['BuiltupArea']"
   ]
  },
  {
   "cell_type": "code",
   "execution_count": 141,
   "metadata": {},
   "outputs": [
    {
     "data": {
      "text/plain": [
       "BuiltupArea\n",
       "NaN     2848\n",
       "1900      34\n",
       "1600      26\n",
       "2000      25\n",
       "1300      24\n",
       "1700      22\n",
       "Name: count, dtype: int64"
      ]
     },
     "execution_count": 141,
     "metadata": {},
     "output_type": "execute_result"
    }
   ],
   "source": [
    "data['BuiltupArea'].value_counts(dropna=False)[data['BuiltupArea'].value_counts(dropna=False) >20]"
   ]
  },
  {
   "cell_type": "code",
   "execution_count": 142,
   "metadata": {},
   "outputs": [],
   "source": [
    "# observation\n",
    "# 2848 places regex couldn't extract BuiltupArea value."
   ]
  },
  {
   "cell_type": "code",
   "execution_count": 143,
   "metadata": {},
   "outputs": [
    {
     "data": {
      "text/html": [
       "<div>\n",
       "<style scoped>\n",
       "    .dataframe tbody tr th:only-of-type {\n",
       "        vertical-align: middle;\n",
       "    }\n",
       "\n",
       "    .dataframe tbody tr th {\n",
       "        vertical-align: top;\n",
       "    }\n",
       "\n",
       "    .dataframe thead th {\n",
       "        text-align: right;\n",
       "    }\n",
       "</style>\n",
       "<table border=\"1\" class=\"dataframe\">\n",
       "  <thead>\n",
       "    <tr style=\"text-align: right;\">\n",
       "      <th></th>\n",
       "      <th>BuiltupArea</th>\n",
       "      <th>areaWithType</th>\n",
       "    </tr>\n",
       "  </thead>\n",
       "  <tbody>\n",
       "    <tr>\n",
       "      <th>3394</th>\n",
       "      <td>NaN</td>\n",
       "      <td>plot area 200(167.23 sq.m.)</td>\n",
       "    </tr>\n",
       "    <tr>\n",
       "      <th>1978</th>\n",
       "      <td>NaN</td>\n",
       "      <td>NaN</td>\n",
       "    </tr>\n",
       "    <tr>\n",
       "      <th>3118</th>\n",
       "      <td>NaN</td>\n",
       "      <td>super built up area 1385(128.67 sq.m.)</td>\n",
       "    </tr>\n",
       "    <tr>\n",
       "      <th>1530</th>\n",
       "      <td>NaN</td>\n",
       "      <td>NaN</td>\n",
       "    </tr>\n",
       "    <tr>\n",
       "      <th>876</th>\n",
       "      <td>NaN</td>\n",
       "      <td>carpet area: 675 (62.71 sq.m.)</td>\n",
       "    </tr>\n",
       "  </tbody>\n",
       "</table>\n",
       "</div>"
      ],
      "text/plain": [
       "     BuiltupArea                            areaWithType\n",
       "3394         NaN             plot area 200(167.23 sq.m.)\n",
       "1978         NaN                                     NaN\n",
       "3118         NaN  super built up area 1385(128.67 sq.m.)\n",
       "1530         NaN                                     NaN\n",
       "876          NaN          carpet area: 675 (62.71 sq.m.)"
      ]
     },
     "execution_count": 143,
     "metadata": {},
     "output_type": "execute_result"
    }
   ],
   "source": [
    "data[data['BuiltupArea'].isna()][['BuiltupArea', 'areaWithType']].sample(5)"
   ]
  },
  {
   "cell_type": "markdown",
   "metadata": {},
   "source": [
    "#### creating `CarpetArea` col"
   ]
  },
  {
   "cell_type": "code",
   "execution_count": 144,
   "metadata": {},
   "outputs": [
    {
     "data": {
      "text/plain": [
       "3113                                                                                              plot area 2250(209.03 sq.m.)\n",
       "2145                                                                                    super built up area 2048(190.27 sq.m.)\n",
       "547     super built up area 1805(167.69 sq.m.)built up area: 1350 sq.ft. (125.42 sq.m.)carpet area: 1100 sq.ft. (102.19 sq.m.)\n",
       "Name: areaWithType, dtype: object"
      ]
     },
     "execution_count": 144,
     "metadata": {},
     "output_type": "execute_result"
    }
   ],
   "source": [
    "data['areaWithType'].str.lower().str.strip().sample(3)"
   ]
  },
  {
   "cell_type": "code",
   "execution_count": 145,
   "metadata": {},
   "outputs": [
    {
     "data": {
      "text/plain": [
       "0       1300\n",
       "1        NaN\n",
       "2        NaN\n",
       "3        NaN\n",
       "4       3500\n",
       "        ... \n",
       "4077     NaN\n",
       "4078     NaN\n",
       "4079    2295\n",
       "4080    1120\n",
       "4081    1300\n",
       "Name: CarpetArea, Length: 4082, dtype: object"
      ]
     },
     "execution_count": 145,
     "metadata": {},
     "output_type": "execute_result"
    }
   ],
   "source": [
    "data['CarpetArea'] = data['areaWithType'].str.lower().str.strip().str.extract(r'carpet area\\s*:\\s*(\\d+\\.?\\d*)')\n",
    "data['CarpetArea']"
   ]
  },
  {
   "cell_type": "code",
   "execution_count": 146,
   "metadata": {},
   "outputs": [
    {
     "data": {
      "text/plain": [
       "CarpetArea\n",
       "NaN     2079\n",
       "1400      42\n",
       "1800      37\n",
       "1600      36\n",
       "1200      33\n",
       "1500      30\n",
       "1350      29\n",
       "1650      28\n",
       "900       25\n",
       "2000      23\n",
       "1300      23\n",
       "1000      23\n",
       "1450      23\n",
       "2200      21\n",
       "Name: count, dtype: int64"
      ]
     },
     "execution_count": 146,
     "metadata": {},
     "output_type": "execute_result"
    }
   ],
   "source": [
    "data['CarpetArea'].value_counts(dropna=False)[data['CarpetArea'].value_counts(dropna=False) >20]"
   ]
  },
  {
   "cell_type": "code",
   "execution_count": 147,
   "metadata": {},
   "outputs": [],
   "source": [
    "# observation\n",
    "# 2079 places regex couldn't extract CarpetArea value."
   ]
  },
  {
   "cell_type": "code",
   "execution_count": 148,
   "metadata": {},
   "outputs": [
    {
     "data": {
      "text/html": [
       "<div>\n",
       "<style scoped>\n",
       "    .dataframe tbody tr th:only-of-type {\n",
       "        vertical-align: middle;\n",
       "    }\n",
       "\n",
       "    .dataframe tbody tr th {\n",
       "        vertical-align: top;\n",
       "    }\n",
       "\n",
       "    .dataframe thead th {\n",
       "        text-align: right;\n",
       "    }\n",
       "</style>\n",
       "<table border=\"1\" class=\"dataframe\">\n",
       "  <thead>\n",
       "    <tr style=\"text-align: right;\">\n",
       "      <th></th>\n",
       "      <th>CarpetArea</th>\n",
       "      <th>areaWithType</th>\n",
       "    </tr>\n",
       "  </thead>\n",
       "  <tbody>\n",
       "    <tr>\n",
       "      <th>2153</th>\n",
       "      <td>NaN</td>\n",
       "      <td>super built up area 1262(117.24 sq.m.)</td>\n",
       "    </tr>\n",
       "    <tr>\n",
       "      <th>1004</th>\n",
       "      <td>NaN</td>\n",
       "      <td>plot area 360(301.01 sq.m.)</td>\n",
       "    </tr>\n",
       "    <tr>\n",
       "      <th>3179</th>\n",
       "      <td>NaN</td>\n",
       "      <td>super built up area 1479(137.4 sq.m.)</td>\n",
       "    </tr>\n",
       "    <tr>\n",
       "      <th>202</th>\n",
       "      <td>NaN</td>\n",
       "      <td>plot area 100(83.61 sq.m.)</td>\n",
       "    </tr>\n",
       "    <tr>\n",
       "      <th>2950</th>\n",
       "      <td>NaN</td>\n",
       "      <td>plot area 205(171.41 sq.m.)</td>\n",
       "    </tr>\n",
       "  </tbody>\n",
       "</table>\n",
       "</div>"
      ],
      "text/plain": [
       "     CarpetArea                            areaWithType\n",
       "2153        NaN  super built up area 1262(117.24 sq.m.)\n",
       "1004        NaN             plot area 360(301.01 sq.m.)\n",
       "3179        NaN   super built up area 1479(137.4 sq.m.)\n",
       "202         NaN              plot area 100(83.61 sq.m.)\n",
       "2950        NaN             plot area 205(171.41 sq.m.)"
      ]
     },
     "execution_count": 148,
     "metadata": {},
     "output_type": "execute_result"
    }
   ],
   "source": [
    "data[data['CarpetArea'].isna()][['CarpetArea', 'areaWithType']].sample(5)"
   ]
  },
  {
   "cell_type": "markdown",
   "metadata": {},
   "source": [
    "#### converting all 3 area_cols from sqm to sqft"
   ]
  },
  {
   "cell_type": "code",
   "execution_count": 149,
   "metadata": {},
   "outputs": [
    {
     "data": {
      "text/html": [
       "<div>\n",
       "<style scoped>\n",
       "    .dataframe tbody tr th:only-of-type {\n",
       "        vertical-align: middle;\n",
       "    }\n",
       "\n",
       "    .dataframe tbody tr th {\n",
       "        vertical-align: top;\n",
       "    }\n",
       "\n",
       "    .dataframe thead th {\n",
       "        text-align: right;\n",
       "    }\n",
       "</style>\n",
       "<table border=\"1\" class=\"dataframe\">\n",
       "  <thead>\n",
       "    <tr style=\"text-align: right;\">\n",
       "      <th></th>\n",
       "      <th>areaWithType</th>\n",
       "      <th>SuperBuiltupArea</th>\n",
       "      <th>BuiltupArea</th>\n",
       "      <th>CarpetArea</th>\n",
       "    </tr>\n",
       "  </thead>\n",
       "  <tbody>\n",
       "    <tr>\n",
       "      <th>3573</th>\n",
       "      <td>super built up area 1963(182.37 sq.m.)carpet area: 1700 sq.ft. (157.94 sq.m.)</td>\n",
       "      <td>1963</td>\n",
       "      <td>NaN</td>\n",
       "      <td>1700</td>\n",
       "    </tr>\n",
       "    <tr>\n",
       "      <th>332</th>\n",
       "      <td>super built up area 1630(151.43 sq.m.)</td>\n",
       "      <td>1630</td>\n",
       "      <td>NaN</td>\n",
       "      <td>NaN</td>\n",
       "    </tr>\n",
       "    <tr>\n",
       "      <th>4055</th>\n",
       "      <td>carpet area: 1444 (134.15 sq.m.)</td>\n",
       "      <td>NaN</td>\n",
       "      <td>NaN</td>\n",
       "      <td>1444</td>\n",
       "    </tr>\n",
       "    <tr>\n",
       "      <th>3254</th>\n",
       "      <td>carpet area: 2320 (215.54 sq.m.)</td>\n",
       "      <td>NaN</td>\n",
       "      <td>NaN</td>\n",
       "      <td>2320</td>\n",
       "    </tr>\n",
       "    <tr>\n",
       "      <th>3959</th>\n",
       "      <td>super built up area 1852(172.06 sq.m.)carpet area: 1128.09 sq.ft. (104.8 sq.m.)</td>\n",
       "      <td>1852</td>\n",
       "      <td>NaN</td>\n",
       "      <td>1128.09</td>\n",
       "    </tr>\n",
       "  </tbody>\n",
       "</table>\n",
       "</div>"
      ],
      "text/plain": [
       "                                                                         areaWithType  \\\n",
       "3573    super built up area 1963(182.37 sq.m.)carpet area: 1700 sq.ft. (157.94 sq.m.)   \n",
       "332                                            super built up area 1630(151.43 sq.m.)   \n",
       "4055                                                 carpet area: 1444 (134.15 sq.m.)   \n",
       "3254                                                 carpet area: 2320 (215.54 sq.m.)   \n",
       "3959  super built up area 1852(172.06 sq.m.)carpet area: 1128.09 sq.ft. (104.8 sq.m.)   \n",
       "\n",
       "     SuperBuiltupArea BuiltupArea CarpetArea  \n",
       "3573             1963         NaN       1700  \n",
       "332              1630         NaN        NaN  \n",
       "4055              NaN         NaN       1444  \n",
       "3254              NaN         NaN       2320  \n",
       "3959             1852         NaN    1128.09  "
      ]
     },
     "execution_count": 149,
     "metadata": {},
     "output_type": "execute_result"
    }
   ],
   "source": [
    "data[['areaWithType', 'SuperBuiltupArea',\t'BuiltupArea',\t'CarpetArea']].sample(5)"
   ]
  },
  {
   "cell_type": "code",
   "execution_count": 150,
   "metadata": {},
   "outputs": [],
   "source": [
    "import re\n",
    "def convert_to_sqft(area_text, area_value):\n",
    "    if not area_value:\n",
    "        return None\n",
    "    match = re.search(r\"{} \\((\\d+\\.?\\d*) sq.m.\\)*\".format(area_value), str(area_text))\n",
    "    if match:\n",
    "        sqm_value = float(match.group(1))\n",
    "        return sqm_value*10.76391\n",
    "    return area_value"
   ]
  },
  {
   "cell_type": "code",
   "execution_count": 151,
   "metadata": {},
   "outputs": [],
   "source": [
    "data['CarpetArea'] = data.apply(lambda x: convert_to_sqft(x['areaWithType'], x['CarpetArea']), axis=1)\n",
    "data['BuiltupArea'] = data.apply(lambda x: convert_to_sqft(x['areaWithType'], x['BuiltupArea']), axis=1)\n",
    "data['SuperBuiltupArea'] = data.apply(lambda x: convert_to_sqft(x['areaWithType'], x['SuperBuiltupArea']), axis=1)"
   ]
  },
  {
   "cell_type": "code",
   "execution_count": 152,
   "metadata": {},
   "outputs": [
    {
     "data": {
      "text/html": [
       "<div>\n",
       "<style scoped>\n",
       "    .dataframe tbody tr th:only-of-type {\n",
       "        vertical-align: middle;\n",
       "    }\n",
       "\n",
       "    .dataframe tbody tr th {\n",
       "        vertical-align: top;\n",
       "    }\n",
       "\n",
       "    .dataframe thead th {\n",
       "        text-align: right;\n",
       "    }\n",
       "</style>\n",
       "<table border=\"1\" class=\"dataframe\">\n",
       "  <thead>\n",
       "    <tr style=\"text-align: right;\">\n",
       "      <th></th>\n",
       "      <th>SuperBuiltupArea</th>\n",
       "      <th>BuiltupArea</th>\n",
       "      <th>CarpetArea</th>\n",
       "    </tr>\n",
       "  </thead>\n",
       "  <tbody>\n",
       "    <tr>\n",
       "      <th>0</th>\n",
       "      <td>NaN</td>\n",
       "      <td>NaN</td>\n",
       "      <td>1299.957411</td>\n",
       "    </tr>\n",
       "    <tr>\n",
       "      <th>1</th>\n",
       "      <td>NaN</td>\n",
       "      <td>NaN</td>\n",
       "      <td>NaN</td>\n",
       "    </tr>\n",
       "    <tr>\n",
       "      <th>2</th>\n",
       "      <td>NaN</td>\n",
       "      <td>NaN</td>\n",
       "      <td>NaN</td>\n",
       "    </tr>\n",
       "  </tbody>\n",
       "</table>\n",
       "</div>"
      ],
      "text/plain": [
       "  SuperBuiltupArea BuiltupArea   CarpetArea\n",
       "0              NaN         NaN  1299.957411\n",
       "1              NaN         NaN          NaN\n",
       "2              NaN         NaN          NaN"
      ]
     },
     "execution_count": 152,
     "metadata": {},
     "output_type": "execute_result"
    }
   ],
   "source": [
    "data[['SuperBuiltupArea', 'BuiltupArea',\t'CarpetArea']].head(3)"
   ]
  },
  {
   "cell_type": "markdown",
   "metadata": {},
   "source": [
    "#### 1) checking where none of the 3 area values are present"
   ]
  },
  {
   "cell_type": "code",
   "execution_count": 153,
   "metadata": {},
   "outputs": [
    {
     "data": {
      "text/plain": [
       "735"
      ]
     },
     "execution_count": 153,
     "metadata": {},
     "output_type": "execute_result"
    }
   ],
   "source": [
    "data[(data['CarpetArea'].isnull() & data['BuiltupArea'].isnull() & data['SuperBuiltupArea'].isnull())][['CarpetArea', 'BuiltupArea', 'SuperBuiltupArea']].shape[0]"
   ]
  },
  {
   "cell_type": "code",
   "execution_count": 154,
   "metadata": {},
   "outputs": [
    {
     "data": {
      "text/plain": [
       "4082"
      ]
     },
     "execution_count": 154,
     "metadata": {},
     "output_type": "execute_result"
    }
   ],
   "source": [
    "data.shape[0]"
   ]
  },
  {
   "cell_type": "code",
   "execution_count": 155,
   "metadata": {},
   "outputs": [
    {
     "data": {
      "text/html": [
       "<div>\n",
       "<style scoped>\n",
       "    .dataframe tbody tr th:only-of-type {\n",
       "        vertical-align: middle;\n",
       "    }\n",
       "\n",
       "    .dataframe tbody tr th {\n",
       "        vertical-align: top;\n",
       "    }\n",
       "\n",
       "    .dataframe thead th {\n",
       "        text-align: right;\n",
       "    }\n",
       "</style>\n",
       "<table border=\"1\" class=\"dataframe\">\n",
       "  <thead>\n",
       "    <tr style=\"text-align: right;\">\n",
       "      <th></th>\n",
       "      <th>CarpetArea</th>\n",
       "      <th>BuiltupArea</th>\n",
       "      <th>SuperBuiltupArea</th>\n",
       "    </tr>\n",
       "  </thead>\n",
       "  <tbody>\n",
       "    <tr>\n",
       "      <th>896</th>\n",
       "      <td>NaN</td>\n",
       "      <td>NaN</td>\n",
       "      <td>NaN</td>\n",
       "    </tr>\n",
       "    <tr>\n",
       "      <th>2389</th>\n",
       "      <td>NaN</td>\n",
       "      <td>NaN</td>\n",
       "      <td>NaN</td>\n",
       "    </tr>\n",
       "    <tr>\n",
       "      <th>705</th>\n",
       "      <td>NaN</td>\n",
       "      <td>NaN</td>\n",
       "      <td>NaN</td>\n",
       "    </tr>\n",
       "    <tr>\n",
       "      <th>718</th>\n",
       "      <td>NaN</td>\n",
       "      <td>NaN</td>\n",
       "      <td>NaN</td>\n",
       "    </tr>\n",
       "    <tr>\n",
       "      <th>3985</th>\n",
       "      <td>NaN</td>\n",
       "      <td>NaN</td>\n",
       "      <td>NaN</td>\n",
       "    </tr>\n",
       "  </tbody>\n",
       "</table>\n",
       "</div>"
      ],
      "text/plain": [
       "     CarpetArea BuiltupArea SuperBuiltupArea\n",
       "896         NaN         NaN              NaN\n",
       "2389        NaN         NaN              NaN\n",
       "705         NaN         NaN              NaN\n",
       "718         NaN         NaN              NaN\n",
       "3985        NaN         NaN              NaN"
      ]
     },
     "execution_count": 155,
     "metadata": {},
     "output_type": "execute_result"
    }
   ],
   "source": [
    "data[(data['CarpetArea'].isnull() & data['BuiltupArea'].isnull() & data['SuperBuiltupArea'].isnull())][['CarpetArea', 'BuiltupArea', 'SuperBuiltupArea']].sample(5)"
   ]
  },
  {
   "cell_type": "code",
   "execution_count": 156,
   "metadata": {},
   "outputs": [],
   "source": [
    "# there are 737 rows with no are at all, it is becoz some rows also have plot_area which we are yet to extract"
   ]
  },
  {
   "cell_type": "markdown",
   "metadata": {},
   "source": [
    "##### 1.1) extracting `plot_area` values from areaWithType col"
   ]
  },
  {
   "cell_type": "code",
   "execution_count": 157,
   "metadata": {},
   "outputs": [
    {
     "data": {
      "text/plain": [
       "0             carpet area: 1300 (120.77 sq.m.)\n",
       "1                   plot area 100(83.61 sq.m.)\n",
       "2                  plot area 520(434.79 sq.m.)\n",
       "3       super built up area 2010(186.74 sq.m.)\n",
       "4             carpet area: 3500 (325.16 sq.m.)\n",
       "                         ...                  \n",
       "4077               plot area 300(250.84 sq.m.)\n",
       "4078    super built up area 1780(165.37 sq.m.)\n",
       "4079          carpet area: 2295 (213.21 sq.m.)\n",
       "4080          carpet area: 1120 (104.05 sq.m.)\n",
       "4081          carpet area: 1300 (120.77 sq.m.)\n",
       "Name: areaWithType, Length: 4082, dtype: object"
      ]
     },
     "execution_count": 157,
     "metadata": {},
     "output_type": "execute_result"
    }
   ],
   "source": [
    "data['areaWithType']"
   ]
  },
  {
   "cell_type": "code",
   "execution_count": 158,
   "metadata": {},
   "outputs": [
    {
     "data": {
      "text/plain": [
       "1                                                                                          plot area 100(83.61 sq.m.)\n",
       "2                                                                                         plot area 520(434.79 sq.m.)\n",
       "8       plot area 260(217.39 sq.m.)built up area: 250 sq.yards (209.03 sq.m.)carpet area: 245 sq.yards (204.85 sq.m.)\n",
       "9                                                                                          plot area 263(219.9 sq.m.)\n",
       "10                                                                                          plot area 75(62.71 sq.m.)\n",
       "                                                            ...                                                      \n",
       "4048                                                                                      plot area 168(140.47 sq.m.)\n",
       "4050                                                                                     plot area 1000(836.13 sq.m.)\n",
       "4057                                                                                      plot area 250(209.03 sq.m.)\n",
       "4059                                                                                      plot area 360(301.01 sq.m.)\n",
       "4077                                                                                      plot area 300(250.84 sq.m.)\n",
       "Name: areaWithType, Length: 779, dtype: object"
      ]
     },
     "execution_count": 158,
     "metadata": {},
     "output_type": "execute_result"
    }
   ],
   "source": [
    "data[data['areaWithType'].fillna('').str.contains('plot')]['areaWithType']"
   ]
  },
  {
   "cell_type": "code",
   "execution_count": 159,
   "metadata": {},
   "outputs": [
    {
     "data": {
      "text/plain": [
       "0          NaN\n",
       "1        83.61\n",
       "2       434.79\n",
       "3          NaN\n",
       "4          NaN\n",
       "         ...  \n",
       "4077    250.84\n",
       "4078       NaN\n",
       "4079       NaN\n",
       "4080       NaN\n",
       "4081       NaN\n",
       "Name: plotArea, Length: 4082, dtype: object"
      ]
     },
     "execution_count": 159,
     "metadata": {},
     "output_type": "execute_result"
    }
   ],
   "source": [
    "data['plotArea'] = data['areaWithType'].str.extract(r'plot area \\d+\\.*\\d*\\((\\d+\\.*\\d*)')\n",
    "data['plotArea']"
   ]
  },
  {
   "cell_type": "markdown",
   "metadata": {},
   "source": [
    "##### checking with a simple_regex if the my complex_regex was able to extract ALL the records correctly or not:"
   ]
  },
  {
   "cell_type": "code",
   "execution_count": 160,
   "metadata": {},
   "outputs": [
    {
     "data": {
      "text/plain": [
       "7"
      ]
     },
     "execution_count": 160,
     "metadata": {},
     "output_type": "execute_result"
    }
   ],
   "source": [
    "data[(data['plotArea'].isnull()) & (data['areaWithType'].fillna('').str.contains('plot'))][['areaWithType', 'plotArea']].shape[0]"
   ]
  },
  {
   "cell_type": "code",
   "execution_count": 161,
   "metadata": {},
   "outputs": [
    {
     "data": {
      "text/html": [
       "<div>\n",
       "<style scoped>\n",
       "    .dataframe tbody tr th:only-of-type {\n",
       "        vertical-align: middle;\n",
       "    }\n",
       "\n",
       "    .dataframe tbody tr th {\n",
       "        vertical-align: top;\n",
       "    }\n",
       "\n",
       "    .dataframe thead th {\n",
       "        text-align: right;\n",
       "    }\n",
       "</style>\n",
       "<table border=\"1\" class=\"dataframe\">\n",
       "  <thead>\n",
       "    <tr style=\"text-align: right;\">\n",
       "      <th></th>\n",
       "      <th>areaWithType</th>\n",
       "      <th>plotArea</th>\n",
       "    </tr>\n",
       "  </thead>\n",
       "  <tbody>\n",
       "    <tr>\n",
       "      <th>896</th>\n",
       "      <td>plot area 754</td>\n",
       "      <td>NaN</td>\n",
       "    </tr>\n",
       "    <tr>\n",
       "      <th>1969</th>\n",
       "      <td>plot area 160</td>\n",
       "      <td>NaN</td>\n",
       "    </tr>\n",
       "    <tr>\n",
       "      <th>2695</th>\n",
       "      <td>plot area 50</td>\n",
       "      <td>NaN</td>\n",
       "    </tr>\n",
       "    <tr>\n",
       "      <th>2947</th>\n",
       "      <td>plot area 60built up area: 60 sq.m.carpet area: 59 sq.m.</td>\n",
       "      <td>NaN</td>\n",
       "    </tr>\n",
       "    <tr>\n",
       "      <th>3267</th>\n",
       "      <td>plot area 220built up area: 170 sq.m.carpet area: 160 sq.m.</td>\n",
       "      <td>NaN</td>\n",
       "    </tr>\n",
       "    <tr>\n",
       "      <th>3276</th>\n",
       "      <td>plot area 521</td>\n",
       "      <td>NaN</td>\n",
       "    </tr>\n",
       "    <tr>\n",
       "      <th>3863</th>\n",
       "      <td>plot area 420</td>\n",
       "      <td>NaN</td>\n",
       "    </tr>\n",
       "  </tbody>\n",
       "</table>\n",
       "</div>"
      ],
      "text/plain": [
       "                                                     areaWithType plotArea\n",
       "896                                                 plot area 754      NaN\n",
       "1969                                                plot area 160      NaN\n",
       "2695                                                 plot area 50      NaN\n",
       "2947     plot area 60built up area: 60 sq.m.carpet area: 59 sq.m.      NaN\n",
       "3267  plot area 220built up area: 170 sq.m.carpet area: 160 sq.m.      NaN\n",
       "3276                                                plot area 521      NaN\n",
       "3863                                                plot area 420      NaN"
      ]
     },
     "execution_count": 161,
     "metadata": {},
     "output_type": "execute_result"
    }
   ],
   "source": [
    "data[(data['plotArea'].isnull()) & (data['areaWithType'].fillna('').str.contains('plot'))][['areaWithType', 'plotArea']]"
   ]
  },
  {
   "cell_type": "code",
   "execution_count": 162,
   "metadata": {},
   "outputs": [],
   "source": [
    "# observation:\n",
    "    # here not every plot are record contained the sqm area, so i had to go with the number before it and to understand what is the unit of this number, i did chatgpt like this:\n",
    "        # Sarvesh Kesharwani:\n",
    "            # what is the number before brackets \"carpet area: 2295 (213.21 sq.m.)\"\n",
    "        # chatgpt:\n",
    "            # The number 2295 represents the carpet area in square feet (sq ft).\n",
    "            # The information within the brackets, \"(213.21 sq.m.)\", provides the equivalent area in square meters (sq m).\n",
    "\n",
    "    # and found that it is sqft area."
   ]
  },
  {
   "cell_type": "markdown",
   "metadata": {},
   "source": [
    "##### extracting plot_area again but sqft unit this time instead of sqm"
   ]
  },
  {
   "cell_type": "code",
   "execution_count": 163,
   "metadata": {},
   "outputs": [
    {
     "data": {
      "text/plain": [
       "0       NaN\n",
       "1       100\n",
       "2       520\n",
       "3       NaN\n",
       "4       NaN\n",
       "       ... \n",
       "4077    300\n",
       "4078    NaN\n",
       "4079    NaN\n",
       "4080    NaN\n",
       "4081    NaN\n",
       "Name: plotArea, Length: 4082, dtype: object"
      ]
     },
     "execution_count": 163,
     "metadata": {},
     "output_type": "execute_result"
    }
   ],
   "source": [
    "data['plotArea'] = data['areaWithType'].str.extract(r'plot area (\\d+\\.?\\d*)')\n",
    "data['plotArea']"
   ]
  },
  {
   "cell_type": "markdown",
   "metadata": {},
   "source": [
    "##### again checking with a simple_regex if the my complex_regex was able to extract ALL the records correctly or not:"
   ]
  },
  {
   "cell_type": "code",
   "execution_count": 164,
   "metadata": {},
   "outputs": [
    {
     "data": {
      "text/plain": [
       "0"
      ]
     },
     "execution_count": 164,
     "metadata": {},
     "output_type": "execute_result"
    }
   ],
   "source": [
    "data[(data['plotArea'].isnull()) & (data['areaWithType'].fillna('').str.contains('plot'))][['areaWithType', 'plotArea']].shape[0]"
   ]
  },
  {
   "cell_type": "code",
   "execution_count": 165,
   "metadata": {},
   "outputs": [
    {
     "data": {
      "text/html": [
       "<div>\n",
       "<style scoped>\n",
       "    .dataframe tbody tr th:only-of-type {\n",
       "        vertical-align: middle;\n",
       "    }\n",
       "\n",
       "    .dataframe tbody tr th {\n",
       "        vertical-align: top;\n",
       "    }\n",
       "\n",
       "    .dataframe thead th {\n",
       "        text-align: right;\n",
       "    }\n",
       "</style>\n",
       "<table border=\"1\" class=\"dataframe\">\n",
       "  <thead>\n",
       "    <tr style=\"text-align: right;\">\n",
       "      <th></th>\n",
       "      <th>areaWithType</th>\n",
       "      <th>plotArea</th>\n",
       "    </tr>\n",
       "  </thead>\n",
       "  <tbody>\n",
       "  </tbody>\n",
       "</table>\n",
       "</div>"
      ],
      "text/plain": [
       "Empty DataFrame\n",
       "Columns: [areaWithType, plotArea]\n",
       "Index: []"
      ]
     },
     "execution_count": 165,
     "metadata": {},
     "output_type": "execute_result"
    }
   ],
   "source": [
    "data[(data['plotArea'].isnull()) & (data['areaWithType'].fillna('').str.contains('plot'))][['areaWithType', 'plotArea']]"
   ]
  },
  {
   "cell_type": "code",
   "execution_count": 166,
   "metadata": {},
   "outputs": [],
   "source": [
    "# okay so this time it was successfull."
   ]
  },
  {
   "cell_type": "markdown",
   "metadata": {},
   "source": [
    "##### now let's merge plot area with builtupArea, since according to GPT, builtupArea of a flat is most simmilar to plotArea in case of independentHouses."
   ]
  },
  {
   "cell_type": "code",
   "execution_count": 167,
   "metadata": {},
   "outputs": [
    {
     "data": {
      "text/html": [
       "<div>\n",
       "<style scoped>\n",
       "    .dataframe tbody tr th:only-of-type {\n",
       "        vertical-align: middle;\n",
       "    }\n",
       "\n",
       "    .dataframe tbody tr th {\n",
       "        vertical-align: top;\n",
       "    }\n",
       "\n",
       "    .dataframe thead th {\n",
       "        text-align: right;\n",
       "    }\n",
       "</style>\n",
       "<table border=\"1\" class=\"dataframe\">\n",
       "  <thead>\n",
       "    <tr style=\"text-align: right;\">\n",
       "      <th></th>\n",
       "      <th>BuiltupArea</th>\n",
       "      <th>plotArea</th>\n",
       "    </tr>\n",
       "  </thead>\n",
       "  <tbody>\n",
       "    <tr>\n",
       "      <th>0</th>\n",
       "      <td>NaN</td>\n",
       "      <td>NaN</td>\n",
       "    </tr>\n",
       "    <tr>\n",
       "      <th>1</th>\n",
       "      <td>NaN</td>\n",
       "      <td>100</td>\n",
       "    </tr>\n",
       "    <tr>\n",
       "      <th>2</th>\n",
       "      <td>NaN</td>\n",
       "      <td>520</td>\n",
       "    </tr>\n",
       "    <tr>\n",
       "      <th>3</th>\n",
       "      <td>NaN</td>\n",
       "      <td>NaN</td>\n",
       "    </tr>\n",
       "    <tr>\n",
       "      <th>4</th>\n",
       "      <td>NaN</td>\n",
       "      <td>NaN</td>\n",
       "    </tr>\n",
       "    <tr>\n",
       "      <th>...</th>\n",
       "      <td>...</td>\n",
       "      <td>...</td>\n",
       "    </tr>\n",
       "    <tr>\n",
       "      <th>4077</th>\n",
       "      <td>NaN</td>\n",
       "      <td>300</td>\n",
       "    </tr>\n",
       "    <tr>\n",
       "      <th>4078</th>\n",
       "      <td>NaN</td>\n",
       "      <td>NaN</td>\n",
       "    </tr>\n",
       "    <tr>\n",
       "      <th>4079</th>\n",
       "      <td>NaN</td>\n",
       "      <td>NaN</td>\n",
       "    </tr>\n",
       "    <tr>\n",
       "      <th>4080</th>\n",
       "      <td>NaN</td>\n",
       "      <td>NaN</td>\n",
       "    </tr>\n",
       "    <tr>\n",
       "      <th>4081</th>\n",
       "      <td>NaN</td>\n",
       "      <td>NaN</td>\n",
       "    </tr>\n",
       "  </tbody>\n",
       "</table>\n",
       "<p>4082 rows × 2 columns</p>\n",
       "</div>"
      ],
      "text/plain": [
       "     BuiltupArea plotArea\n",
       "0            NaN      NaN\n",
       "1            NaN      100\n",
       "2            NaN      520\n",
       "3            NaN      NaN\n",
       "4            NaN      NaN\n",
       "...          ...      ...\n",
       "4077         NaN      300\n",
       "4078         NaN      NaN\n",
       "4079         NaN      NaN\n",
       "4080         NaN      NaN\n",
       "4081         NaN      NaN\n",
       "\n",
       "[4082 rows x 2 columns]"
      ]
     },
     "execution_count": 167,
     "metadata": {},
     "output_type": "execute_result"
    }
   ],
   "source": [
    "data[['BuiltupArea', 'plotArea']]"
   ]
  },
  {
   "cell_type": "markdown",
   "metadata": {},
   "source": [
    "##### checking if for any record i have both the plot and builtup areas causing conflict while merging."
   ]
  },
  {
   "cell_type": "code",
   "execution_count": 168,
   "metadata": {},
   "outputs": [
    {
     "data": {
      "text/plain": [
       "141"
      ]
     },
     "execution_count": 168,
     "metadata": {},
     "output_type": "execute_result"
    }
   ],
   "source": [
    "data[(~data['BuiltupArea'].isna()) & (~data['plotArea'].isna())].shape[0]"
   ]
  },
  {
   "cell_type": "code",
   "execution_count": 169,
   "metadata": {},
   "outputs": [
    {
     "data": {
      "text/html": [
       "<div>\n",
       "<style scoped>\n",
       "    .dataframe tbody tr th:only-of-type {\n",
       "        vertical-align: middle;\n",
       "    }\n",
       "\n",
       "    .dataframe tbody tr th {\n",
       "        vertical-align: top;\n",
       "    }\n",
       "\n",
       "    .dataframe thead th {\n",
       "        text-align: right;\n",
       "    }\n",
       "</style>\n",
       "<table border=\"1\" class=\"dataframe\">\n",
       "  <thead>\n",
       "    <tr style=\"text-align: right;\">\n",
       "      <th></th>\n",
       "      <th>BuiltupArea</th>\n",
       "      <th>plotArea</th>\n",
       "    </tr>\n",
       "  </thead>\n",
       "  <tbody>\n",
       "    <tr>\n",
       "      <th>8</th>\n",
       "      <td>250</td>\n",
       "      <td>260</td>\n",
       "    </tr>\n",
       "    <tr>\n",
       "      <th>30</th>\n",
       "      <td>61</td>\n",
       "      <td>100</td>\n",
       "    </tr>\n",
       "    <tr>\n",
       "      <th>54</th>\n",
       "      <td>1415</td>\n",
       "      <td>173</td>\n",
       "    </tr>\n",
       "    <tr>\n",
       "      <th>103</th>\n",
       "      <td>3750</td>\n",
       "      <td>135</td>\n",
       "    </tr>\n",
       "    <tr>\n",
       "      <th>146</th>\n",
       "      <td>9000</td>\n",
       "      <td>4140</td>\n",
       "    </tr>\n",
       "    <tr>\n",
       "      <th>...</th>\n",
       "      <td>...</td>\n",
       "      <td>...</td>\n",
       "    </tr>\n",
       "    <tr>\n",
       "      <th>3896</th>\n",
       "      <td>120</td>\n",
       "      <td>120</td>\n",
       "    </tr>\n",
       "    <tr>\n",
       "      <th>3956</th>\n",
       "      <td>800</td>\n",
       "      <td>900</td>\n",
       "    </tr>\n",
       "    <tr>\n",
       "      <th>3980</th>\n",
       "      <td>7500</td>\n",
       "      <td>1623</td>\n",
       "    </tr>\n",
       "    <tr>\n",
       "      <th>3984</th>\n",
       "      <td>345</td>\n",
       "      <td>181.33</td>\n",
       "    </tr>\n",
       "    <tr>\n",
       "      <th>4012</th>\n",
       "      <td>7000</td>\n",
       "      <td>8000</td>\n",
       "    </tr>\n",
       "  </tbody>\n",
       "</table>\n",
       "<p>141 rows × 2 columns</p>\n",
       "</div>"
      ],
      "text/plain": [
       "     BuiltupArea plotArea\n",
       "8            250      260\n",
       "30            61      100\n",
       "54          1415      173\n",
       "103         3750      135\n",
       "146         9000     4140\n",
       "...          ...      ...\n",
       "3896         120      120\n",
       "3956         800      900\n",
       "3980        7500     1623\n",
       "3984         345   181.33\n",
       "4012        7000     8000\n",
       "\n",
       "[141 rows x 2 columns]"
      ]
     },
     "execution_count": 169,
     "metadata": {},
     "output_type": "execute_result"
    }
   ],
   "source": [
    "pd.set_option('display.max_colwidth', 50)\n",
    "data[(~data['BuiltupArea'].isna()) & (~data['plotArea'].isna())][['BuiltupArea', 'plotArea']]"
   ]
  },
  {
   "cell_type": "code",
   "execution_count": 170,
   "metadata": {},
   "outputs": [
    {
     "data": {
      "text/plain": [
       "0             carpet area: 1300 (120.77 sq.m.)\n",
       "1                   plot area 100(83.61 sq.m.)\n",
       "2                  plot area 520(434.79 sq.m.)\n",
       "3       super built up area 2010(186.74 sq.m.)\n",
       "4             carpet area: 3500 (325.16 sq.m.)\n",
       "                         ...                  \n",
       "4077               plot area 300(250.84 sq.m.)\n",
       "4078    super built up area 1780(165.37 sq.m.)\n",
       "4079          carpet area: 2295 (213.21 sq.m.)\n",
       "4080          carpet area: 1120 (104.05 sq.m.)\n",
       "4081          carpet area: 1300 (120.77 sq.m.)\n",
       "Name: areaWithType, Length: 4082, dtype: object"
      ]
     },
     "execution_count": 170,
     "metadata": {},
     "output_type": "execute_result"
    }
   ],
   "source": [
    "data['areaWithType']"
   ]
  },
  {
   "cell_type": "code",
   "execution_count": null,
   "metadata": {},
   "outputs": [],
   "source": []
  },
  {
   "cell_type": "code",
   "execution_count": null,
   "metadata": {},
   "outputs": [],
   "source": []
  }
 ],
 "metadata": {
  "kernelspec": {
   "display_name": "Python 3",
   "language": "python",
   "name": "python3"
  },
  "language_info": {
   "codemirror_mode": {
    "name": "ipython",
    "version": 3
   },
   "file_extension": ".py",
   "mimetype": "text/x-python",
   "name": "python",
   "nbconvert_exporter": "python",
   "pygments_lexer": "ipython3",
   "version": "3.10.8"
  },
  "orig_nbformat": 4
 },
 "nbformat": 4,
 "nbformat_minor": 2
}
